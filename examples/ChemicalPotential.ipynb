{
 "cells": [
  {
   "cell_type": "markdown",
   "id": "25dabefe",
   "metadata": {},
   "source": [
    "# How to use the ChemicalPotential Workchain\n",
    "To compute the formation energy of a defect, one needs to know the chemical potential of the element that is added or removed to create that defect. That chemical potential has to be chosen in such a way that it is compatible with the stability of the host structure with respect to the other phases in the phase diagram. In the example below, we show you how to compute the stability region of a compound Li$_3$PO$_4$ using the `ChemicalPotential` workchain that is part of the `AiiDA-defects` package. Once the stability region is determined, the chemical potential can be chosen from this region and use in the calculation of the defect formation energy. By default, the chemical potential of the centroid of the stability region is chosen."
   ]
  },
  {
   "cell_type": "code",
   "execution_count": null,
   "id": "b6cfda92",
   "metadata": {},
   "outputs": [],
   "source": [
    "# Get your normal profile\n",
    "%load_ext aiida"
   ]
  },
  {
   "cell_type": "code",
   "execution_count": null,
   "id": "fceca655",
   "metadata": {},
   "outputs": [],
   "source": [
    "%aiida"
   ]
  },
  {
   "cell_type": "code",
   "execution_count": null,
   "id": "691a2e4c",
   "metadata": {},
   "outputs": [],
   "source": [
    "#Import the workchain and common aiida functionalities\n",
    "from aiida import orm, engine\n",
    "from aiida_defects.formation_energy.chemical_potential.chemical_potential import ChemicalPotentialWorkchain"
   ]
  },
  {
   "cell_type": "markdown",
   "id": "f356b1bd",
   "metadata": {},
   "source": [
    "**Explanation of inputs parameters**\n",
    "\n",
    "'formation_energy_dict': formation energies of all stable compounds in the given phase diagram. The keys are the name of the compounds and the values are their formation energy (per formula unit). These numbers can be taken from your favorite material databases or computed on your own. In anycase, you have to make sure that they are computed using the same DFT setup (k-point mesh, xcf functionals, planewave cutoff,...) as the one you used for calculation of the supercell energy (with and without defects)\n",
    "'compound': the name of the host compound you are studying.\n",
    "'dependent_element': Element whose chemical potential is determined once the chemical potentials of the elements are fixed. In our case, we chose P as the dependent element but it can also be Li or O.\n",
    "'ref_energy': Energy of the element in its standar state. \n"
   ]
  },
  {
   "cell_type": "code",
   "execution_count": null,
   "id": "f781c1b4",
   "metadata": {},
   "outputs": [],
   "source": [
    "Ef_dict = {'Li3PO4': -22.0891, 'LiP': -1.0465, 'LiP7': -1.2718, 'Li3P7': -3.5958, 'Li3P': -2.7859, 'LiO8': -3.6499, 'Li2O2': -6.6031,\n",
    "        'Li2O': -6.2001, 'P2O5': -17.1485, 'Li4P2O7': -35.7771, 'LiPO3': -13.5973}"
   ]
  },
  {
   "cell_type": "code",
   "execution_count": null,
   "id": "9eca0a27",
   "metadata": {},
   "outputs": [],
   "source": [
    "inputs = {\n",
    "        'formation_energy_dict' : orm.Dict(dict=Ef_dict),\n",
    "        'compound' : orm.Str('Li3PO4'),\n",
    "        'dependent_element' : orm.Str('P'),\n",
    "        'ref_energy' : orm.Dict(dict={'Li':-195.5141, 'P':-191.0388, 'O':-557.4985})\n",
    "        }\n",
    "workchain_future, pk = engine.run_get_pk(ChemicalPotentialWorkchain, **inputs)"
   ]
  },
  {
   "cell_type": "markdown",
   "id": "2e812e74",
   "metadata": {},
   "source": [
    "**Optional parameters**\n",
    "\n",
    "If you want to study the effect of dopant concentration in the so-called 'frozen-defect' approach, you have to specify that frozen defect in the inputs for ex., 'dopant_elements' : orm.List(list=['O'])"
   ]
  },
  {
   "cell_type": "code",
   "execution_count": null,
   "id": "0343d3bf",
   "metadata": {},
   "outputs": [],
   "source": []
  }
 ],
 "metadata": {
  "kernelspec": {
   "display_name": "Python 3 (ipykernel)",
   "language": "python",
   "name": "python3"
  },
  "language_info": {
   "codemirror_mode": {
    "name": "ipython",
    "version": 3
   },
   "file_extension": ".py",
   "mimetype": "text/x-python",
   "name": "python",
   "nbconvert_exporter": "python",
   "pygments_lexer": "ipython3",
   "version": "3.8.10"
  }
 },
 "nbformat": 4,
 "nbformat_minor": 5
}
