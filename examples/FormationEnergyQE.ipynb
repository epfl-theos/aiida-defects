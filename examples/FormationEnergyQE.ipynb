{
 "cells": [
  {
   "cell_type": "markdown",
   "metadata": {},
   "source": [
    "# How to use the FormationEnergyQE Workchain\n",
    "\n",
    "This notebook will explain the use of the `FormationEnergyQE` workchain. \n",
    "\n",
    "This workchain implements the computation of the formation energy of a defect using QuantumESPRESSO.\n",
    "This is one typical use-case of `AiiDA-Defects` and might be used in the situation in which you already have a defect structure you wish to work with. Note that there is also a `FormationEnergyBase` workchain, but this workchain cannot be used directly. One should always used one of the workchains dervived for a particular simulation code, such as `FormationEnergyQE`.\n",
    "\n",
    "In example below, the `GaussianCountercharge` correction workchain is used as the electrostatic correction. After specifying some details about the defect of interest and making some QuantumESPRESSO specific choices, the `FormationEnergyQE` workchain will complete the following steps:\n",
    "1. Run self-consistent DFT energy calculations for the host, neutral defect and charged defect supercells.\n",
    "2. Run PP.x to obtain the electrostatic potentials.\n",
    "3. Run a further DFT calculation on a unitcell (optionally).\n",
    "4. Run DFPT to obtain the relative permitivitty.\n",
    "5. Run the `GaussianCountercharge` workchain to obtain the correction.\n",
    "6. Compute the formation energy, with and without corrections.\n",
    "\n",
    "**NOTE!**\n",
    "In this alpha version of `AiiDA-Defects` there are a number of features which are either not yet implemented or not well tested. These are listed below, with no guarentee of this being an exhaustive list.\n",
    "Please bear these considerations in mind when testing the workchain.\n",
    "\n",
    "* The PP.x plugin used must be from [my AiiDA-QuantumESPRESSO fork](https://github.com/ConradJohnston/aiida-quantumespresso/tree/pp-parser) until this is merged into the official release\n",
    "* Alignment of the electrostatic potentials is not yet automatic. Placeholder code will return 0.0 eV for these steps. The alignment should be done 'by hand'. A typical option is to take a planar average of the electrostatic potential along some axis, and then to align far from the defect. For cubic cells, a convenient option is to place point defects in the center of the box, and then take the alignment at the edge. \n",
    "* In principle, only cubic cells are currently supported, although for a large-enough supercell, it shouldn't matter. This would be interesting to prove/disprove. A change to any shape of supercell is on the TODO list.\n",
    "* The width of the model gaussian is fixed currently, with a TODO for a routine to fit this. If one wants to play with this for testing, I can expose it as an input.\n",
    "\n",
    "\n"
   ]
  },
  {
   "cell_type": "markdown",
   "metadata": {},
   "source": [
    "## Step-by-step Usage \n",
    "1. Set up AiiDA as normal"
   ]
  },
  {
   "cell_type": "code",
   "execution_count": null,
   "metadata": {
    "collapsed": true
   },
   "outputs": [],
   "source": [
    "# Get your normal profile\n",
    "from aiida import load_profile\n",
    "load_profile()\n",
    "\n",
    "# Import commonly used functionality\n",
    "import numpy as np\n",
    "from aiida import orm, engine, common\n",
    "from aiida.plugins import WorkflowFactory"
   ]
  },
  {
   "cell_type": "markdown",
   "metadata": {},
   "source": [
    "2. Import the workchain. Any issues with the import, such as the entry point not being found, would indicate an installation problem."
   ]
  },
  {
   "cell_type": "code",
   "execution_count": null,
   "metadata": {
    "collapsed": true
   },
   "outputs": [],
   "source": [
    "from aiida_defects.formation_energy.formation_energy_qe import FormationEnergyWorkchainQE"
   ]
  },
  {
   "cell_type": "markdown",
   "metadata": {},
   "source": [
    "3. Prepare some structures"
   ]
  },
  {
   "cell_type": "code",
   "execution_count": null,
   "metadata": {
    "collapsed": true
   },
   "outputs": [],
   "source": [
    "# Set up structures\n",
    "import pymatgen\n",
    "\n",
    "pymatgen_structure = pymatgen.Structure.from_file(\"./Structures/Diamond_1x1x1.cif\")\n",
    "\n",
    "# Unitcell\n",
    "unitcell_structure = orm.StructureData(pymatgen=pymatgen_structure)\n",
    "\n",
    "# Host 2x2x2 supercell\n",
    "pymatgen_structure.make_supercell([2,2,2])\n",
    "host_structure = orm.StructureData(pymatgen=pymatgen_structure)\n",
    "\n",
    "# Defect (Carbon vacancy) 2x2x2 supercell\n",
    "pymatgen_structure.remove_sites(indices=[0])\n",
    "defect_structure = orm.StructureData(pymatgen=pymatgen_structure)"
   ]
  },
  {
   "cell_type": "markdown",
   "metadata": {},
   "source": [
    "4. Prepare the inputs for the workchain. A builder can be used (as per the `GaussianCountercharge` example) or the input dictionary can be populated directly as shown below."
   ]
  },
  {
   "cell_type": "markdown",
   "metadata": {},
   "source": [
    "4a.  Set up the supercell calculations"
   ]
  },
  {
   "cell_type": "code",
   "execution_count": null,
   "metadata": {
    "collapsed": true
   },
   "outputs": [],
   "source": [
    "# Set up a PW calculation\n",
    "\n",
    "# PW code\n",
    "pw_code = orm.Code.get_from_string('pw@localhost')\n",
    "\n",
    "# Add the minimum parameters needed, plus any additional needed for the system of interest\n",
    "pw_parameters = orm.Dict(dict={\n",
    "          'CONTROL': {\n",
    "              'calculation': 'scf',\n",
    "              'restart_mode': 'from_scratch',\n",
    "              'wf_collect': True,\n",
    "              },\n",
    "          'SYSTEM': {\n",
    "              'ecutwfc': 45,\n",
    "              'ecutrho': 360.,\n",
    "              },\n",
    "          'ELECTRONS': {\n",
    "              'conv_thr': 1.e-7,\n",
    "              }})\n",
    "\n",
    "# Setup k-points\n",
    "kpoints = orm.KpointsData()\n",
    "kpoints.set_kpoints_mesh([1,1,1]) # Definately not converged, but we want the example to run quickly\n",
    "\n",
    "# Psuedos \n",
    "pseudo_family = 'SSSP' # This is the label that was used when installing the pseudos\n",
    "pseudos = orm.nodes.data.upf.get_pseudos_from_structure(host_structure,pseudo_family)\n",
    "\n",
    "# Scheduler options\n",
    "pw_metadata = orm.Dict( dict={\n",
    "    'description': 'Diamond test', \n",
    "    'options': {\n",
    "        'max_wallclock_seconds': 1800, \n",
    "        'resources': {\n",
    "            'num_machines': 1\n",
    "        }\n",
    "    }, \n",
    "    'label': 'Diamond test'\n",
    "})\n"
   ]
  },
  {
   "cell_type": "markdown",
   "metadata": {},
   "source": [
    "4b. Set up the unitcell calculation. This is optional, but likely to be necessary to converge the relative permitivitty. Using a unitcell, but with a much denser k-mesh is the expected usage."
   ]
  },
  {
   "cell_type": "code",
   "execution_count": null,
   "metadata": {
    "collapsed": true
   },
   "outputs": [],
   "source": [
    "# Set up the unitcell PW calculation \n",
    "kpoints_unitcell = orm.KpointsData()\n",
    "kpoints_unitcell.set_kpoints_mesh([20,20,20])"
   ]
  },
  {
   "cell_type": "markdown",
   "metadata": {},
   "source": [
    "4c. Set up the post-processing calculations. These are used to obtain the electrostatic potentials from the supercell calculations."
   ]
  },
  {
   "cell_type": "code",
   "execution_count": null,
   "metadata": {
    "collapsed": true
   },
   "outputs": [],
   "source": [
    "pp_code = orm.Code.get_from_string('pp@localhost')\n",
    "\n",
    "# Scheduler options\n",
    "pp_metadata = orm.Dict( dict={\n",
    "    'description': 'Diamond test', \n",
    "    'options': {\n",
    "        'max_wallclock_seconds': 1800, \n",
    "        'resources': {\n",
    "            'num_machines': 1\n",
    "        }\n",
    "    }, \n",
    "    'label': 'Diamond test'\n",
    "})\n"
   ]
  },
  {
   "cell_type": "markdown",
   "metadata": {},
   "source": [
    "4d. Set up the post-processing calculations. These are used to obtain the electrostatic potentials from the supercell calculations."
   ]
  },
  {
   "cell_type": "code",
   "execution_count": null,
   "metadata": {
    "collapsed": true
   },
   "outputs": [],
   "source": [
    "ph_code = orm.Code.get_from_string('ph@localhost')\n",
    "\n",
    "\n",
    "ph_metadata = orm.Dict( dict={\n",
    "    'description': 'Diamond test', \n",
    "    'options': {\n",
    "        'max_wallclock_seconds': 1800, \n",
    "        'resources': {\n",
    "            'num_machines': 28\n",
    "        },\n",
    "        'queue_name' : 'debug'\n",
    "    }, \n",
    "    'label': 'Diamond test'\n",
    "})"
   ]
  },
  {
   "cell_type": "markdown",
   "metadata": {},
   "source": [
    "5. Construct the input dictionary. Note that this nesting is unique to the QuantumESPRESSO flavour of the FormationEnergy workchain."
   ]
  },
  {
   "cell_type": "code",
   "execution_count": null,
   "metadata": {
    "collapsed": true
   },
   "outputs": [],
   "source": [
    "inputs = {\n",
    "    # Structures\n",
    "    'host_structure': host_structure,\n",
    "    'defect_structure': defect_structure,\n",
    "    'host_unitcell' : unitcell_structure,\n",
    "    # Defect information \n",
    "    'defect_charge' : orm.Float(-2.),  \n",
    "    'defect_site' : orm.List(list=[0.,0.,0.]),    # Position of the defect in crystal coordinates\n",
    "    'fermi_level' : orm.Float(0.0),               # Position of the Fermi level, with respect to the valence band maximum      \n",
    "    'chemical_potential' : orm.Float(250.709), # eV, the chemical potentical of a C atom\n",
    "    # Method\n",
    "    'correction_scheme' : orm.Str('gaussian'),\n",
    "    # Computational (chosen code is QE)\n",
    "    'qe' : {\n",
    "        'dft': {\n",
    "            'supercell' : {\n",
    "                'code' : pw_code,\n",
    "                'kpoints': kpoints, \n",
    "                'pseudopotentials': pseudos, \n",
    "                'parameters' : pw_parameters,\n",
    "                'scheduler_options' : pw_metadata,\n",
    "\n",
    "            },\n",
    "            'unitcell' : {\n",
    "                'code' : pw_code,\n",
    "                'kpoints': kpoints_unitcell, \n",
    "                'pseudopotentials': pseudos, \n",
    "                'parameters' : pw_parameters,\n",
    "                'scheduler_options' : pw_metadata,\n",
    "            }            \n",
    "        },\n",
    "        'dfpt' : {\n",
    "            'code' : ph_code,\n",
    "            'scheduler_options' : ph_metadata,\n",
    "            \n",
    "        },\n",
    "        'pp' : {\n",
    "            'code' : pp_code,\n",
    "            'scheduler_options' : pw_metadata,\n",
    "        }\n",
    "    }\n",
    "}"
   ]
  },
  {
   "cell_type": "markdown",
   "metadata": {},
   "source": [
    "6. Submit the workchain"
   ]
  },
  {
   "cell_type": "code",
   "execution_count": null,
   "metadata": {
    "collapsed": true
   },
   "outputs": [],
   "source": [
    "workchain_future = engine.submit(FormationEnergyWorkchainQE, **inputs)"
   ]
  },
  {
   "cell_type": "markdown",
   "metadata": {},
   "source": [
    "7. Check the output"
   ]
  },
  {
   "cell_type": "code",
   "execution_count": null,
   "metadata": {
    "collapsed": true
   },
   "outputs": [],
   "source": [
    "if workchain_future.is_finished:\n",
    "    if workchain_future.is_finished_ok:\n",
    "        print('Finished successfully')\n",
    "        print(\n",
    "            \"Workchain Formation energy (uncorrected): {} eV\".format(\n",
    "                workchain_future.outputs.formation_energy_uncorrected.value\n",
    "            )\n",
    "        )\n",
    "        print(\n",
    "            \"Workchain Formation energy (corrected): {} eV\".format(\n",
    "                workchain_future.outputs.formation_energy_corrected.value\n",
    "            )\n",
    "        )    \n",
    "        print(\n",
    "            \"Workchain Formation energy (corrected and aligned): {} eV\".format(\n",
    "                workchain_future.outputs.formation_energy_corrected_algned.value\n",
    "            )\n",
    "        )\n",
    "    else:\n",
    "        print('Excepted')\n",
    "else:\n",
    "    if workchain_future.is_excepted:\n",
    "        print('Excepted')\n",
    "    else:\n",
    "        print('Not yet finished')\n"
   ]
  }
 ],
 "metadata": {
  "kernelspec": {
   "display_name": "Python 3",
   "language": "python",
   "name": "python3"
  },
  "language_info": {
   "codemirror_mode": {
    "name": "ipython",
    "version": 3
   },
   "file_extension": ".py",
   "mimetype": "text/x-python",
   "name": "python",
   "nbconvert_exporter": "python",
   "pygments_lexer": "ipython3",
   "version": "3.5.2"
  }
 },
 "nbformat": 4,
 "nbformat_minor": 2
}
