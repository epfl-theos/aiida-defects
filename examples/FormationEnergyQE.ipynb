{
 "cells": [
  {
   "cell_type": "markdown",
   "metadata": {},
   "source": [
    "# How to use the FormationEnergyQE Workchain\n",
    "\n",
    "This notebook will explain the use of the `FormationEnergyQE` workchain. \n",
    "\n",
    "This workchain implements the computation of the formation energy of a defect using QuantumESPRESSO.\n",
    "This is one typical use-case of `AiiDA-Defects` and might be used in the situation in which you already have a defect structure you wish to work with. Note that there is also a `FormationEnergyBase` workchain, but this workchain cannot be used directly. One should always used one of the workchains dervived for a particular simulation code, such as `FormationEnergyQE`.\n",
    "\n",
    "In example below, the `GaussianCountercharge` correction workchain is used as the electrostatic correction. After specifying some details about the defect of interest and making some QuantumESPRESSO specific choices, the `FormationEnergyQE` workchain will complete the following steps:\n",
    "1. Run self-consistent DFT energy calculations for the host, neutral defect and charged defect supercells.\n",
    "2. Run PP.x to obtain the electrostatic potentials.\n",
    "3. Run a further DFT calculation on a unitcell (optionally).\n",
    "4. Run DFPT to obtain the relative permitivitty (optionally).\n",
    "5. Run the `GaussianCountercharge` workchain to obtain the correction.\n",
    "6. Compute the formation energy, with and without corrections."
   ]
  },
  {
   "cell_type": "markdown",
   "metadata": {},
   "source": [
    "## Step-by-step Usage \n",
    "1. Set up AiiDA as normal"
   ]
  },
  {
   "cell_type": "code",
   "execution_count": null,
   "metadata": {},
   "outputs": [],
   "source": [
    "# Get your normal profile\n",
    "%load_ext aiida"
   ]
  },
  {
   "cell_type": "code",
   "execution_count": null,
   "metadata": {},
   "outputs": [],
   "source": [
    "%aiida"
   ]
  },
  {
   "cell_type": "code",
   "execution_count": null,
   "metadata": {},
   "outputs": [],
   "source": [
    "# Import commonly used functionality\n",
    "import numpy as np\n",
    "from aiida import orm, engine, common"
   ]
  },
  {
   "cell_type": "markdown",
   "metadata": {},
   "source": [
    "2. Import the workchain. Any issues with the import, such as the entry point not being found, would indicate an installation problem."
   ]
  },
  {
   "cell_type": "code",
   "execution_count": null,
   "metadata": {},
   "outputs": [],
   "source": [
    "from aiida_defects.formation_energy.formation_energy_qe import FormationEnergyWorkchainQE\n",
    "from aiida_defects.formation_energy.utils import generate_defect_structure"
   ]
  },
  {
   "cell_type": "markdown",
   "metadata": {},
   "source": [
    "3. Prepare some structures"
   ]
  },
  {
   "cell_type": "code",
   "execution_count": null,
   "metadata": {},
   "outputs": [],
   "source": [
    "# Set up structures\n",
    "from pymatgen.core.structure import Structure\n",
    "\n",
    "pymatgen_structure = Structure.from_file(\"./Structures/Li3ClO_1x1x1.cif\")\n",
    "\n",
    "# Unitcell\n",
    "unitcell_structure = orm.StructureData(pymatgen=pymatgen_structure)\n",
    "\n",
    "# Host 2x2x2 supercell\n",
    "pymatgen_structure.make_supercell([2,2,2])\n",
    "host_structure = orm.StructureData(pymatgen=pymatgen_structure)\n",
    "\n",
    "# Defect (Lithium vacancy) 2x2x2 supercell\n",
    "defect_position = [0.0, 0.0, 0.0]\n",
    "defect_structure = generate_defect_structure(host_structure, defect_position, {'Li': -1}) # the value -1 means removing (to create vacancy) while +1 mean adding (to create interstitial)"
   ]
  },
  {
   "cell_type": "markdown",
   "metadata": {},
   "source": [
    "4. Prepare the inputs for the workchain. A builder can be used (as per the `GaussianCountercharge` example) or the input dictionary can be populated directly as shown below."
   ]
  },
  {
   "cell_type": "markdown",
   "metadata": {},
   "source": [
    "4a.  Set up the supercell calculations. Most of the parameters needed for the pw calculations are taken from the aiida-quantum espresso protocol but the users can also overwrite these default parameters by their owns."
   ]
  },
  {
   "cell_type": "code",
   "execution_count": null,
   "metadata": {},
   "outputs": [],
   "source": [
    "pw_code = orm.Code.get_from_string('pw@localhost')\n",
    "\n",
    "# set this parameters to True if you start the calculations from scratch\n",
    "run_pw = True\n",
    "run_v = True\n",
    "run_rho = True\n",
    "\n",
    "# Pseudos \n",
    "pseudo_family = orm.Str('SSSP/1.2/PBEsol/efficiency') # This is the label that was used when installing the pseudos\n",
    "\n",
    "# Scheduler options\n",
    "pw_metadata = orm.Dict( dict={\n",
    "    'description': 'Li3ClO test', \n",
    "    'options': {\n",
    "        'max_wallclock_seconds': 1800, \n",
    "        'resources': {\n",
    "            'num_machines': 1\n",
    "        }\n",
    "    }, \n",
    "    'label': 'Li3ClO test'\n",
    "})"
   ]
  },
  {
   "cell_type": "markdown",
   "metadata": {},
   "source": [
    "4b. Set up the post-processing calculations. These are used to obtain the electrostatic potentials from the supercell calculations."
   ]
  },
  {
   "cell_type": "code",
   "execution_count": null,
   "metadata": {},
   "outputs": [],
   "source": [
    "pp_code = orm.Code.get_from_string('pp@localhost')\n",
    "\n",
    "# Scheduler options\n",
    "pp_metadata = orm.Dict( dict={\n",
    "    'description': 'Li3ClO test', \n",
    "    'options': {\n",
    "        'max_wallclock_seconds': 1800, \n",
    "        'resources': {\n",
    "            'num_machines': 1\n",
    "        }\n",
    "    }, \n",
    "    'label': 'Li3ClO test'\n",
    "})\n"
   ]
  },
  {
   "cell_type": "markdown",
   "metadata": {},
   "source": [
    "5. Construct the input dictionary. Note that this nesting is unique to the QuantumESPRESSO flavour of the FormationEnergy workchain."
   ]
  },
  {
   "cell_type": "code",
   "execution_count": null,
   "metadata": {},
   "outputs": [],
   "source": [
    "# If known, the dielctric constant can be directly provided as below. If not, it can be computed within the workchain by specifying the ph code\n",
    "dielectric = orm.ArrayData()\n",
    "dielectric.set_array('epsilon', np.array([[3.12, 0., 0.,], [0., 3.12, 0.], [0., 0., 3.12]]))\n",
    "\n",
    "# Covariance matrix is needed to construct the gaussian charge model for the correction workchain.\n",
    "cov_matrix = orm.ArrayData()\n",
    "cov_matrix.set_array('sigma', np.eye(3))\n",
    "inputs = {\n",
    "    'relaxation_scheme': orm.Str('fixed'), # Run only scf calculation without relaxation\n",
    "    # Structures\n",
    "    'host_structure': host_structure,\n",
    "    'defect_structure': defect_structure,\n",
    "    'host_unitcell' : unitcell_structure,\n",
    "    # Defect information \n",
    "    'defect_charge' : orm.Float(-3.0),\n",
    "    'defect_site' : orm.List(list=defect_position),    # Position of the defect in crystal coordinates\n",
    "    'chempot_sign': orm.Dict(dict={'Al':-1}), \n",
    "    'run_chem_pot_wc' : orm.Bool(False),\n",
    "    'chemical_potential' : orm.Dict(dict={'Al':-524.03435, 'P':-191.03878}),\n",
    "    'fermi_level' : orm.Float(0.0), # Fermi level is set to zero by default\n",
    "    # Setup\n",
    "    'run_pw_host' : orm.Bool(run_pw),\n",
    "    'run_pw_defect_q0' : orm.Bool(run_pw),\n",
    "    'run_pw_defect_q' : orm.Bool(run_pw),\n",
    "    'run_v_host' : orm.Bool(run_v),\n",
    "    'run_v_defect_q0' : orm.Bool(run_v),\n",
    "    'run_v_defect_q' : orm.Bool(run_v),\n",
    "    'run_rho_host' : orm.Bool(run_rho),\n",
    "    'run_rho_defect_q0' : orm.Bool(run_rho),\n",
    "    'run_rho_defect_q' : orm.Bool(run_rho),    \n",
    "    'run_dfpt' : orm.Bool(False),\n",
    "    # Method\n",
    "    'correction_scheme' : orm.Str('gaussian'),\n",
    "    'epsilon' : dielectric, # epsilon_inf = 3.2\n",
    "    'cutoff' : orm.Float(400.0),\n",
    "    'charge_model': {\n",
    "        'model_type': orm.Str('fixed'),\n",
    "        'fixed':{\n",
    "            'covariance_matrix': cov_matrix            }\n",
    "        # 'fitted': {\n",
    "        #     'tolerance': orm.Float(1.0e-3),\n",
    "        #     'strict_fit': orm.Bool(True),\n",
    "        #     }\n",
    "        },\n",
    "    # Computational (chosen code is QE)\n",
    "    'qe' : {\n",
    "        'dft': {\n",
    "            'supercell' : {\n",
    "                'code' : pw_code,\n",
    "                #'kpoints': kpoints, \n",
    "                'pseudopotential_family': pseudo_family, \n",
    "                # 'parameters' : pw_host_parameters,\n",
    "                'scheduler_options' : pw_metadata,\n",
    "                'settings' : pw_settings,\n",
    "\n",
    "            },\n",
    "            'unitcell' : {\n",
    "                'code' : pw_code,\n",
    "                #'kpoints': kpoints_unitcell, \n",
    "                'pseudopotential_family': pseudo_family, \n",
    "                #'parameters' : pw_parameters,\n",
    "                'scheduler_options' : pw_metadata,\n",
    "                'settings' : pw_settings,\n",
    "            }            \n",
    "        },\n",
    "#         'dfpt' : {\n",
    "#             'code' : ph_code,\n",
    "#             'scheduler_options' : ph_metadata,\n",
    "#         },\n",
    "        'pp' : {\n",
    "            'code' : pp_code,\n",
    "            'scheduler_options' : pp_metadata,\n",
    "        }\n",
    "    }\n",
    "}\n"
   ]
  },
  {
   "cell_type": "markdown",
   "metadata": {},
   "source": [
    "6. Submit the workchain"
   ]
  },
  {
   "cell_type": "code",
   "execution_count": null,
   "metadata": {},
   "outputs": [],
   "source": [
    "workchain_future = engine.submit(FormationEnergyWorkchainQE, **inputs)"
   ]
  },
  {
   "cell_type": "markdown",
   "metadata": {},
   "source": [
    "7. Check the output"
   ]
  },
  {
   "cell_type": "code",
   "execution_count": null,
   "metadata": {},
   "outputs": [],
   "source": [
    "if workchain_future.is_finished:\n",
    "    if workchain_future.is_finished_ok:\n",
    "        print('Finished successfully')\n",
    "        print(\n",
    "            \"Workchain Formation energy (uncorrected): {} eV\".format(\n",
    "                workchain_future.outputs.formation_energy_uncorrected.value\n",
    "            )\n",
    "        )\n",
    "        print(\n",
    "            \"Workchain Formation energy (corrected): {} eV\".format(\n",
    "                workchain_future.outputs.formation_energy_corrected.value\n",
    "            )\n",
    "        )    \n",
    "        print(\n",
    "            \"Workchain Formation energy (corrected and aligned): {} eV\".format(\n",
    "                workchain_future.outputs.formation_energy_corrected_algned.value\n",
    "            )\n",
    "        )\n",
    "    else:\n",
    "        print('Excepted')\n",
    "else:\n",
    "    if workchain_future.is_excepted:\n",
    "        print('Excepted')\n",
    "    else:\n",
    "        print('Not yet finished')\n"
   ]
  },
  {
   "cell_type": "markdown",
   "metadata": {},
   "source": [
    "**Optional**\n",
    "If the dielectric constant of the host materials is not know and you wish to compute it as part of the workchain, you have to specify the ph code as you did with pw and pp codes.\n",
    "\n",
    "ph_code = orm.Code.get_from_string('ph@localhost')\n",
    "\n",
    "\n",
    "ph_metadata = orm.Dict( dict={\n",
    "    'description': 'Li3ClO test', \n",
    "    'options': {\n",
    "        'max_wallclock_seconds': 1800, \n",
    "        'resources': {\n",
    "            'num_machines': 12\n",
    "        },\n",
    "        'queue_name' : 'debug'\n",
    "    }, \n",
    "    'label': 'Li3ClO test'\n",
    "})"
   ]
  },
  {
   "cell_type": "code",
   "execution_count": null,
   "metadata": {},
   "outputs": [],
   "source": []
  }
 ],
 "metadata": {
  "kernelspec": {
   "display_name": "Python 3 (ipykernel)",
   "language": "python",
   "name": "python3"
  },
  "language_info": {
   "codemirror_mode": {
    "name": "ipython",
    "version": 3
   },
   "file_extension": ".py",
   "mimetype": "text/x-python",
   "name": "python",
   "nbconvert_exporter": "python",
   "pygments_lexer": "ipython3",
   "version": "3.8.10"
  }
 },
 "nbformat": 4,
 "nbformat_minor": 2
}
