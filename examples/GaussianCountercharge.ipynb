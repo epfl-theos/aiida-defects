{
 "cells": [
  {
   "cell_type": "markdown",
   "metadata": {},
   "source": [
    "# How to use the GaussianCountercharge Workchain\n",
    "\n",
    "This notebook will explain the use of the `GaussianCountercharge` Workchain. \n",
    "\n",
    "Ths workchain implements a correction to the supercell energy based on an equivalent electrostatic model. Normally, this lower-level workchain need not be used directly as the higher-level `FormationEnergy` workchain will abstract the detail away and automate the generation of the necessary inputs. For completeness, and to give the option to use the correction directly, the use of the workchain is demonstrated below.\n",
    "\n",
    "**NOTE!**\n",
    "In this alpha version of `AiiDA-Defects` there are a number of features which are either not yet implemented or not well tested. These are listed below, with no guarentee of this being an exhaustive list.\n",
    "Please bear these considerations in mind when testing the workchain.\n",
    "\n",
    "* `epsilon`, the dielctric constant of the bulk host material, must be specified 'by hand'. Later this will be calculated from DFPT by the `FormationEnergy` workchain.\n",
    "* Alignment of the electrostatic potentials is not yet automatic. Placeholder code will return 0.0 eV for these steps. The alignment should be done 'by hand'. A typical option is to take a planar average of the electrostatic potential along some axis, and then to align far from the defect. For cubic cells, a convenient option is to place point defects in the center of the box, and then take the alignment at the edge. \n",
    "* In principle, only cubic cells are currently supported, although for a large-enough supercell, it shouldn't matter. This would be interesting to prove/disprove. A change to any shape of supercell is on the TODO list.\n",
    "* The width of the model gaussian is fixed currently, with a TODO for a routine to fit this. If one wants to play with this for testing, I can expose it as an input.\n",
    "\n",
    "\n"
   ]
  },
  {
   "cell_type": "markdown",
   "metadata": {},
   "source": [
    "## Step-by-step Usage \n",
    "1. Setup AiiDA as normal"
   ]
  },
  {
   "cell_type": "code",
   "execution_count": null,
   "metadata": {},
   "outputs": [],
   "source": [
    "# Get your normal profile\n",
    "from aiida import load_profile\n",
    "load_profile()\n",
    "\n",
    "# Import commonly used functionality\n",
    "import numpy as np\n",
    "from aiida import orm, engine, common\n",
    "from aiida.plugins import WorkflowFactory"
   ]
  },
  {
   "cell_type": "markdown",
   "metadata": {},
   "source": [
    "2. Import the workchain. Any issues with the import, such as the entry point not being found, would indicate an installation problem."
   ]
  },
  {
   "cell_type": "code",
   "execution_count": null,
   "metadata": {},
   "outputs": [],
   "source": [
    "gaussian_wc = WorkflowFactory('defects.formation_energy.corrections.gaussian_countercharge')\n",
    "# Get a 'builder' object. This helps us to understand what input arguments are required\n",
    "builder = gaussian_wc.get_builder()"
   ]
  },
  {
   "cell_type": "markdown",
   "metadata": {},
   "source": [
    "3. Prepare the inputs for the workchain"
   ]
  },
  {
   "cell_type": "code",
   "execution_count": null,
   "metadata": {},
   "outputs": [],
   "source": [
    "# Set the charge state of the defect of interest\n",
    "builder.defect_charge = orm.Float(-2.)\n",
    "\n",
    "# Three electroststic potentials are required:\n",
    "# v_host : the electrostatic potential of the host supercell\n",
    "# v_defect_q0 : the electrostatic potential of the defect supercell in the neutral charge state\n",
    "# v_defect_q : the electrostatic potential of the defect supercell in the desired charge state\n",
    "# These are used during potential alignment and so for now (in the alpha code) we can pass in placeholders\n",
    "\n",
    "# Create an arbitrary array\n",
    "placeholder_array = orm.ArrayData()\n",
    "placeholder_array.set_array('test', np.ones(3))\n",
    "\n",
    "# Assign it to the inputs\n",
    "builder.v_host = placeholder_array\n",
    "builder.v_defect_q0 = placeholder_array\n",
    "builder.v_defect_q = placeholder_array\n",
    "\n",
    "# Prepare a structre. Only the host structure is required as the user sets the defect location explicitly.\n",
    "# Here, a dummy strucute data with no atoms is used, but any valid StructureData object can passed in. \n",
    "# Only information about the cell is used.\n",
    "test_structure = orm.StructureData(cell=(np.eye(3)*10.))\n",
    "builder.host_structure = test_structure\n",
    "\n",
    "# Set the dielectric constant of the host material - remember that we must use AiiDA data types\n",
    "builder.epsilon = orm.Float(5.76)\n",
    "\n",
    "# Specify the postion of the defect site as a vector of crystal coordinates\n",
    "builder.defect_site = orm.List(list=[0.5,0.5,0.5])"
   ]
  },
  {
   "cell_type": "markdown",
   "metadata": {},
   "source": [
    "4. Submit the workchain"
   ]
  },
  {
   "cell_type": "code",
   "execution_count": null,
   "metadata": {},
   "outputs": [],
   "source": [
    "workchain_future = engine.submit(builder)"
   ]
  },
  {
   "cell_type": "markdown",
   "metadata": {},
   "source": [
    "5. Check the output"
   ]
  },
  {
   "cell_type": "code",
   "execution_count": null,
   "metadata": {},
   "outputs": [],
   "source": [
    "if workchain_future.is_finished:\n",
    "    if workchain_future.is_finished_ok:\n",
    "        print('Finished successfully')\n",
    "        # Print one of the output nodes. Others are available\n",
    "        print('Electrostatic correction: {} Ha'.format(workchain_future.outputs.total_correction.value))\n",
    "    else:\n",
    "        print('Excepted')\n",
    "else:\n",
    "    print('Not yet finished')\n"
   ]
  },
  {
   "cell_type": "markdown",
   "metadata": {},
   "source": [
    "## Optional Inputs\n",
    "\n",
    "There are some optional inputs which control the behaviour of the electrostatic modelling.\n",
    "\n",
    "### model_iterations_required\n",
    "`model_iterations_required` sets the number of model supercells to compute. By default, 3 such models are computed.\n",
    "These are one model with scale factor 1, i.e. the current size of input supercell, a model with scale factor 2, i.e. double the size of the current supercell (~8 times the volume), and one with a scale factor of 3 (triple the size, ~27 times larger volume). Increasing the number of iterations required increases the expense of the work chain by introducing larger and larger model supercells, but improves the quality of the fitting for the energy of the isolated supercell (i.e. an infinitiely large supercell giving the defect in the dilute limit). \n",
    "In principle, the default of 3 is already adequate for a decent fit, but this can and should be tested. \n",
    "In the future, the scaling may not be sequential as it is now, but may instead try to favour more 'spaced-out' supercells.\n",
    "\n",
    "### cutoff\n",
    "`cutoff` sets the planewave cutoff (in Rydberg) for the planewave basis used in the electrostatic model and sets the resolution of the grids used. \n",
    "The modelled interaction (q/r) is smooth and so good results are possible at the default of 40 Ry. In principle, increasing this value improves the accuracy of the results, in exchange for increased computational expense, but equally, the overall method has low sensitivity to this parameter.\n"
   ]
  },
  {
   "cell_type": "code",
   "execution_count": null,
   "metadata": {},
   "outputs": [],
   "source": []
  }
 ],
 "metadata": {
  "kernelspec": {
   "display_name": "Python 2",
   "language": "python",
   "name": "python2"
  },
  "language_info": {
   "codemirror_mode": {
    "name": "ipython",
    "version": 2
   },
   "file_extension": ".py",
   "mimetype": "text/x-python",
   "name": "python",
   "nbconvert_exporter": "python",
   "pygments_lexer": "ipython2",
   "version": "2.7.10"
  }
 },
 "nbformat": 4,
 "nbformat_minor": 2
}
