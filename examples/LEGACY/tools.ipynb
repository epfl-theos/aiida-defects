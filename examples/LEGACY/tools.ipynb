{
 "cells": [
  {
   "cell_type": "code",
   "execution_count": 2,
   "metadata": {},
   "outputs": [],
   "source": [
    "from aiida.backends.utils import load_dbenv, is_dbenv_loaded\n",
    "\n",
    "if not is_dbenv_loaded():\n",
    "    load_dbenv()"
   ]
  },
  {
   "cell_type": "code",
   "execution_count": 3,
   "metadata": {},
   "outputs": [],
   "source": [
    "import sys\n",
    "import pymatgen\n",
    "import numpy as np\n",
    "from copy import deepcopy\n",
    "\n",
    "from aiida.orm.data.parameter import ParameterData\n",
    "from aiida.orm.data.structure import StructureData\n",
    "from aiida.orm.data.array import ArrayData\n",
    "from aiida.orm import DataFactory\n",
    "from aiida.work.workfunction import workfunction\n",
    "from aiida.orm.data.base import Float, Str, NumericType, BaseType, Int, Bool, List\n",
    "from aiida.orm import load_node\n",
    "\n",
    "from aiida_defects.tools.defects import *"
   ]
  },
  {
   "cell_type": "markdown",
   "metadata": {},
   "source": [
    "# Create a vacancy and a substitutional defect using symmetry"
   ]
  },
  {
   "cell_type": "code",
   "execution_count": 3,
   "metadata": {},
   "outputs": [
    {
     "name": "stdout",
     "output_type": "stream",
     "text": [
      "161717\n",
      "{'substitution_0': <StructureData: uuid: f8fc28f8-0206-424b-a4b3-640fb06f9bf6 (pk: 161723)>, 'substitution_1': <StructureData: uuid: b6843730-af41-466f-834b-82ac48ea9843 (pk: 161724)>, 'vacancy_1': <StructureData: uuid: 8f32c8eb-8e77-4f02-a6e0-0952e996845f (pk: 161725)>, 'vacancy_0': <StructureData: uuid: 67596b5c-037a-432b-b609-c3d20f4c71d7 (pk: 161726)>}\n"
     ]
    }
   ],
   "source": [
    "#Creating the StructureData object\n",
    "inputfile='batio3.cif'\n",
    "\n",
    "structure_mg = pymatgen.Structure.from_file(str(inputfile))\n",
    "input_structure = StructureData(pymatgen=structure_mg)\n",
    "input_structure.store()\n",
    "\n",
    "print input_structure.pk\n",
    "\n",
    "#Specifing the supercell size\n",
    "scale_sc=List()\n",
    "scale_sc._set_list([1,1,1])\n",
    "                   \n",
    "#Specifying the type of defects to be created                   \n",
    "vacancies=List()\n",
    "vacancies._set_list(['O'])\n",
    "substitutions=ParameterData(dict={'Ba':['Sr']})\n",
    "\n",
    "cluster = Bool(False)\n",
    "\n",
    "#Creation of the defective StructureData objects\n",
    "a= defect_creator(input_structure, vacancies, substitutions, scale_sc, cluster)\n",
    "\n",
    "print a"
   ]
  },
  {
   "cell_type": "code",
   "execution_count": 4,
   "metadata": {},
   "outputs": [
    {
     "data": {
      "text/plain": [
       "[<Site: kind name 'Ba' @ 0.0,0.0,0.0>,\n",
       " <Site: kind name 'Ti' @ 2.0,2.0,2.0>,\n",
       " <Site: kind name 'O' @ 2.0,2.0,2.44929359829e-16>,\n",
       " <Site: kind name 'O' @ 2.0,0.0,2.0>,\n",
       " <Site: kind name 'O' @ 4.0,2.0,2.0>]"
      ]
     },
     "execution_count": 4,
     "metadata": {},
     "output_type": "execute_result"
    }
   ],
   "source": [
    "a['vacancy_0'].sites"
   ]
  },
  {
   "cell_type": "code",
   "execution_count": 5,
   "metadata": {},
   "outputs": [
    {
     "data": {
      "text/plain": [
       "[<Site: kind name 'Ba' @ 0.0,0.0,0.0>,\n",
       " <Site: kind name 'Ti' @ 2.0,2.0,2.0>,\n",
       " <Site: kind name 'O' @ 2.0,0.0,2.0>,\n",
       " <Site: kind name 'O' @ 4.0,2.0,2.0>]"
      ]
     },
     "execution_count": 5,
     "metadata": {},
     "output_type": "execute_result"
    }
   ],
   "source": [
    "a['vacancy_1'].sites"
   ]
  },
  {
   "cell_type": "code",
   "execution_count": 6,
   "metadata": {},
   "outputs": [
    {
     "data": {
      "text/plain": [
       "[<Site: kind name 'Ti' @ 2.0,2.0,2.0>,\n",
       " <Site: kind name 'O' @ 2.0,2.0,2.44929359829e-16>,\n",
       " <Site: kind name 'O' @ 2.0,0.0,2.0>,\n",
       " <Site: kind name 'O' @ 4.0,2.0,2.0>,\n",
       " <Site: kind name 'Sr' @ 0.0,0.0,0.0>]"
      ]
     },
     "execution_count": 6,
     "metadata": {},
     "output_type": "execute_result"
    }
   ],
   "source": [
    "a['substitution_1'].sites"
   ]
  },
  {
   "cell_type": "markdown",
   "metadata": {},
   "source": [
    "# Creating a defect pair (cluster) made by a vacancy and a substitutional defect using symmetry"
   ]
  },
  {
   "cell_type": "code",
   "execution_count": 7,
   "metadata": {},
   "outputs": [
    {
     "name": "stdout",
     "output_type": "stream",
     "text": [
      "161727\n",
      "{'cluster_0': <StructureData: uuid: e97a34a5-f029-497f-b3c3-0c8f302cb79b (pk: 161733)>, 'cluster_1': <StructureData: uuid: ddbd1906-9d2b-4ff1-ba63-dd0edb6081f8 (pk: 161734)>}\n"
     ]
    }
   ],
   "source": [
    "inputfile='batio3.cif'\n",
    "\n",
    "#Creating the StructureData object\n",
    "structure_mg = pymatgen.Structure.from_file(str(inputfile))\n",
    "input_structure = StructureData(pymatgen=structure_mg)\n",
    "input_structure.store()\n",
    "\n",
    "print input_structure.pk\n",
    "\n",
    "#Specifing the supercell size\n",
    "scale_sc=List()\n",
    "scale_sc._set_list([1,1,1])\n",
    "                   \n",
    "#Specifying the type of defects to be created                   \n",
    "vacancies=List()\n",
    "vacancies._set_list(['O'])\n",
    "substitutions=ParameterData(dict={'Ba':['Sr']})\n",
    "\n",
    "cluster = Bool(True)\n",
    "\n",
    "#Creation of the defective StructureData objects\n",
    "a= defect_creator(input_structure, vacancies, substitutions, scale_sc, cluster)\n",
    "\n",
    "print a"
   ]
  },
  {
   "cell_type": "code",
   "execution_count": 8,
   "metadata": {},
   "outputs": [
    {
     "data": {
      "text/plain": [
       "[<Site: kind name 'Ba' @ 0.0,0.0,0.0>,\n",
       " <Site: kind name 'Ti' @ 2.0,2.0,2.0>,\n",
       " <Site: kind name 'O' @ 2.0,2.0,2.44929359829e-16>,\n",
       " <Site: kind name 'O' @ 2.0,0.0,2.0>,\n",
       " <Site: kind name 'O' @ 4.0,2.0,2.0>]"
      ]
     },
     "execution_count": 8,
     "metadata": {},
     "output_type": "execute_result"
    }
   ],
   "source": [
    "a['cluster_0'].sites"
   ]
  },
  {
   "cell_type": "code",
   "execution_count": 9,
   "metadata": {},
   "outputs": [
    {
     "data": {
      "text/plain": [
       "[<Site: kind name 'Ti' @ 2.0,2.0,2.0>,\n",
       " <Site: kind name 'O' @ 2.0,0.0,2.0>,\n",
       " <Site: kind name 'O' @ 4.0,2.0,2.0>,\n",
       " <Site: kind name 'Sr' @ 0.0,0.0,0.0>]"
      ]
     },
     "execution_count": 9,
     "metadata": {},
     "output_type": "execute_result"
    }
   ],
   "source": [
    "a['cluster_1'].sites"
   ]
  },
  {
   "cell_type": "code",
   "execution_count": 10,
   "metadata": {},
   "outputs": [
    {
     "name": "stdout",
     "output_type": "stream",
     "text": [
      "161735\n",
      "{'cluster_2': <StructureData: uuid: f7035049-5f89-4e08-8e69-cba6fb769d8c (pk: 161741)>, 'cluster_0': <StructureData: uuid: b4e7cc53-b195-423a-9e28-aa5e8b629ee8 (pk: 161742)>, 'cluster_1': <StructureData: uuid: c74a7bad-0ae1-4731-85ab-25411eea6967 (pk: 161743)>}\n"
     ]
    }
   ],
   "source": [
    "#Creating the StructureData object\n",
    "inputfile='batio3_222.cif'\n",
    "\n",
    "structure_mg = pymatgen.Structure.from_file(str(inputfile))\n",
    "input_structure = StructureData(pymatgen=structure_mg)\n",
    "input_structure.store()\n",
    "\n",
    "print input_structure.pk\n",
    "\n",
    "#Specifing the supercell size\n",
    "scale_sc=List()\n",
    "scale_sc._set_list([1,1,1])\n",
    "                   \n",
    "#Specifying the type of defects to be created                   \n",
    "vacancies=List()\n",
    "vacancies._set_list(['O'])\n",
    "substitutions=ParameterData(dict={'Ba':['Sr']})\n",
    "\n",
    "cluster = Bool(True)\n",
    "\n",
    "#Creation of the defective StructureData objects\n",
    "a= defect_creator(input_structure, vacancies, substitutions, scale_sc, cluster)\n",
    "\n",
    "print a"
   ]
  },
  {
   "cell_type": "code",
   "execution_count": 11,
   "metadata": {},
   "outputs": [
    {
     "data": {
      "text/plain": [
       "[<Site: kind name 'Ba' @ 0.0,0.0,0.0>,\n",
       " <Site: kind name 'Ba' @ 0.0,0.0,4.0>,\n",
       " <Site: kind name 'Ba' @ 6.43249059871e-16,4.0,2.44929359829e-16>,\n",
       " <Site: kind name 'Ba' @ 6.43249059871e-16,4.0,4.0>,\n",
       " <Site: kind name 'Ba' @ 4.0,0.0,2.44929359829e-16>,\n",
       " <Site: kind name 'Ba' @ 4.0,0.0,4.0>,\n",
       " <Site: kind name 'Ba' @ 4.0,4.0,4.89858719659e-16>,\n",
       " <Site: kind name 'Ba' @ 4.0,4.0,4.0>,\n",
       " <Site: kind name 'Ti' @ 2.0,2.0,2.0>,\n",
       " <Site: kind name 'Ti' @ 2.0,2.0,6.0>,\n",
       " <Site: kind name 'Ti' @ 2.0,6.0,2.0>,\n",
       " <Site: kind name 'Ti' @ 2.0,6.0,6.0>,\n",
       " <Site: kind name 'Ti' @ 6.0,2.0,2.0>,\n",
       " <Site: kind name 'Ti' @ 6.0,2.0,6.0>,\n",
       " <Site: kind name 'Ti' @ 6.0,6.0,2.0>,\n",
       " <Site: kind name 'Ti' @ 6.0,6.0,6.0>,\n",
       " <Site: kind name 'O' @ 2.0,2.0,2.44929359829e-16>,\n",
       " <Site: kind name 'O' @ 2.0,2.0,4.0>,\n",
       " <Site: kind name 'O' @ 2.0,6.0,4.89858719659e-16>,\n",
       " <Site: kind name 'O' @ 2.0,6.0,4.0>,\n",
       " <Site: kind name 'O' @ 6.0,2.0,4.89858719659e-16>,\n",
       " <Site: kind name 'O' @ 6.0,2.0,4.0>,\n",
       " <Site: kind name 'O' @ 6.0,6.0,7.34788079488e-16>,\n",
       " <Site: kind name 'O' @ 6.0,6.0,4.0>,\n",
       " <Site: kind name 'O' @ 2.0,0.0,2.0>,\n",
       " <Site: kind name 'O' @ 2.0,0.0,6.0>,\n",
       " <Site: kind name 'O' @ 2.0,4.0,2.0>,\n",
       " <Site: kind name 'O' @ 2.0,4.0,6.0>,\n",
       " <Site: kind name 'O' @ 6.0,0.0,2.0>,\n",
       " <Site: kind name 'O' @ 6.0,0.0,6.0>,\n",
       " <Site: kind name 'O' @ 6.0,4.0,2.0>,\n",
       " <Site: kind name 'O' @ 6.0,4.0,6.0>,\n",
       " <Site: kind name 'O' @ 8.0,2.0,2.0>,\n",
       " <Site: kind name 'O' @ 8.0,2.0,6.0>,\n",
       " <Site: kind name 'O' @ 8.0,6.0,2.0>,\n",
       " <Site: kind name 'O' @ 8.0,6.0,6.0>,\n",
       " <Site: kind name 'O' @ 4.0,2.0,2.0>,\n",
       " <Site: kind name 'O' @ 4.0,2.0,6.0>,\n",
       " <Site: kind name 'O' @ 4.0,6.0,2.0>,\n",
       " <Site: kind name 'O' @ 4.0,6.0,6.0>]"
      ]
     },
     "execution_count": 11,
     "metadata": {},
     "output_type": "execute_result"
    }
   ],
   "source": [
    "a['cluster_0'].sites"
   ]
  },
  {
   "cell_type": "code",
   "execution_count": 12,
   "metadata": {},
   "outputs": [
    {
     "data": {
      "text/plain": [
       "[<Site: kind name 'Ba' @ 0.0,0.0,4.0>,\n",
       " <Site: kind name 'Ba' @ 6.43249059871e-16,4.0,2.44929359829e-16>,\n",
       " <Site: kind name 'Ba' @ 6.43249059871e-16,4.0,4.0>,\n",
       " <Site: kind name 'Ba' @ 4.0,0.0,2.44929359829e-16>,\n",
       " <Site: kind name 'Ba' @ 4.0,0.0,4.0>,\n",
       " <Site: kind name 'Ba' @ 4.0,4.0,4.89858719659e-16>,\n",
       " <Site: kind name 'Ba' @ 4.0,4.0,4.0>,\n",
       " <Site: kind name 'Ti' @ 2.0,2.0,2.0>,\n",
       " <Site: kind name 'Ti' @ 2.0,2.0,6.0>,\n",
       " <Site: kind name 'Ti' @ 2.0,6.0,2.0>,\n",
       " <Site: kind name 'Ti' @ 2.0,6.0,6.0>,\n",
       " <Site: kind name 'Ti' @ 6.0,2.0,2.0>,\n",
       " <Site: kind name 'Ti' @ 6.0,2.0,6.0>,\n",
       " <Site: kind name 'Ti' @ 6.0,6.0,2.0>,\n",
       " <Site: kind name 'Ti' @ 6.0,6.0,6.0>,\n",
       " <Site: kind name 'O' @ 2.0,2.0,4.0>,\n",
       " <Site: kind name 'O' @ 2.0,6.0,4.89858719659e-16>,\n",
       " <Site: kind name 'O' @ 2.0,6.0,4.0>,\n",
       " <Site: kind name 'O' @ 6.0,2.0,4.89858719659e-16>,\n",
       " <Site: kind name 'O' @ 6.0,2.0,4.0>,\n",
       " <Site: kind name 'O' @ 6.0,6.0,7.34788079488e-16>,\n",
       " <Site: kind name 'O' @ 6.0,6.0,4.0>,\n",
       " <Site: kind name 'O' @ 2.0,0.0,2.0>,\n",
       " <Site: kind name 'O' @ 2.0,0.0,6.0>,\n",
       " <Site: kind name 'O' @ 2.0,4.0,2.0>,\n",
       " <Site: kind name 'O' @ 2.0,4.0,6.0>,\n",
       " <Site: kind name 'O' @ 6.0,0.0,2.0>,\n",
       " <Site: kind name 'O' @ 6.0,0.0,6.0>,\n",
       " <Site: kind name 'O' @ 6.0,4.0,2.0>,\n",
       " <Site: kind name 'O' @ 6.0,4.0,6.0>,\n",
       " <Site: kind name 'O' @ 3.21624529935e-16,2.0,2.0>,\n",
       " <Site: kind name 'O' @ 3.21624529935e-16,2.0,6.0>,\n",
       " <Site: kind name 'O' @ 9.64873589806e-16,6.0,2.0>,\n",
       " <Site: kind name 'O' @ 9.64873589806e-16,6.0,6.0>,\n",
       " <Site: kind name 'O' @ 4.0,2.0,2.0>,\n",
       " <Site: kind name 'O' @ 4.0,2.0,6.0>,\n",
       " <Site: kind name 'O' @ 4.0,6.0,2.0>,\n",
       " <Site: kind name 'O' @ 4.0,6.0,6.0>,\n",
       " <Site: kind name 'Sr' @ 0.0,0.0,0.0>]"
      ]
     },
     "execution_count": 12,
     "metadata": {},
     "output_type": "execute_result"
    }
   ],
   "source": [
    "a['cluster_1'].sites"
   ]
  },
  {
   "cell_type": "markdown",
   "metadata": {},
   "source": [
    "# Creating defect using the index of the atom"
   ]
  },
  {
   "cell_type": "code",
   "execution_count": 13,
   "metadata": {},
   "outputs": [
    {
     "name": "stdout",
     "output_type": "stream",
     "text": [
      "161744\n",
      "vacancy_1\n",
      "{u'vacancy_1': <StructureData: uuid: 8db6f730-e5e9-439c-a4aa-f600b6fc2ac2 (pk: 161747)>, 'vacancy_0': <StructureData: uuid: dbeec24e-fe23-4afa-9000-3b50ee5be713 (pk: 161744)>}\n"
     ]
    }
   ],
   "source": [
    "inputfile='batio3.cif'\n",
    "\n",
    "#Creating the StructureData object\n",
    "structure_mg = pymatgen.Structure.from_file(str(inputfile))\n",
    "input_structure = StructureData(pymatgen=structure_mg)\n",
    "input_structure.store()\n",
    "\n",
    "print input_structure.pk\n",
    "\n",
    "                   \n",
    "#Specifying the type of defects to be created                   \n",
    "vacancy=ParameterData(dict={'vacancy_1': {'index': 1}})\n",
    "\n",
    "\n",
    "#Creation of the defective StructureData objects\n",
    "a= defect_creator_by_index(input_structure, vacancy)\n",
    "\n",
    "print a"
   ]
  },
  {
   "cell_type": "code",
   "execution_count": 14,
   "metadata": {},
   "outputs": [
    {
     "data": {
      "text/plain": [
       "[<Site: kind name 'Ba' @ 0.0,0.0,0.0>,\n",
       " <Site: kind name 'O' @ 2.0,2.0,2.44929359829e-16>,\n",
       " <Site: kind name 'O' @ 2.0,0.0,2.0>,\n",
       " <Site: kind name 'O' @ 3.21624529935e-16,2.0,2.0>]"
      ]
     },
     "execution_count": 14,
     "metadata": {},
     "output_type": "execute_result"
    }
   ],
   "source": [
    "a['vacancy_1'].sites"
   ]
  },
  {
   "cell_type": "code",
   "execution_count": 15,
   "metadata": {},
   "outputs": [
    {
     "name": "stdout",
     "output_type": "stream",
     "text": [
      "substitution_1\n",
      "{'substitution_0': <StructureData: uuid: dbeec24e-fe23-4afa-9000-3b50ee5be713 (pk: 161744)>, u'substitution_1': <StructureData: uuid: f5790f8c-777f-445c-ba36-456fd0f93a68 (pk: 161750)>}\n"
     ]
    }
   ],
   "source": [
    "#Specifying the type of defects to be created                   \n",
    "substitution=ParameterData(dict={'substitution_1': {'index': 1, 'atom_type' :'Ta'}})\n",
    "\n",
    "\n",
    "#Creation of the defective StructureData objects\n",
    "a= defect_creator_by_index(input_structure, substitution)\n",
    "\n",
    "print a"
   ]
  },
  {
   "cell_type": "code",
   "execution_count": 16,
   "metadata": {},
   "outputs": [
    {
     "data": {
      "text/plain": [
       "[<Site: kind name 'Ba' @ 0.0,0.0,0.0>,\n",
       " <Site: kind name 'O' @ 2.0,2.0,2.44929359829e-16>,\n",
       " <Site: kind name 'O' @ 2.0,0.0,2.0>,\n",
       " <Site: kind name 'O' @ 3.21624529935e-16,2.0,2.0>,\n",
       " <Site: kind name 'Ta' @ 2.0,2.0,2.0>]"
      ]
     },
     "execution_count": 16,
     "metadata": {},
     "output_type": "execute_result"
    }
   ],
   "source": [
    "a['substitution_1'].sites"
   ]
  },
  {
   "cell_type": "code",
   "execution_count": 17,
   "metadata": {},
   "outputs": [
    {
     "name": "stdout",
     "output_type": "stream",
     "text": [
      "cluster_1\n",
      "{u'index': 2}\n",
      "{'cluster_0': <StructureData: uuid: dbeec24e-fe23-4afa-9000-3b50ee5be713 (pk: 161744)>, u'cluster_1': <StructureData: uuid: afec425c-6d95-46fe-afa9-e77499df02bc (pk: 161753)>}\n"
     ]
    }
   ],
   "source": [
    "#Specifying the type of defects to be created                   \n",
    "cluster=ParameterData(dict={'cluster_1': {'defect_name_v_1': {'index': 2},\n",
    "                                                        'defect_name_s_1': {'index': 1, 'atom_type_s_1' : 'Ta'}\n",
    "\n",
    "                                         \n",
    "                                         }})\n",
    "\n",
    "\n",
    "\n",
    "#Creation of the defective StructureData objects\n",
    "a= defect_creator_by_index(input_structure, cluster)\n",
    "\n",
    "print a"
   ]
  },
  {
   "cell_type": "markdown",
   "metadata": {},
   "source": [
    "# Exploring the created defective structure\n",
    "\n",
    "### the explore_defect function allows you to identify the type of defect and its position comparing the defective structure with the host one"
   ]
  },
  {
   "cell_type": "code",
   "execution_count": 4,
   "metadata": {},
   "outputs": [
    {
     "data": {
      "text/plain": [
       "{'atom_type': 'O',\n",
       " 'defect_name': 'V_O',\n",
       " 'defect_position': array([2.0000000e+00, 2.0000000e+00, 2.4492936e-16])}"
      ]
     },
     "execution_count": 4,
     "metadata": {},
     "output_type": "execute_result"
    }
   ],
   "source": [
    "host = load_node(161726)\n",
    "defective = load_node(161725)\n",
    "\n",
    "explore_defect(host,defective,'vacancy')"
   ]
  },
  {
   "cell_type": "code",
   "execution_count": 5,
   "metadata": {},
   "outputs": [
    {
     "data": {
      "text/plain": [
       "{'atom_type': 'O',\n",
       " 'defect_name': 'V_O',\n",
       " 'defect_position': array([2.0000000e+00, 2.0000000e+00, 2.4492936e-16])}"
      ]
     },
     "execution_count": 5,
     "metadata": {},
     "output_type": "execute_result"
    }
   ],
   "source": [
    "host = load_node(154327)\n",
    "defective = load_node(154326)\n",
    "\n",
    "explore_defect(host,defective,'unknown')"
   ]
  },
  {
   "cell_type": "code",
   "execution_count": 6,
   "metadata": {},
   "outputs": [
    {
     "data": {
      "text/plain": [
       "{'atom_type': 'Sr',\n",
       " 'defect_name': 'Ba_Sr',\n",
       " 'defect_position': array([0., 0., 0.])}"
      ]
     },
     "execution_count": 6,
     "metadata": {},
     "output_type": "execute_result"
    }
   ],
   "source": [
    "host = load_node(161723)\n",
    "defective = load_node(161724)\n",
    "\n",
    "explore_defect(host,defective,'substitution')"
   ]
  },
  {
   "cell_type": "code",
   "execution_count": 7,
   "metadata": {},
   "outputs": [
    {
     "data": {
      "text/plain": [
       "{'atom_type': 'Sr',\n",
       " 'defect_name': 'Ba_Sr',\n",
       " 'defect_position': array([0., 0., 0.])}"
      ]
     },
     "execution_count": 7,
     "metadata": {},
     "output_type": "execute_result"
    }
   ],
   "source": [
    "host = load_node(161723)\n",
    "defective = load_node(161724)\n",
    "\n",
    "explore_defect(host,defective,'unknown')"
   ]
  },
  {
   "cell_type": "code",
   "execution_count": 8,
   "metadata": {},
   "outputs": [
    {
     "data": {
      "text/plain": [
       "{'atom_type_s_0': 'Sr',\n",
       " 'atom_type_v_0': 'O',\n",
       " 'defect_name_s_0': 'Ba_Sr',\n",
       " 'defect_name_v_0': 'V_O',\n",
       " 'defect_position_s_0': ['0.0', '0.0', '0.0'],\n",
       " 'defect_position_v_0': array([2.0000000e+00, 2.0000000e+00, 2.4492936e-16])}"
      ]
     },
     "execution_count": 8,
     "metadata": {},
     "output_type": "execute_result"
    }
   ],
   "source": [
    "host = load_node(161733)\n",
    "defective = load_node(161734)\n",
    "\n",
    "explore_defect(host,defective,'cluster')"
   ]
  },
  {
   "cell_type": "code",
   "execution_count": 9,
   "metadata": {},
   "outputs": [
    {
     "data": {
      "text/plain": [
       "{'atom_type_s_0': 'Sr',\n",
       " 'atom_type_v_0': 'O',\n",
       " 'defect_name_s_0': 'Ba_Sr',\n",
       " 'defect_name_v_0': 'V_O',\n",
       " 'defect_position_s_0': ['0.0', '0.0', '0.0'],\n",
       " 'defect_position_v_0': array([2.0000000e+00, 2.0000000e+00, 2.4492936e-16])}"
      ]
     },
     "execution_count": 9,
     "metadata": {},
     "output_type": "execute_result"
    }
   ],
   "source": [
    "host = load_node(161733)\n",
    "defective = load_node(161734)\n",
    "\n",
    "explore_defect(host,defective,'unknown')"
   ]
  },
  {
   "cell_type": "code",
   "execution_count": 11,
   "metadata": {},
   "outputs": [
    {
     "data": {
      "text/plain": [
       "{'atom_type_s_0': 'Sr',\n",
       " 'atom_type_v_1': 'O',\n",
       " 'defect_name_s_0': 'Ba_Sr',\n",
       " 'defect_name_v_1': 'V_O',\n",
       " 'defect_position_s_0': ['0.0', '0.0', '0.5'],\n",
       " 'defect_position_v_1': array([2.0000000e+00, 2.0000000e+00, 2.4492936e-16])}"
      ]
     },
     "execution_count": 11,
     "metadata": {},
     "output_type": "execute_result"
    }
   ],
   "source": [
    "host = load_node(161742)\n",
    "defective = load_node(161741)\n",
    "\n",
    "explore_defect(host,defective,'unknown')"
   ]
  },
  {
   "cell_type": "markdown",
   "metadata": {},
   "source": [
    "## Compute distance from the defect for each site in the structure "
   ]
  },
  {
   "cell_type": "code",
   "execution_count": 13,
   "metadata": {},
   "outputs": [],
   "source": [
    "host = load_node(161742)\n",
    "defective = load_node(161741)\n",
    "\n",
    "explore = explore_defect(host,defective,'unknown')\n",
    "distances_from_defect = distance_from_defect(host, explore['defect_position_v_1'])"
   ]
  },
  {
   "cell_type": "code",
   "execution_count": 18,
   "metadata": {},
   "outputs": [
    {
     "name": "stdout",
     "output_type": "stream",
     "text": [
      "(PeriodicSite: Ba (0.0000, 0.0000, 0.0000) [0.0000, 0.0000, 0.0000], 2.8284271247461903)\n",
      "(PeriodicSite: Ba (0.0000, 0.0000, 4.0000) [0.0000, 0.0000, 0.5000], 4.898979485566356)\n",
      "(PeriodicSite: Ba (0.0000, 4.0000, 0.0000) [0.0000, 0.5000, 0.0000], 2.82842712474619)\n",
      "(PeriodicSite: Ba (0.0000, 4.0000, 4.0000) [0.0000, 0.5000, 0.5000], 4.898979485566356)\n",
      "(PeriodicSite: Ba (4.0000, 0.0000, 0.0000) [0.5000, 0.0000, 0.0000], 2.8284271247461903)\n",
      "(PeriodicSite: Ba (4.0000, 0.0000, 4.0000) [0.5000, 0.0000, 0.5000], 4.898979485566356)\n",
      "(PeriodicSite: Ba (4.0000, 4.0000, 0.0000) [0.5000, 0.5000, 0.0000], 2.8284271247461903)\n",
      "(PeriodicSite: Ba (4.0000, 4.0000, 4.0000) [0.5000, 0.5000, 0.5000], 4.898979485566356)\n",
      "(PeriodicSite: Ti (2.0000, 2.0000, 2.0000) [0.2500, 0.2500, 0.2500], 1.9999999999999998)\n",
      "(PeriodicSite: Ti (2.0000, 2.0000, 6.0000) [0.2500, 0.2500, 0.7500], 2.0)\n",
      "(PeriodicSite: Ti (2.0000, 6.0000, 2.0000) [0.2500, 0.7500, 0.2500], 4.47213595499958)\n",
      "(PeriodicSite: Ti (2.0000, 6.0000, 6.0000) [0.2500, 0.7500, 0.7500], 4.47213595499958)\n",
      "(PeriodicSite: Ti (6.0000, 2.0000, 2.0000) [0.7500, 0.2500, 0.2500], 4.47213595499958)\n",
      "(PeriodicSite: Ti (6.0000, 2.0000, 6.0000) [0.7500, 0.2500, 0.7500], 4.47213595499958)\n",
      "(PeriodicSite: Ti (6.0000, 6.0000, 2.0000) [0.7500, 0.7500, 0.2500], 6.0)\n",
      "(PeriodicSite: Ti (6.0000, 6.0000, 6.0000) [0.7500, 0.7500, 0.7500], 6.0)\n",
      "(PeriodicSite: O (2.0000, 2.0000, 0.0000) [0.2500, 0.2500, 0.0000], 0.0)\n",
      "(PeriodicSite: O (2.0000, 2.0000, 4.0000) [0.2500, 0.2500, 0.5000], 3.9999999999999996)\n",
      "(PeriodicSite: O (2.0000, 6.0000, 0.0000) [0.2500, 0.7500, 0.0000], 4.0)\n",
      "(PeriodicSite: O (2.0000, 6.0000, 4.0000) [0.2500, 0.7500, 0.5000], 5.65685424949238)\n",
      "(PeriodicSite: O (6.0000, 2.0000, 0.0000) [0.7500, 0.2500, 0.0000], 4.0)\n",
      "(PeriodicSite: O (6.0000, 2.0000, 4.0000) [0.7500, 0.2500, 0.5000], 5.65685424949238)\n",
      "(PeriodicSite: O (6.0000, 6.0000, 0.0000) [0.7500, 0.7500, 0.0000], 5.656854249492381)\n",
      "(PeriodicSite: O (6.0000, 6.0000, 4.0000) [0.7500, 0.7500, 0.5000], 6.928203230275509)\n",
      "(PeriodicSite: O (2.0000, 0.0000, 2.0000) [0.2500, 0.0000, 0.2500], 2.82842712474619)\n",
      "(PeriodicSite: O (2.0000, 0.0000, 6.0000) [0.2500, 0.0000, 0.7500], 2.8284271247461903)\n",
      "(PeriodicSite: O (2.0000, 4.0000, 2.0000) [0.2500, 0.5000, 0.2500], 2.82842712474619)\n",
      "(PeriodicSite: O (2.0000, 4.0000, 6.0000) [0.2500, 0.5000, 0.7500], 2.8284271247461903)\n",
      "(PeriodicSite: O (6.0000, 0.0000, 2.0000) [0.7500, 0.0000, 0.2500], 4.898979485566356)\n",
      "(PeriodicSite: O (6.0000, 0.0000, 6.0000) [0.7500, 0.0000, 0.7500], 4.898979485566356)\n",
      "(PeriodicSite: O (6.0000, 4.0000, 2.0000) [0.7500, 0.5000, 0.2500], 4.898979485566356)\n",
      "(PeriodicSite: O (6.0000, 4.0000, 6.0000) [0.7500, 0.5000, 0.7500], 4.898979485566356)\n",
      "(PeriodicSite: O (8.0000, 2.0000, 2.0000) [1.0000, 0.2500, 0.2500], 2.82842712474619)\n",
      "(PeriodicSite: O (8.0000, 2.0000, 6.0000) [1.0000, 0.2500, 0.7500], 2.8284271247461903)\n",
      "(PeriodicSite: O (8.0000, 6.0000, 2.0000) [1.0000, 0.7500, 0.2500], 4.898979485566356)\n",
      "(PeriodicSite: O (8.0000, 6.0000, 6.0000) [1.0000, 0.7500, 0.7500], 4.898979485566356)\n",
      "(PeriodicSite: O (4.0000, 2.0000, 2.0000) [0.5000, 0.2500, 0.2500], 2.82842712474619)\n",
      "(PeriodicSite: O (4.0000, 2.0000, 6.0000) [0.5000, 0.2500, 0.7500], 2.8284271247461903)\n",
      "(PeriodicSite: O (4.0000, 6.0000, 2.0000) [0.5000, 0.7500, 0.2500], 4.898979485566356)\n",
      "(PeriodicSite: O (4.0000, 6.0000, 6.0000) [0.5000, 0.7500, 0.7500], 4.898979485566356)\n"
     ]
    }
   ],
   "source": [
    "distances_from_defect = distance_from_defect_pymatgen(host, explore['defect_position_v_1'])\n",
    "for i in distances_from_defect:\n",
    "    print(i)"
   ]
  },
  {
   "cell_type": "code",
   "execution_count": null,
   "metadata": {},
   "outputs": [],
   "source": []
  }
 ],
 "metadata": {
  "kernelspec": {
   "display_name": "Python 2",
   "language": "python",
   "name": "python2"
  },
  "language_info": {
   "codemirror_mode": {
    "name": "ipython",
    "version": 2
   },
   "file_extension": ".py",
   "mimetype": "text/x-python",
   "name": "python",
   "nbconvert_exporter": "python",
   "pygments_lexer": "ipython2",
   "version": "2.7.15rc1"
  }
 },
 "nbformat": 4,
 "nbformat_minor": 2
}
