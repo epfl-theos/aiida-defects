{
 "cells": [
  {
   "cell_type": "code",
   "execution_count": 9,
   "metadata": {
    "scrolled": true
   },
   "outputs": [
    {
     "name": "stderr",
     "output_type": "stream",
     "text": [
      "12/04/2018 03:06:25 PM, aiida.aiida.orm.implementation.general.calculation.work.WorkCalculation: [REPORT] [154546|MakovPayneCorrection|run_pw_H_structure]: Launching PwBaseWorkChain for the calculation of the first order Makov Payne Correction. pk value 154550\n",
      "12/04/2018 03:08:11 PM, aiida.aiida.orm.implementation.general.calculation.work.WorkCalculation: [REPORT] [154546|MakovPayneCorrection|compute_correction]: Makov Payne Correction -4.16476609747\n",
      "12/04/2018 03:08:11 PM, aiida.aiida.orm.implementation.general.calculation.work.WorkCalculation: [REPORT] [154546|MakovPayneCorrection|compute_correction]: MakovPayneCorrection workchain completed succesfully\n"
     ]
    }
   ],
   "source": [
    "from aiida.backends.utils import load_dbenv, is_dbenv_loaded\n",
    "\n",
    "if not is_dbenv_loaded():\n",
    "    load_dbenv()\n",
    "\n",
    "import pymatgen\n",
    "from aiida.work.run import run\n",
    "from aiida.orm.data.parameter import ParameterData\n",
    "from aiida.orm.data.structure import StructureData\n",
    "from aiida.orm.data.array.kpoints import KpointsData\n",
    "from aiida.orm.data.base import  Str, Bool, Float, Int\n",
    "from aiida_defects.formation_energy.makovpayne import MakovPayneCorrection\n",
    "from aiida.orm import load_node\n",
    "\n",
    "\n",
    "inputfile='batio3_222.cif'\n",
    "\n",
    "structure_mg = pymatgen.Structure.from_file(str(inputfile))\n",
    "structure_sd = StructureData(pymatgen=structure_mg)\n",
    "codename=\"pw_6.0_eb@ubelix2\"\n",
    "pseudo_family='SSSP'\n",
    "#defect_position = ArrayData()\n",
    "#defect_position.set_array(\"position\", np.array([0., 0., 0.]))\n",
    "defect_charge= 2.\n",
    "epsilon_r =  2.\n",
    "\n",
    "options={\n",
    "        'resources': {\n",
    "            'num_machines': 1,\n",
    "            #'num_mpiprocs_per_machine': 1,\n",
    "        },\n",
    "         'max_wallclock_seconds' : 600,\n",
    "         #'custom_scheduler_commands' : u\"#SBATCH --partition=all\",\n",
    "         #'custom_scheduler_commands' : u\"#SBATCH --account=dcb\",\n",
    "         'custom_scheduler_commands' : u\"#SBATCH --partition=empi\",\n",
    "\n",
    "        }\n",
    "\n",
    "settings={}\n",
    "\n",
    "kpoints = KpointsData()\n",
    "kpoints.set_kpoints_mesh([8, 8, 8])\n",
    "\n",
    "\n",
    "parameters = {\n",
    "        'CONTROL': {\n",
    "            'restart_mode': 'from_scratch',\n",
    "            #'tstress': True,\n",
    "            'tprnfor' : True,\n",
    "            'etot_conv_thr' : 1.0e-6,\n",
    "             'forc_conv_thr' : 1.0e-3,\n",
    "        },\n",
    "        'SYSTEM': {\n",
    "            'ecutwfc': 60.,\n",
    "            'ecutrho': 480.,\n",
    "            'occupations' : 'smearing',\n",
    "            'degauss' : 0.01,\n",
    "            #'starting_magnetization' : starting_magnetization,\n",
    "        },\n",
    "        'ELECTRONS': {\n",
    "            'conv_thr': 1.e-8,\n",
    "            'mixing_beta' : 0.6,\n",
    "            'startingwfc' : 'atomic',\n",
    "        },\n",
    "\n",
    "    }\n",
    "\n",
    "\n",
    "outputs=run(MakovPayneCorrection,\n",
    "            bulk_structure=structure_sd,\n",
    "            code_pw=Str(codename),\n",
    "            pseudo_family=Str(pseudo_family),\n",
    "            kpoints=kpoints,\n",
    "            parameters=ParameterData(dict=parameters),\n",
    "            settings=ParameterData(dict=settings),\n",
    "            options=ParameterData(dict=options),\n",
    "            epsilon_r=Float(epsilon_r),\n",
    "            defect_charge=Float(defect_charge)\n",
    "           )\n"
   ]
  },
  {
   "cell_type": "code",
   "execution_count": 10,
   "metadata": {},
   "outputs": [
    {
     "name": "stdout",
     "output_type": "stream",
     "text": [
      "{'Makov_Payne_Correction': -4.1647660974693}\n"
     ]
    }
   ],
   "source": [
    "print outputs"
   ]
  },
  {
   "cell_type": "code",
   "execution_count": null,
   "metadata": {},
   "outputs": [],
   "source": []
  }
 ],
 "metadata": {
  "kernelspec": {
   "display_name": "Python 2",
   "language": "python",
   "name": "python2"
  },
  "language_info": {
   "codemirror_mode": {
    "name": "ipython",
    "version": 2
   },
   "file_extension": ".py",
   "mimetype": "text/x-python",
   "name": "python",
   "nbconvert_exporter": "python",
   "pygments_lexer": "ipython2",
   "version": "2.7.12"
  }
 },
 "nbformat": 4,
 "nbformat_minor": 2
}
