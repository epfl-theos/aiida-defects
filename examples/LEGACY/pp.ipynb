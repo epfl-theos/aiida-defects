{
 "cells": [
  {
   "cell_type": "code",
   "execution_count": 1,
   "metadata": {},
   "outputs": [],
   "source": [
    "from aiida.backends.utils import load_dbenv, is_dbenv_loaded\n",
    "\n",
    "if not is_dbenv_loaded():\n",
    "    load_dbenv()\n",
    "    "
   ]
  },
  {
   "cell_type": "code",
   "execution_count": 118,
   "metadata": {},
   "outputs": [
    {
     "name": "stderr",
     "output_type": "stream",
     "text": [
      "12/07/2018 11:16:32 AM, aiida.aiida.orm.implementation.general.calculation.work.WorkCalculation: [REPORT] [160769|PpWorkChain|run_pw]: Launching PwBaseWorkChain. pk value 160771\n",
      "12/07/2018 11:22:13 AM, aiida.aiida.orm.implementation.general.calculation.work.WorkCalculation: [REPORT] [160769|PpWorkChain|run_pp]: Launching a PpCalculation. pk value 160780\n",
      "12/07/2018 11:22:58 AM, aiida.aiida.orm.implementation.general.calculation.work.WorkCalculation: [REPORT] [160769|PpWorkChain|retrieve_folder]: PpWorkChain  completed succesfully\n"
     ]
    }
   ],
   "source": [
    "from aiida.orm import load_node\n",
    "from aiida.work.run import run\n",
    "from aiida.orm.data.parameter import ParameterData\n",
    "from aiida.orm.data.structure import StructureData\n",
    "from aiida.orm.data.array.kpoints import KpointsData\n",
    "from aiida.orm.data.base import  Str, Bool, Float, Int\n",
    "from aiida_defects.pp.pp import PpWorkChain\n",
    "\n",
    "from aiida.orm import load_node\n",
    "inputfile='lton.cif'\n",
    "\n",
    "\n",
    "from pymatgen.io import cif,aiida\n",
    "from pymatgen.io.aiida import AiidaStructureAdaptor\n",
    "\n",
    "structure_mg= cif.Structure.from_file(str(inputfile))\n",
    "aiida_structure_adaptor = AiidaStructureAdaptor()\n",
    "structure_sd = aiida_structure_adaptor.get_structuredata(structure_mg)\n",
    "codename=\"pw_5.1@ubelix\"\n",
    "code_pp=\"pp_5.1@ubelix\"\n",
    "pseudo_family='SSSP'\n",
    "#defect_position = ArrayData()\n",
    "#defect_position.set_array(\"position\", np.array([0., 0., 0.]))\n",
    "defect_charge= 2.\n",
    "epsilon_r =  2.\n",
    "\n",
    "\n",
    "\n",
    "options={\n",
    "        'resources': {\n",
    "            'num_machines': 1,\n",
    "            #'num_mpiprocs_per_machine': 1,\n",
    "        },\n",
    "         'max_wallclock_seconds' : 3600,\n",
    "         #'custom_scheduler_commands' : u\"#SBATCH --partition=all\",\n",
    "         #'custom_scheduler_commands' : u\"#SBATCH --account=dcb\",\n",
    "         'custom_scheduler_commands' : u\"#SBATCH --partition=empi\",\n",
    "\n",
    "        }\n",
    "\n",
    "settings={}\n",
    "\n",
    "kpoints = KpointsData()\n",
    "kpoints.set_kpoints_mesh([8, 8, 1])\n",
    "kpoints = KpointsData()\n",
    "kpoints.set_kpoints_mesh([8, 8, 1])\n",
    "\n",
    "\n",
    "parameters = {\n",
    "        'CONTROL': {\n",
    "            'restart_mode': 'from_scratch',\n",
    "            #'tstress': True,\n",
    "            #'tprnfor' : True,\n",
    "            'nstep' : 500,\n",
    "            'etot_conv_thr' : 1.0e-6,\n",
    "             'forc_conv_thr' : 1.0e-3,\n",
    "            'tefield'      : True,\n",
    "            'dipfield'  : True\n",
    "        },\n",
    "        'SYSTEM': {\n",
    "            'ecutwfc': 40.,\n",
    "            'ecutrho': 320.,\n",
    "            'occupations' : 'smearing',\n",
    "            'degauss' : 0.01,\n",
    "            'edir'   : 3,\n",
    "            'emaxpos' : 0.75,\n",
    "            'eopreg': 0.01,\n",
    "            'eamp' : 0.0,\n",
    "\n",
    "            #'starting_magnetization' : starting_magnetization,\n",
    "        },\n",
    "        'ELECTRONS': {\n",
    "            'conv_thr': 1.e-8,\n",
    "            'mixing_beta' : 0.6,\n",
    "            'startingwfc' : 'atomic',\n",
    "        },\n",
    "\n",
    "    }\n",
    "\n",
    "parameters_pp = {\n",
    "        'INPUTPP': {'plot_num' : 11,\n",
    "        }\n",
    "        }\n",
    "\n",
    "\n",
    "outputs=run(PpWorkChain,\n",
    "            structure=structure_sd,\n",
    "            code_pw=Str(codename),\n",
    "            pseudo_family=Str(pseudo_family),\n",
    "            kpoints=kpoints,\n",
    "            parameters=ParameterData(dict=parameters),\n",
    "            settings=ParameterData(dict=settings),\n",
    "            options=ParameterData(dict=options),\n",
    "            code_pp=Str(code_pp),\n",
    "            parameters_pp=ParameterData(dict=parameters_pp),\n",
    "            pw_calc=Bool(True),\n",
    "           )\n",
    "\n"
   ]
  },
  {
   "cell_type": "code",
   "execution_count": 119,
   "metadata": {},
   "outputs": [
    {
     "data": {
      "text/plain": [
       "{'remote_folder': <RemoteData: uuid: cf0eda07-af93-43ca-aa2a-f3362d28beee (pk: 160775)>,\n",
       " 'retrieved': <FolderData: uuid: 68f876b6-dc96-4bcb-8930-a6ef4ef4f70d (pk: 160782)>}"
      ]
     },
     "execution_count": 119,
     "metadata": {},
     "output_type": "execute_result"
    }
   ],
   "source": [
    "outputs"
   ]
  },
  {
   "cell_type": "code",
   "execution_count": null,
   "metadata": {},
   "outputs": [],
   "source": [
    "#Submitting the workchain skipping the pw.x step, but providing a FolderData/Remote Folder object as input"
   ]
  },
  {
   "cell_type": "code",
   "execution_count": 120,
   "metadata": {},
   "outputs": [
    {
     "name": "stderr",
     "output_type": "stream",
     "text": [
      "12/07/2018 11:23:42 AM, aiida.aiida.orm.implementation.general.calculation.work.WorkCalculation: [REPORT] [160791|PpWorkChain|run_pp]: Launching a PpCalculation. pk value 160792\n",
      "12/07/2018 11:24:27 AM, aiida.aiida.orm.implementation.general.calculation.work.WorkCalculation: [REPORT] [160791|PpWorkChain|retrieve_folder]: PpWorkChain  completed succesfully\n"
     ]
    }
   ],
   "source": [
    "\n",
    "outputs=run(PpWorkChain,\n",
    "            structure=structure_sd,\n",
    "            code_pw=Str(codename),\n",
    "            pseudo_family=Str(pseudo_family),\n",
    "            kpoints=kpoints,\n",
    "            parameters=ParameterData(dict=parameters),\n",
    "            settings=ParameterData(dict=settings),\n",
    "            options=ParameterData(dict=options),\n",
    "            code_pp=Str(code_pp),\n",
    "            parameters_pp=ParameterData(dict=parameters_pp),\n",
    "            pw_calc=Bool(False),\n",
    "            remote_folder=load_node(160775)\n",
    "           )"
   ]
  }
 ],
 "metadata": {
  "kernelspec": {
   "display_name": "Python 2",
   "language": "python",
   "name": "python2"
  },
  "language_info": {
   "codemirror_mode": {
    "name": "ipython",
    "version": 2
   },
   "file_extension": ".py",
   "mimetype": "text/x-python",
   "name": "python",
   "nbconvert_exporter": "python",
   "pygments_lexer": "ipython2",
   "version": "2.7.12"
  }
 },
 "nbformat": 4,
 "nbformat_minor": 2
}
