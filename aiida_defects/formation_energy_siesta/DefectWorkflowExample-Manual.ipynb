{
 "cells": [
  {
   "cell_type": "code",
   "execution_count": 1,
   "metadata": {},
   "outputs": [],
   "source": [
    "from __future__ import absolute_import\n",
    "import aiida\n",
    "from aiida import load_profile\n",
    "load_profile()\n",
    "\n",
    "# Import commonly used functionality\n",
    "import numpy as np\n",
    "from aiida import orm, engine, common\n",
    "from aiida.plugins import WorkflowFactory\n",
    "from aiida.orm import Code\n",
    "import sisl"
   ]
  },
  {
   "cell_type": "code",
   "execution_count": 2,
   "metadata": {},
   "outputs": [
    {
     "name": "stdout",
     "output_type": "stream",
     "text": [
      "\u001b[22mRestarting the daemon... \u001b[0m\u001b[32m\u001b[1mOK\u001b[0m\n"
     ]
    }
   ],
   "source": [
    "!reentry scan\n",
    "#!verdi daemon start\n",
    "!verdi daemon restart"
   ]
  },
  {
   "cell_type": "code",
   "execution_count": 7,
   "metadata": {},
   "outputs": [],
   "source": [
    "GaAs_222_dir = '/home/aakhtar/Calculations/2020/siesta/GaAs/LDA-standard/conventional-222-DONE/GaAs-222-5276028.frontal2/'\n",
    "GaAs_222_GaV_0e_dir = '/home/aakhtar/Calculations/2020/siesta/GaAs/LDA-standard/conventional-222-GaV-0e-DONE/GaAs-222-GaV-0e-5276023.frontal2/'\n",
    "GaAs_222_GaV_1e_dir = '/home/aakhtar/Calculations/2020/siesta/GaAs/LDA-standard/conventional-222-GaV-1e-DONE/GaAs-222-GaV-1e-5276034.frontal2/'\n",
    "GaAs_222_GaV_2e_dir = '/home/aakhtar/Calculations/2020/siesta/GaAs/LDA-standard/conventional-222-GaV-2e-DONE/GaAs-222-GaV-2e-5276040.frontal2/'\n",
    "GaAs_222_GaV_3e_dir ='/home/aakhtar/Calculations/2020/siesta/GaAs/LDA-standard/conventional-222-GaV-3e-DONE/GaAs-222-GaV-3e-5276041.frontal2/'\n",
    "GaAs_222_GaV_1p_dir ='/home/aakhtar/Calculations/2020/siesta/GaAs/LDA-standard/conventional-222-GaV-1p-DONE/GaAs-222-GaV-1p-5276823.frontal2/'\n",
    "#GaAs_222_GaV_2p_dir\n",
    "#-------------\n",
    "GaAs_333_dir = '/home/aakhtar/Calculations/2020/siesta/GaAs/LDA-standard/conventional-333-DONE/6213-farm2-node[49-52].out/'\n",
    "GaAs_333_GaV_0e_dir = '/home/aakhtar/Calculations/2020/siesta/GaAs/LDA-standard/conventional-333-GaV-0e-DONE/6232-farm2-node[49-52].out/'\n",
    "GaAs_333_GaV_1e_dir ='/home/aakhtar/Calculations/2020/siesta/GaAs/LDA-standard/conventional-333-GaV-1e-DONE/6235-farm2-node[35-38].out/'\n",
    "GaAs_333_GaV_2e_dir ='/home/aakhtar/Calculations/2020/siesta/GaAs/LDA-standard/conventional-333-GaV-2e-DONE/6234-farm2-node[39-42].out/'\n",
    "GaAs_333_GaV_3e_dir ='/home/aakhtar/Calculations/2020/siesta/GaAs/LDA-standard/conventional-333-GaV-3e-DONE/6233-farm2-node[44-47].out/'"
   ]
  },
  {
   "cell_type": "code",
   "execution_count": 8,
   "metadata": {},
   "outputs": [],
   "source": [
    "def Read_FDF_File(path_dir,fdf_name):\n",
    "    \"\"\"\n",
    "    Read The FDF File\n",
    "    \"\"\"\n",
    "    fdf = sisl.get_sile(path_dir+fdf_name+'.fdf')\n",
    "\n",
    "    return\n",
    "\n",
    "def ASE2Siesta(A):\n",
    "    \"\"\"\n",
    "    Getting ASE Atom Object and Converted to sisl\n",
    "    \"\"\"\n",
    "    import sisl\n",
    "    geo=sisl.Geometry.fromASE(A)\n",
    "    return geo"
   ]
  },
  {
   "cell_type": "code",
   "execution_count": 9,
   "metadata": {},
   "outputs": [],
   "source": [
    "def Siesta2ASE(spath,fdf_name):\n",
    "    \"\"\"\n",
    "    Getting XV Path Object and Converted ASE Atom \n",
    "    \"\"\"\n",
    "    import sisl\n",
    "    \n",
    "    \n",
    "    fdffile = sisl.get_sile(spath+\"/\"+fdf_name+\".fdf\")\n",
    "    geometry = fdffile.read_geometry()\n",
    "    \n",
    "    ase_geom = sisl.Geometry.toASE(geometry)\n",
    "    \n",
    "    return ase_geom\n",
    " "
   ]
  },
  {
   "cell_type": "code",
   "execution_count": 10,
   "metadata": {},
   "outputs": [],
   "source": [
    "GaAs_222 = Siesta2ASE(GaAs_222_dir,'input')\n",
    "GaAs_222_GaV_0e = Siesta2ASE(GaAs_222_GaV_0e_dir,'input')\n",
    "GaAs_222_GaV_1e = Siesta2ASE(GaAs_222_GaV_1e_dir,'input')\n",
    "GaAs_222_GaV_2e = Siesta2ASE(GaAs_222_GaV_2e_dir,'input')\n",
    "GaAs_222_GaV_3e = Siesta2ASE(GaAs_222_GaV_3e_dir,'input')\n",
    "GaAs_333 = Siesta2ASE(GaAs_333_dir,'input')\n",
    "GaAs_333_GaV_0e = Siesta2ASE(GaAs_333_GaV_0e_dir,'input')\n",
    "GaAs_333_GaV_1e = Siesta2ASE(GaAs_333_GaV_1e_dir,'input')\n",
    "GaAs_333_GaV_2e = Siesta2ASE(GaAs_333_GaV_2e_dir,'input')\n",
    "GaAs_333_GaV_3e = Siesta2ASE(GaAs_333_GaV_3e_dir,'input')"
   ]
  },
  {
   "cell_type": "code",
   "execution_count": 11,
   "metadata": {},
   "outputs": [
    {
     "name": "stdout",
     "output_type": "stream",
     "text": [
      "Pure Cell :Cell([11.239312, 11.239314, 11.239314])\n",
      "Defect q=0 Cell :Cell([11.239312, 11.239314, 11.239314])\n",
      "Defect q=1 Cell :Cell([11.239312, 11.239314, 11.239314])\n",
      "Defect q=2 Cell :Cell([11.239312, 11.239314, 11.239314])\n",
      "Defect q=3 Cell :Cell([11.239312, 11.239314, 11.239314])\n",
      "Pure Cell :Cell([16.858968, 16.858971, 16.858971])\n",
      "Defect q=0 Cell :Cell([16.858968, 16.858968, 16.858968])\n",
      "Defect q=1 Cell :Cell([16.858968, 16.858968, 16.858968])\n",
      "Defect q=2 Cell :Cell([16.858968, 16.858968, 16.858968])\n",
      "Defect q=3 Cell :Cell([16.858968, 16.858968, 16.858968])\n"
     ]
    }
   ],
   "source": [
    "print ('Pure Cell :'+str(GaAs_222.cell))\n",
    "print ('Defect q=0 Cell :'+str(GaAs_222_GaV_0e.cell))\n",
    "print ('Defect q=1 Cell :'+str(GaAs_222_GaV_1e.cell))\n",
    "print ('Defect q=2 Cell :'+str(GaAs_222_GaV_2e.cell))\n",
    "print ('Defect q=3 Cell :'+str(GaAs_222_GaV_3e.cell))\n",
    "print ('Pure Cell :'+str(GaAs_333.cell))\n",
    "print ('Defect q=0 Cell :'+str(GaAs_333_GaV_0e.cell))\n",
    "print ('Defect q=1 Cell :'+str(GaAs_333_GaV_1e.cell))\n",
    "print ('Defect q=2 Cell :'+str(GaAs_333_GaV_2e.cell))\n",
    "print ('Defect q=3 Cell :'+str(GaAs_333_GaV_3e.cell))"
   ]
  },
  {
   "cell_type": "code",
   "execution_count": 12,
   "metadata": {},
   "outputs": [],
   "source": [
    "from aiida_defects.formation_energy_siesta.formation_energy_siesta_manual import FormationEnergyWorkchainSIESTAManual\n",
    "#import .formation_energy_siesta\n",
    "#!pwd"
   ]
  },
  {
   "cell_type": "code",
   "execution_count": 13,
   "metadata": {},
   "outputs": [],
   "source": [
    "from aiida.orm import StructureData\n",
    "pure = StructureData(ase=GaAs_222)\n",
    "defect_neutral = StructureData(ase=GaAs_222_GaV_0e)\n",
    "defect_charge = StructureData(ase=GaAs_222_GaV_1e)\n",
    "charge=-1\n",
    "#defect_charge = StructureData(ase=GaAs_222_GaV_2e)\n",
    "#defect_charge = StructureData(ase=GaAs_222_GaV_3e)\n",
    "#-------------------------------------------------\n",
    "#\n",
    "#pure = StructureData(ase=GaAs_333)\n",
    "#defect_neutral = StructureData(ase=GaAs_333_GaV_0e)\n",
    "#defect_charge = StructureData(ase=GaAs_333_GaV_1e)\n",
    "#defect_charge = StructureData(ase=GaAs_333_GaV_2e)\n",
    "#defect_charge = StructureData(ase=GaAs_333_GaV_3e)\n",
    "\n"
   ]
  },
  {
   "cell_type": "code",
   "execution_count": 14,
   "metadata": {},
   "outputs": [],
   "source": [
    "from aiida.orm import RemoteData\n",
    "code = Code.get_from_string('siesta-psml-lua@pwk')\n",
    "#--------------------------\n",
    "remote_host = RemoteData(remote_path=GaAs_222_dir, computer=code.computer)\n",
    "defect_neutral_remote = RemoteData(remote_path=GaAs_222_GaV_0e_dir, computer=code.computer)\n",
    "defect_charged_remote = RemoteData(remote_path=GaAs_222_GaV_1e_dir, computer=code.computer)\n",
    "#defect_charged_remote = RemoteData(remote_path=GaAs_222_GaV_2e_dir, computer=code.computer)\n",
    "#defect_charged_remote = RemoteData(remote_path=GaAs_222_GaV_3e_dir, computer=code.computer)\n",
    "#--------------------------\n",
    "#remote_host = RemoteData(remote_path=GaAs_333_dir, computer=code.computer)\n",
    "#defect_neutral_remote = RemoteData(remote_path=GaAs_333_GaV_0e_dir, computer=code.computer)\n",
    "#defect_charged_remote = RemoteData(remote_path=GaAs_333_GaV_1e_dir, computer=code.computer)\n",
    "#defect_charged_remote = RemoteData(remote_path=GaAs_333_GaV_2e_dir, computer=code.computer)\n",
    "#defect_charged_remote = RemoteData(remote_path=GaAs_333_GaV_3e_dir, computer=code.computer)"
   ]
  },
  {
   "cell_type": "code",
   "execution_count": null,
   "metadata": {},
   "outputs": [],
   "source": []
  },
  {
   "cell_type": "code",
   "execution_count": null,
   "metadata": {},
   "outputs": [],
   "source": []
  },
  {
   "cell_type": "code",
   "execution_count": null,
   "metadata": {},
   "outputs": [],
   "source": []
  },
  {
   "cell_type": "code",
   "execution_count": null,
   "metadata": {},
   "outputs": [],
   "source": []
  },
  {
   "cell_type": "code",
   "execution_count": 17,
   "metadata": {},
   "outputs": [],
   "source": [
    "inputs = {\n",
    "    \n",
    "    # Structures\n",
    "    'host_structure': pure,\n",
    "    'defect_structure': defect_neutral,\n",
    "    'defect_charge' : defect_charge,\n",
    "    'add_or_remove':orm.Str('remove'),\n",
    "    'host_remote' : remote_host,\n",
    "    'defect_neutral_remote': defect_neutral_remote,\n",
    "    'defect_charged_remote': defect_charged_remote,\n",
    "    #'host_node':orm.Int(19201),    # LAPTOP 20618\n",
    "    #'defect_q0_node':orm.Int(19202),  # LAPTOP 20619\n",
    "    #'defect_q_node':orm.Int(19203),  # LAPTOP 20620\n",
    "    # Defect information \n",
    "    'defect_charge' : orm.Float(charge),\n",
    "    'defect_site' : orm.List(list=[0.0,0.0,0.0]), #orm.List(list=[3.3226073300107264    , 1.918307998081692 ,17.5]),    # Position of the defect in crystal coordinates\n",
    "    'fermi_level' : orm.Float(0.0),               # Position of the Fermi level, with respect to the valence band maximum      \n",
    "    'chemical_potential' : orm.Float(-2077.548690 ), # eV, the chemical potentical of a O atom\n",
    "    #'sigma':orm.Float(2.614),\n",
    "    'use_siesta_mesh_cutoff':orm.Bool(True),\n",
    "    'correction_scheme' : orm.Str('gaussian-model'), # gaussian-model ,gaussian , point, none\n",
    "    \"epsilon\":orm.Float(12.4),\n",
    "    #\"pseudos_host\":pseudos_dict_host,\n",
    "    #\"pseudos_defect\":pseudos_dict_defect,\n",
    "    #\"pseudos_q0\":pseudos_dict,\n",
    "    #\"pseudos_q\":pseudos_dict,\n",
    "    # Computational (chosen code is QE)\n",
    "    #'siesta' : { 'dft': {'supercell_host':{'code': code, 'kpoints': kpoints_host, 'parameters' : parameters_host,\n",
    "    #                                       'options':options_host,\"basis\": basis_dict_host},\n",
    "    #                     'supercell_defect_q0':{'code': code, 'kpoints': kpoints_defect_q,'parameters' : parameters_defect_q0,\n",
    "    #                                            'options':options_defect_q0,\"basis\": basis_dict_defect_q0},\n",
    "    #                     'supercell_defect_q':{'code': code, 'kpoints': kpoints_defect_q,'parameters' : parameters_defect_q,\n",
    "    #                                           'options':options_defect_q,\"basis\": basis_dict_defect_q}\n",
    "}#}}"
   ]
  },
  {
   "cell_type": "code",
   "execution_count": 18,
   "metadata": {},
   "outputs": [
    {
     "data": {
      "text/plain": [
       "{'host_structure': <StructureData: uuid: 51ebebee-7b96-4d0c-97bc-239abfccc441 (unstored)>,\n",
       " 'defect_structure': <StructureData: uuid: f662b8f9-8dc7-443d-b35f-75ca3e62bb9b (unstored)>,\n",
       " 'defect_charge': <Float: uuid: e311460f-36b9-483a-af86-ac825c89fd64 (unstored) value: -1.0>,\n",
       " 'add_or_remove': <Str: uuid: f2349737-ac32-44ae-b413-2a0054d3faf2 (unstored) value: remove>,\n",
       " 'host_remote': <RemoteData: uuid: aeaa0461-8ed1-41e5-85e9-3e4554914493 (unstored)>,\n",
       " 'defect_neutral_remote': <RemoteData: uuid: 1a2b71d6-6bb2-4239-b429-8dd6a4c81acd (unstored)>,\n",
       " 'defect_charged_remote': <RemoteData: uuid: a09190c2-d3b5-4c66-942b-31215f67e5b9 (unstored)>,\n",
       " 'defect_site': <List: uuid: 8e5d32d1-6669-4354-a9a6-93f993b1c6d6 (unstored) value: [0.0, 0.0, 0.0]>,\n",
       " 'fermi_level': <Float: uuid: dcc0fc5d-a80c-4366-805d-7b21d64d2c0c (unstored) value: 0.0>,\n",
       " 'chemical_potential': <Float: uuid: 4c174bd5-40f8-4675-a68e-d5c8349481c6 (unstored) value: -2077.54869>,\n",
       " 'use_siesta_mesh_cutoff': <Bool: uuid: c24f6527-fae5-424b-aed4-cc2f98e5ebf7 (unstored) value: True>,\n",
       " 'correction_scheme': <Str: uuid: 8363d1bf-20a7-4c1b-9ee9-251cbbac28f7 (unstored) value: gaussian-model>,\n",
       " 'epsilon': <Float: uuid: b9dc8858-4330-48ad-9790-d7968faa247b (unstored) value: 12.4>}"
      ]
     },
     "execution_count": 18,
     "metadata": {},
     "output_type": "execute_result"
    }
   ],
   "source": [
    "inputs"
   ]
  },
  {
   "cell_type": "code",
   "execution_count": 19,
   "metadata": {
    "scrolled": false
   },
   "outputs": [],
   "source": [
    "workchain_future = engine.submit(FormationEnergyWorkchainSIESTAManual, **inputs)"
   ]
  },
  {
   "cell_type": "code",
   "execution_count": 20,
   "metadata": {},
   "outputs": [
    {
     "data": {
      "text/plain": [
       "22378"
      ]
     },
     "execution_count": 20,
     "metadata": {},
     "output_type": "execute_result"
    }
   ],
   "source": [
    "workchain_future.pk"
   ]
  },
  {
   "cell_type": "markdown",
   "metadata": {},
   "source": [
    "pk=22378   GaAs 222 GaV q=-1\n",
    "\n",
    "pk=   GaAs 222 GaV q=-2\n",
    "\n",
    "pk=   GaAs 222 GaV q=-3\n",
    "\n",
    "pk=   GaAs 333 GaV q=-1\n",
    "\n",
    "pk=   GaAs 333 GaV q=-2\n",
    "\n",
    "pk=   GaAs 333 GaV q=-3"
   ]
  },
  {
   "cell_type": "code",
   "execution_count": null,
   "metadata": {},
   "outputs": [],
   "source": []
  },
  {
   "cell_type": "markdown",
   "metadata": {},
   "source": [
    "pk=21662   GaAs 222 GaV q=-1\n",
    "\n",
    "pk=21782   GaAs 222 GaV q=-2\n",
    "\n",
    "pk=21898   GaAs 222 GaV q=-3\n",
    "\n",
    "pk=22018   GaAs 333 GaV q=-1\n",
    "\n",
    "pk=22138   GaAs 333 GaV q=-2\n",
    "\n",
    "pk=22258   GaAs 333 GaV q=-3"
   ]
  },
  {
   "cell_type": "code",
   "execution_count": 22,
   "metadata": {},
   "outputs": [
    {
     "name": "stderr",
     "output_type": "stream",
     "text": [
      "UsageError: Line magic function `%aiida` not found.\n"
     ]
    }
   ],
   "source": [
    "%aiida"
   ]
  },
  {
   "cell_type": "code",
   "execution_count": 23,
   "metadata": {},
   "outputs": [],
   "source": [
    "from aiida.manage.database.delete.nodes import delete_nodes\n"
   ]
  },
  {
   "cell_type": "code",
   "execution_count": null,
   "metadata": {},
   "outputs": [],
   "source": [
    "delete_nodes()"
   ]
  },
  {
   "cell_type": "code",
   "execution_count": 27,
   "metadata": {},
   "outputs": [],
   "source": [
    "from aiida.orm import QueryBuilder\n",
    "from aiida.orm.nodes import ArrayData"
   ]
  },
  {
   "cell_type": "code",
   "execution_count": 28,
   "metadata": {},
   "outputs": [
    {
     "data": {
      "text/plain": [
       "[[<KpointsData: uuid: 69b2e40b-a138-4597-a9b6-4690f581d958 (pk: 16)>],\n",
       " [<KpointsData: uuid: 172bf1f6-080b-4bc4-91f4-94affc749b08 (pk: 31)>],\n",
       " [<KpointsData: uuid: a8b365cc-7853-4fb9-b925-301313747d4f (pk: 49)>],\n",
       " [<KpointsData: uuid: a720b2ad-d999-4dc3-8c11-01c5adc69785 (pk: 59)>],\n",
       " [<ArrayData: uuid: f8a93c2d-75cb-49fa-a743-27de4a6a6486 (pk: 65)>],\n",
       " [<ArrayData: uuid: c99795a7-fdf7-45b4-82ae-f6d57c06887c (pk: 86)>],\n",
       " [<KpointsData: uuid: 7660fb4e-972c-42d0-ae89-6edeb0386ba8 (pk: 75)>],\n",
       " [<ArrayData: uuid: 8ff2e4c7-b725-4f42-9e56-3c42c7bc7254 (pk: 81)>],\n",
       " [<KpointsData: uuid: 5adc2234-3f3a-4cdb-8e42-db0eca0e75be (pk: 99)>],\n",
       " [<KpointsData: uuid: 78306de8-d5c3-40d8-a312-d41fe2fbfd8f (pk: 116)>],\n",
       " [<KpointsData: uuid: 535cd06d-1919-42f4-bd3e-900d7ab47749 (pk: 106)>],\n",
       " [<KpointsData: uuid: 38f94845-eacc-4f3c-9f2f-c816f6968412 (pk: 132)>],\n",
       " [<KpointsData: uuid: f0bd4a8c-70ff-4402-b10d-65df4d5e0594 (pk: 124)>],\n",
       " [<KpointsData: uuid: 63def49f-3509-41f1-99de-2b0a5213c5db (pk: 140)>],\n",
       " [<ArrayData: uuid: 370b70c1-5fcb-43a6-be91-9626757dd56b (pk: 146)>],\n",
       " [<KpointsData: uuid: 9d70ef5a-0748-4fa1-8748-dec4a96aea6b (pk: 151)>],\n",
       " [<KpointsData: uuid: e78e7d36-002d-497d-99bf-cd7e99b30d13 (pk: 159)>],\n",
       " [<ArrayData: uuid: 408bcf80-225e-425b-b756-21a19b951a41 (pk: 165)>],\n",
       " [<KpointsData: uuid: a24e089b-bbb8-410e-9ba2-94b9225399fa (pk: 239)>],\n",
       " [<KpointsData: uuid: 9f37fb17-3eb5-4739-8aef-ffba59fc70ba (pk: 366)>],\n",
       " [<KpointsData: uuid: 7c5d99f9-2b97-4850-8bc8-41b5e886c49a (pk: 179)>],\n",
       " [<KpointsData: uuid: 6aa1b64a-9b38-4cd7-a298-617bd41310c2 (pk: 183)>],\n",
       " [<KpointsData: uuid: be8987d6-a2f6-4324-8ea1-d763d9d5709e (pk: 209)>],\n",
       " [<KpointsData: uuid: 075e356f-f1a6-4dc1-8a6f-f1fed4b6cfc3 (pk: 187)>],\n",
       " [<KpointsData: uuid: 3acc5508-f714-4ef1-8944-4ac18cb3d8dc (pk: 213)>],\n",
       " [<KpointsData: uuid: 0e516c87-10a2-4d66-b8ef-52ea8e7977b6 (pk: 217)>],\n",
       " [<KpointsData: uuid: 30bb34c2-f8ce-4981-bafb-cfee802bff21 (pk: 243)>],\n",
       " [<KpointsData: uuid: 95292e32-f775-4a6f-89e5-86babf11e7ce (pk: 247)>],\n",
       " [<KpointsData: uuid: 4978743f-44f7-48d5-9b14-e93def0f3dcd (pk: 269)>],\n",
       " [<KpointsData: uuid: 827fb58c-1aab-447e-84d8-7dc796fa4a1f (pk: 336)>],\n",
       " [<KpointsData: uuid: 7ac466f6-acfe-482a-a3e3-a41ea8ae9ea8 (pk: 273)>],\n",
       " [<KpointsData: uuid: 533f2393-9c06-4b2b-a725-cbe982f7ef44 (pk: 277)>],\n",
       " [<KpointsData: uuid: 984ea06b-0fad-4788-9c42-1d0e0d7c3a8e (pk: 306)>],\n",
       " [<KpointsData: uuid: 25fdbc38-f8ff-4a66-b6db-be5441e3a6be (pk: 310)>],\n",
       " [<KpointsData: uuid: f835487d-6825-4943-967f-a3042627cc18 (pk: 340)>],\n",
       " [<KpointsData: uuid: 8ce57453-5248-4fdb-b1b0-ccf5269805d3 (pk: 314)>],\n",
       " [<KpointsData: uuid: 5e6712bc-5778-4ef2-a618-2db8a17d204d (pk: 344)>],\n",
       " [<KpointsData: uuid: 0b416677-9ad0-40ee-a283-4038ff0ce2b0 (pk: 370)>],\n",
       " [<KpointsData: uuid: 439218b5-ab02-4aab-9f8d-fd71ecab58b9 (pk: 374)>],\n",
       " [<KpointsData: uuid: e25a0add-26c4-4fa7-96cb-6166e1725ead (pk: 396)>],\n",
       " [<KpointsData: uuid: f2200843-dc6d-443c-aaf3-2e49b45a44bf (pk: 400)>],\n",
       " [<KpointsData: uuid: fd3e7081-3bbe-4f5e-8b5f-7a74a659ce80 (pk: 404)>],\n",
       " [<KpointsData: uuid: f2603d3d-b374-4a91-b4d1-d277af3ac97d (pk: 534)>],\n",
       " [<KpointsData: uuid: 2843e5bd-8e66-4b36-8503-eb8eaf620ce6 (pk: 504)>],\n",
       " [<KpointsData: uuid: 91b72ccc-4108-4ca7-b850-f401b3ba60f0 (pk: 508)>],\n",
       " [<KpointsData: uuid: f1234cf6-2167-40ae-809d-4182be652826 (pk: 512)>],\n",
       " [<KpointsData: uuid: dff2d419-dd32-472d-bc4e-b5d0f91e66c9 (pk: 538)>],\n",
       " [<KpointsData: uuid: 92d27046-dd04-4b0f-a5e1-2686da4b7646 (pk: 542)>],\n",
       " [<KpointsData: uuid: aa9fe0bd-ce62-42b5-ade5-e9dc94dbc9c2 (pk: 654)>],\n",
       " [<KpointsData: uuid: 737e5df1-8c9e-4ee2-ad0b-c07fac5ab23b (pk: 564)>],\n",
       " [<KpointsData: uuid: aabe3d35-9697-49ad-8a0b-e568d27879c5 (pk: 568)>],\n",
       " [<KpointsData: uuid: 2e36f7cb-b322-44a5-a40e-c97fcd57b981 (pk: 572)>],\n",
       " [<KpointsData: uuid: f7540caf-4c6d-4704-ac24-47fdafa66428 (pk: 658)>],\n",
       " [<KpointsData: uuid: 58d4ef31-5bfa-4090-8928-e663a504ebdb (pk: 594)>],\n",
       " [<KpointsData: uuid: 4f609284-ebc0-451c-a197-103f2c633c10 (pk: 598)>],\n",
       " [<KpointsData: uuid: 4abdad2b-ce40-4255-bb8f-aae369a5cf9e (pk: 602)>],\n",
       " [<KpointsData: uuid: 1bcb880d-2b0a-423a-a873-0e1f3977feed (pk: 662)>],\n",
       " [<KpointsData: uuid: b178739f-93f1-48ab-8f5d-078e83f869e7 (pk: 624)>],\n",
       " [<KpointsData: uuid: d8d83ee9-11dc-4a47-8eca-2868bf6f9eea (pk: 628)>],\n",
       " [<KpointsData: uuid: db94b34a-80eb-4b01-b7b8-17486ad7b873 (pk: 632)>],\n",
       " [<KpointsData: uuid: 76d2c21d-067d-4fb9-a1ea-775c8d5e5b82 (pk: 765)>],\n",
       " [<KpointsData: uuid: 9e0d23d4-e3df-488e-8f04-eab92cbfd641 (pk: 769)>],\n",
       " [<KpointsData: uuid: 3563c77c-d16a-40f0-a5c7-edca988d6f77 (pk: 773)>],\n",
       " [<KpointsData: uuid: 801b8b2b-127a-4e11-bd9b-35428cb7296a (pk: 1134)>],\n",
       " [<ArrayData: uuid: 4874e109-596a-4cc4-89ba-7db3bc9c3193 (pk: 800)>],\n",
       " [<KpointsData: uuid: e3fd1b98-c881-489f-b96f-8329a213a505 (pk: 826)>],\n",
       " [<ArrayData: uuid: a8f79e3a-df2a-4a22-8c87-62fa0027f601 (pk: 804)>],\n",
       " [<ArrayData: uuid: 3411f041-7e24-4711-b80d-32a810d6f000 (pk: 786)>],\n",
       " [<KpointsData: uuid: f64883f1-c9c8-4441-9c52-dae585a6c8f8 (pk: 830)>],\n",
       " [<KpointsData: uuid: 0d57783e-c92b-4798-ac3e-a0a7192cb162 (pk: 834)>],\n",
       " [<ArrayData: uuid: 96fe5cdd-8e0f-4fa0-84a8-e7f9a447ee41 (pk: 810)>],\n",
       " [<ArrayData: uuid: dc64d48a-37fa-4fc8-b424-681d6c99ef20 (pk: 847)>],\n",
       " [<KpointsData: uuid: a85b93df-e197-4187-a8f4-37f82c9329ea (pk: 870)>],\n",
       " [<KpointsData: uuid: 0c325618-1a79-414e-9265-53f9a72e706b (pk: 874)>],\n",
       " [<KpointsData: uuid: 0fbdbff1-77e6-4245-9e2a-21725ae9a7e7 (pk: 878)>],\n",
       " [<KpointsData: uuid: 184da400-bf75-423c-8ec2-cad5a6f055a6 (pk: 1002)>],\n",
       " [<KpointsData: uuid: d709ab0c-7fc4-413c-ac9e-086e49be0862 (pk: 1006)>],\n",
       " [<KpointsData: uuid: ac49c676-9cdd-4175-bab7-3e9a52c63e85 (pk: 1010)>],\n",
       " [<KpointsData: uuid: 95510645-1bc0-4e76-8378-de64dd2a5878 (pk: 914)>],\n",
       " [<ArrayData: uuid: b54d8dbe-0575-4197-9022-f01f6bf93eb0 (pk: 891)>],\n",
       " [<KpointsData: uuid: 3e115681-247a-4ba7-a523-6ea82a13ec7a (pk: 918)>],\n",
       " [<KpointsData: uuid: 5c431ec8-a55e-4022-b779-51ba06f3ddc7 (pk: 922)>],\n",
       " [<ArrayData: uuid: 73cce800-1e4c-4ed4-aeaa-440c86669930 (pk: 935)>],\n",
       " [<ArrayData: uuid: d1e195c1-f13d-4ca8-9394-ece67ea77698 (pk: 1067)>],\n",
       " [<KpointsData: uuid: 3f81ead3-6c34-4ecc-9a15-11a8a76bfcde (pk: 1090)>],\n",
       " [<KpointsData: uuid: 39f9a897-da21-4faf-beef-852c4e7de6d6 (pk: 958)>],\n",
       " [<KpointsData: uuid: 533fcc90-667e-4122-881d-75235a5b929e (pk: 962)>],\n",
       " [<ArrayData: uuid: 05c6df6b-e7f3-4460-b44b-6ea1c4f40b68 (pk: 1023)>],\n",
       " [<KpointsData: uuid: af9658ba-835b-45b8-9edd-afac9ed13ec0 (pk: 966)>],\n",
       " [<KpointsData: uuid: 1f099835-6160-4d6b-aeef-8bba3794e26f (pk: 1094)>],\n",
       " [<KpointsData: uuid: 2d0d3487-e663-4e58-be03-10d5d8273a39 (pk: 1554)>],\n",
       " [<KpointsData: uuid: 386ad996-6c11-467f-9cd4-131bdd9fcdc6 (pk: 1098)>],\n",
       " [<ArrayData: uuid: fc1bea08-06e4-4fed-9cb4-ab50270a642f (pk: 979)>],\n",
       " [<KpointsData: uuid: 5c056594-fae5-475b-9cfb-8b469849b94b (pk: 1046)>],\n",
       " [<KpointsData: uuid: 81d87216-1dd4-4701-a836-c498304f1a45 (pk: 1050)>],\n",
       " [<KpointsData: uuid: fbf8c846-ee53-4f16-a9d9-a7eaead0ed83 (pk: 1054)>],\n",
       " [<ArrayData: uuid: 65fef21c-d04c-4c7a-b725-eed997a887c3 (pk: 1155)>],\n",
       " [<ArrayData: uuid: 20070658-817b-459f-954a-8e6da6a0f251 (pk: 1111)>],\n",
       " [<KpointsData: uuid: 209f1eb4-032f-47f6-bb35-b1f592f804c9 (pk: 1222)>],\n",
       " [<KpointsData: uuid: ed342a14-7830-4e7a-a969-bc15ef239b9a (pk: 1226)>],\n",
       " [<KpointsData: uuid: 977924a8-3f99-41e3-b790-a18a421d56fb (pk: 1230)>],\n",
       " [<KpointsData: uuid: a6e83672-899c-4e9a-a081-ab86fbad2608 (pk: 1138)>],\n",
       " [<KpointsData: uuid: fd31db92-f685-4d77-8f41-28dc6b51e22b (pk: 1142)>],\n",
       " [<KpointsData: uuid: 8128ed23-042d-4f31-8afa-8d39e5c31d05 (pk: 1178)>],\n",
       " [<KpointsData: uuid: 24795cd5-3653-4f12-898e-ff25fabed6e5 (pk: 1310)>],\n",
       " [<KpointsData: uuid: 30cd246d-4327-4287-b97c-370c7ba4a94d (pk: 1182)>],\n",
       " [<KpointsData: uuid: 130023b3-7362-44dc-a506-9f0384d5ad39 (pk: 1186)>],\n",
       " [<ArrayData: uuid: 74ae1567-cbb2-47de-ad0b-37f17d145888 (pk: 1243)>],\n",
       " [<KpointsData: uuid: 4bdb2c0a-6a7f-47fe-8515-2818b28008e8 (pk: 1354)>],\n",
       " [<KpointsData: uuid: 4a4aecd5-0c8c-48b2-beeb-aa438f947f59 (pk: 1266)>],\n",
       " [<KpointsData: uuid: 4aaa6bfc-c010-410f-9bc7-3668bfe9b9b1 (pk: 1270)>],\n",
       " [<ArrayData: uuid: cb16f33f-c63d-47a1-ac23-d26e501c9bdb (pk: 1199)>],\n",
       " [<KpointsData: uuid: a6afa2c1-afcd-4892-9dc0-72438fa2c1b6 (pk: 1274)>],\n",
       " [<KpointsData: uuid: dd71b838-e8e2-422f-afbc-a2ea11e21c1d (pk: 1358)>],\n",
       " [<ArrayData: uuid: 08d3c528-f89b-4c94-8f4b-8a127df1094d (pk: 1287)>],\n",
       " [<ArrayData: uuid: 17d82675-c022-4d01-9c62-4b5d653983cc (pk: 1463)>],\n",
       " [<KpointsData: uuid: 6d38b772-852d-41bd-9616-b6ae89cd983d (pk: 1362)>],\n",
       " [<KpointsData: uuid: f01339e1-5682-459b-9559-ffaec25f704f (pk: 1402)>],\n",
       " [<KpointsData: uuid: 28c954fc-5b80-4168-a2b7-e1a5cde24462 (pk: 1314)>],\n",
       " [<KpointsData: uuid: 6497d766-f407-4635-b7fa-824b44627fb9 (pk: 1318)>],\n",
       " [<KpointsData: uuid: bc9a917f-e972-4848-96e6-24afcb56d1b9 (pk: 1406)>],\n",
       " [<ArrayData: uuid: ae303c3a-1c58-4381-8157-d6be4ccc0730 (pk: 1375)>],\n",
       " [<ArrayData: uuid: be7a8ae7-6784-4855-b63b-e769177de2a5 (pk: 1331)>],\n",
       " [<KpointsData: uuid: 27b79e4f-dd4d-4eec-8d5a-72cb9e12cdb1 (pk: 1398)>],\n",
       " [<KpointsData: uuid: 3153d5a1-a53b-4f6c-8886-b6c26005cfc0 (pk: 1486)>],\n",
       " [<KpointsData: uuid: 307ece7e-3452-4931-8b3f-49d66cf8b941 (pk: 1442)>],\n",
       " [<ArrayData: uuid: eb604523-3cf6-497d-84ff-d9098e0d8ee0 (pk: 1419)>],\n",
       " [<KpointsData: uuid: ecf295f3-a973-4315-9873-b0387b4eb56a (pk: 1446)>],\n",
       " [<KpointsData: uuid: 75c615f0-ac0a-4ec1-aa02-e3bd1bd1d0f2 (pk: 1450)>],\n",
       " [<KpointsData: uuid: e9c707d1-bcc3-48cb-bc1e-67ded77185b7 (pk: 1490)>],\n",
       " [<KpointsData: uuid: ab4f4b1e-de25-48d6-a191-397657967ad1 (pk: 1494)>],\n",
       " [<ArrayData: uuid: 15189c1e-a955-427d-ace3-24140159b471 (pk: 1538)>],\n",
       " [<KpointsData: uuid: 719f246d-da78-4a33-a46d-97807c6fb5ed (pk: 1558)>],\n",
       " [<KpointsData: uuid: 399d3840-a41e-4f18-997a-7121cd4ce719 (pk: 1518)>],\n",
       " [<KpointsData: uuid: e5336777-972c-473b-ad27-6ef78edeb268 (pk: 1521)>],\n",
       " [<KpointsData: uuid: d319ac6a-8804-47fd-aa0b-f5de8bba4a49 (pk: 1524)>],\n",
       " [<KpointsData: uuid: cb6b60b6-5a41-4675-beb5-79e2a8b9e415 (pk: 1602)>],\n",
       " [<KpointsData: uuid: 05824068-909d-45e1-b9b3-c291455df942 (pk: 1606)>],\n",
       " [<KpointsData: uuid: bb333690-3c3d-442a-9033-949d68dc2cda (pk: 1610)>],\n",
       " [<KpointsData: uuid: 505c23ea-b777-4e1f-b996-64933a070394 (pk: 1562)>],\n",
       " [<KpointsData: uuid: c5ec37c2-d8bd-42e7-8cb0-74c965eeeb30 (pk: 1730)>],\n",
       " [<KpointsData: uuid: 73a43b61-fef8-4b9c-85b5-8d3efcec9d48 (pk: 1691)>],\n",
       " [<ArrayData: uuid: 3e739105-a755-42ef-b595-90e9dc0c0084 (pk: 1625)>],\n",
       " [<KpointsData: uuid: 0759b641-c1f1-4ad5-93ab-2ad9a06e5def (pk: 1734)>],\n",
       " [<KpointsData: uuid: de66cafd-c688-4c9b-8120-0bea524058b9 (pk: 1738)>],\n",
       " [<ArrayData: uuid: 52dc1fb6-920f-4c73-bcb7-ca6f6f17c37b (pk: 1714)>],\n",
       " [<KpointsData: uuid: 6dce01cd-8485-47a7-92a8-15686ad44810 (pk: 1800)>],\n",
       " [<ArrayData: uuid: d237f374-6aae-483e-83ef-94b3469892dc (pk: 1650)>],\n",
       " [<KpointsData: uuid: 1f1321ca-842e-4eaf-ae65-58d09cbd2f73 (pk: 1695)>],\n",
       " [<KpointsData: uuid: 9468990d-8c71-4cfd-a928-c8951296a6d3 (pk: 1699)>],\n",
       " [<ArrayData: uuid: b13852b7-97a4-4864-9c7e-44ede1d36f39 (pk: 1675)>],\n",
       " [<KpointsData: uuid: 3307541b-362e-4759-8f64-cd20a09927f5 (pk: 1850)>],\n",
       " [<KpointsData: uuid: c62be508-3c30-443d-bc90-ad6764004b30 (pk: 1854)>],\n",
       " [<KpointsData: uuid: 24c45fba-89b4-4706-984a-ee45380da40d (pk: 1804)>],\n",
       " [<KpointsData: uuid: a0c3d232-9707-43cd-8547-a8efeef5eed4 (pk: 1808)>],\n",
       " [<ArrayData: uuid: 8ac2c160-dd13-4af5-89ee-ee25860937b9 (pk: 1764)>],\n",
       " [<KpointsData: uuid: bf83379f-5dd7-4d28-9401-d8d12f065553 (pk: 1858)>],\n",
       " [<KpointsData: uuid: 2b59d3cb-a018-4775-8883-964fa84be468 (pk: 1987)>],\n",
       " [<KpointsData: uuid: e1af3918-69d6-40ee-a60c-7bd7ee27bc85 (pk: 1991)>],\n",
       " [<KpointsData: uuid: 893e9e5a-da98-448a-b40c-9484da91cc5d (pk: 1995)>],\n",
       " [<KpointsData: uuid: 0b0f2be1-fbd2-44e1-b37f-f31500653478 (pk: 1887)>],\n",
       " [<KpointsData: uuid: 9f39aa3a-d43d-4840-a77a-7e89f38e3dd0 (pk: 1891)>],\n",
       " [<KpointsData: uuid: 5b637cd6-c6be-459c-b991-869aed744dbf (pk: 1895)>],\n",
       " [<ArrayData: uuid: d8548529-ce7a-4b4d-bf5a-5c979eb57e80 (pk: 1834)>],\n",
       " [<KpointsData: uuid: f7d66be1-5f43-4454-bd20-f9a7b9b752f9 (pk: 2055)>],\n",
       " [<KpointsData: uuid: 1200ca1f-021b-4e5e-bb08-03b4c7b3d6fb (pk: 3049)>],\n",
       " [<ArrayData: uuid: 61649b8b-7054-45ba-8cf8-ad50ba6cf91d (pk: 1921)>],\n",
       " [<KpointsData: uuid: 27b7c9b1-ab2f-4710-8a44-0d5bde2cd2b8 (pk: 1937)>],\n",
       " [<KpointsData: uuid: 324c2e1f-2984-4462-94aa-23bd59460365 (pk: 1941)>],\n",
       " [<KpointsData: uuid: a619db8c-59ec-444e-a7c9-291ac3b8d357 (pk: 1945)>],\n",
       " [<KpointsData: uuid: 2e68972d-7431-490d-a694-7460a1c67f4f (pk: 2059)>],\n",
       " [<KpointsData: uuid: 46c90916-3eef-4dbb-b2d5-ea2ef102b1cf (pk: 2063)>],\n",
       " [<KpointsData: uuid: 2ca9b269-0eff-48c2-b3ac-8935a51b1c4b (pk: 2092)>],\n",
       " [<KpointsData: uuid: 2fbfa777-6ac1-4d25-aaad-1af061e1f810 (pk: 2096)>],\n",
       " [<ArrayData: uuid: 47b70d40-762a-4b0b-a964-68bff78dcec6 (pk: 1971)>],\n",
       " [<KpointsData: uuid: 82ea83fd-3fb1-4882-be5c-b7540c74adec (pk: 14710)>],\n",
       " [<KpointsData: uuid: 18af88ab-c9f5-4786-9a10-faf58777fcd2 (pk: 3151)>],\n",
       " [<KpointsData: uuid: 82b75ed1-023f-437d-87e6-8980180cb371 (pk: 2100)>],\n",
       " [<KpointsData: uuid: 137d428e-6330-4f8e-a009-875f0431109b (pk: 2282)>],\n",
       " [<KpointsData: uuid: 50c5ddfa-78f9-4825-a25d-c75869f4404a (pk: 2151)>],\n",
       " [<ArrayData: uuid: 560653af-260f-4c3a-9659-169a6bef5c54 (pk: 17166)>],\n",
       " [<KpointsData: uuid: c14c6d4a-dd85-47ee-8885-8353dc1ccbfb (pk: 2155)>],\n",
       " [<KpointsData: uuid: 2a368fe2-7ddb-428c-a403-03641c55c91b (pk: 2159)>],\n",
       " [<ArrayData: uuid: fc379398-0fa8-442f-9c3d-c56d4839e575 (pk: 2185)>],\n",
       " [<KpointsData: uuid: d6ef87c9-800c-4542-bdad-212d6b6066f7 (pk: 2348)>],\n",
       " [<KpointsData: uuid: fad598ee-b19d-4370-bef8-cad89cfac7a7 (pk: 14714)>],\n",
       " [<KpointsData: uuid: bef2c340-43fd-42c1-a295-d2ec3edb427c (pk: 14718)>],\n",
       " [<KpointsData: uuid: 12acd223-56c7-4f4e-92fb-a81d3d7afccd (pk: 2237)>],\n",
       " [<KpointsData: uuid: e24138c7-464e-4b4c-844d-ab71bc84231b (pk: 2241)>],\n",
       " [<KpointsData: uuid: 758c1a39-09c7-4505-8d23-7c67bb65f617 (pk: 2245)>],\n",
       " [<ArrayData: uuid: 96d4ad66-dcca-4b25-827a-04bad3719d23 (pk: 2215)>],\n",
       " [<KpointsData: uuid: 14140dc4-135e-4b28-a34c-7252f6285f4c (pk: 2311)>],\n",
       " [<KpointsData: uuid: 9ac9d224-3530-46e3-b2ae-11af7d251b04 (pk: 2352)>],\n",
       " [<KpointsData: uuid: aec05ced-7d14-4b40-8a4e-640bd5776520 (pk: 2315)>],\n",
       " [<KpointsData: uuid: 7a2f56a0-8420-480e-9388-fd2c7a6a440b (pk: 2319)>],\n",
       " [<KpointsData: uuid: b00402ab-d092-48db-8736-82ea2bf4cecf (pk: 2274)>],\n",
       " [<KpointsData: uuid: dfa56322-e736-4f62-bff1-a3a75cb2d9e2 (pk: 2278)>],\n",
       " [<KpointsData: uuid: 5d641885-6bfb-4a28-af0c-d9d6052cdf81 (pk: 2356)>],\n",
       " [<KpointsData: uuid: fa0d2cf6-af35-40d3-bda1-e4a405fd684c (pk: 2426)>],\n",
       " [<KpointsData: uuid: a477b769-a8d7-49b7-aabd-350ab54c46c1 (pk: 2430)>],\n",
       " [<KpointsData: uuid: c87dbb33-82eb-4151-a9c7-c632548a812e (pk: 2459)>],\n",
       " [<KpointsData: uuid: 820f3ef6-732d-4f68-84c5-b511b9232101 (pk: 2385)>],\n",
       " [<KpointsData: uuid: 71321e0c-7f41-42e4-a421-0fc1332cb9a4 (pk: 2389)>],\n",
       " [<KpointsData: uuid: fdfcfb3b-0bc4-4f0c-89dc-f34344977d5b (pk: 2393)>],\n",
       " [<KpointsData: uuid: c539f815-16ba-49c7-9d10-682d24baf133 (pk: 2422)>],\n",
       " [<KpointsData: uuid: 37bfbcc0-a225-4de8-8696-17aded8c7db4 (pk: 2544)>],\n",
       " [<KpointsData: uuid: c1763f37-109d-419e-916b-c315b35d0d98 (pk: 2548)>],\n",
       " [<KpointsData: uuid: 9611034f-f4cf-47bd-85b2-75d936c384e0 (pk: 2463)>],\n",
       " [<KpointsData: uuid: 22c83060-6957-47eb-a27c-046838d2917c (pk: 2467)>],\n",
       " [<KpointsData: uuid: d6cb2fff-35c2-463f-b196-9ed74aeae89c (pk: 2504)>],\n",
       " [<KpointsData: uuid: 66f5404b-a21f-4f0e-b145-0fe256e313b9 (pk: 2552)>],\n",
       " [<KpointsData: uuid: abb9a9fe-ce8b-493f-b54f-9f4b23daabcf (pk: 2981)>],\n",
       " [<KpointsData: uuid: 29ac6d54-46e1-4440-baa8-a37a0a45008c (pk: 2985)>],\n",
       " [<KpointsData: uuid: 84977a0b-261c-405e-989f-e98fd9c63f6f (pk: 2496)>],\n",
       " [<KpointsData: uuid: 3079df11-f0e2-4d5b-837a-b9eee02e56cd (pk: 2500)>],\n",
       " [<KpointsData: uuid: 43a6819f-e691-4c92-9c7a-98eb19f13750 (pk: 2597)>],\n",
       " [<ArrayData: uuid: 55f80f03-be95-41ea-9771-6aeb27d42646 (pk: 2567)>],\n",
       " [<KpointsData: uuid: c5e5a6ad-a345-4249-8683-8e2869ae5585 (pk: 2642)>],\n",
       " [<KpointsData: uuid: 0169cd4e-3c72-4950-bcab-9590de83d096 (pk: 2589)>],\n",
       " [<KpointsData: uuid: 8c11a0cd-ef3e-4346-b5ac-24fc71bd7208 (pk: 2593)>],\n",
       " [<KpointsData: uuid: 494b8f4b-f30b-49f4-b928-687b09cccf2f (pk: 2732)>],\n",
       " [<KpointsData: uuid: 50f32a45-23dd-46e6-8f00-7aff38cd79d6 (pk: 2869)>],\n",
       " [<ArrayData: uuid: 52f0f510-30d8-4a4e-b6a8-a8470e395646 (pk: 2612)>],\n",
       " [<KpointsData: uuid: 62ba3a58-b5e9-4a06-92a1-788b1a7b49e8 (pk: 2634)>],\n",
       " [<KpointsData: uuid: 4674e9a9-9922-4b8e-8762-6c81e7692218 (pk: 2638)>],\n",
       " [<KpointsData: uuid: 8fc27723-2d52-4596-b20b-1b9127e46e30 (pk: 2873)>],\n",
       " [<KpointsData: uuid: bc1de5a1-0f18-4a3c-93e3-7527b336daf1 (pk: 2877)>],\n",
       " [<KpointsData: uuid: d6266cfb-10aa-40e8-bfd7-e17cf0efda0f (pk: 2679)>],\n",
       " [<KpointsData: uuid: ab8d1bae-c0dc-4dc9-8b8c-a82430708543 (pk: 2683)>],\n",
       " [<KpointsData: uuid: d26f8163-a34f-4e08-9523-8636ce27a4ff (pk: 2687)>],\n",
       " [<ArrayData: uuid: de8cc0c8-0892-4c1d-a59f-5011b5163c5a (pk: 2657)>],\n",
       " [<KpointsData: uuid: b7292742-4e9f-4ea1-b0d2-ea8204e53db2 (pk: 3117)>],\n",
       " [<KpointsData: uuid: e2587470-b19e-49c7-9d38-d49a9cc21331 (pk: 2989)>],\n",
       " [<KpointsData: uuid: 6a02e808-f93a-4605-a79e-16526e45e1e6 (pk: 4633)>],\n",
       " [<ArrayData: uuid: 056e50a4-e6e1-4d69-8914-f88aed428a10 (pk: 2702)>],\n",
       " [<KpointsData: uuid: 7c02e0c8-7f96-4aee-b185-07503f7ec6da (pk: 2724)>],\n",
       " [<KpointsData: uuid: 56184bef-748c-4973-abea-c5ba17b666cd (pk: 2728)>],\n",
       " [<KpointsData: uuid: 23ff5a46-f45c-437d-81b9-ea080c75c634 (pk: 3015)>],\n",
       " [<KpointsData: uuid: 26670148-b2c5-429a-94d7-e80665b8bee8 (pk: 2772)>],\n",
       " [<KpointsData: uuid: 0050fbe9-6885-4a7f-ba4d-1cfbc9d4fea0 (pk: 2776)>],\n",
       " [<KpointsData: uuid: cca8481b-116b-48a6-b10e-d6556991efcf (pk: 3019)>],\n",
       " [<KpointsData: uuid: 0a6038fd-5416-40c0-8661-214e1c65c8ce (pk: 3121)>],\n",
       " [<ArrayData: uuid: 304528bb-6fee-42ed-a0a7-5173efc3a33a (pk: 14899)>],\n",
       " [<KpointsData: uuid: 3b15ca8e-5824-47b3-8d76-f699229e22bf (pk: 2780)>],\n",
       " [<KpointsData: uuid: 64919d79-eb0e-4553-9b5d-cf508222590b (pk: 4723)>],\n",
       " [<KpointsData: uuid: 501f45f9-3612-469b-9696-d711bd13862c (pk: 2824)>],\n",
       " [<KpointsData: uuid: dccaaa57-0930-4e3f-a4e5-5fdada09aee3 (pk: 2828)>],\n",
       " [<KpointsData: uuid: 2c99ee31-5683-4a71-ac9a-ccb158747dc8 (pk: 3023)>],\n",
       " [<KpointsData: uuid: 69b08c14-9cd5-4e9b-9cdd-d4d604cc5b7e (pk: 15424)>],\n",
       " [<KpointsData: uuid: 4447518c-de1f-4e7c-a903-7884bbd767fc (pk: 3053)>],\n",
       " [<ArrayData: uuid: dc7df96e-ed55-4b25-bc35-580dc088b9e2 (pk: 17057)>],\n",
       " [<KpointsData: uuid: 7d35fb2b-a3f5-4946-83ae-845e7d4d7a53 (pk: 14915)>],\n",
       " [<KpointsData: uuid: 7019cadd-001a-47d8-96c5-bc5bf182fde1 (pk: 2820)>],\n",
       " [<KpointsData: uuid: b28350cb-cce9-4d6d-9142-c4b02885169b (pk: 2927)>],\n",
       " [<KpointsData: uuid: ded1fa71-dc56-4137-afce-ffceed86d134 (pk: 2931)>],\n",
       " [<KpointsData: uuid: eead2536-5509-42b5-9b9f-89bbadfc8f6a (pk: 3125)>],\n",
       " [<KpointsData: uuid: 554bdbe6-ca79-4882-b488-ce51a17768d8 (pk: 2935)>],\n",
       " [<KpointsData: uuid: aabf6e88-19f2-45d1-91be-a4209356e049 (pk: 14919)>],\n",
       " [<KpointsData: uuid: 561aaf38-2211-4a91-9f8b-4e352307c247 (pk: 3057)>],\n",
       " [<KpointsData: uuid: 289c6eb1-d628-475c-8722-5db3fc3588de (pk: 3083)>],\n",
       " [<KpointsData: uuid: 41686744-10f5-4241-9a81-6c456541926f (pk: 3087)>],\n",
       " [<KpointsData: uuid: 49917cbf-ba88-4aa6-95ad-3ef983ef5ba3 (pk: 3091)>],\n",
       " [<KpointsData: uuid: 75813a76-ce4e-44d7-90ac-5a924b63c91b (pk: 3155)>],\n",
       " [<KpointsData: uuid: 47753793-d204-4393-8970-cd9f3d983699 (pk: 3159)>],\n",
       " [<KpointsData: uuid: c049e6b0-c0ab-4275-bd31-a84d6db003c6 (pk: 3185)>],\n",
       " [<KpointsData: uuid: e094d3f3-3418-4f3b-9ed1-5f81e93df3ab (pk: 3566)>],\n",
       " [<KpointsData: uuid: b22e7a22-3921-4f98-9d7a-f936e300a1cd (pk: 3189)>],\n",
       " [<KpointsData: uuid: 1dfcd1f8-bdb0-426a-9658-dcf40fa3e4f7 (pk: 3193)>],\n",
       " [<KpointsData: uuid: e8107e88-b43e-42df-9fea-8a26dd6f1b84 (pk: 3219)>],\n",
       " [<KpointsData: uuid: f10f50a5-907c-489e-a7a1-d1817119faf8 (pk: 3223)>],\n",
       " [<KpointsData: uuid: 18eb852b-039a-4c23-8d27-0ea3588abca3 (pk: 3227)>],\n",
       " [<KpointsData: uuid: 94518984-c5da-466b-be7f-b1846b66d435 (pk: 3570)>],\n",
       " [<KpointsData: uuid: 35a502a6-3564-45b2-9883-f832169a7e53 (pk: 3253)>],\n",
       " [<KpointsData: uuid: cccf7c09-9768-41b4-bf31-bf5fa2f49965 (pk: 3257)>],\n",
       " [<KpointsData: uuid: 03ec2c16-6f6b-4ccd-b4dc-42f63e0b9b26 (pk: 3261)>],\n",
       " [<KpointsData: uuid: 8fe063a3-d77d-49e5-baef-b1ddbe2d0e64 (pk: 3574)>],\n",
       " [<KpointsData: uuid: defece8a-e3dd-4720-8af2-e14a181d10d1 (pk: 3287)>],\n",
       " [<KpointsData: uuid: 46a2a473-25fa-4e48-bd0d-4c410732e7bc (pk: 3291)>],\n",
       " [<KpointsData: uuid: 720e19ce-a133-47ae-8fea-5249c383185f (pk: 3295)>],\n",
       " [<KpointsData: uuid: 6ad1bbb4-bb38-44eb-85d3-9ce28670d6ca (pk: 3321)>],\n",
       " [<KpointsData: uuid: 405c529c-7420-4a3b-8c1b-8bbbfbfee9c1 (pk: 3325)>],\n",
       " [<KpointsData: uuid: 691b5367-9e04-4e39-b286-5a1cc52ef6f2 (pk: 3329)>],\n",
       " [<KpointsData: uuid: 9610ef25-56c3-4c91-9463-397c58db863f (pk: 3355)>],\n",
       " [<KpointsData: uuid: ae88a71c-82fd-4f9c-86c9-7444a02779d0 (pk: 3958)>],\n",
       " [<KpointsData: uuid: 98542762-a95a-4610-902a-1f01b6c20dc8 (pk: 3359)>],\n",
       " [<KpointsData: uuid: f9c2aa41-5c9b-48cb-92e3-f96b3623f791 (pk: 3363)>],\n",
       " [<KpointsData: uuid: 43a05bb2-d0ec-444e-9806-12e108e22c77 (pk: 3389)>],\n",
       " [<KpointsData: uuid: 1c173d46-7a38-4819-bbfa-0161eec55077 (pk: 3393)>],\n",
       " [<KpointsData: uuid: cd2c93dd-903e-494d-a85b-e1a5bef6f99f (pk: 3397)>],\n",
       " [<KpointsData: uuid: f9d3f52c-52ce-44bd-bb68-94c938d482b8 (pk: 3639)>],\n",
       " [<KpointsData: uuid: 082e75c1-0c51-4c3c-9e7c-b56dbb51a104 (pk: 3423)>],\n",
       " [<KpointsData: uuid: f3594972-4178-41cd-b3e0-452c1b1c1143 (pk: 3427)>],\n",
       " [<KpointsData: uuid: 01589a43-4f3d-4c22-94d3-668cb5581c9a (pk: 3431)>],\n",
       " [<KpointsData: uuid: a8e9a238-542e-4420-b424-6d16a1a0b819 (pk: 4003)>],\n",
       " [<KpointsData: uuid: 77518f75-895d-4fdc-ba27-5ed60051fa87 (pk: 3457)>],\n",
       " [<KpointsData: uuid: 56e9d13b-10a6-4af4-9eb7-301e1d92aa88 (pk: 3461)>],\n",
       " [<KpointsData: uuid: d31dede5-e65c-48f3-9bb7-5bf4b40d3b30 (pk: 3465)>],\n",
       " [<KpointsData: uuid: 550ff869-b2ec-4441-8dfe-139df78bf113 (pk: 3497)>],\n",
       " [<KpointsData: uuid: 1142e268-89a5-4401-9503-33da6cd1b91f (pk: 3501)>],\n",
       " [<KpointsData: uuid: f0141c0d-2917-4c94-9384-75ce10cf3223 (pk: 4007)>],\n",
       " [<KpointsData: uuid: 7438787b-f8fd-4f08-a32a-fd9470b9b829 (pk: 3493)>],\n",
       " [<KpointsData: uuid: 546c49e8-bac4-4909-ac5f-b3ac245ab3fb (pk: 3529)>],\n",
       " [<KpointsData: uuid: a9c93cb0-a1b2-48f6-a27e-fa5fdbb98b35 (pk: 3533)>],\n",
       " [<KpointsData: uuid: 582f4587-3136-4392-a97f-512ebf128a7c (pk: 3643)>],\n",
       " [<KpointsData: uuid: bc17803a-7f21-44bd-bc22-5b26ce4fd1a2 (pk: 3537)>],\n",
       " [<KpointsData: uuid: 7d33f071-832d-4572-9e8d-7d18810dda1c (pk: 3647)>],\n",
       " [<KpointsData: uuid: 700ecc46-d1a7-41f3-b508-919b7241443a (pk: 3602)>],\n",
       " [<KpointsData: uuid: c1c79006-bd2f-4170-9c6e-50bc27f91331 (pk: 3606)>],\n",
       " [<KpointsData: uuid: 43eb45ef-a8d9-4d0f-8712-43bbac8330e8 (pk: 3610)>],\n",
       " [<KpointsData: uuid: 93cbe101-f20a-4390-a762-8ae6b4e6f552 (pk: 3676)>],\n",
       " [<KpointsData: uuid: e97d8e8d-3473-4398-8c5b-e0d51754c1a1 (pk: 4011)>],\n",
       " [<KpointsData: uuid: a9acfa88-8a4d-470b-be35-5638462e3a6d (pk: 3713)>],\n",
       " [<KpointsData: uuid: 97a8d3cd-16f8-4708-a3db-edd71cf8a717 (pk: 3717)>],\n",
       " [<ArrayData: uuid: b2ba31c1-95ad-4f07-99cb-89628b394d5a (pk: 4024)>],\n",
       " [<KpointsData: uuid: d6c57099-affc-4a0f-8eb4-8bd81cf80f7b (pk: 4408)>],\n",
       " [<KpointsData: uuid: 4a6764e9-6b3b-4ca0-ad51-d972f6c90180 (pk: 3680)>],\n",
       " [<KpointsData: uuid: 101da85e-e57c-483e-8730-35efd1f3cbb5 (pk: 3684)>],\n",
       " [<KpointsData: uuid: 952fb3c4-db7e-46ee-a5ac-dbcbf4d13135 (pk: 3721)>],\n",
       " [<KpointsData: uuid: f34dd487-fe3a-439c-b765-54e14bd759e4 (pk: 5467)>],\n",
       " [<KpointsData: uuid: b2d74e95-f23f-41b2-b7a8-b955e9d8d6fb (pk: 4412)>],\n",
       " [<KpointsData: uuid: 1672f6ff-e514-41aa-82ca-6299fc5f65cc (pk: 6142)>],\n",
       " [<KpointsData: uuid: d256a98f-6434-46ea-a023-4c0144cb1a1b (pk: 3750)>],\n",
       " [<KpointsData: uuid: 97a07eee-a583-47df-b5c0-ffd60928768a (pk: 3754)>],\n",
       " [<KpointsData: uuid: 5daa6a8f-1260-4a7a-8c3a-98d0a82d92a1 (pk: 3758)>],\n",
       " [<KpointsData: uuid: fbe25888-fe80-48c5-acc7-4af79a2ad71e (pk: 3790)>],\n",
       " [<KpointsData: uuid: e6033864-4620-48c8-85bd-d95216c27f0c (pk: 4048)>],\n",
       " [<KpointsData: uuid: 4116536d-3e33-4155-9c7c-b9643be2e683 (pk: 3794)>],\n",
       " [<KpointsData: uuid: fc90f1fb-b6ba-4087-bfc1-92ad364d8ebb (pk: 3798)>],\n",
       " [<KpointsData: uuid: cc62831f-05c3-464a-95b6-1a84e223708f (pk: 4052)>],\n",
       " [<KpointsData: uuid: 4d4191c6-0da4-4439-972c-5c78de736561 (pk: 4416)>],\n",
       " [<ArrayData: uuid: 92563981-b5ce-4313-a5cc-20dd6aa2b750 (pk: 3771)>],\n",
       " [<KpointsData: uuid: 44321eb9-0e83-4366-bcf9-af3044e9e70d (pk: 4056)>],\n",
       " [<KpointsData: uuid: d593ab29-ce61-452a-aa21-dc0f54306f70 (pk: 3828)>],\n",
       " [<KpointsData: uuid: 4efb7dab-f2b3-4077-8f7e-e8bc12981735 (pk: 3832)>],\n",
       " [<ArrayData: uuid: c3881b56-a0fc-4755-bdbe-aa3396dd79bb (pk: 3811)>],\n",
       " [<KpointsData: uuid: 9487b0a2-3cbd-4afc-bbbc-89d94147f4b1 (pk: 4678)>],\n",
       " [<ArrayData: uuid: af35b5f7-b9d4-4e5e-9171-3dffe8dbf1e2 (pk: 3849)>],\n",
       " [<KpointsData: uuid: f5d470fe-7494-410d-97d0-12b45047d545 (pk: 3872)>],\n",
       " [<KpointsData: uuid: 1bc3cf83-ac27-4d07-a362-646a09b9c713 (pk: 4770)>],\n",
       " [<ArrayData: uuid: 0fce1fe4-05c7-4251-a63b-6b3d58968b87 (pk: 4069)>],\n",
       " [<KpointsData: uuid: ace26744-8254-4b70-a4e2-d3b44942491c (pk: 4228)>],\n",
       " [<KpointsData: uuid: 872b3a40-052e-4b81-94dc-a84d2af97e1a (pk: 3836)>],\n",
       " [<KpointsData: uuid: 6f9ac259-649b-476b-92e9-7c70fef422a2 (pk: 4146)>],\n",
       " [<KpointsData: uuid: 6d745434-064f-4806-979c-79e07e084a44 (pk: 3868)>],\n",
       " [<KpointsData: uuid: 2b23c365-bcfe-4e68-9d03-36bbcf39e873 (pk: 3876)>],\n",
       " [<KpointsData: uuid: 183fbd01-6290-41c9-993b-b6852ecc7599 (pk: 3913)>],\n",
       " [<ArrayData: uuid: 80967a66-9206-47d4-9040-f4a5df85864c (pk: 3889)>],\n",
       " [<KpointsData: uuid: 5f0b03c8-4c82-49d4-9946-9fd4e50ec306 (pk: 3917)>],\n",
       " [<KpointsData: uuid: 0c6c2f82-94df-4290-bc31-d01c3e6dd3cc (pk: 3921)>],\n",
       " [<KpointsData: uuid: a3f547fe-d34e-45c0-9142-8d6b40fa1648 (pk: 4093)>],\n",
       " [<KpointsData: uuid: 96c0d6cc-feba-436d-9d93-bef8d6e8d730 (pk: 4097)>],\n",
       " [<ArrayData: uuid: 6af25afd-5b9d-4ccb-9bbc-aa9c83a8ceab (pk: 3934)>],\n",
       " [<KpointsData: uuid: 672fd2a8-c251-4b07-84b8-b211211978a4 (pk: 4101)>],\n",
       " [<KpointsData: uuid: 3532e96a-6cff-4e42-b968-9c6672d8351e (pk: 3962)>],\n",
       " [<KpointsData: uuid: 747fb115-16db-4d4f-887a-b6dc04987590 (pk: 3966)>],\n",
       " [<ArrayData: uuid: e38fe621-7ce2-41c6-b31a-98f0b7f5e382 (pk: 3979)>],\n",
       " [<ArrayData: uuid: d00a10d7-78b8-452f-bbb9-10eec13d7d0c (pk: 4114)>],\n",
       " [<KpointsData: uuid: 8e3ceb21-7057-4099-84c7-cb3a4eeaa641 (pk: 4138)>],\n",
       " [<KpointsData: uuid: 26893e85-945d-461c-9282-80a0e4f11694 (pk: 4142)>],\n",
       " [<KpointsData: uuid: b8d194e3-3fb1-479e-a6ee-4a091561acca (pk: 4273)>],\n",
       " [<KpointsData: uuid: c145568f-cee7-46fd-a06d-55014fae630a (pk: 4498)>],\n",
       " [<KpointsData: uuid: 2fb79ec4-a4b6-43f2-858c-e9e6b0f7687f (pk: 4183)>],\n",
       " [<KpointsData: uuid: 3da41939-a321-49d0-9fe0-16feae7395f6 (pk: 4187)>],\n",
       " [<KpointsData: uuid: 49c574c4-4893-4bf4-86d1-c25cd3ae5e61 (pk: 4502)>],\n",
       " [<ArrayData: uuid: 375dcb9c-d0e2-4779-bd6d-b79ae6f53201 (pk: 4159)>],\n",
       " [<KpointsData: uuid: 75c42743-319a-438a-bc78-cf03c2f92e87 (pk: 4191)>],\n",
       " [<KpointsData: uuid: d17f22bc-0bed-462e-a005-5fa8993744b9 (pk: 4506)>],\n",
       " [<KpointsData: uuid: 7c6cae73-4330-49d2-b73e-f8196139265a (pk: 4232)>],\n",
       " [<KpointsData: uuid: 3672feab-e2f8-4af6-b754-a25c225411f8 (pk: 4236)>],\n",
       " [<ArrayData: uuid: 7c119538-d172-4265-976c-7032ead562e6 (pk: 4204)>],\n",
       " [<KpointsData: uuid: 17ed7b21-d8c4-4510-a75a-2b7b631b249b (pk: 4823)>],\n",
       " [<ArrayData: uuid: 30c00100-7e17-49b5-9fe9-26cbdb69fdd3 (pk: 4429)>],\n",
       " [<KpointsData: uuid: 7ce331f3-869f-44fc-8627-03e9c90777c3 (pk: 7919)>],\n",
       " [<KpointsData: uuid: 96681a0d-0011-4e89-9e7a-3b14d13a0c84 (pk: 4318)>],\n",
       " [<ArrayData: uuid: 01cfa942-c0d7-42d1-b80e-2120dfdea46e (pk: 4249)>],\n",
       " [<ArrayData: uuid: 73b9d229-3c0b-4090-865a-758e2216ce4b (pk: 4294)>],\n",
       " [<KpointsData: uuid: 268d389d-79d8-4cca-8bfd-8217fb9c6adf (pk: 4322)>],\n",
       " [<KpointsData: uuid: 7229ced0-34bb-493a-8d32-453fa72d468e (pk: 4277)>],\n",
       " [<KpointsData: uuid: fc596577-f984-426b-a657-c1437584138d (pk: 4281)>],\n",
       " [<KpointsData: uuid: 80abec23-9a19-42f2-9610-e51b8a7c5874 (pk: 4326)>],\n",
       " [<KpointsData: uuid: b1c432e9-d976-4072-846c-552edafbc12f (pk: 4827)>],\n",
       " [<KpointsData: uuid: 8a1396a4-401b-493d-9e8a-868d3d92dfa8 (pk: 9999)>],\n",
       " [<KpointsData: uuid: df01274c-bd18-4939-bf49-cf1c11bf4262 (pk: 4363)>],\n",
       " [<KpointsData: uuid: 04f01e57-f91b-49d9-a793-4bc4f9eaf6b5 (pk: 4367)>],\n",
       " [<ArrayData: uuid: 39ecb899-c4a7-467b-8e16-bf3676bb70fd (pk: 4339)>],\n",
       " [<KpointsData: uuid: d1ad485e-421c-4973-b743-d1d5200b21e4 (pk: 4371)>],\n",
       " [<KpointsData: uuid: a5869570-594c-4e01-b20b-98e47cf03bd5 (pk: 4453)>],\n",
       " [<KpointsData: uuid: e5ffed2c-3b05-46cc-b72b-da5f2f54e444 (pk: 4457)>],\n",
       " [<KpointsData: uuid: 2ec17c21-b2b4-4b14-ac8b-567376495742 (pk: 4461)>],\n",
       " [<ArrayData: uuid: ed1b876d-c099-4dbc-931f-6a5b4237397e (pk: 4384)>],\n",
       " [<ArrayData: uuid: bee4e9b6-acb6-4225-bf03-d8db11c28211 (pk: 4474)>],\n",
       " [<KpointsData: uuid: a02d7530-55ad-4835-b41a-57f664a22808 (pk: 4588)>],\n",
       " [<KpointsData: uuid: 0edb8ba7-daed-4232-8d5c-13469c5eaf3e (pk: 4831)>],\n",
       " [<ArrayData: uuid: dc10189d-df1c-41b6-a23c-274fb480ecbd (pk: 4859)>],\n",
       " [<ArrayData: uuid: c7914fa8-c13e-4296-adbe-f1cfc80b674f (pk: 4519)>],\n",
       " [<KpointsData: uuid: a1b0fcde-ed57-4281-b006-98a44a3e478a (pk: 4877)>],\n",
       " [<KpointsData: uuid: d9bb274d-c2ad-45af-9c5b-f15498b71dd5 (pk: 4881)>],\n",
       " [<KpointsData: uuid: fe5635d1-42a9-4c58-8e07-9bcd3247a614 (pk: 4885)>],\n",
       " [<KpointsData: uuid: e7bddd99-139a-4798-b8e7-847924e71d52 (pk: 4543)>],\n",
       " [<KpointsData: uuid: 30015133-ac10-4387-bca1-cdb76d5517d4 (pk: 4547)>],\n",
       " [<KpointsData: uuid: 5921706a-a1d3-490a-b878-bb9e595fee82 (pk: 4551)>],\n",
       " [<ArrayData: uuid: 5e10e56d-1b91-46c9-bd46-21c135d14b9b (pk: 4844)>],\n",
       " [<KpointsData: uuid: 277a1473-8bf7-42fe-9a58-506b5b712bf9 (pk: 5218)>],\n",
       " [<ArrayData: uuid: 5f6d621f-5fce-43a5-a4e6-fc3d47410029 (pk: 5100)>],\n",
       " [<KpointsData: uuid: bd421e92-4fd2-4ec1-9248-92f45579589b (pk: 4592)>],\n",
       " [<KpointsData: uuid: 86abacfc-c1c9-4044-bbba-74622c2c5e44 (pk: 4596)>],\n",
       " [<ArrayData: uuid: c0695ff8-66f6-4946-9f7b-35e2b2a43801 (pk: 4564)>],\n",
       " [<ArrayData: uuid: 102a7e6e-1700-4b1f-aea1-1b93b6598433 (pk: 4609)>],\n",
       " [<KpointsData: uuid: a8c534e1-d319-47d2-a970-b279893d2dab (pk: 4637)>],\n",
       " [<KpointsData: uuid: c1e33ad1-69b3-46fb-8d61-755384e39693 (pk: 4641)>],\n",
       " [<KpointsData: uuid: 07e5cd98-9a6b-4a79-ad2e-f14727f87d59 (pk: 5222)>],\n",
       " [<KpointsData: uuid: 50397523-77bd-4007-91fd-8ee30fbe9f42 (pk: 4682)>],\n",
       " [<KpointsData: uuid: 66a49426-85c2-4917-9e4e-225ee0890699 (pk: 4686)>],\n",
       " [<ArrayData: uuid: a40d2ecf-4d66-4343-be38-e4796ecf65cf (pk: 4654)>],\n",
       " [<ArrayData: uuid: 6496033d-8bf2-4ece-8452-5af657ae9e42 (pk: 4699)>],\n",
       " [<KpointsData: uuid: 4600cb65-1867-495a-82a7-5f7fb1308784 (pk: 4727)>],\n",
       " [<KpointsData: uuid: ab643916-ef84-40aa-ac10-de8d851635c2 (pk: 4731)>],\n",
       " [<KpointsData: uuid: 8b598efa-7111-4a77-9197-b0daa2fdd939 (pk: 9671)>],\n",
       " [<KpointsData: uuid: b6adb74b-8114-4bcc-ba8e-929479970338 (pk: 5120)>],\n",
       " [<KpointsData: uuid: b9bcb330-ec1e-4be5-97d9-38e1595c5802 (pk: 4774)>],\n",
       " [<KpointsData: uuid: 6ace7b1e-7cc3-4b05-9bb9-3c54ef112bba (pk: 4778)>],\n",
       " [<KpointsData: uuid: de94c4aa-6f3d-471b-ba9b-ee785daccba4 (pk: 5226)>],\n",
       " [<ArrayData: uuid: da81c11e-db02-4e44-9c98-ab00f01a4338 (pk: 4898)>],\n",
       " [<KpointsData: uuid: a0be4e71-cbda-40b3-81fc-51a0c32ef4ea (pk: 5124)>],\n",
       " [<KpointsData: uuid: 287bb630-b45c-447a-afdc-3cbb705bf785 (pk: 4922)>],\n",
       " [<KpointsData: uuid: c53b81fd-b8f1-4408-b49e-b29067906401 (pk: 4926)>],\n",
       " [<KpointsData: uuid: 10ca634c-8f2f-45ea-90d7-b8335a3ecb5f (pk: 4930)>],\n",
       " [<ArrayData: uuid: 10f71827-b31f-456a-97e3-d2871ed4b3b1 (pk: 4943)>],\n",
       " [<KpointsData: uuid: 0aabd297-6eef-4fd7-a21d-7c497e6ac666 (pk: 5029)>],\n",
       " [<KpointsData: uuid: f4c91828-6e46-4363-bf48-a4adef52572a (pk: 5033)>],\n",
       " [<KpointsData: uuid: 7650335a-d4f3-468d-8890-e78e3600170e (pk: 5037)>],\n",
       " [<ArrayData: uuid: b462a9e9-5a15-4948-a62e-fef0714b303d (pk: 4974)>],\n",
       " [<KpointsData: uuid: b3216e9c-2419-4d06-bbb9-47c4629b585a (pk: 5367)>],\n",
       " [<KpointsData: uuid: d00d6d89-51fe-4f38-9037-c24a345f1877 (pk: 5128)>],\n",
       " [<KpointsData: uuid: 1d75a8a0-447f-4021-8c67-828f5e308eef (pk: 5063)>],\n",
       " [<KpointsData: uuid: 75a9ad86-68c5-44f1-b511-8a0a54012b6f (pk: 5067)>],\n",
       " [<ArrayData: uuid: db3d73ec-edbc-4342-96fa-cc70e7c38b0a (pk: 5005)>],\n",
       " [<KpointsData: uuid: 1c6ab18d-3507-4c32-aba8-20dbc8788dda (pk: 5071)>],\n",
       " [<KpointsData: uuid: 545507ab-5aff-4f7e-ad1c-c09bb6a74eeb (pk: 5371)>],\n",
       " [<KpointsData: uuid: 012cd497-8e6a-453f-b059-08dfa19ebcd1 (pk: 5169)>],\n",
       " [<KpointsData: uuid: 05765a06-375e-404c-a84d-fd6bab038d07 (pk: 5173)>],\n",
       " [<KpointsData: uuid: f806a86f-6325-45ba-9a99-63da647a0c5b (pk: 5717)>],\n",
       " [<ArrayData: uuid: c08be8cf-2d62-42df-8765-51e7448447d6 (pk: 5084)>],\n",
       " [<KpointsData: uuid: 09f6f4f7-a1a4-4523-af5a-e5f60bd387fd (pk: 5177)>],\n",
       " [<KpointsData: uuid: e78f17d0-f558-46f4-af92-86e09b11fb27 (pk: 5375)>],\n",
       " [<KpointsData: uuid: 82275e41-e5d5-434e-a9d9-32a08760dbf7 (pk: 14923)>],\n",
       " [<ArrayData: uuid: 2f5d51bb-fe19-4fc9-8548-2b0f27c0ed93 (pk: 5103)>],\n",
       " [<ArrayData: uuid: 0dafffd5-e811-4a3b-b18b-2d7f094aa729 (pk: 9493)>],\n",
       " [<KpointsData: uuid: 6714c5cb-2844-480a-9715-f5362e89ade5 (pk: 5425)>],\n",
       " [<KpointsData: uuid: ce4c8745-ccdc-4e32-8685-ad1dbc58d962 (pk: 5721)>],\n",
       " [<ArrayData: uuid: 2c106214-f5e3-4955-910b-1a9045b8c7cc (pk: 8582)>],\n",
       " [<KpointsData: uuid: 5bdce537-2718-4a45-9b51-4f95df63b2b1 (pk: 9010)>],\n",
       " [<KpointsData: uuid: bd307c8d-bb08-4d17-ab28-ec6af9cf879d (pk: 5725)>],\n",
       " [<KpointsData: uuid: fb1fe9a9-8dec-49e0-b69f-e3db04dd228b (pk: 5267)>],\n",
       " [<KpointsData: uuid: a21eb8c2-b592-4651-ba7d-4fa6179c47d6 (pk: 5271)>],\n",
       " [<KpointsData: uuid: 68397f50-c503-409f-a633-f1c62b47d4ee (pk: 9014)>],\n",
       " [<KpointsData: uuid: 14337748-1418-4151-a01d-74560871d0c6 (pk: 5275)>],\n",
       " [<ArrayData: uuid: 2e377751-4b7a-493e-a790-60ef7176a2b4 (pk: 8584)>],\n",
       " [<KpointsData: uuid: 2605c279-1435-4293-82d6-05de055a805a (pk: 17400)>],\n",
       " [<KpointsData: uuid: f99436f8-b623-4084-9963-89e839e4fa55 (pk: 9018)>],\n",
       " [<KpointsData: uuid: 3bc31ef3-abe6-4ba8-be3b-6db3034936ba (pk: 5317)>],\n",
       " [<KpointsData: uuid: 7a8f33ee-5b7c-4a87-ab6d-5d084875c60b (pk: 5321)>],\n",
       " [<KpointsData: uuid: 2e951b7d-a68b-4465-bdc1-b5058772f255 (pk: 8603)>],\n",
       " [<KpointsData: uuid: 33fc0488-a37a-4d14-b55e-8ecd377edf14 (pk: 8607)>],\n",
       " [<KpointsData: uuid: 522dd0b6-6a45-47e8-8db2-b2b25ad7a6e0 (pk: 5325)>],\n",
       " [<KpointsData: uuid: 8c47894e-91ad-429d-80fa-856bd88781d4 (pk: 8611)>],\n",
       " [<KpointsData: uuid: 19819821-61cc-4197-95bb-36c6e5f44976 (pk: 5875)>],\n",
       " [<KpointsData: uuid: 606bf182-4501-4c06-a905-122959ab9d85 (pk: 5471)>],\n",
       " [<KpointsData: uuid: 118b3daa-3990-432a-8b16-b0ca993eb801 (pk: 5475)>],\n",
       " [<KpointsData: uuid: ab53b179-71d6-4646-af89-38d440fe7a63 (pk: 5521)>],\n",
       " [<KpointsData: uuid: 2cd7d8a1-511f-4545-83d2-0e42bdfa8769 (pk: 8640)>],\n",
       " [<KpointsData: uuid: 3fe885a5-dded-46ae-95f2-61f3a2e8ac0f (pk: 6189)>],\n",
       " [<KpointsData: uuid: ce23af3b-e66a-466e-b013-dd8a01ee9c42 (pk: 8644)>],\n",
       " [<KpointsData: uuid: b8e37937-84aa-4f8c-a533-9c1c81912801 (pk: 8648)>],\n",
       " [<KpointsData: uuid: 230afdab-39a9-4de8-a5dd-530d54b71e13 (pk: 5417)>],\n",
       " [<KpointsData: uuid: d9a104bf-dc17-47d2-9a45-8c09dbe63735 (pk: 5421)>],\n",
       " [<KpointsData: uuid: 6bfbd529-c0ea-47b0-8c80-753c374d34e3 (pk: 6088)>],\n",
       " [<KpointsData: uuid: aab3fcb4-7abb-42a0-9974-23f679fc47de (pk: 8677)>],\n",
       " [<KpointsData: uuid: 49ccf6a7-c7f1-43f2-a448-00c93fa9046f (pk: 9323)>],\n",
       " [<KpointsData: uuid: 87aeb1e4-15c1-4f24-b614-dfe962f3b898 (pk: 8681)>],\n",
       " [<KpointsData: uuid: 4c5ee7d0-0a1d-416f-819d-ce2367bddf0c (pk: 6193)>],\n",
       " [<KpointsData: uuid: 8be7491b-deab-4ae2-a9de-396019828920 (pk: 9711)>],\n",
       " [<KpointsData: uuid: e5c475fc-448b-42bd-8d6f-af884c570c21 (pk: 5981)>],\n",
       " [<KpointsData: uuid: 51be2747-46c8-4fc2-9aad-2f43259eeb33 (pk: 5517)>],\n",
       " [<KpointsData: uuid: 4193c315-d829-4be6-91f5-27544a9002bb (pk: 5767)>],\n",
       " [<KpointsData: uuid: 1bffbcac-8efd-4caf-b8e2-a27e3e4460cd (pk: 5771)>],\n",
       " [<KpointsData: uuid: 5c6d28d0-916e-4926-b0b8-ca8c89293521 (pk: 8685)>],\n",
       " [<KpointsData: uuid: da20b542-a55e-4b86-9dda-15181e1079f5 (pk: 5567)>],\n",
       " [<KpointsData: uuid: fa3eb0fa-1074-4766-b3d2-14f99dd35c87 (pk: 5525)>],\n",
       " [<KpointsData: uuid: cbef749b-a331-48fb-a985-5d5944a0d873 (pk: 5775)>],\n",
       " [<ArrayData: uuid: e20a26cd-fa09-4f84-b01c-66d02eaee012 (pk: 10069)>],\n",
       " [<KpointsData: uuid: 403156a8-c9f2-4fc6-9c32-97e4f4f61449 (pk: 5571)>],\n",
       " [<KpointsData: uuid: daead9e2-e06d-4ad4-9e8a-9740b806e4d5 (pk: 5575)>],\n",
       " [<KpointsData: uuid: 6f09d924-5e7a-40ed-9b74-0aff0e392a66 (pk: 5667)>],\n",
       " [<KpointsData: uuid: e6b47882-1b6c-4509-b715-c3f9e7e824ce (pk: 9327)>],\n",
       " [<KpointsData: uuid: 0d57caf9-8062-4c8a-bac5-441c716833c4 (pk: 8714)>],\n",
       " [<KpointsData: uuid: 3465e69f-1bf1-4ea4-aa43-8796f98c3c3e (pk: 5617)>],\n",
       " [<KpointsData: uuid: 0740af8e-088d-482d-9f18-3ad76dcdbb18 (pk: 7049)>],\n",
       " [<ArrayData: uuid: 7090f2d4-8c99-4643-9f08-285b0e8cd2cb (pk: 17096)>],\n",
       " [<KpointsData: uuid: 747f66d8-5a28-471d-91bd-9f023edf9599 (pk: 8718)>],\n",
       " [<KpointsData: uuid: 4c673fa8-c786-482b-ad9a-d457d28d34c0 (pk: 5985)>],\n",
       " [<KpointsData: uuid: 5c5fdfde-9041-4cf8-bdad-5b7c4d27410c (pk: 5621)>],\n",
       " [<KpointsData: uuid: 87a8846a-e9ab-4a8e-ae1d-9444ec9f88b8 (pk: 5625)>],\n",
       " [<KpointsData: uuid: f3d3fe7e-c849-42a7-b494-31a55ada3546 (pk: 8722)>],\n",
       " [<KpointsData: uuid: b4f240e7-a893-4537-943e-e8ba6b4ec7bd (pk: 10147)>],\n",
       " [<KpointsData: uuid: e84f4fe8-5c52-4a74-a29c-13e4bd550b96 (pk: 6080)>],\n",
       " [<KpointsData: uuid: 31c2e131-99a4-438d-83b2-a6f20749ba56 (pk: 5671)>],\n",
       " [<KpointsData: uuid: 30d71443-dd71-43ad-b7a2-1e0beefa5303 (pk: 6197)>],\n",
       " [<KpointsData: uuid: 32ec261f-c61e-416a-ab21-7abb0352a493 (pk: 9715)>],\n",
       " [<KpointsData: uuid: c05590fe-789c-42b3-a332-338e1e524102 (pk: 5925)>],\n",
       " [<KpointsData: uuid: e85b3f39-f546-4c08-b2f2-7c644360d23c (pk: 8751)>],\n",
       " [<KpointsData: uuid: f011ba93-6de3-4d76-9406-accd1ab7a41c (pk: 5817)>],\n",
       " [<KpointsData: uuid: 1b61132c-aaa5-49a2-b469-305cc334b1de (pk: 5821)>],\n",
       " [<KpointsData: uuid: 7441deb1-214c-4db6-ac00-2168b96f7811 (pk: 5675)>],\n",
       " [<KpointsData: uuid: 48fe5a44-9170-4138-8242-15ac075b77e4 (pk: 5825)>],\n",
       " [<KpointsData: uuid: 3f937164-a49c-49dd-b14c-80963fb21e04 (pk: 9719)>],\n",
       " [<KpointsData: uuid: 90d45941-b110-423b-9f3c-aeac757716e5 (pk: 6305)>],\n",
       " [<KpointsData: uuid: 5e0a3242-5a69-4085-bf08-4b6565c5a4e2 (pk: 8755)>],\n",
       " [<KpointsData: uuid: 64ec93fc-1caa-48fa-9e0e-cf801ada5424 (pk: 5867)>],\n",
       " [<KpointsData: uuid: 953f23c5-915e-41e9-8ff2-813f787b45f2 (pk: 5871)>],\n",
       " [<KpointsData: uuid: eac90e0a-d025-463d-b3d8-a1dd444e3dfc (pk: 6309)>],\n",
       " [<KpointsData: uuid: 205536c2-68e6-4dac-9626-08c948648515 (pk: 6551)>],\n",
       " [<KpointsData: uuid: b6f01922-fcff-4ca7-b87d-5989b0d095a7 (pk: 5929)>],\n",
       " [<KpointsData: uuid: 8e47dd12-2f4a-4609-880e-3f1253812a2c (pk: 5933)>],\n",
       " [<KpointsData: uuid: 0b8cf150-0ba1-48cc-9812-fdc570d00f83 (pk: 8759)>],\n",
       " [<KpointsData: uuid: 19976f0f-fecb-4a04-9488-270ef5cc0c4c (pk: 6313)>],\n",
       " [<KpointsData: uuid: 9d2a1653-f5f4-4337-aad6-ba3f33c77b9c (pk: 8788)>],\n",
       " [<KpointsData: uuid: b3ead27f-9922-4f7f-9b26-b85d379a9336 (pk: 8792)>],\n",
       " [<KpointsData: uuid: e7f90013-6f88-4409-beb6-95ed83a71cc9 (pk: 8796)>],\n",
       " [<KpointsData: uuid: 4ea31e19-cd1a-423e-bea2-f985d313149d (pk: 9519)>],\n",
       " [<KpointsData: uuid: ae92bf84-78a0-426c-97a0-8f69852d82e0 (pk: 5977)>],\n",
       " [<KpointsData: uuid: 8bdb96aa-d8a7-457f-b7d6-2820d35e3308 (pk: 9523)>],\n",
       " [<KpointsData: uuid: 81525733-b204-424b-839c-f6b8a597391b (pk: 7053)>],\n",
       " [<KpointsData: uuid: c682a309-68c9-4f7c-885a-14b64fae61d5 (pk: 6029)>],\n",
       " [<KpointsData: uuid: 046bc6bf-76a8-4b9e-931d-dfd19859735e (pk: 6247)>],\n",
       " [<KpointsData: uuid: 934c9ebf-3ae2-429f-9141-ae2fed837125 (pk: 6251)>],\n",
       " [<KpointsData: uuid: 00f8033f-a5b3-4444-99b9-6d46b574a8ad (pk: 6255)>],\n",
       " [<KpointsData: uuid: 3c693a50-1ed1-4cb3-948c-233ce7cf2041 (pk: 6033)>],\n",
       " [<KpointsData: uuid: e804a6c9-4585-448d-a0cd-a1170203e6c0 (pk: 6037)>],\n",
       " [<KpointsData: uuid: cd772b29-4511-4cdd-8667-ff7b5368a496 (pk: 10459)>],\n",
       " [<KpointsData: uuid: 56a32ec7-cf14-4b0f-9d06-2c703f9a5a03 (pk: 8825)>],\n",
       " [<KpointsData: uuid: a990da82-f7c0-42f4-be72-d3671573192a (pk: 8829)>],\n",
       " [<KpointsData: uuid: e4adf1c5-af6a-4fc2-ad29-2400f77bfc51 (pk: 6084)>],\n",
       " [<KpointsData: uuid: b6b5a737-04ae-4cb1-a082-ddfe0cdb8cd4 (pk: 8833)>],\n",
       " [<KpointsData: uuid: 89cf7c4c-5db4-4e0b-81d1-ae0b813b0c1e (pk: 6395)>],\n",
       " [<KpointsData: uuid: b70ceca1-252b-49cd-9340-0da910d830ff (pk: 8862)>],\n",
       " [<KpointsData: uuid: 75895db1-db0f-4875-a6ea-4d59f1b9333c (pk: 8866)>],\n",
       " [<KpointsData: uuid: 3fe7ee6b-0dc6-404e-be47-8903d6a63a0d (pk: 6138)>],\n",
       " [<KpointsData: uuid: 3b68ec20-e06c-415b-99a7-559ef117bd59 (pk: 8870)>],\n",
       " [<KpointsData: uuid: f0c7e3ef-4abc-457b-a9c7-5d5fc8552e83 (pk: 6146)>],\n",
       " [<KpointsData: uuid: 7e569782-edbf-4767-adde-80c1b98b220d (pk: 6350)>],\n",
       " [<KpointsData: uuid: 81e680b4-d2f6-45a6-9da7-07e136aa686c (pk: 9050)>],\n",
       " [<KpointsData: uuid: bbe6fa7a-17f8-4275-a1a0-9c05a7e97e91 (pk: 9054)>],\n",
       " [<KpointsData: uuid: 44b149a6-7755-4b90-95cf-924b7bc243e2 (pk: 7057)>],\n",
       " [<KpointsData: uuid: 3d564adb-f57e-4e5c-8b76-96b4e19d1615 (pk: 8899)>],\n",
       " [<KpointsData: uuid: f04c92bc-4d5c-4b8b-adee-d629823be7d4 (pk: 8903)>],\n",
       " [<KpointsData: uuid: ed01e753-64a5-4963-971c-577c2d140808 (pk: 9058)>],\n",
       " [<KpointsData: uuid: e3e37df3-b56d-4e54-8413-41da3365025c (pk: 6354)>],\n",
       " [<KpointsData: uuid: 695c7134-44a5-4650-9b5a-ea17c4e7f60c (pk: 6358)>],\n",
       " [<KpointsData: uuid: 8ee57acf-e170-4760-8a4f-eb7ba41cf737 (pk: 8907)>],\n",
       " [<KpointsData: uuid: 4ed398ba-d523-4114-b46c-22737de8a902 (pk: 6433)>],\n",
       " [<KpointsData: uuid: 966a3a94-f727-4fd8-b550-6a770b538590 (pk: 6437)>],\n",
       " [<KpointsData: uuid: 8badcd7d-d015-45d3-aba6-c41f0d0e45a7 (pk: 7426)>],\n",
       " [<KpointsData: uuid: 6bc419ef-fb13-4e0b-bdb5-67c33bf6c3aa (pk: 6399)>],\n",
       " [<KpointsData: uuid: 1b03e376-7661-4d08-836c-10920745b697 (pk: 6403)>],\n",
       " [<KpointsData: uuid: b18533f5-3552-4108-89ac-0432b1f91f8c (pk: 7430)>],\n",
       " [<KpointsData: uuid: bd2e4d0e-877f-49a6-ba23-b3d472cb37c4 (pk: 7434)>],\n",
       " [<KpointsData: uuid: 7d08095d-5ace-4f86-94ea-c55693618484 (pk: 6441)>],\n",
       " [<KpointsData: uuid: 2dd226d4-b865-49eb-a80e-4e996212167c (pk: 7508)>],\n",
       " [<KpointsData: uuid: ce5101c7-f4dd-44f0-91f9-7e8b05e08c5f (pk: 10003)>],\n",
       " [<KpointsData: uuid: d113175f-9ca6-40b2-8165-b312a56bc445 (pk: 8936)>],\n",
       " [<KpointsData: uuid: 34dd6935-5daa-459d-9ced-8e19fbeb17e7 (pk: 6471)>],\n",
       " [<KpointsData: uuid: 01730082-b208-4153-87ba-64e65ee0468e (pk: 8940)>],\n",
       " [<KpointsData: uuid: 3bff7cb3-b298-46ac-b17a-ea58c318da6c (pk: 7512)>],\n",
       " [<KpointsData: uuid: efc03438-3092-4f83-ad2f-0f1dcb79d8e9 (pk: 8944)>],\n",
       " [<KpointsData: uuid: 9bffaec2-17f6-4c81-be41-778e9ff79557 (pk: 6475)>],\n",
       " [<KpointsData: uuid: 31ef8999-2f0f-40cf-b0ac-aac73f15b8ad (pk: 6479)>],\n",
       " [<KpointsData: uuid: da86c4ee-e92a-4f2d-895c-7b2b7da5530c (pk: 8469)>],\n",
       " [<KpointsData: uuid: cb2b1306-d9c4-4105-9f51-7087725e75b5 (pk: 6509)>],\n",
       " [<KpointsData: uuid: b3bfa2bf-0b00-4d83-afc0-de387cdf886c (pk: 9527)>],\n",
       " [<KpointsData: uuid: 13d5dae9-2cb9-4a7a-b53d-01305e699924 (pk: 6513)>],\n",
       " [<KpointsData: uuid: f9fa2470-a5ea-4f45-9e3d-6f7d13be4c0b (pk: 6517)>],\n",
       " [<KpointsData: uuid: c2a4739b-779b-4820-be7f-95446417c06c (pk: 8973)>],\n",
       " [<KpointsData: uuid: 10c1e28e-cd12-4ecd-85c1-9b9275551fa6 (pk: 7226)>],\n",
       " [<KpointsData: uuid: 4157bfe8-0b00-4256-97a5-6581e94aa955 (pk: 7979)>],\n",
       " [<KpointsData: uuid: dd77734c-93c2-4254-8051-a358cb174f7c (pk: 6547)>],\n",
       " [<KpointsData: uuid: 87f609b1-55cc-42dc-8a1c-04b6830ea21b (pk: 6555)>],\n",
       " [<KpointsData: uuid: 7806cc97-41d9-41d5-8a8c-f4d430a49093 (pk: 7273)>],\n",
       " [<KpointsData: uuid: f1cc1b8c-e40b-4ccb-b461-c388eb375996 (pk: 6585)>],\n",
       " [<KpointsData: uuid: abd0bd11-ca9e-48cb-a131-b20c8044be2c (pk: 6589)>],\n",
       " [<KpointsData: uuid: 820eb9b5-45ca-43a7-a31f-d99622fb028e (pk: 6593)>],\n",
       " [<KpointsData: uuid: a7620cfc-a57e-4110-bb7d-23d06393bff5 (pk: 8977)>],\n",
       " [<KpointsData: uuid: 80eb1d0c-2799-4d1d-af72-b49c3bc0b2e8 (pk: 8981)>],\n",
       " [<KpointsData: uuid: 8189c474-71b4-4833-9b3d-c7aefa5c0ba8 (pk: 7230)>],\n",
       " [<KpointsData: uuid: 27036dfc-9767-4f8e-9f83-2ccfcb9fd63f (pk: 7107)>],\n",
       " [<KpointsData: uuid: 93e4df9b-1bbd-4b00-960d-ba7b0a245843 (pk: 10007)>],\n",
       " [<KpointsData: uuid: 0ce3fbed-2c5b-4fa6-a70b-575b53a37004 (pk: 9567)>],\n",
       " [<KpointsData: uuid: 7c06b8f0-1578-4f44-bd74-20769f5a9147 (pk: 6647)>],\n",
       " [<KpointsData: uuid: 675a2b3a-d8b7-4f47-a682-a184c78b9dec (pk: 7111)>],\n",
       " [<KpointsData: uuid: f1325006-c92d-4917-9490-b2e83f16a911 (pk: 9571)>],\n",
       " [<KpointsData: uuid: 926a483c-f29a-4bce-9f7d-cbebd4bd1c5a (pk: 9575)>],\n",
       " [<KpointsData: uuid: 3aef9efa-9633-4052-8830-1ae9ebb8a9df (pk: 6643)>],\n",
       " [<KpointsData: uuid: 5cf09871-3180-488e-b418-d53071764c90 (pk: 6701)>],\n",
       " [<KpointsData: uuid: dffed225-6a34-405b-bf22-1e77a5786d44 (pk: 6651)>],\n",
       " [<KpointsData: uuid: 553bdcea-9e8c-4bd3-b1b3-2b793be9759d (pk: 7516)>],\n",
       " [<KpointsData: uuid: 8ca62bbe-6576-4ef1-93d8-64d193818ca2 (pk: 7115)>],\n",
       " [<KpointsData: uuid: 27eba2f6-b2cc-4eb2-9a44-3dce33d062a1 (pk: 8473)>],\n",
       " [<KpointsData: uuid: 581c7a34-688f-469a-afa1-fef40bc8b172 (pk: 7234)>],\n",
       " [<KpointsData: uuid: 75585268-7c6c-4e09-8520-92c6d00eaa26 (pk: 6705)>],\n",
       " [<KpointsData: uuid: a5be257b-f811-4e81-9899-2f9283d914fa (pk: 6709)>],\n",
       " [<KpointsData: uuid: 5264abc7-c524-4469-b0eb-2107f9bc7bb5 (pk: 9090)>],\n",
       " [<KpointsData: uuid: 79a499db-13f7-4cb8-a482-dd53750d9258 (pk: 6759)>],\n",
       " [<KpointsData: uuid: 2a358667-fc54-48a1-bb57-54c0e467ff1d (pk: 9094)>],\n",
       " [<ArrayData: uuid: 0b62cd79-3279-4c4c-a915-e8d4985a3f3e (pk: 9685)>],\n",
       " [<KpointsData: uuid: 891d01a2-6949-46fa-8675-0320f3ae6b04 (pk: 9098)>],\n",
       " [<ArrayData: uuid: 92944501-25a7-4b5c-be8a-8821259dbfdf (pk: 10276)>],\n",
       " [<KpointsData: uuid: 65316f81-3f53-4838-b000-8bdf33b8a8e3 (pk: 7277)>],\n",
       " [<KpointsData: uuid: aa570b66-ee26-474a-ac6d-a30f80b8880e (pk: 6763)>],\n",
       " [<KpointsData: uuid: f868f699-2b9d-4803-a503-8bfffd2106ff (pk: 6767)>],\n",
       " [<KpointsData: uuid: 61c28adf-4461-4430-a11b-0326da38747f (pk: 7983)>],\n",
       " [<ArrayData: uuid: a460bbdb-721b-4c24-90f8-739e9c38e4d6 (pk: 10280)>],\n",
       " [<ArrayData: uuid: 604fc483-2f79-4271-a1d3-618a9d7f6d7f (pk: 9733)>],\n",
       " [<KpointsData: uuid: 78a6d933-9bbc-4843-a6a6-44cf883403ac (pk: 6821)>],\n",
       " [<KpointsData: uuid: 5d4a759b-f5bb-46e9-846f-7078afc55bf7 (pk: 10829)>],\n",
       " [<KpointsData: uuid: 6f4e0b39-6aa9-4648-afc2-043030905f86 (pk: 7281)>],\n",
       " [<KpointsData: uuid: 58ac8b49-e802-46f8-b547-e03b588336a8 (pk: 7320)>],\n",
       " [<KpointsData: uuid: 59b2eb6e-260b-4cd8-b1c3-e3d0a3f86acd (pk: 9759)>],\n",
       " [<KpointsData: uuid: af54037e-747e-4cd3-a91e-35a5066c3790 (pk: 6817)>],\n",
       " [<KpointsData: uuid: e7bfd53e-2bca-47c8-a91e-5e88e0a7c9d3 (pk: 6825)>],\n",
       " [<KpointsData: uuid: 5d21646a-adf4-44b4-971c-c218dd4bf751 (pk: 7987)>],\n",
       " [<KpointsData: uuid: 9a9d1890-c890-4f4c-b491-9a75a3928ee3 (pk: 9763)>],\n",
       " [<KpointsData: uuid: a680fe29-71ce-4729-bef4-d3b9ab01784a (pk: 7324)>],\n",
       " [<KpointsData: uuid: 7171a662-5a5d-410f-a849-6c0cf20c3b3e (pk: 8477)>],\n",
       " [<KpointsData: uuid: 7d712076-95c9-4727-9081-c56af6b3174e (pk: 9767)>],\n",
       " [<KpointsData: uuid: 906d338d-593d-42b9-85d0-f7c9e139e138 (pk: 10095)>],\n",
       " [<KpointsData: uuid: 799dddc2-ecd3-4fc5-a041-cac35663fd33 (pk: 6875)>],\n",
       " [<KpointsData: uuid: de3d314a-966a-4951-ba1d-ed1da3e2c971 (pk: 6933)>],\n",
       " [<KpointsData: uuid: 6fb998ca-9b90-4751-8669-64eccf11f98c (pk: 6879)>],\n",
       " [<KpointsData: uuid: 50f29af3-ca2c-415d-9d26-7ee406a45e47 (pk: 6883)>],\n",
       " [<KpointsData: uuid: f3162a3b-fa0d-47e2-ae5e-4940e7151eec (pk: 9130)>],\n",
       " [<ArrayData: uuid: 374a5aa8-3ae8-4fcf-b443-0cc874505f53 (pk: 10810)>],\n",
       " [<KpointsData: uuid: 9d2e4688-284e-4eed-9e64-bf1372c3e314 (pk: 9134)>],\n",
       " [<KpointsData: uuid: 7e255c13-0585-4995-828f-e885636d6071 (pk: 9138)>],\n",
       " [<KpointsData: uuid: 13978f22-8082-4088-b7ae-e8424b087b4c (pk: 6991)>],\n",
       " [<KpointsData: uuid: ddf0ec14-3bbc-48b8-b660-309427770179 (pk: 6937)>],\n",
       " [<KpointsData: uuid: 62d3ca44-4bb4-4a3b-9bec-876169aa6e0a (pk: 6941)>],\n",
       " [<KpointsData: uuid: bc217996-c1d4-4b69-bc5f-bff013dfe03a (pk: 6995)>],\n",
       " [<KpointsData: uuid: cf5ab290-bd98-42bd-be3e-28d5a596637e (pk: 6999)>],\n",
       " [<KpointsData: uuid: 9494a006-2307-45cf-97ea-257bb4a89ecf (pk: 7328)>],\n",
       " [<KpointsData: uuid: 9b6e4d99-d926-421b-8af9-d0b26305611f (pk: 7179)>],\n",
       " [<ArrayData: uuid: d5317251-dbb0-4ff6-b028-c11424e8ae42 (pk: 9781)>],\n",
       " [<KpointsData: uuid: e84ce28e-2629-4115-a452-e70a918f2568 (pk: 10099)>],\n",
       " [<KpointsData: uuid: f7d5999d-a829-4f9f-9aa6-a3672efeac8a (pk: 7183)>],\n",
       " [<KpointsData: uuid: 92c733b9-c680-45db-adc2-b063ebb872be (pk: 9171)>],\n",
       " [<KpointsData: uuid: f9453430-e1a5-441b-9ceb-13c55c346ec3 (pk: 7187)>],\n",
       " [<KpointsData: uuid: 65404b8a-0534-43d4-b8bc-0630cb71cf0f (pk: 10103)>],\n",
       " [<KpointsData: uuid: 9302f1c2-fb3b-4e53-997a-732e32379074 (pk: 9175)>],\n",
       " [<KpointsData: uuid: c9da3e56-b0b4-47b9-a844-34e4aae2ef7f (pk: 9179)>],\n",
       " [<KpointsData: uuid: 82ee37db-c056-40c4-8934-0c3e8aace496 (pk: 10463)>],\n",
       " [<KpointsData: uuid: 91deae2b-44a8-42a7-91a6-f0031a1df139 (pk: 7812)>],\n",
       " [<ArrayData: uuid: 44d25cf4-8b00-4d26-a4d4-a9ab58fde799 (pk: 10812)>],\n",
       " [<KpointsData: uuid: 575c67eb-53f0-48fd-a15e-8b5952da3f7f (pk: 7710)>],\n",
       " [<KpointsData: uuid: 0ae65565-0537-48bb-a63f-4a7f3d92dc14 (pk: 10151)>],\n",
       " [<KpointsData: uuid: 987ddbba-2ac0-4911-b9be-282b135c8841 (pk: 7367)>],\n",
       " [<KpointsData: uuid: 188dfee2-dc0a-46f5-ac40-02be6fcb0e28 (pk: 7371)>],\n",
       " [<KpointsData: uuid: 7b8f008b-4688-4f02-b611-59e60fcd568e (pk: 7375)>],\n",
       " [<KpointsData: uuid: d22c9b78-4ff0-4f42-98b5-cf0b3623223b (pk: 11018)>],\n",
       " [<KpointsData: uuid: e0b74e90-6e6b-43f8-b899-e3de0fa4b4d8 (pk: 10303)>],\n",
       " [<KpointsData: uuid: 03f0dc28-68f4-45dc-a3d8-0e6d35eec011 (pk: 7655)>],\n",
       " [<KpointsData: uuid: 6c2aa21b-f015-42d6-b5dd-7fea338eb893 (pk: 7659)>],\n",
       " [<KpointsData: uuid: 8228bf91-5c93-44b7-b1f1-32edc345df55 (pk: 8122)>],\n",
       " [<KpointsData: uuid: 01b894e9-8b56-4604-83af-8b8887fc6932 (pk: 8126)>],\n",
       " [<KpointsData: uuid: 28efd44a-faa3-4dc9-a979-60a340b03969 (pk: 10307)>],\n",
       " [<KpointsData: uuid: 38e6f7b8-e78d-457e-86d0-d4da8668a8df (pk: 10833)>],\n",
       " [<ArrayData: uuid: 59677dd3-5f79-4e8a-9257-c19268dd6497 (pk: 9973)>],\n",
       " [<KpointsData: uuid: 03382f9d-005a-44f1-8ab1-91e7c19fb64d (pk: 10311)>],\n",
       " [<KpointsData: uuid: 1013573d-5a8b-4009-ac76-9405be55e5d3 (pk: 7663)>],\n",
       " [<KpointsData: uuid: 645a5149-e015-4d12-bc24-7c7738cba109 (pk: 9807)>],\n",
       " [<KpointsData: uuid: aa1eff12-8d63-4d9a-8424-b1eace0fef5f (pk: 7582)>],\n",
       " [<KpointsData: uuid: 0f141502-4914-436d-99a2-15e688f5374a (pk: 7714)>],\n",
       " [<KpointsData: uuid: 3206c7be-beee-4a87-9d49-1473b2178e41 (pk: 7586)>],\n",
       " [<KpointsData: uuid: 313b5543-f18e-46fe-8b56-7ec75c828100 (pk: 7590)>],\n",
       " [<KpointsData: uuid: d432289f-7950-4710-8be6-aed5262fea7e (pk: 9811)>],\n",
       " [<KpointsData: uuid: d7a494b6-b1aa-4e35-839c-cd432183e2e3 (pk: 9815)>],\n",
       " [<KpointsData: uuid: 18ebaf3c-e725-48b1-8fdc-dbe55fd79346 (pk: 9423)>],\n",
       " [<KpointsData: uuid: 6c2a3b1e-a6a0-490b-9680-cc9b2b5f15b0 (pk: 9215)>],\n",
       " [<KpointsData: uuid: c9f8f015-8c00-4ce9-8a2d-26ba6966ec49 (pk: 7706)>],\n",
       " [<KpointsData: uuid: b817fe08-35e5-4366-88e6-988779c3c20c (pk: 9427)>],\n",
       " [<ArrayData: uuid: aa7373e1-f6e6-46af-9e83-17e50ab32903 (pk: 8491)>],\n",
       " [<KpointsData: uuid: f87171ca-1733-4614-b0d5-5fc614f75aa2 (pk: 8038)>],\n",
       " [<KpointsData: uuid: bae46adb-787f-4f6d-853a-f184e25f4650 (pk: 8286)>],\n",
       " [<KpointsData: uuid: cb3e8127-8f62-4dc0-9c10-398ce07d33f1 (pk: 9219)>],\n",
       " [<KpointsData: uuid: 0ef054b5-4c12-4db4-8fbc-ec2bcdfca65b (pk: 8042)>],\n",
       " [<KpointsData: uuid: be029a49-eafc-4a5f-8afd-6a8236919d20 (pk: 7757)>],\n",
       " [<KpointsData: uuid: 5730f808-e8f3-4466-b18b-b82146d3ee31 (pk: 7761)>],\n",
       " [<KpointsData: uuid: 78edd085-fbde-449a-a96f-da694789e804 (pk: 9223)>],\n",
       " [<KpointsData: uuid: 142b01c1-e337-4d87-bf77-06abb9a2726e (pk: 7765)>],\n",
       " [<KpointsData: uuid: 170d67d8-97ab-41cd-8c32-0341f4c73d4e (pk: 8046)>],\n",
       " [<KpointsData: uuid: 74f59b2a-b5e7-4c6e-8a70-bfd340b2a08b (pk: 7808)>],\n",
       " [<KpointsData: uuid: 9ae80eb2-10b8-43ff-afdb-655546416dd6 (pk: 10837)>],\n",
       " [<KpointsData: uuid: 10f6b2ad-34e6-4ac9-b0d5-e5a174b73a81 (pk: 9431)>],\n",
       " [<KpointsData: uuid: 0533e988-caea-4447-b973-a7f0021d2568 (pk: 7816)>],\n",
       " [<KpointsData: uuid: fa1c0fd3-c55f-4301-b826-8ce3e203f99c (pk: 7859)>],\n",
       " [<KpointsData: uuid: 3f8257f0-2366-454a-9596-98be5841d11e (pk: 7863)>],\n",
       " [<KpointsData: uuid: 8238bd02-db74-4a9b-a381-96417ec1a3b2 (pk: 7867)>],\n",
       " [<ArrayData: uuid: b7e0fabf-f2d4-4f69-856a-f9dcffdfd899 (pk: 10325)>],\n",
       " [<KpointsData: uuid: 46ad5fb6-e2c3-4608-b04d-878dd5112b15 (pk: 10467)>],\n",
       " [<ArrayData: uuid: d1954362-2f68-4dce-874d-f9084f1f8e25 (pk: 9829)>],\n",
       " [<KpointsData: uuid: 906af9dc-e1fb-4031-b940-e924bb575fc2 (pk: 10624)>],\n",
       " [<KpointsData: uuid: c36976ea-1cac-4bf4-92b2-ab46698bb702 (pk: 8118)>],\n",
       " [<KpointsData: uuid: b43891b7-897e-41f5-a67e-982c88f389e7 (pk: 7923)>],\n",
       " [<KpointsData: uuid: 85c55df4-752c-43a6-89f4-5367ffc5ad7f (pk: 7927)>],\n",
       " [<KpointsData: uuid: ec70e192-b1ba-43c3-a6e7-d86feeddb633 (pk: 10191)>],\n",
       " [<KpointsData: uuid: 1df336e8-1970-4fea-b4f7-b35346b9c595 (pk: 9267)>],\n",
       " [<KpointsData: uuid: 0de0c77b-858f-45be-b7de-2b5c702ec552 (pk: 9271)>],\n",
       " [<KpointsData: uuid: 6223973d-da9a-4a8b-8cf1-70e7db1607a8 (pk: 9275)>],\n",
       " [<ArrayData: uuid: 8677ec6f-72bf-4b22-8288-f8c42aa6c955 (pk: 8505)>],\n",
       " [<KpointsData: uuid: 82ecd864-1f03-4afe-9cdd-e0edd3b8ce21 (pk: 10195)>],\n",
       " [<KpointsData: uuid: 7b989130-752c-4f05-804f-259fb4239e67 (pk: 8290)>],\n",
       " [<ArrayData: uuid: 528011aa-02e9-4787-b470-7483b364d160 (pk: 8538)>],\n",
       " [<KpointsData: uuid: 063c8030-d910-427e-a9c2-e098c65b252e (pk: 11931)>],\n",
       " [<KpointsData: uuid: 5e9fb80a-a6d8-40ec-b000-ee6103f341f0 (pk: 8294)>],\n",
       " [<KpointsData: uuid: b63fa320-3cb7-4243-a909-5b5cf7b8048f (pk: 9471)>],\n",
       " [<ArrayData: uuid: 4bd696fa-b59d-416a-b9b3-f7fb09a4e0b8 (pk: 8563)>],\n",
       " [<KpointsData: uuid: 9577cc0f-43d5-4e82-a9ba-f29246658bbb (pk: 9475)>],\n",
       " [<KpointsData: uuid: 2f411ffe-c039-4cf5-8f8e-d2a51ee93017 (pk: 9479)>],\n",
       " [<KpointsData: uuid: 73cdee6f-dc5c-4f4b-b6cd-1899900935e7 (pk: 10199)>],\n",
       " [<KpointsData: uuid: 9a073789-c3cc-450c-aad7-38b4fff8ff4e (pk: 8347)>],\n",
       " [<KpointsData: uuid: c5a2cc81-7fb9-4b96-a9cb-2bc7d67232e1 (pk: 8351)>],\n",
       " [<KpointsData: uuid: dba9da16-f5aa-4919-a818-6c3418701265 (pk: 8408)>],\n",
       " [<KpointsData: uuid: 496665fb-6e50-42d6-b126-cf150aa44603 (pk: 8355)>],\n",
       " [<ArrayData: uuid: 47130ad4-c71f-49de-b15e-224aa3eda04e (pk: 8552)>],\n",
       " [<KpointsData: uuid: 7c2c73e0-71ed-4e6f-9026-44c60d6b8a4f (pk: 9855)>],\n",
       " [<KpointsData: uuid: 227014a8-cd69-4c09-aa40-ac9cb4eb062a (pk: 9859)>],\n",
       " [<KpointsData: uuid: bba681a9-36af-453e-80cc-2a05927766a1 (pk: 9863)>],\n",
       " [<KpointsData: uuid: 003167ed-8529-4af2-8493-b4cc01c56e37 (pk: 8412)>],\n",
       " [<KpointsData: uuid: a707c9b1-9825-4af4-9e1e-8619cbec3be6 (pk: 8416)>],\n",
       " [<ArrayData: uuid: e8562878-3877-4756-8fab-41d841167559 (pk: 10481)>],\n",
       " [<KpointsData: uuid: 8db58774-09ca-4ad7-b5cd-15e464d99721 (pk: 10628)>],\n",
       " [<KpointsData: uuid: 5b902c4d-525e-475b-974f-9b1a66632085 (pk: 9371)>],\n",
       " [<ArrayData: uuid: 42559abc-1d47-4d60-afbb-b5abcf7c22a7 (pk: 9877)>],\n",
       " [<KpointsData: uuid: a9ec8bda-048f-4523-9808-a58674154a5a (pk: 10632)>],\n",
       " [<KpointsData: uuid: 677c21d2-a378-4f4e-94ef-6967cdf738b0 (pk: 9375)>],\n",
       " [<KpointsData: uuid: 294ac9e7-e09d-4f93-9fd1-45e1bf8b2020 (pk: 9379)>],\n",
       " [<KpointsData: uuid: 077d139d-e352-4694-90ca-5e6bfa3e7eb7 (pk: 11022)>],\n",
       " [<KpointsData: uuid: ad4860d6-8a89-493c-a461-e56aab73fb95 (pk: 9319)>],\n",
       " [<ArrayData: uuid: af4326e9-508a-403e-b319-543b1db30fb7 (pk: 10021)>],\n",
       " [<ArrayData: uuid: b3c33e2e-6027-4d02-a66d-d4522a2d0bbb (pk: 10213)>],\n",
       " [<KpointsData: uuid: f686bd27-8f21-4b02-895a-c021836378c3 (pk: 11935)>],\n",
       " [<KpointsData: uuid: 3d7d840c-f856-4ec1-915b-1ae0fd619a15 (pk: 10239)>],\n",
       " [<KpointsData: uuid: bc6b8e9e-a4ea-4fca-9db6-7136993a80dc (pk: 9903)>],\n",
       " [<KpointsData: uuid: b0bf14d3-ff5d-4048-9642-1f87c1274c22 (pk: 9907)>],\n",
       " [<KpointsData: uuid: 36a92aa8-6451-4f97-9fbc-50dee71849d5 (pk: 9911)>],\n",
       " [<KpointsData: uuid: ea318749-96e6-4882-8eb9-fb63000ce782 (pk: 10243)>],\n",
       " [<ArrayData: uuid: 3750dd93-ecb4-4b4e-8c1b-d3e609dd416a (pk: 9925)>],\n",
       " [<KpointsData: uuid: 2bca9ae9-e29e-4c80-ab3d-395561cb9af9 (pk: 10047)>],\n",
       " [<KpointsData: uuid: a31f400b-8c89-4cb3-8f60-eea8d1a89d88 (pk: 10051)>],\n",
       " [<ArrayData: uuid: b9220a24-bb88-497b-b657-dac3ecb52bb8 (pk: 9589)>],\n",
       " [<ArrayData: uuid: b5134c5d-9072-4ecd-bbb2-a5f272c95662 (pk: 9637)>],\n",
       " [<KpointsData: uuid: 434e3b68-e46c-42c2-b989-f5ab67fd3390 (pk: 12724)>],\n",
       " [<KpointsData: uuid: 2de589bd-b0ad-485f-98e1-1bed599029f4 (pk: 10055)>],\n",
       " [<KpointsData: uuid: 69ee16f8-d411-4848-833c-f53661530cf4 (pk: 11026)>],\n",
       " [<ArrayData: uuid: 5ffca765-0415-4a7b-b4dc-5e811abd2944 (pk: 9541)>],\n",
       " [<KpointsData: uuid: 98932381-af6a-4490-939d-04277c5afda6 (pk: 9615)>],\n",
       " [<KpointsData: uuid: 035afcda-3be2-497d-a3ee-30e7992e170c (pk: 9619)>],\n",
       " [<KpointsData: uuid: 11977bf8-6e8e-4eb9-aea2-25d92d6921bd (pk: 9623)>],\n",
       " [<KpointsData: uuid: aa5b83c7-98aa-431d-a354-8c8927e28782 (pk: 11170)>],\n",
       " [<KpointsData: uuid: 5dedbf3a-9dc0-46ef-983a-0226a6fa246c (pk: 9663)>],\n",
       " [<KpointsData: uuid: 1c4057b5-19d2-4a0c-a439-5b5ce5aac9bf (pk: 9667)>],\n",
       " [<KpointsData: uuid: 3884b96a-d5ea-4045-bb95-c949c5fa6a7e (pk: 9951)>],\n",
       " [<KpointsData: uuid: a783d859-715a-40f8-9c97-014a097bb698 (pk: 9955)>],\n",
       " [<KpointsData: uuid: 35a9b7d6-8aef-4cc0-8bfb-74c79fe504d2 (pk: 9959)>],\n",
       " [<KpointsData: uuid: a74e968d-aa18-4e19-80f2-3a5c0365c0f3 (pk: 11174)>],\n",
       " [<KpointsData: uuid: 394a4b28-c4d6-4c94-bb78-28b5f8e26d9a (pk: 10247)>],\n",
       " [<KpointsData: uuid: ff8b881d-e7e8-484f-a00e-a15354920cda (pk: 10355)>],\n",
       " [<KpointsData: uuid: 2ad88ddc-b365-405a-95ec-a284ac0ba4e8 (pk: 10359)>],\n",
       " [<ArrayData: uuid: 6477fd49-b846-4e73-afdb-86364c1f4284 (pk: 10117)>],\n",
       " [<KpointsData: uuid: be8fd8e5-995c-4a67-a796-0be7eb734101 (pk: 10363)>],\n",
       " [<KpointsData: uuid: 4d6509ec-b246-42a5-81b4-1c30c5544e8b (pk: 10143)>],\n",
       " [<ArrayData: uuid: 5e8b5978-aacb-499b-aba4-e5f94f37b4bc (pk: 10165)>],\n",
       " [<ArrayData: uuid: 4e458e4e-2793-44db-80ba-5966e8844b30 (pk: 10377)>],\n",
       " [<ArrayData: uuid: ebd0f9f8-4131-490f-9ae3-9d0f61d581e1 (pk: 10429)>],\n",
       " [<ArrayData: uuid: 9cf2fa40-2e54-4ad7-8181-aede0945d76d (pk: 10261)>],\n",
       " [<KpointsData: uuid: eeb0ef81-7e07-452a-9436-6587227f5905 (pk: 10511)>],\n",
       " [<KpointsData: uuid: c91640f8-16f7-4552-ad81-eda51116b44e (pk: 10696)>],\n",
       " [<KpointsData: uuid: 3577c028-15ef-4d6f-ae28-5bdf8ea71d11 (pk: 10761)>],\n",
       " [<KpointsData: uuid: 12c83bf6-5f1c-4836-be81-388dc89af01a (pk: 10515)>],\n",
       " [<KpointsData: uuid: 1f03eadd-f137-4e68-b143-f73e52daa525 (pk: 10519)>],\n",
       " [<KpointsData: uuid: 67b89755-bbcc-499e-8513-049a29ec4255 (pk: 10407)>],\n",
       " [<KpointsData: uuid: e46b19a1-c883-4d45-9697-ee39cd7e33ff (pk: 10411)>],\n",
       " [<KpointsData: uuid: efd2bfcd-1c7e-4cc6-9f3a-ba18579b4e0e (pk: 10415)>],\n",
       " [<KpointsData: uuid: 7548c17c-4530-4df6-9a74-796be0ce4111 (pk: 11094)>],\n",
       " [<ArrayData: uuid: adc547e2-958e-44c5-be95-27f12032e0af (pk: 10533)>],\n",
       " [<KpointsData: uuid: 1de9e653-e149-4624-9697-6ee750a45d8a (pk: 11939)>],\n",
       " [<KpointsData: uuid: 44c31e4e-bca3-4897-a983-0a6837b02c56 (pk: 10867)>],\n",
       " [<KpointsData: uuid: fbfd246a-46fb-4127-bf1c-e590e460c594 (pk: 10563)>],\n",
       " [<KpointsData: uuid: e09d72f2-1349-4aca-ba60-9da0f6faf95c (pk: 10567)>],\n",
       " [<KpointsData: uuid: d6732a2a-8a61-4476-82ab-37c085bd2fdc (pk: 10571)>],\n",
       " [<KpointsData: uuid: 59f344c3-8744-4251-8815-808e04b04a39 (pk: 10871)>],\n",
       " [<KpointsData: uuid: 89a383f6-d678-48df-b014-466b3e003fb0 (pk: 10875)>],\n",
       " [<KpointsData: uuid: ed783d55-0d53-4388-b7af-df000daf686d (pk: 11098)>],\n",
       " [<KpointsData: uuid: f1609e77-1370-468f-9128-f1cde46a753a (pk: 13538)>],\n",
       " [<ArrayData: uuid: f66f42ac-319b-4138-afbf-cac041f9c591 (pk: 10585)>],\n",
       " [<KpointsData: uuid: 711b7ec3-e44d-49a5-a257-542fdd878000 (pk: 11102)>],\n",
       " [<KpointsData: uuid: ce368c60-6ef5-4f71-b70d-59bbcf1cf442 (pk: 10700)>],\n",
       " [<KpointsData: uuid: 4d4e278b-38c2-4082-99fb-e66944571228 (pk: 10704)>],\n",
       " [<KpointsData: uuid: 220b89a3-a774-40c5-8e89-58e2ef0c9503 (pk: 10765)>],\n",
       " [<ArrayData: uuid: 7dd3aa2d-c1f4-4590-a406-7ba4f23a854c (pk: 10598)>],\n",
       " [<KpointsData: uuid: 24d1719c-7941-4781-b961-9cb1da032a32 (pk: 10769)>],\n",
       " [<KpointsData: uuid: 2962567c-1680-476a-ae2d-c06ee7126d43 (pk: 11132)>],\n",
       " [<KpointsData: uuid: 6a346e8a-cea2-4317-a215-a859ca17e2a4 (pk: 10905)>],\n",
       " [<KpointsData: uuid: 8dc4ea22-0607-4209-88a0-8a4133b088da (pk: 10909)>],\n",
       " [<KpointsData: uuid: 609c7a23-dee6-4357-ba35-afe2eb7d1b95 (pk: 10913)>],\n",
       " [<KpointsData: uuid: abe05c31-04ca-45b4-9af3-890d12b6148e (pk: 11056)>],\n",
       " [<KpointsData: uuid: cd86ec0f-3a89-4a6c-9148-1880bb9f44d6 (pk: 12728)>],\n",
       " [<KpointsData: uuid: be3e7a22-5da6-4311-b6b0-692edc167361 (pk: 12732)>],\n",
       " [<KpointsData: uuid: f9174336-c2ae-4958-8f42-ccdf471c07b3 (pk: 10942)>],\n",
       " [<KpointsData: uuid: 760b3e28-4cd9-4d6b-a2a8-d24ff9eaad49 (pk: 10946)>],\n",
       " [<ArrayData: uuid: 9a671bfb-b900-4146-9632-96117277dbf0 (pk: 11953)>],\n",
       " [<KpointsData: uuid: 84fa0d2a-6c50-4a01-b5ac-f6c8ba246c32 (pk: 10950)>],\n",
       " [<KpointsData: uuid: fb1f66e9-2738-47ec-8979-38366e00f242 (pk: 13238)>],\n",
       " [<KpointsData: uuid: aed58642-75ff-479d-a849-9b4d9ae6b745 (pk: 10980)>],\n",
       " [<KpointsData: uuid: 0fe19d5c-b1be-4b2a-8aa1-5ee2279526c9 (pk: 11060)>],\n",
       " [<KpointsData: uuid: 5eec40e8-c62f-42b6-8352-abc4e2b1e789 (pk: 10984)>],\n",
       " [<ArrayData: uuid: 0a91f56e-ca44-4690-a4ac-02875bd45e8b (pk: 10783)>],\n",
       " [<KpointsData: uuid: 3a77ab4c-11dd-4237-b35c-b1c06b0909ef (pk: 10988)>],\n",
       " [<KpointsData: uuid: 4e12f73c-e683-4d04-b48c-8b3cac36080a (pk: 11208)>],\n",
       " [<KpointsData: uuid: ab00bc1b-31fa-44e6-8a22-eb786f8e7565 (pk: 11064)>],\n",
       " [<ArrayData: uuid: 8fd46486-866a-4ad6-b927-80cf910bb95a (pk: 10796)>],\n",
       " [<KpointsData: uuid: 69d245b5-0c5d-4fc1-a16e-4d1cd74865ea (pk: 11136)>],\n",
       " [<KpointsData: uuid: e2020448-c7f1-4083-a2b8-8039501334e4 (pk: 11140)>],\n",
       " [<KpointsData: uuid: 5c62e9c2-f501-4015-ba4a-d5dbb6425ea8 (pk: 11178)>],\n",
       " [<KpointsData: uuid: d80efcc0-3151-4157-814f-e68f3f046421 (pk: 11212)>],\n",
       " [<KpointsData: uuid: b3b4ce98-0e3e-4edb-8fc2-87a334d005cf (pk: 13242)>],\n",
       " [<KpointsData: uuid: 215a26f5-2a6f-4aaa-b29b-c97699b88392 (pk: 11216)>],\n",
       " [<KpointsData: uuid: 83ecc4a2-9623-4ac3-ad79-bfcd1e180b1d (pk: 17229)>],\n",
       " [<KpointsData: uuid: ccb3e784-281a-4540-8f25-c130b90da231 (pk: 13246)>],\n",
       " [<KpointsData: uuid: 9855ab37-6858-4895-9945-2d7d08fe0e74 (pk: 11977)>],\n",
       " [<KpointsData: uuid: 332f55ca-f0de-45ec-90f7-165aa9627a45 (pk: 11981)>],\n",
       " [<KpointsData: uuid: 652a7cca-d7b0-4ad3-a37f-e304a234f20a (pk: 11246)>],\n",
       " [<KpointsData: uuid: 17aa1645-497f-4e13-b074-b461c1ce5798 (pk: 11250)>],\n",
       " [<KpointsData: uuid: 5835b7e2-93b9-4e0d-bb7f-ab4044e46406 (pk: 11254)>],\n",
       " [<KpointsData: uuid: 62b990bf-ffae-40df-b5a6-018a99eddf36 (pk: 11985)>],\n",
       " [<KpointsData: uuid: 5b55fa22-6d81-41a3-943c-261fb556c327 (pk: 15428)>],\n",
       " [<KpointsData: uuid: 54fc02e7-5b6c-4802-9554-15b889e0fc1d (pk: 13542)>],\n",
       " [<ArrayData: uuid: ea247f95-5150-41bf-bb47-caa517cc7db9 (pk: 11999)>],\n",
       " [<KpointsData: uuid: 7233247f-490d-460b-b945-a3d836b74f3d (pk: 11284)>],\n",
       " [<KpointsData: uuid: 43b9d7e2-189f-46ed-8789-46e08317a513 (pk: 11288)>],\n",
       " [<KpointsData: uuid: dda3cc96-a170-4cef-aebb-ddab0e927556 (pk: 11292)>],\n",
       " [<KpointsData: uuid: bd1b5b60-6e03-4256-b098-174a907dfce8 (pk: 11321)>],\n",
       " [<KpointsData: uuid: 629d8232-fa02-4b47-8c0d-0ed35b7b39ab (pk: 11325)>],\n",
       " [<KpointsData: uuid: 073a7876-10fc-4d51-91f4-702882d36898 (pk: 11329)>],\n",
       " [<KpointsData: uuid: cf3e2a38-69c8-4f80-b534-a764909a56c4 (pk: 14118)>],\n",
       " [<KpointsData: uuid: 6df0f617-98e3-4527-8499-c9d425e2e7ac (pk: 13546)>],\n",
       " [<KpointsData: uuid: 5e5b3899-67be-4b68-b023-4e4e78e2770c (pk: 13828)>],\n",
       " [<KpointsData: uuid: a8f1f2ed-aea9-451e-892d-996c413fcecb (pk: 11360)>],\n",
       " [<KpointsData: uuid: 1f5a087b-7676-41bb-b504-4a57e851ad0f (pk: 11364)>],\n",
       " [<KpointsData: uuid: 8148a97f-cf62-4110-be71-b8aac80fffb2 (pk: 11368)>],\n",
       " [<KpointsData: uuid: d393ea06-aaf1-4959-ad32-32e21187cd51 (pk: 11398)>],\n",
       " [<KpointsData: uuid: 1e00c4d8-b8f1-456d-bf06-908f120f3ba5 (pk: 11402)>],\n",
       " [<KpointsData: uuid: 63b4c4a9-ded8-49a7-8ee5-9b129188790f (pk: 13832)>],\n",
       " [<KpointsData: uuid: 4ca6fa02-4580-4d25-846e-42304fd31006 (pk: 15066)>],\n",
       " [<KpointsData: uuid: 28e1d353-d454-4223-8b30-5d029982f796 (pk: 11406)>],\n",
       " [<KpointsData: uuid: d6d9c812-cfff-44fc-be9b-5d9b3651d1a3 (pk: 11437)>],\n",
       " [<KpointsData: uuid: c446c2cd-53c3-4946-9fbd-5e93e1276b8b (pk: 11441)>],\n",
       " [<KpointsData: uuid: 83710de6-e898-48d2-985f-fec941853e11 (pk: 14122)>],\n",
       " [<KpointsData: uuid: 48dddfb5-2df6-48eb-a9f1-8cb30f88260b (pk: 11445)>],\n",
       " [<ArrayData: uuid: 0c301466-4773-4aee-ba77-26c8117a8abb (pk: 12014)>],\n",
       " [<KpointsData: uuid: a14285f6-0eb3-42f8-9557-f8091669fdac (pk: 13836)>],\n",
       " [<KpointsData: uuid: a7ecd353-d574-4f08-a6e5-8e00978d154a (pk: 11477)>],\n",
       " [<ArrayData: uuid: bf0726e6-459f-45a3-bcbd-dcda0f7c4484 (pk: 11459)>],\n",
       " [<KpointsData: uuid: a5da14a0-023b-4d70-a538-4646de2af95b (pk: 11481)>],\n",
       " [<KpointsData: uuid: ccc356b1-d03a-405c-bc8f-2b02418def1f (pk: 11485)>],\n",
       " [<ArrayData: uuid: e044fee8-ca53-41a0-83a8-82ba3e081f79 (pk: 12018)>],\n",
       " [<KpointsData: uuid: 0b5a2129-1925-4c81-8a54-f05862417b2c (pk: 16430)>],\n",
       " [<KpointsData: uuid: c86bd6b4-2568-4050-a9da-8f3e569e510c (pk: 12776)>],\n",
       " [<KpointsData: uuid: 65325c98-d3bb-45b8-8b34-05fb592eb592 (pk: 11517)>],\n",
       " [<KpointsData: uuid: 9acf38d6-6d5d-476f-8e05-96bfd2a911d4 (pk: 11521)>],\n",
       " [<ArrayData: uuid: ecbbfbcc-765d-498e-8cd4-02b6d031c093 (pk: 11499)>],\n",
       " [<KpointsData: uuid: 1695d273-ab1b-45b0-83a5-9e63535aa4bc (pk: 11561)>],\n",
       " [<KpointsData: uuid: 1f924838-2d6b-40b0-b985-2007f6eee3b2 (pk: 11565)>],\n",
       " [<KpointsData: uuid: 075b415a-0e50-4373-9b8c-9a4d4e4f9b00 (pk: 12038)>],\n",
       " [<KpointsData: uuid: f53140a0-10ba-45b4-bca4-d5f80b9b79f8 (pk: 12042)>],\n",
       " [<KpointsData: uuid: c7566a5b-ecd0-4f4c-85cb-8b9a0a614263 (pk: 12046)>],\n",
       " [<KpointsData: uuid: 7e6b66ce-9e62-4f37-aa8d-16cd40b5acd7 (pk: 11525)>],\n",
       " [<KpointsData: uuid: 530e2bc9-a013-4a05-9c23-f899e237b1c9 (pk: 14126)>],\n",
       " [<ArrayData: uuid: bbc8da0e-5c54-4702-8fb5-0b91f02c002b (pk: 11539)>],\n",
       " [<KpointsData: uuid: 6ee14d34-84dc-4b1c-a923-82e972f72130 (pk: 11557)>],\n",
       " [<KpointsData: uuid: cbfea390-ca40-472f-854c-424cbc9ec7c9 (pk: 12780)>],\n",
       " [<ArrayData: uuid: 123e10cc-b02f-4c9e-bf94-4c72ca7e4a50 (pk: 11579)>],\n",
       " [<KpointsData: uuid: f02dce37-f9f7-489d-856d-dfcfdf13c6fc (pk: 11597)>],\n",
       " [<KpointsData: uuid: 0d032a6d-d5c1-4f64-9d93-d89260ed976a (pk: 14756)>],\n",
       " [<KpointsData: uuid: a7358a43-95f1-4b87-beff-350b1ae5617d (pk: 12784)>],\n",
       " [<ArrayData: uuid: 4959f17f-578b-4e54-8761-2001dc6c0b20 (pk: 12060)>],\n",
       " [<KpointsData: uuid: d6a7fa45-436f-4c53-b4db-27950d319da0 (pk: 11601)>],\n",
       " [<KpointsData: uuid: 2d94c79b-bfdc-4d89-87dd-df09597e8fb6 (pk: 11605)>],\n",
       " [<KpointsData: uuid: 4d8f5695-1c82-4d2a-bbc7-c16ee92ea6cf (pk: 11637)>],\n",
       " [<KpointsData: uuid: 430beab8-3ac4-4724-bd41-cec561d2c091 (pk: 11641)>],\n",
       " [<ArrayData: uuid: 5ae9f933-1b2b-463b-82cb-e9b42ef2b387 (pk: 11619)>],\n",
       " [<KpointsData: uuid: 644939c5-2adb-4b86-8629-3722793a0c9f (pk: 11645)>],\n",
       " [<KpointsData: uuid: 54763068-be53-4cde-9607-ebe1afcdaa51 (pk: 14760)>],\n",
       " [<KpointsData: uuid: c107a924-a485-4c3f-b6e7-1db218e85df4 (pk: 15070)>],\n",
       " [<KpointsData: uuid: 320b6c73-dfc8-496f-846c-e6e84c82b244 (pk: 11677)>],\n",
       " [<ArrayData: uuid: 01837e43-8682-4c6f-a03e-1ff1b3d11a29 (pk: 11659)>],\n",
       " [<KpointsData: uuid: bb791c5a-52b7-486c-a2c9-b4b3edbad881 (pk: 11715)>],\n",
       " [<KpointsData: uuid: 4f466442-61bf-4b66-9a11-de2466a381ca (pk: 11681)>],\n",
       " [<KpointsData: uuid: 3b1c8c3d-e0fd-4cef-a44a-e7aa4211c0f8 (pk: 11685)>],\n",
       " [<KpointsData: uuid: a96d1ad4-64df-4f2f-afd0-d4a8c368ea0b (pk: 14764)>],\n",
       " [<KpointsData: uuid: f8534272-61f7-4325-9643-0cd5e74df87a (pk: 14043)>],\n",
       " [<KpointsData: uuid: 050aae64-c397-4809-b227-64360e87e60a (pk: 11719)>],\n",
       " [<KpointsData: uuid: d2bed4ab-dc84-4ce2-b4cf-b868cc599086 (pk: 11723)>],\n",
       " [<KpointsData: uuid: 558edea3-b82f-4126-a635-2e5e5e76e525 (pk: 11755)>],\n",
       " [<ArrayData: uuid: edec3efc-4752-4c66-a5f7-c01efd69a0f0 (pk: 11737)>],\n",
       " [<KpointsData: uuid: 08b06d9b-fe3a-47aa-9d33-d101e3a07703 (pk: 11797)>],\n",
       " [<KpointsData: uuid: 4b3d971e-d284-426f-9fae-72d32d8cfc22 (pk: 11759)>],\n",
       " [<KpointsData: uuid: c852c082-fc19-4174-8813-675025fca98d (pk: 11763)>],\n",
       " [<KpointsData: uuid: bf994f47-dd41-4e9c-ba6c-dd4134f88051 (pk: 15074)>],\n",
       " [<ArrayData: uuid: 9dc7ab27-3b15-429a-a2ba-095b75cfe374 (pk: 11777)>],\n",
       " [<KpointsData: uuid: 77626266-33e5-4825-a402-1da09ea229e3 (pk: 11801)>],\n",
       " [<KpointsData: uuid: aa5c5184-99e3-44b3-8b27-709e67d1386c (pk: 11805)>],\n",
       " [<ArrayData: uuid: 201c1a86-a62d-4b6b-a3a2-2e65419dcd5e (pk: 12074)>],\n",
       " [<KpointsData: uuid: d06e3b95-a8de-4099-85d2-87c2eb6835cd (pk: 13088)>],\n",
       " [<KpointsData: uuid: cfa5b755-92e1-4086-b3e4-bbb74da74787 (pk: 11839)>],\n",
       " [<KpointsData: uuid: 3519e102-3178-49bc-8065-97a47e379033 (pk: 11843)>],\n",
       " [<ArrayData: uuid: 22e9bbb5-3c1b-4ccc-a91b-4dcb2db998c8 (pk: 11819)>],\n",
       " [<KpointsData: uuid: 5eb8bb57-ca83-408d-a486-9a054179304b (pk: 11847)>],\n",
       " [<KpointsData: uuid: a0d61408-11b2-4923-bd15-91e377a62f53 (pk: 14047)>],\n",
       " [<KpointsData: uuid: 390671ce-b353-4cdc-bcd5-4e561b9fe4cb (pk: 13092)>],\n",
       " [<KpointsData: uuid: fcc06356-a79e-419b-a85f-f77820d2c1e0 (pk: 13096)>],\n",
       " [<ArrayData: uuid: d8813815-4f59-4c5b-9193-39a51c387733 (pk: 12085)>],\n",
       " [<ArrayData: uuid: 1560a9ff-75fb-41c6-bd6c-7e4a083ecb55 (pk: 11861)>],\n",
       " [<KpointsData: uuid: 1011c85c-d368-4ad0-bd4b-6d42343154fe (pk: 11885)>],\n",
       " [<KpointsData: uuid: 45e8f4e2-90a8-42db-84c3-20a8705d8b14 (pk: 11889)>],\n",
       " [<ArrayData: uuid: 6ede3ee5-6c85-4389-bcf7-83cc0ef83b5a (pk: 12094)>],\n",
       " [<KpointsData: uuid: 4c2021f1-4c0d-446d-8f24-d1c52ddda408 (pk: 11893)>],\n",
       " [<KpointsData: uuid: ea82b79b-7c50-42a1-8609-9dd7692befd1 (pk: 16434)>],\n",
       " [<KpointsData: uuid: 8bb4e09c-696e-4e1a-8d41-170706ba8259 (pk: 12312)>],\n",
       " [<KpointsData: uuid: 62f7e618-246b-4e39-9e8c-ce679d203845 (pk: 12114)>],\n",
       " [<KpointsData: uuid: d3e166ed-2f72-44dd-b0d2-14b0962edaf7 (pk: 12118)>],\n",
       " [<KpointsData: uuid: ec5cd635-c529-4595-8892-739e04cf3d25 (pk: 12122)>],\n",
       " [<ArrayData: uuid: 69620e0f-d6b2-4fe5-bb65-a06bf72023e3 (pk: 11907)>],\n",
       " [<KpointsData: uuid: 4f519641-c100-4f3a-aab4-748970791133 (pk: 12316)>],\n",
       " [<KpointsData: uuid: b6cd0e1b-ca07-469e-9672-c837bab893e9 (pk: 12320)>],\n",
       " [<KpointsData: uuid: 31564e23-bbfa-4b37-a29b-4c3cf8f8b665 (pk: 15432)>],\n",
       " [<ArrayData: uuid: b0ec4b53-6c43-467b-80cd-b799dff34c18 (pk: 12136)>],\n",
       " [<ArrayData: uuid: e985772f-4f79-4348-9fc2-f923ccc6a238 (pk: 12158)>],\n",
       " [<KpointsData: uuid: 9ce17340-11aa-44cd-95c5-f00339b6271f (pk: 12175)>],\n",
       " [<ArrayData: uuid: 6eff1640-426f-403f-abbb-087c35f662db (pk: 12149)>],\n",
       " [<KpointsData: uuid: 3254745a-2789-422e-b20f-a7bd97d856e0 (pk: 12179)>],\n",
       " [<KpointsData: uuid: ed7429fa-4d6b-42b6-a3a5-8c33fdfe1c25 (pk: 12183)>],\n",
       " [<KpointsData: uuid: a7cbebf4-7224-47c5-80c0-874561273299 (pk: 12461)>],\n",
       " [<KpointsData: uuid: 48217775-8acc-47f8-a8df-9079e77c546a (pk: 12465)>],\n",
       " [<KpointsData: uuid: 78a02007-e633-44d6-be75-792725549113 (pk: 12469)>],\n",
       " [<KpointsData: uuid: 309da6ae-7e7a-46e7-974a-b4d8d4cdf2e1 (pk: 14051)>],\n",
       " [<ArrayData: uuid: fe59e94b-8c14-4a8c-ac5f-cddf7a3510b2 (pk: 15632)>],\n",
       " [<ArrayData: uuid: 40266b1f-0726-4166-b1a8-1f77135c48b2 (pk: 15768)>],\n",
       " [<ArrayData: uuid: b7585d7e-fefa-4674-8ecf-7e667c168fb8 (pk: 15845)>],\n",
       " [<KpointsData: uuid: bd36c657-1211-49b4-ae7d-1520c0a82cab (pk: 16439)>],\n",
       " [<KpointsData: uuid: 274f26bd-e590-47ef-91bf-06e3d6638e1f (pk: 12525)>],\n",
       " [<KpointsData: uuid: aaeeb3b4-74e5-4cae-9fec-de46aee84872 (pk: 12529)>],\n",
       " [<KpointsData: uuid: 75314be6-8c16-4c10-a8d2-0d1f9494fa03 (pk: 12533)>],\n",
       " [<KpointsData: uuid: 003e06ba-24c0-4594-944f-333100e9ba5d (pk: 15649)>],\n",
       " [<KpointsData: uuid: b3b76dde-8e8d-4466-a2bc-9b8173547ca7 (pk: 12851)>],\n",
       " [<KpointsData: uuid: 5e768fc9-4f55-4ad9-b69d-961e3a1c6323 (pk: 12855)>],\n",
       " [<KpointsData: uuid: 55de4093-bc76-4e42-9aaa-08b424828d85 (pk: 12859)>],\n",
       " [<KpointsData: uuid: c97b2fdd-6d2d-4f6a-97f4-a0db1b19a999 (pk: 15653)>],\n",
       " [<KpointsData: uuid: 9ee24e5c-972f-46b3-9218-837943d2dab3 (pk: 15784)>],\n",
       " [<KpointsData: uuid: cd460b30-1a16-48f5-8648-71215dd90997 (pk: 15657)>],\n",
       " [<KpointsData: uuid: 716f7b27-c7b2-413c-b179-ff52e32bd4fb (pk: 15788)>],\n",
       " [<KpointsData: uuid: 4d36a6e4-273d-4154-a037-20b0b3e1101c (pk: 12637)>],\n",
       " [<KpointsData: uuid: 80c70772-067c-415d-b70a-5dd13d200876 (pk: 15792)>],\n",
       " [<KpointsData: uuid: e9a08d5a-c322-4ec1-ab22-0bacd671ed6c (pk: 12641)>],\n",
       " [<KpointsData: uuid: 2a3f3ba5-ac59-4825-a481-4cde3501d99c (pk: 12645)>],\n",
       " [<KpointsData: uuid: 3b07399c-3179-4d0a-adef-9fe125c0f941 (pk: 13388)>],\n",
       " [<KpointsData: uuid: f9774181-ad38-437f-8a39-50dbff73bad8 (pk: 13392)>],\n",
       " [<KpointsData: uuid: a58f4373-3329-4754-baa7-6282f72ebd5a (pk: 13396)>],\n",
       " [<KpointsData: uuid: df95ad6e-4683-4b30-8db5-27bbcec3b87c (pk: 13613)>],\n",
       " [<KpointsData: uuid: 1794232c-bdf1-4210-b6f0-8aeff5a63cff (pk: 15861)>],\n",
       " [<KpointsData: uuid: cd9622f5-bba1-483f-872e-3caedf9f610e (pk: 13617)>],\n",
       " [<KpointsData: uuid: b5de4057-506d-425d-8e41-1e6f81f58ad9 (pk: 13621)>],\n",
       " [<KpointsData: uuid: 772b3732-9505-455f-8cf8-7d676a8e759f (pk: 15865)>],\n",
       " [<KpointsData: uuid: bbbc77b7-4a12-491f-903c-7c8f70e74c34 (pk: 12926)>],\n",
       " [<KpointsData: uuid: fb62dcb8-0a88-4c08-ba85-68c1d28f3332 (pk: 12930)>],\n",
       " [<KpointsData: uuid: 441192c9-3ef2-4384-839d-971f85387cb8 (pk: 12934)>],\n",
       " [<KpointsData: uuid: 6d3ac570-4307-4d9d-9730-fc621b2f53f0 (pk: 15869)>],\n",
       " [<KpointsData: uuid: 3e8a2da9-7b8e-43fc-8307-acdc88afa754 (pk: 13163)>],\n",
       " [<KpointsData: uuid: c66e18ba-c306-4c92-9704-1e25dabd54dc (pk: 13167)>],\n",
       " [<KpointsData: uuid: 3cbf6904-ad03-4d1d-91f4-1c5b0cc4167d (pk: 13171)>],\n",
       " [<ArrayData: uuid: 5ef70343-8398-41d4-bc78-d074fd1d4718 (pk: 16799)>],\n",
       " [<KpointsData: uuid: 492341a2-9a57-47c5-b1fb-8586789ecb4b (pk: 17036)>],\n",
       " [<KpointsData: uuid: ae269ca8-b8e0-4b49-88d2-f8b7f6122275 (pk: 14188)>],\n",
       " [<KpointsData: uuid: b85f15a5-efe1-4da1-92be-a3ccb0be7518 (pk: 14192)>],\n",
       " [<KpointsData: uuid: c7ba76d7-ff61-4782-b84c-1cdb6ec2d399 (pk: 14196)>],\n",
       " [<KpointsData: uuid: 4d8b2d52-85a6-4f9f-a969-1ba83a504f9e (pk: 14989)>],\n",
       " [<KpointsData: uuid: ef292f3a-d7ab-480c-9504-d85a33ded68a (pk: 14993)>],\n",
       " [<KpointsData: uuid: 8e6b0289-9048-4243-8b6c-d238c11c64fb (pk: 14997)>],\n",
       " [<KpointsData: uuid: 8d28f774-5dd9-418a-8237-10f4b9940254 (pk: 13001)>],\n",
       " [<KpointsData: uuid: 74812373-6ebf-44ff-9fbe-33be9dc70920 (pk: 13005)>],\n",
       " [<KpointsData: uuid: ba8dd79f-afdc-46b3-83b1-d4e2c7632b2a (pk: 13009)>],\n",
       " [<KpointsData: uuid: f87e1724-ce22-475f-a830-ebaff329656a (pk: 13898)>],\n",
       " ...]"
      ]
     },
     "execution_count": 28,
     "metadata": {},
     "output_type": "execute_result"
    }
   ],
   "source": [
    "qb = QueryBuilder()\n",
    "\n",
    "qb.append(ArrayData)\n",
    "\n",
    "qb.all()"
   ]
  },
  {
   "cell_type": "code",
   "execution_count": 36,
   "metadata": {},
   "outputs": [
    {
     "data": {
      "text/plain": [
       "{'path': [{'entity_type': 'data.array.ArrayData.',\n",
       "   'tag': 'ArrayData_1',\n",
       "   'joining_keyword': None,\n",
       "   'joining_value': None,\n",
       "   'outerjoin': False,\n",
       "   'edge_tag': None}],\n",
       " 'filters': {'ArrayData_1': {'node_type': {'like': 'data.array.%'}}},\n",
       " 'project': {'ArrayData_1': []},\n",
       " 'order_by': {},\n",
       " 'limit': None,\n",
       " 'offset': None}"
      ]
     },
     "execution_count": 36,
     "metadata": {},
     "output_type": "execute_result"
    }
   ],
   "source": [
    "qb.queryhelp"
   ]
  },
  {
   "cell_type": "code",
   "execution_count": 46,
   "metadata": {},
   "outputs": [
    {
     "ename": "SyntaxError",
     "evalue": "invalid syntax (<ipython-input-46-e0fff9295fb2>, line 2)",
     "output_type": "error",
     "traceback": [
      "\u001b[0;36m  File \u001b[0;32m\"<ipython-input-46-e0fff9295fb2>\"\u001b[0;36m, line \u001b[0;32m2\u001b[0m\n\u001b[0;31m    qb.add_filter('filter':{'ArrayData_1': {'node_type': {'like': 'data.array.%'}}})\u001b[0m\n\u001b[0m                          ^\u001b[0m\n\u001b[0;31mSyntaxError\u001b[0m\u001b[0;31m:\u001b[0m invalid syntax\n"
     ]
    }
   ],
   "source": [
    "#qb.add_filter('ArrayData_1',{'pk':{'>':13000}})\n",
    "qb.add_filter('filter':{'ArrayData_1': {'node_type': {'like': 'data.array.%'}}})"
   ]
  },
  {
   "cell_type": "code",
   "execution_count": 43,
   "metadata": {},
   "outputs": [
    {
     "data": {
      "text/plain": [
       "<bound method QueryBuilder.count of <aiida.orm.querybuilder.QueryBuilder object at 0x7f8038bb51c0>>"
      ]
     },
     "execution_count": 43,
     "metadata": {},
     "output_type": "execute_result"
    }
   ],
   "source": [
    "qb.count"
   ]
  },
  {
   "cell_type": "code",
   "execution_count": null,
   "metadata": {},
   "outputs": [],
   "source": [
    "def get_vbm_siesta_manual(remote_node,host_label):\n",
    "    \"\"\"\n",
    "    Calculating valence band maximum from siesta calculations\"\n",
    "    \"\"\"\n",
    "    import sisl\n",
    "\n",
    "    EIG = sisl.get_sile(remote_node.get_remote_path()+\"/\"+host_label+\".EIG\")\n",
    "\n",
    "    N_electron = int(EIG.file.read_text().split()[3])\n",
    "    vb_index = int(N_electron/2)-1\n",
    "\n",
    "    eig_gamma=EIG.read_data()[0][0]\n",
    "\n",
    "    vbm = np.amax(eig_gamma[vb_index])\n",
    "\n",
    "    return vbm\n"
   ]
  },
  {
   "cell_type": "code",
   "execution_count": null,
   "metadata": {},
   "outputs": [],
   "source": [
    "get_vbm_siesta_manual(remote_host,host_label='GaAs')"
   ]
  },
  {
   "cell_type": "code",
   "execution_count": null,
   "metadata": {},
   "outputs": [],
   "source": [
    "import sisl\n",
    "host_label='GaAs'\n",
    "#EIG = sisl.get_sile(remote_host.get_remote_path()+\"/\"+host_label+\".EIG\")\n",
    "BANDS = sisl.get_sile(remote_host.get_remote_path()+\"/\"+host_label+\".bands\")"
   ]
  },
  {
   "cell_type": "code",
   "execution_count": null,
   "metadata": {},
   "outputs": [],
   "source": [
    "def get_vbm_siesta_manual_bands(remote_node,host_label,NE):\n",
    "    \"\"\"\n",
    "    Calculating valence band maximum from siesta calculations\"\n",
    "    \"\"\"\n",
    "    import sisl\n",
    "\n",
    "    BANDS = sisl.get_sile(remote_node.get_remote_path()+\"/\"+host_label+\".bands\")\n",
    "\n",
    "    #N_electron = int(BANDS.file.read_text().split()[3])\n",
    "    N_electron = NE\n",
    "    vb_index = int(N_electron/2)-1\n",
    "\n",
    "    eig_gamma=BANDS.read_data()\n",
    "\n",
    "    vbm = np.amax(eig_gamma[2][0][0][vb_index])\n",
    "    #print(vbm)\n",
    "    return vbm\n"
   ]
  },
  {
   "cell_type": "code",
   "execution_count": null,
   "metadata": {},
   "outputs": [],
   "source": [
    "def get_vbm_siesta_manual_bands_normal(dir_path,host_label,NE):\n",
    "    \"\"\"\n",
    "    Calculating valence band maximum from siesta calculations\"\n",
    "    \"\"\"\n",
    "    import sisl\n",
    "\n",
    "    BANDS = sisl.get_sile(dir_path+\"/\"+host_label+\".bands\")\n",
    "\n",
    "    #N_electron = int(BANDS.file.read_text().split()[3])\n",
    "    N_electron = NE\n",
    "    vb_index = int(N_electron/2)-1\n",
    "\n",
    "    eig_gamma=BANDS.read_data()\n",
    "\n",
    "    vbm = np.amax(eig_gamma[2][0][0][vb_index])\n",
    "    #print(vbm)\n",
    "    return vbm\n"
   ]
  },
  {
   "cell_type": "code",
   "execution_count": null,
   "metadata": {},
   "outputs": [],
   "source": [
    "GaAS_total_electrons_222=896\n",
    "GaAs_GaV_0e_total_electrons_222 =883.000000\n",
    "GaAs_GaV_1e_total_electrons_222=884.000000\n",
    "GaAs_GaV_2e_total_electrons_222=885.000000\n",
    "GaAs_GaV_3e_total_electrons_222=886.000000\n",
    "GaAs_total_electrons_333=3024\n",
    "GaAs_GaV_0e_total_electrons_333 =3011.000000\n",
    "GaAs_GaV_1e_total_electrons_333=3012.000000\n",
    "GaAs_GaV_2e_total_electrons_333=3013.000000\n",
    "GaAs_GaV_3e_total_electrons_333=3014.000000\n",
    "GaAS_AllE_444=7156\n",
    "get_vbm_siesta_manual_bands_normal('/home/aakhtar/Calculations/2020/siesta/GaAs/LDA-standard/conventional-222-GaV-0e-DONE/GaAs-222-GaV-0e-5276023.frontal2',\n",
    "                                   'GaAs',\n",
    "                                   GaAs_GaV_0e_total_electrons_222)"
   ]
  },
  {
   "cell_type": "code",
   "execution_count": null,
   "metadata": {},
   "outputs": [],
   "source": [
    "remote_host.get_remote_path()"
   ]
  },
  {
   "cell_type": "code",
   "execution_count": null,
   "metadata": {},
   "outputs": [],
   "source": [
    "N_electron = 896"
   ]
  },
  {
   "cell_type": "code",
   "execution_count": null,
   "metadata": {},
   "outputs": [],
   "source": [
    "get_vbm_siesta_manual_bands(remote_host,host_label,N_electron)"
   ]
  },
  {
   "cell_type": "code",
   "execution_count": null,
   "metadata": {},
   "outputs": [],
   "source": [
    "vb_index = int(N_electron/2)-1\n",
    "vb_index"
   ]
  },
  {
   "cell_type": "code",
   "execution_count": null,
   "metadata": {},
   "outputs": [],
   "source": [
    "#eig_gamma=EIG.read_data()[0][0]\n",
    "eig_gamma=BANDS.read_data()\n",
    "eig_gamma"
   ]
  },
  {
   "cell_type": "code",
   "execution_count": null,
   "metadata": {},
   "outputs": [],
   "source": [
    "eig_gamma[0][1]"
   ]
  },
  {
   "cell_type": "code",
   "execution_count": null,
   "metadata": {},
   "outputs": [],
   "source": [
    "eig_gamma[2].shape"
   ]
  },
  {
   "cell_type": "code",
   "execution_count": null,
   "metadata": {
    "scrolled": true
   },
   "outputs": [],
   "source": [
    "for i in range(551):\n",
    "    print (eig_gamma[2][i][0][-1])"
   ]
  },
  {
   "cell_type": "code",
   "execution_count": null,
   "metadata": {},
   "outputs": [],
   "source": [
    "#vbm = np.amax(eig_gamma[vb_index])\n",
    "vbm = np.amax(eig_gamma[0][0][0][vb_index])\n",
    "vbm"
   ]
  },
  {
   "cell_type": "code",
   "execution_count": null,
   "metadata": {
    "scrolled": true
   },
   "outputs": [],
   "source": [
    "EIG.read_data()"
   ]
  },
  {
   "cell_type": "code",
   "execution_count": null,
   "metadata": {},
   "outputs": [],
   "source": [
    "EIG.read_fermi_level()"
   ]
  },
  {
   "cell_type": "code",
   "execution_count": null,
   "metadata": {},
   "outputs": [],
   "source": [
    "def output_total_electrons_manual(Remote_node):\n",
    "    \"\"\"\n",
    "    Return Number of Electrons in System from output.out file \n",
    "    \"\"\"\n",
    "    import sisl\n",
    "    out = sisl.io.outSileSiesta(Remote_node.get_remote_path()+\"/output.out\")\n",
    "    f=open(out.file)\n",
    "    a=f.readlines()\n",
    "    for line in range(len(a)):\n",
    "        if 'Total number of electrons:' in a[line]:\n",
    "            number_of_electrons = int(float(a[line].split()[4]))\n",
    "            #print  (a[line].split())\n",
    "    return number_of_electrons\n"
   ]
  },
  {
   "cell_type": "code",
   "execution_count": null,
   "metadata": {},
   "outputs": [],
   "source": [
    "output_total_electrons_manual(remote_host)"
   ]
  },
  {
   "cell_type": "code",
   "execution_count": null,
   "metadata": {},
   "outputs": [],
   "source": [
    "int(float(output_total_electrons_manual(remote_host)))"
   ]
  },
  {
   "cell_type": "code",
   "execution_count": null,
   "metadata": {},
   "outputs": [],
   "source": []
  },
  {
   "cell_type": "code",
   "execution_count": null,
   "metadata": {},
   "outputs": [],
   "source": []
  },
  {
   "cell_type": "code",
   "execution_count": null,
   "metadata": {},
   "outputs": [],
   "source": []
  },
  {
   "cell_type": "code",
   "execution_count": null,
   "metadata": {},
   "outputs": [],
   "source": [
    "from aiida.orm import load_node\n",
    "results =load_node('20241') #20043"
   ]
  },
  {
   "cell_type": "code",
   "execution_count": null,
   "metadata": {},
   "outputs": [],
   "source": [
    "results.get_remote_path"
   ]
  },
  {
   "cell_type": "code",
   "execution_count": null,
   "metadata": {},
   "outputs": [],
   "source": [
    "fdf_file = sisl.get_sile(results.get_remote_path()+\"/input.fdf\")"
   ]
  },
  {
   "cell_type": "code",
   "execution_count": null,
   "metadata": {},
   "outputs": [],
   "source": [
    "out = sisl.io.outSileSiesta(results.get_remote_path()+\"/output.out\")"
   ]
  },
  {
   "cell_type": "code",
   "execution_count": null,
   "metadata": {},
   "outputs": [],
   "source": [
    "f=open(out.file)"
   ]
  },
  {
   "cell_type": "code",
   "execution_count": null,
   "metadata": {},
   "outputs": [],
   "source": [
    "a=f.readlines()"
   ]
  },
  {
   "cell_type": "code",
   "execution_count": null,
   "metadata": {},
   "outputs": [],
   "source": [
    "len(a)"
   ]
  },
  {
   "cell_type": "code",
   "execution_count": null,
   "metadata": {},
   "outputs": [],
   "source": [
    "a[1207]"
   ]
  },
  {
   "cell_type": "code",
   "execution_count": null,
   "metadata": {},
   "outputs": [],
   "source": [
    "def OutputEnergyManual(Remote_node):\n",
    "    \"\"\"\n",
    "    \n",
    "    \"\"\"\n",
    "    from aiida.orm import Float\n",
    "    out = sisl.io.outSileSiesta(Remote_node.get_remote_path()+\"/output.out\")\n",
    "    f=open(out.file)\n",
    "    a=f.readlines()\n",
    "    for line in range(len(a)):\n",
    "        if 'siesta:         Total =' in a[line]:\n",
    "            energy = orm.Float(a[line].split()[3])\n",
    "            #print \n",
    "    return energy"
   ]
  },
  {
   "cell_type": "code",
   "execution_count": null,
   "metadata": {},
   "outputs": [],
   "source": [
    "OutputEnergyManual(results)"
   ]
  },
  {
   "cell_type": "code",
   "execution_count": null,
   "metadata": {},
   "outputs": [],
   "source": [
    "f.close()"
   ]
  },
  {
   "cell_type": "code",
   "execution_count": null,
   "metadata": {},
   "outputs": [],
   "source": [
    "for line in a:\n",
    "    print (line)"
   ]
  },
  {
   "cell_type": "code",
   "execution_count": null,
   "metadata": {},
   "outputs": [],
   "source": [
    "f= results.get_remote_path+\"/output.out\"\n",
    "open f as"
   ]
  },
  {
   "cell_type": "code",
   "execution_count": null,
   "metadata": {},
   "outputs": [],
   "source": [
    "a=out.read()"
   ]
  },
  {
   "cell_type": "code",
   "execution_count": null,
   "metadata": {},
   "outputs": [],
   "source": [
    "a"
   ]
  },
  {
   "cell_type": "code",
   "execution_count": null,
   "metadata": {},
   "outputs": [],
   "source": [
    "fdf_file.get(\"SystemLAbel\")"
   ]
  },
  {
   "cell_type": "code",
   "execution_count": null,
   "metadata": {},
   "outputs": [],
   "source": [
    "fdf_file.read_fermi_level()"
   ]
  },
  {
   "cell_type": "code",
   "execution_count": null,
   "metadata": {},
   "outputs": [],
   "source": [
    "data_array = sisl.get_sile(remote_pure_results.get_remote_path()+\"/GaAs.VT\")\n"
   ]
  },
  {
   "cell_type": "code",
   "execution_count": null,
   "metadata": {},
   "outputs": [],
   "source": [
    "vt = data_array.read_grid()\n",
    "vt_data = orm.ArrayData()\n",
    "vt_data_grid = orm.ArrayData()\n",
    "vt_data.set_array('data', vt.grid) # The array\n",
    "vt_data_grid.set_array('grid',np.array(vt.shape)) # The Grid Shape"
   ]
  },
  {
   "cell_type": "code",
   "execution_count": null,
   "metadata": {},
   "outputs": [],
   "source": []
  },
  {
   "cell_type": "code",
   "execution_count": null,
   "metadata": {},
   "outputs": [],
   "source": [
    "from aiida.orm import SinglefileData"
   ]
  },
  {
   "cell_type": "code",
   "execution_count": null,
   "metadata": {},
   "outputs": [],
   "source": [
    "VT = SinglefileData(GaAs_222_dir +'/GaAs.VT',computer=code.computer)"
   ]
  },
  {
   "cell_type": "code",
   "execution_count": null,
   "metadata": {},
   "outputs": [],
   "source": [
    "VT.store()"
   ]
  },
  {
   "cell_type": "code",
   "execution_count": null,
   "metadata": {},
   "outputs": [],
   "source": [
    "from aiida.orm import load_node\n",
    "remote_pure_results =load_node('20049') #"
   ]
  },
  {
   "cell_type": "code",
   "execution_count": null,
   "metadata": {},
   "outputs": [],
   "source": [
    "remote_pure_results."
   ]
  },
  {
   "cell_type": "code",
   "execution_count": null,
   "metadata": {},
   "outputs": [],
   "source": [
    "data_array = sisl.get_sile(remote_pure_results.filename)"
   ]
  },
  {
   "cell_type": "code",
   "execution_count": null,
   "metadata": {},
   "outputs": [],
   "source": [
    "data_array.read_grid()"
   ]
  },
  {
   "cell_type": "code",
   "execution_count": null,
   "metadata": {},
   "outputs": [],
   "source": [
    "VT.filename"
   ]
  },
  {
   "cell_type": "code",
   "execution_count": null,
   "metadata": {},
   "outputs": [],
   "source": [
    "Read_FDF_File(GaAs_222_dir,'input')"
   ]
  },
  {
   "cell_type": "code",
   "execution_count": null,
   "metadata": {},
   "outputs": [],
   "source": []
  },
  {
   "cell_type": "code",
   "execution_count": null,
   "metadata": {},
   "outputs": [],
   "source": [
    "VT= sisl.get_sile()"
   ]
  },
  {
   "cell_type": "code",
   "execution_count": null,
   "metadata": {},
   "outputs": [],
   "source": []
  },
  {
   "cell_type": "code",
   "execution_count": null,
   "metadata": {},
   "outputs": [],
   "source": []
  },
  {
   "cell_type": "code",
   "execution_count": null,
   "metadata": {},
   "outputs": [],
   "source": []
  },
  {
   "cell_type": "code",
   "execution_count": null,
   "metadata": {},
   "outputs": [],
   "source": []
  },
  {
   "cell_type": "code",
   "execution_count": null,
   "metadata": {},
   "outputs": [],
   "source": [
    "from aiida.orm import load_node\n",
    "results_VT=load_node('20042')"
   ]
  },
  {
   "cell_type": "code",
   "execution_count": null,
   "metadata": {},
   "outputs": [],
   "source": [
    "results_VT"
   ]
  },
  {
   "cell_type": "code",
   "execution_count": null,
   "metadata": {},
   "outputs": [],
   "source": [
    "data_array = sisl.get_sile(results_VT.filename)\n"
   ]
  },
  {
   "cell_type": "code",
   "execution_count": null,
   "metadata": {},
   "outputs": [],
   "source": [
    "data_array.read_grid()"
   ]
  },
  {
   "cell_type": "code",
   "execution_count": null,
   "metadata": {},
   "outputs": [],
   "source": [
    "vt = data_array.read_grid\n"
   ]
  },
  {
   "cell_type": "code",
   "execution_count": null,
   "metadata": {},
   "outputs": [],
   "source": [
    "vt.gr"
   ]
  },
  {
   "cell_type": "code",
   "execution_count": null,
   "metadata": {},
   "outputs": [],
   "source": [
    "data_array = sisl.get_sile(results_VT.filename)\n",
    "vt = data_array.read_grid()\n",
    "vt_data = orm.ArrayData()\n",
    "vt_data_grid = orm.ArrayData()\n",
    "vt_data.set_array('data', vt.grid) # The array\n",
    "vt_data_grid.set_array('grid',np.array(vt.shape)) # The Grid Shape\n",
    "\n",
    "#self.ctx.v_host = vt_data\n",
    "#self.ctx.v_host_grid = vt_data_grid\n",
    "#self.report(\"DEBUG: The host VT file Read!\")\n",
    "#self.report(\"DEBUG: VT Array = \"+str(self.ctx.v_host ))\n",
    "#self.report(\"DEBUG: VT Array Shape = \"+str(self.ctx.v_host_grid.get_array('grid')))\n",
    "#self.ctx.host_vbm = orm.Float(get_vbm_siesta(host_vt))\n",
    "#self.report(\"DEBUG: VBM = \"+str(self.ctx.host_vbm.value))\n"
   ]
  },
  {
   "cell_type": "code",
   "execution_count": null,
   "metadata": {},
   "outputs": [],
   "source": []
  },
  {
   "cell_type": "code",
   "execution_count": null,
   "metadata": {},
   "outputs": [],
   "source": []
  },
  {
   "cell_type": "code",
   "execution_count": null,
   "metadata": {},
   "outputs": [],
   "source": [
    "#results.output.output_parameters.get_dict()"
   ]
  },
  {
   "cell_type": "code",
   "execution_count": null,
   "metadata": {},
   "outputs": [],
   "source": [
    "#results"
   ]
  },
  {
   "cell_type": "code",
   "execution_count": null,
   "metadata": {},
   "outputs": [],
   "source": [
    "from qe_tools import CONSTANTS"
   ]
  },
  {
   "cell_type": "code",
   "execution_count": null,
   "metadata": {},
   "outputs": [],
   "source": [
    "CONSTANTS."
   ]
  },
  {
   "cell_type": "code",
   "execution_count": null,
   "metadata": {
    "scrolled": true
   },
   "outputs": [],
   "source": [
    "#!verdi process show 3160"
   ]
  },
  {
   "cell_type": "code",
   "execution_count": null,
   "metadata": {},
   "outputs": [],
   "source": [
    "#!verdi process report 3160"
   ]
  },
  {
   "cell_type": "code",
   "execution_count": null,
   "metadata": {},
   "outputs": [],
   "source": [
    "#workchain_future.outputs.formation_energy_uncorrected.value #.outputs.formation_energy_uncorrected.value\n",
    "#from aiida.orm import load_node\n",
    "#results=load_node('20618')\n",
    "#import sisl\n",
    "#data_array = sisl.get_sile(results.get_remote_workdir()+\"/aiida.VT\")\n",
    "#vt = data_array.read_grid()"
   ]
  },
  {
   "cell_type": "code",
   "execution_count": null,
   "metadata": {},
   "outputs": [],
   "source": [
    "#import numpy as np\n",
    "#vt_test = np.array(vt.shape)"
   ]
  },
  {
   "cell_type": "code",
   "execution_count": null,
   "metadata": {},
   "outputs": [],
   "source": [
    "#vt_test"
   ]
  },
  {
   "cell_type": "code",
   "execution_count": null,
   "metadata": {},
   "outputs": [],
   "source": [
    "#vt_grid = vt.shape"
   ]
  },
  {
   "cell_type": "code",
   "execution_count": null,
   "metadata": {},
   "outputs": [],
   "source": [
    "#vt_grid"
   ]
  },
  {
   "cell_type": "code",
   "execution_count": null,
   "metadata": {},
   "outputs": [],
   "source": [
    "#results.get_remote_workdir()"
   ]
  },
  {
   "cell_type": "code",
   "execution_count": null,
   "metadata": {},
   "outputs": [],
   "source": [
    "#results.outputs['output_parameters'].get_dict()['mesh']\n",
    "#results['forces_and_stress']"
   ]
  },
  {
   "cell_type": "code",
   "execution_count": null,
   "metadata": {},
   "outputs": [],
   "source": [
    "#results.outputs.output_parameters.get_dict()"
   ]
  },
  {
   "cell_type": "code",
   "execution_count": null,
   "metadata": {},
   "outputs": [],
   "source": [
    "#code"
   ]
  },
  {
   "cell_type": "code",
   "execution_count": null,
   "metadata": {},
   "outputs": [],
   "source": [
    "#from aiida_siesta.calculations.siesta import SiestaCalculation\n",
    "#builder = SiestaCalculation.get_builder()"
   ]
  },
  {
   "cell_type": "code",
   "execution_count": null,
   "metadata": {},
   "outputs": [],
   "source": [
    "#builder.metadata"
   ]
  },
  {
   "cell_type": "code",
   "execution_count": null,
   "metadata": {},
   "outputs": [],
   "source": [
    "#import sisl\n",
    "#fdf=sisl.get_sile(\"/home/aakhtar/aiida_scartch/45/17/087b-33b2-42a2-8f27-185b3bc39cad/aiida.fdf\") \n",
    "#out=sisl.get_sile(\"/home/aakhtar/aiida_scartch/00/9b/e245-59f6-4638-8725-a4fced1dd07e/aiida.out\") \n",
    "#a=out.readline()"
   ]
  },
  {
   "cell_type": "code",
   "execution_count": null,
   "metadata": {},
   "outputs": [],
   "source": [
    "#test=fdf.read_geometry()\n",
    "#data_array = sisl.get_sile(\"/home/aakhtar/aiida_scartch/00/9b/e245-59f6-4638-8725-a4fced1dd07e/aiida.EIG\") \n",
    "#data_array = sisl.get_sile(\"/home/aakhtar/aiida_scartch/83/7d/dd23-b492-4eb2-a266-99260ad907ee/aiida.EIG\") \n"
   ]
  },
  {
   "cell_type": "code",
   "execution_count": null,
   "metadata": {},
   "outputs": [],
   "source": [
    "\n",
    "#data_array.file.read_text()"
   ]
  },
  {
   "cell_type": "code",
   "execution_count": null,
   "metadata": {},
   "outputs": [],
   "source": [
    "#data_array.read_data()[0][0]"
   ]
  },
  {
   "cell_type": "code",
   "execution_count": null,
   "metadata": {},
   "outputs": [],
   "source": []
  },
  {
   "cell_type": "code",
   "execution_count": null,
   "metadata": {
    "scrolled": true
   },
   "outputs": [],
   "source": []
  },
  {
   "cell_type": "code",
   "execution_count": null,
   "metadata": {},
   "outputs": [],
   "source": [
    "#N_electron=int(data_array.file.read_text().split()[3])\n",
    "#vb_index = int(N_electron/2)-1\n",
    "#vb_index"
   ]
  },
  {
   "cell_type": "code",
   "execution_count": null,
   "metadata": {},
   "outputs": [],
   "source": [
    "#fermi=data_array.read_fermi_level()\n",
    "#eig=data_array.read_data()[0][0]\n",
    "#print (fermi)"
   ]
  },
  {
   "cell_type": "code",
   "execution_count": null,
   "metadata": {},
   "outputs": [],
   "source": [
    "#import numpy as np"
   ]
  },
  {
   "cell_type": "code",
   "execution_count": null,
   "metadata": {},
   "outputs": [],
   "source": [
    "#for i in eig:\n",
    "#    print (i)"
   ]
  },
  {
   "cell_type": "code",
   "execution_count": null,
   "metadata": {},
   "outputs": [],
   "source": [
    "#vbm = np.amax(eig[vb_index])"
   ]
  },
  {
   "cell_type": "markdown",
   "metadata": {},
   "source": [
    "# Model Charge"
   ]
  },
  {
   "cell_type": "code",
   "execution_count": null,
   "metadata": {},
   "outputs": [],
   "source": []
  },
  {
   "cell_type": "code",
   "execution_count": null,
   "metadata": {},
   "outputs": [],
   "source": [
    "#data_array.read_data()"
   ]
  },
  {
   "cell_type": "code",
   "execution_count": null,
   "metadata": {},
   "outputs": [],
   "source": [
    "#data_array = sisl.get_sile(\"/home/aakhtar/aiida_scartch/f1/42/f7ea-5d86-40a8-9963-2ec31bfb426a/aiida.VT\") "
   ]
  },
  {
   "cell_type": "code",
   "execution_count": null,
   "metadata": {},
   "outputs": [],
   "source": [
    "#vt=data_array.read_grid()"
   ]
  },
  {
   "cell_type": "code",
   "execution_count": null,
   "metadata": {},
   "outputs": [],
   "source": [
    "#vt.shape"
   ]
  },
  {
   "cell_type": "code",
   "execution_count": null,
   "metadata": {},
   "outputs": [],
   "source": [
    "#get_reciprocal_grid(test.rcell,50.0)"
   ]
  },
  {
   "cell_type": "code",
   "execution_count": null,
   "metadata": {},
   "outputs": [],
   "source": [
    "#get_model_potential_with_siesta_mesh()\n",
    "#from aiida.orm import load_node\n",
    "#results=load_node('9478')\n"
   ]
  },
  {
   "cell_type": "code",
   "execution_count": null,
   "metadata": {},
   "outputs": [],
   "source": [
    "#a=results.inputs.structure"
   ]
  },
  {
   "cell_type": "code",
   "execution_count": null,
   "metadata": {},
   "outputs": [],
   "source": [
    "#import sisl\n",
    "#fdf=sisl.get_sile(\"/home/aakhtar/aiida_scartch/45/17/087b-33b2-42a2-8f27-185b3bc39cad/aiida.fdf\") \n",
    "#test=fdf.read_geometry()\n",
    "#test.rcell"
   ]
  },
  {
   "cell_type": "code",
   "execution_count": null,
   "metadata": {},
   "outputs": [],
   "source": []
  }
 ],
 "metadata": {
  "kernelspec": {
   "display_name": "Python 3",
   "language": "python",
   "name": "python3"
  },
  "language_info": {
   "codemirror_mode": {
    "name": "ipython",
    "version": 3
   },
   "file_extension": ".py",
   "mimetype": "text/x-python",
   "name": "python",
   "nbconvert_exporter": "python",
   "pygments_lexer": "ipython3",
   "version": "3.8.5"
  }
 },
 "nbformat": 4,
 "nbformat_minor": 4
}
