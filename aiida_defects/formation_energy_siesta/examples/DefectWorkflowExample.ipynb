{
 "cells": [
  {
   "cell_type": "code",
   "execution_count": 1,
   "metadata": {},
   "outputs": [],
   "source": [
    "from __future__ import absolute_import\n",
    "import aiida\n",
    "from aiida import load_profile\n",
    "load_profile()\n",
    "\n",
    "# Import commonly used functionality\n",
    "import numpy as np\n",
    "from aiida import orm, engine, common\n",
    "from aiida.plugins import WorkflowFactory\n",
    "from aiida.orm import Code\n"
   ]
  },
  {
   "cell_type": "code",
   "execution_count": 2,
   "metadata": {},
   "outputs": [
    {
     "name": "stdout",
     "output_type": "stream",
     "text": [
      "\u001b[22mRestarting the daemon... \u001b[0m\u001b[32m\u001b[1mOK\u001b[0m\n"
     ]
    }
   ],
   "source": [
    "!reentry scan\n",
    "#!verdi daemon start\n",
    "!verdi daemon restart"
   ]
  },
  {
   "cell_type": "code",
   "execution_count": 3,
   "metadata": {},
   "outputs": [],
   "source": [
    "from aiida_defects.formation_energy_siesta.formation_energy_siesta import FormationEnergyWorkchainSIESTA\n",
    "#import .formation_energy_siesta\n",
    "#!pwd"
   ]
  },
  {
   "cell_type": "code",
   "execution_count": 4,
   "metadata": {},
   "outputs": [],
   "source": [
    "from aiida.orm import StructureData\n",
    "\n",
    "cell = [[ 9.9678210000 ,  0.0000000000 ,    0.0000000000,],\n",
    "        [-4.9839090000 ,  8.6323860000 ,    0.0000000000,],\n",
    "        [ 0.0000000000 ,  0.0000000000 ,  35.0000000000,],\n",
    "        ]\n",
    "pure = StructureData(cell=cell)\n",
    "# Pristine Structure\n",
    "pure.append_atom(position=( 1.6613036650053632    , 0.959153999040846 ,17.5 ),symbols='Mg',name=\"Mg\") #1\n",
    "pure.append_atom(position=( 3.333333331578814e-07 ,  1.918307998081692,17.5 ),symbols='O',name=\"O\")   #2\n",
    "pure.append_atom(position=( 4.983911666666668     , 6.714078001918309 ,17.5 ),symbols='Mg',name=\"Mg\") #3\n",
    "pure.append_atom(position=( 3.322608334994638     , 7.673232000959154 ,17.5 ),symbols='O',name=\"O\")   #4\n",
    "pure.append_atom(position=( 1.6613046600214534    ,  6.714078001918309,17.5 ),symbols='Mg',name=\"Mg\") #5\n",
    "pure.append_atom(position=( 1.3283494233462534e-06, 7.673232000959154 ,17.5 ),symbols='O',name=\"O\")   #6\n",
    "pure.append_atom(position=(-1.6613023366559396    ,  6.714078001918309,17.5 ),symbols='Mg',name=\"Mg\") #7\n",
    "pure.append_atom(position=(-3.32260566832797      , 7.673232000959154 ,17.5 ),symbols='O',name=\"O\")   #8\n",
    "pure.append_atom(position=( 6.645214669989273     , 3.836615996163384 ,17.5 ),symbols='Mg',name=\"Mg\") #9\n",
    "pure.append_atom(position=( 4.983911338317244     , 4.79576999520423  ,17.5 ),symbols='O',name=\"O\")   #10\n",
    "pure.append_atom(position=( 3.3226076633440593    , 3.836615996163384 ,17.5 ),symbols='Mg',name=\"Mg\") #11\n",
    "pure.append_atom(position=( 1.6613043316720297    , 4.79576999520423  ,17.5 ),symbols='O',name=\"O\")   #12\n",
    "pure.append_atom(position=( 6.666666663157628e-07 , 3.836615996163384 ,17.5 ),symbols='Mg',name=\"Mg\") #13\n",
    "pure.append_atom(position=(-1.6613026650053635    , 4.79576999520423  ,17.5 ),symbols='O',name=\"O\")   #14\n",
    "pure.append_atom(position=( 8.30651766832797      , 0.959153999040846 ,17.5 ),symbols='Mg',name=\"Mg\") #15\n",
    "pure.append_atom(position=( 6.6452143366559415    , 1.918307998081692 ,17.5 ),symbols='O',name=\"O\")   #16\n",
    "pure.append_atom(position=( 4.983910661682756     , 0.959153999040846 ,17.5 ),symbols='Mg',name=\"Mg\") #17\n",
    "pure.append_atom(position=( 3.3226073300107264    , 1.918307998081692 ,17.5 ),symbols='O',name=\"O\")  #18\n",
    "# Defect Structure\n",
    "defect=StructureData(cell=cell)\n",
    "defect.append_atom(position=( 1.6613036650053632    , 0.959153999040846 ,17.5 ),symbols='Mg',name=\"Mg\") #1\n",
    "defect.append_atom(position=( 3.333333331578814e-07 ,  1.918307998081692,17.5 ),symbols='O',name=\"O\")   #2\n",
    "defect.append_atom(position=( 4.983911666666668     , 6.714078001918309 ,17.5 ),symbols='Mg',name=\"Mg\") #3\n",
    "defect.append_atom(position=( 3.322608334994638     , 7.673232000959154 ,17.5 ),symbols='O',name=\"O\")   #4\n",
    "defect.append_atom(position=( 1.6613046600214534    ,  6.714078001918309,17.5 ),symbols='Mg',name=\"Mg\") #5\n",
    "defect.append_atom(position=( 1.3283494233462534e-06, 7.673232000959154 ,17.5 ),symbols='O',name=\"O\")   #6\n",
    "defect.append_atom(position=(-1.6613023366559396    ,  6.714078001918309,17.5 ),symbols='Mg',name=\"Mg\") #7\n",
    "defect.append_atom(position=(-3.32260566832797      , 7.673232000959154 ,17.5 ),symbols='O',name=\"O\")   #8\n",
    "defect.append_atom(position=( 6.645214669989273     , 3.836615996163384 ,17.5 ),symbols='Mg',name=\"Mg\") #9\n",
    "defect.append_atom(position=( 4.983911338317244     , 4.79576999520423  ,17.5 ),symbols='O',name=\"O\")   #10\n",
    "defect.append_atom(position=( 3.3226076633440593    , 3.836615996163384 ,17.5 ),symbols='Mg',name=\"Mg\") #11\n",
    "defect.append_atom(position=( 1.6613043316720297    , 4.79576999520423  ,17.5 ),symbols='O',name=\"O\")   #12\n",
    "defect.append_atom(position=( 6.666666663157628e-07 , 3.836615996163384 ,17.5 ),symbols='Mg',name=\"Mg\") #13\n",
    "defect.append_atom(position=(-1.6613026650053635    , 4.79576999520423  ,17.5 ),symbols='O',name=\"O\")   #14\n",
    "defect.append_atom(position=( 8.30651766832797      , 0.959153999040846 ,17.5 ),symbols='Mg',name=\"Mg\") #15\n",
    "defect.append_atom(position=( 6.6452143366559415    , 1.918307998081692 ,17.5 ),symbols='O',name=\"O\")   #16\n",
    "defect.append_atom(position=( 4.983910661682756     , 0.959153999040846 ,17.5 ),symbols='Mg',name=\"Mg\") #17\n",
    "defect.append_atom(position=( 3.3226073300107264    , 1.918307998081692 ,17.5 ),symbols='O',name=\"O_ghost\")  #18"
   ]
  },
  {
   "cell_type": "code",
   "execution_count": 5,
   "metadata": {},
   "outputs": [],
   "source": [
    "#from aiida.orm import StructureData\n",
    "#Structure Pure\n",
    "\n",
    "# Water Defect\n",
    "#cell = [[15.0, 0.0, 0.0,],\n",
    "#        [ 0.0,15.0, 0.0,],\n",
    "#        [ 0.0, 0.0,15.0,],\n",
    "#        ]\n",
    "\n",
    "#pure = StructureData(cell=cell)\n",
    "#pure.append_atom(position=( 0.000 , 0.000 , 0.000 ),symbols='O',name=\"O\") #1\n",
    "#pure.append_atom(position=( 0.757 , 0.586 , 0.000 ),symbols=['H']) #2\n",
    "#pure.append_atom(position=(-0.757 , 0.586 , 0.000),symbols=['H']) #3 \n",
    "#pure.append_atom(position=( 0.000 , 3.500 , 0.000),symbols=['O']) #4\n",
    "#pure.append_atom(position=( 0.757 , 2.914 , 0.000 ),symbols=['H']) #5\n",
    "#pure.append_atom(position=(-0.757 , 2.914 , 0.000),symbols=['H']) #6\n",
    "#defect=StructureData(cell=cell)\n",
    "#defect.append_atom(position=( 0.000 , 0.000 , 0.000 ),symbols=['O']) #1\n",
    "#defect.append_atom(position=( 0.757 , 0.586 , 0.000 ),symbols=['H']) #2\n",
    "#defect.append_atom(position=(-0.757 , 0.586 , 0.000),symbols=['H']) #3 \n",
    "#defect.append_atom(position=( 0.000 , 3.500 , 0.000),symbols=['O']) #4\n",
    "#defect.append_atom(position=( 0.757 , 2.914 , 0.000 ),symbols=['H']) #5\n",
    "#defect.append_atom(position=(-0.757 , 2.914 , 0.000),symbols=['H'],name=\"GhostH\") #6"
   ]
  },
  {
   "cell_type": "code",
   "execution_count": 6,
   "metadata": {},
   "outputs": [],
   "source": [
    "#code = Code.get_from_string('siesta-psml-lua@N552VW')\n",
    "code = Code.get_from_string('siesta-psml-lua@pwk')\n",
    "#code = Code.get_from_string('siesta-master-gfortran-openmpi-lua@icn2-workstation')\n",
    "\n",
    "charge=-2"
   ]
  },
  {
   "cell_type": "code",
   "execution_count": 7,
   "metadata": {},
   "outputs": [],
   "source": [
    "from aiida.orm import Dict\n",
    "parameters_host = Dict(dict={\n",
    "   \"mesh-cutoff\": \"250 Ry\",\n",
    "   \"dm-tolerance\": \"0.0001\",\n",
    "   \"MD-TypeOfRun\":   \"cg\",\n",
    "    \"MD-NumCGsteps\": \"5000\",\n",
    "   #\"LUA-script\":   \"neb.lua\",\n",
    "   \"DM-NumberPulay \":  \"3\",\n",
    "   \"DM-History-Depth\":  \"0\",\n",
    "   \"SCF-Mixer-weight\":  \"0.02\",\n",
    "   \"SCF-Mix\":   \"density\",\n",
    "   \"SCF-Mixer-kick\":  \"35\",\n",
    "   \"MD-VariableCell\":  \"F\",\n",
    "   \"MD-MaxCGDispl\":  \"0.3 Bohr\",\n",
    "   \"MD-MaxForceTol\":  \" 0.04000 eV/Ang\",\n",
    "   \"SaveTotalPotential\": \"True\",\n",
    "    })\n",
    "parameters_defect_q0 = Dict(dict={\n",
    "   \"mesh-cutoff\": \"250 Ry\",\n",
    "   \"dm-tolerance\": \"0.0001\",\n",
    "   \"MD-TypeOfRun\":   \"cg\",\n",
    "    \"MD-NumCGsteps\": \"5000\",\n",
    "   #\"LUA-script\":   \"neb.lua\",\n",
    "   \"DM-NumberPulay \":  \"3\",\n",
    "   \"DM-History-Depth\":  \"0\",\n",
    "   \"SCF-Mixer-weight\":  \"0.02\",\n",
    "   \"SCF-Mix\":   \"density\",\n",
    "   \"SCF-Mixer-kick\":  \"35\",\n",
    "   \"MD-VariableCell\":  \"F\",\n",
    "   \"MD-MaxCGDispl\":  \"0.3 Bohr\",\n",
    "   \"MD-MaxForceTol\":  \" 0.04000 eV/Ang\", \n",
    "   \"NetCharge\": \"0\",\n",
    "    \"SaveTotalPotential\": \"True\",\n",
    "    })\n",
    "parameters_defect_q = Dict(dict={\n",
    "   \"mesh-cutoff\": \"250 Ry\",\n",
    "   \"dm-tolerance\": \"0.0001\",\n",
    "   \"MD-TypeOfRun\":   \"cg\",\n",
    "    \"MD-NumCGsteps\": \"5000\",\n",
    "   #\"LUA-script\":   \"neb.lua\",\n",
    "   \"DM-NumberPulay \":  \"3\",\n",
    "   \"DM-History-Depth\":  \"0\",\n",
    "   \"SCF-Mixer-weight\":  \"0.02\",\n",
    "   \"SCF-Mix\":   \"density\",\n",
    "   \"SCF-Mixer-kick\":  \"35\",\n",
    "   \"MD-VariableCell\":  \"F\",\n",
    "   \"MD-MaxCGDispl\":  \"0.3 Bohr\",\n",
    "   \"MD-MaxForceTol\":  \" 0.04000 eV/Ang\",\n",
    "   \"NetCharge\": str(charge),\n",
    "    \"SaveTotalPotential\": \"True\",\n",
    "    })\n",
    "#options_host=Dict(dict={'options':{\"max_wallclock_seconds\": 360},\n",
    "#                        \"resources\":{\"num_machines\": 1,\n",
    "#                                      \"num_mpiprocs_per_machine\": 1}\n",
    "#                        })\n",
    "options_host=Dict(dict={\n",
    "        \"max_wallclock_seconds\": 360000,\n",
    "        #'withmpi': True,\n",
    "        #'account': \"tcphy113c\",\n",
    "        #'queue_name': \"DevQ\",\n",
    "        \"resources\": {\n",
    "            \"num_machines\": 1,\n",
    "            \"num_mpiprocs_per_machine\": 1,\n",
    "        }\n",
    "    })\n",
    "options_defect_q0=Dict(dict={\n",
    "        \"max_wallclock_seconds\": 360000,\n",
    "        #'withmpi': True,\n",
    "        #'account': \"tcphy113c\",\n",
    "        #'queue_name': \"DevQ\",\n",
    "        \"resources\": {\n",
    "            \"num_machines\": 1,\n",
    "            \"num_mpiprocs_per_machine\": 1,\n",
    "        }\n",
    "    })\n",
    "options_defect_q=Dict(dict={\n",
    "        \"max_wallclock_seconds\": 360000,\n",
    "        #'withmpi': True,\n",
    "        #'account': \"tcphy113c\",\n",
    "        #'queue_name': \"DevQ\",\n",
    "        \"resources\": {\n",
    "            \"num_machines\": 1,\n",
    "            \"num_mpiprocs_per_machine\": 1,\n",
    "        }\n",
    "    })\n",
    "\n"
   ]
  },
  {
   "cell_type": "code",
   "execution_count": 8,
   "metadata": {},
   "outputs": [],
   "source": [
    "basis_dict_host =Dict(dict= {\n",
    "'pao-basistype':'split',\n",
    "'pao-splitnorm': 0.150,\n",
    "'pao-energyshift': '0.020 Ry',\n",
    "  \"%block PAO-Basis\":\n",
    "    \"\"\"\n",
    " Mg   4      0.04671\n",
    " n=2   0   1   E    22.36384     0.28509\n",
    " 3.47661\n",
    " 1.00000\n",
    " n=3   0   2   E    10.10988     0.99154\n",
    " 3.46833     1.25785\n",
    " 1.00000     1.00000\n",
    " n=2   1   2   E     2.89494     1.12196\n",
    " 3.93864     1.05729\n",
    " 1.00000     1.00000\n",
    " n=3   1   1   E    77.17311     1.04265\n",
    " 4.39039\n",
    " 1.00000\n",
    " O    3     -0.49820\n",
    " n=2   0   2   E     3.77977     0.09673\n",
    " 4.74747     2.11057\n",
    " 1.00000     1.00000\n",
    " n=3   0   1   E     5.24950     0.27857\n",
    " 4.37690\n",
    " 1.00000\n",
    " n=2   1   2   E     2.98223     1.27650\n",
    " 7.24547     3.33329\n",
    " 1.00000     1.00000\n",
    "%endblock PAO-Basis\"\"\"    \n",
    "})\n",
    "basis_dict_defect_q0 = Dict(dict= {\n",
    "'pao-basistype':'split',\n",
    "'pao-splitnorm': 0.150,\n",
    "'pao-energyshift': '0.020 Ry',\n",
    "  \"%block PAO-Basis\":\n",
    "    \"\"\"\n",
    " Mg   4      0.04671\n",
    " n=2   0   1   E    22.36384     0.28509\n",
    " 3.47661\n",
    " 1.00000\n",
    " n=3   0   2   E    10.10988     0.99154\n",
    " 3.46833     1.25785\n",
    " 1.00000     1.00000\n",
    " n=2   1   2   E     2.89494     1.12196\n",
    " 3.93864     1.05729\n",
    " 1.00000     1.00000\n",
    " n=3   1   1   E    77.17311     1.04265\n",
    " 4.39039\n",
    " 1.00000\n",
    " O    3     -0.49820\n",
    " n=2   0   2   E     3.77977     0.09673\n",
    " 4.74747     2.11057\n",
    " 1.00000     1.00000\n",
    " n=3   0   1   E     5.24950     0.27857\n",
    " 4.37690\n",
    " 1.00000\n",
    " n=2   1   2   E     2.98223     1.27650\n",
    " 7.24547     3.33329\n",
    " 1.00000     1.00000\n",
    " O_ghost  3     -1.49097\n",
    " n=2   0   2   E    16.28001     3.94212\n",
    " 5.71993     3.12860\n",
    " 1.00000     1.00000\n",
    " n=2   1   2   E     5.45115     2.41457\n",
    " 5.43517     3.35834\n",
    " 1.00000     1.00000\n",
    " n=3   2   1   E     1.93336     0.88932\n",
    " 4.35775\n",
    " 1.00000\n",
    "%endblock PAO-Basis\"\"\"    \n",
    "})\n",
    "basis_dict_defect_q =Dict(dict= {\n",
    "'pao-basistype':'split',\n",
    "'pao-splitnorm': 0.150,\n",
    "'pao-energyshift': '0.020 Ry',\n",
    "  \"%block PAO-Basis\":\n",
    "    \"\"\"\n",
    " Mg   4      0.04671\n",
    " n=2   0   1   E    22.36384     0.28509\n",
    " 3.47661\n",
    " 1.00000\n",
    " n=3   0   2   E    10.10988     0.99154\n",
    " 3.46833     1.25785\n",
    " 1.00000     1.00000\n",
    " n=2   1   2   E     2.89494     1.12196\n",
    " 3.93864     1.05729\n",
    " 1.00000     1.00000\n",
    " n=3   1   1   E    77.17311     1.04265\n",
    " 4.39039\n",
    " 1.00000\n",
    " O    3     -0.49820\n",
    " n=2   0   2   E     3.77977     0.09673\n",
    " 4.74747     2.11057\n",
    " 1.00000     1.00000\n",
    " n=3   0   1   E     5.24950     0.27857\n",
    " 4.37690\n",
    " 1.00000\n",
    " n=2   1   2   E     2.98223     1.27650\n",
    " 7.24547     3.33329\n",
    " 1.00000     1.00000\n",
    " O_ghost  3     -1.49097\n",
    " n=2   0   2   E    16.28001     3.94212\n",
    " 5.71993     3.12860\n",
    " 1.00000     1.00000\n",
    " n=2   1   2   E     5.45115     2.41457\n",
    " 5.43517     3.35834\n",
    " 1.00000     1.00000\n",
    " n=3   2   1   E     1.93336     0.88932\n",
    " 4.35775\n",
    " 1.00000\n",
    "%endblock PAO-Basis\"\"\"    \n",
    "})"
   ]
  },
  {
   "cell_type": "code",
   "execution_count": 9,
   "metadata": {},
   "outputs": [],
   "source": [
    "#parameters_defect_q0.get_dict()"
   ]
  },
  {
   "cell_type": "code",
   "execution_count": 10,
   "metadata": {},
   "outputs": [],
   "source": [
    "kpoints_host = orm.KpointsData()\n",
    "kpoints_host.set_kpoints_mesh([2,2,2]) # Definately not converged, but we want the example to run quickly\n",
    "kpoints_defect_q0 = orm.KpointsData()\n",
    "kpoints_defect_q0.set_kpoints_mesh([2,2,2]) # Definately not converged, but we want the example to run quickly\n",
    "kpoints_defect_q = orm.KpointsData()\n",
    "kpoints_defect_q.set_kpoints_mesh([2,2,2]) # Definately not converged, but we want the example to run quickly"
   ]
  },
  {
   "cell_type": "code",
   "execution_count": 11,
   "metadata": {},
   "outputs": [],
   "source": [
    "#bandskpoints_host = KpointsData()\n",
    "#bandskpoints_defect_q0 = KpointsData()\n",
    "#bandskpoints_defect_q = KpointsData()"
   ]
  },
  {
   "cell_type": "code",
   "execution_count": 12,
   "metadata": {},
   "outputs": [
    {
     "data": {
      "text/plain": [
       "{'Mg': <PsfData: uuid: 44f24b65-85bb-4f76-8c15-20ceaf3c0258 (pk: 166)>,\n",
       " 'O': <PsfData: uuid: 9b3d6b90-a0a6-4f9b-9dcc-fca3422a6e0e (pk: 36)>}"
      ]
     },
     "execution_count": 12,
     "metadata": {},
     "output_type": "execute_result"
    }
   ],
   "source": [
    "import os\n",
    "from aiida_siesta.data.psf import PsfData\n",
    "pseudo_file_to_species_map = [(\"Mg.psf\",[\"Mg\"]), (\"O.psf\", ['O'])]\n",
    "#pseudo_file_to_species_map = [ (\"H.psf\", ['H']),(\"O.psf\", ['O'])]\n",
    "#pseudo_file_to_species_map = [ (\"H.psf\",[\"H\"]),(\"GhostH.psf\",[\"GhostH\"]),(\"O.psf\", ['O'])]\n",
    "pseudos_dict_host = {}\n",
    "for fname, kinds, in pseudo_file_to_species_map:\n",
    "    absname = os.path.realpath(os.path.join(\"./pseudos\",fname))\n",
    "    pseudo, created = PsfData.get_or_create(absname, use_first=True)\n",
    "    for j in kinds:\n",
    "        pseudos_dict_host[j]=pseudo                \n",
    "pseudos_dict_host\n"
   ]
  },
  {
   "cell_type": "code",
   "execution_count": 13,
   "metadata": {},
   "outputs": [
    {
     "data": {
      "text/plain": [
       "{'Mg': <PsfData: uuid: 44f24b65-85bb-4f76-8c15-20ceaf3c0258 (pk: 166)>,\n",
       " 'O': <PsfData: uuid: 9b3d6b90-a0a6-4f9b-9dcc-fca3422a6e0e (pk: 36)>,\n",
       " 'O_ghost': <PsfData: uuid: 9b3d6b90-a0a6-4f9b-9dcc-fca3422a6e0e (pk: 36)>}"
      ]
     },
     "execution_count": 13,
     "metadata": {},
     "output_type": "execute_result"
    }
   ],
   "source": [
    "#pseudo_file_to_species_map = [(\"O.psf\", ['O'])]\n",
    "#pseudo_file_to_species_map = [ (\"H.psf\", ['GhostH','H']),(\"O.psf\", ['O'])]\n",
    "pseudo_file_to_species_map = [(\"Mg.psf\",[\"Mg\"]), (\"O.psf\", ['O','O_ghost'])]\n",
    "pseudos_dict_defect = {}\n",
    "for fname, kinds, in pseudo_file_to_species_map:\n",
    "    absname = os.path.realpath(os.path.join(\"./pseudos\",fname))\n",
    "    pseudo, created = PsfData.get_or_create(absname, use_first=True)\n",
    "    for j in kinds:\n",
    "        pseudos_dict_defect[j]=pseudo\n",
    "pseudos_dict_defect"
   ]
  },
  {
   "cell_type": "code",
   "execution_count": 14,
   "metadata": {},
   "outputs": [],
   "source": [
    "inputs = {\n",
    "    # Structures\n",
    "    'host_structure': pure,\n",
    "    'defect_structure': defect,\n",
    "    'add_or_remove':orm.Str('none'),\n",
    "    'run_siesta_host':orm.Bool(False),\n",
    "    'run_siesta_defect_q0':orm.Bool(False),\n",
    "    'run_siesta_defect_q':orm.Bool(False),\n",
    "    'host_node':orm.Int(19201),    # LAPTOP 20618\n",
    "    'defect_q0_node':orm.Int(19202),  # LAPTOP 20619\n",
    "    'defect_q_node':orm.Int(19203),  # LAPTOP 20620\n",
    "    # Defect information \n",
    "    'defect_charge' : orm.Float(charge),\n",
    "    'defect_site' : orm.List(list=[3.3226073300107264    , 1.918307998081692 ,17.5]),    # Position of the defect in crystal coordinates\n",
    "    'fermi_level' : orm.Float(0.0),               # Position of the Fermi level, with respect to the valence band maximum      \n",
    "    'chemical_potential' : orm.Float(-426.469297 ), # eV, the chemical potentical of a O atom\n",
    "    #'sigma':orm.Float(2.614),\n",
    "    'use_siesta_mesh_cutoff':orm.Bool(True),\n",
    "    'correction_scheme' : orm.Str('gaussian-model'), # gaussian-model ,gaussian , point, none\n",
    "    \"epsilon\":orm.Float(1.0),\n",
    "    \"pseudos_host\":pseudos_dict_host,\n",
    "    \"pseudos_defect\":pseudos_dict_defect,\n",
    "    #\"pseudos_q0\":pseudos_dict,\n",
    "    #\"pseudos_q\":pseudos_dict,\n",
    "    # Computational (chosen code is QE)\n",
    "    'siesta' : { 'dft': {'supercell_host':{'code': code, 'kpoints': kpoints_host, 'parameters' : parameters_host,\n",
    "                                           'options':options_host,\"basis\": basis_dict_host},\n",
    "                         'supercell_defect_q0':{'code': code, 'kpoints': kpoints_defect_q,'parameters' : parameters_defect_q0,\n",
    "                                                'options':options_defect_q0,\"basis\": basis_dict_defect_q0},\n",
    "                         'supercell_defect_q':{'code': code, 'kpoints': kpoints_defect_q,'parameters' : parameters_defect_q,\n",
    "                                               'options':options_defect_q,\"basis\": basis_dict_defect_q}\n",
    "}}}"
   ]
  },
  {
   "cell_type": "code",
   "execution_count": 15,
   "metadata": {},
   "outputs": [
    {
     "data": {
      "text/plain": [
       "{'host_structure': <StructureData: uuid: ed8ad0ef-4295-43e0-9e90-b353f4dedb53 (unstored)>,\n",
       " 'defect_structure': <StructureData: uuid: e5e636a1-492c-452e-bc6b-7f000fee179a (unstored)>,\n",
       " 'add_or_remove': <Str: uuid: 7b8f2993-b11f-4544-ae62-186b26ec6c52 (unstored) value: none>,\n",
       " 'run_siesta_host': <Bool: uuid: b0498b11-dfc7-4e74-812a-5da8fa868d3b (unstored) value: False>,\n",
       " 'run_siesta_defect_q0': <Bool: uuid: 1052f4c4-43df-4718-b708-76569bcf18ff (unstored) value: False>,\n",
       " 'run_siesta_defect_q': <Bool: uuid: d3d83b1b-1cc3-477c-8b48-71472218c4aa (unstored) value: False>,\n",
       " 'host_node': <Int: uuid: 126e7818-9ad0-4d6b-9c40-437f49019422 (unstored) value: 19201>,\n",
       " 'defect_q0_node': <Int: uuid: 59411f4d-0b25-43b4-873d-cea13371ca31 (unstored) value: 19202>,\n",
       " 'defect_q_node': <Int: uuid: 26acdb6e-e4c0-4a47-b6d9-861bd3474f8f (unstored) value: 19203>,\n",
       " 'defect_charge': <Float: uuid: 2c65865b-8113-43ba-bd8f-53e5596f3a98 (unstored) value: -2.0>,\n",
       " 'defect_site': <List: uuid: 1f16143f-7acb-44b1-bd1a-714561927979 (unstored) value: [3.3226073300107264, 1.918307998081692, 17.5]>,\n",
       " 'fermi_level': <Float: uuid: 84684980-a9a8-48f8-bdff-fd8e87c641e7 (unstored) value: 0.0>,\n",
       " 'chemical_potential': <Float: uuid: 7fec0674-f1da-48bc-a2b9-8b632b237860 (unstored) value: -426.469297>,\n",
       " 'use_siesta_mesh_cutoff': <Bool: uuid: c0f417a6-154d-40d4-8825-79f5c60fe62a (unstored) value: True>,\n",
       " 'correction_scheme': <Str: uuid: 8f1dfe96-8de0-4dde-b9bf-aa1500120247 (unstored) value: gaussian-model>,\n",
       " 'epsilon': <Float: uuid: 38ae0562-1d6c-4b8d-8524-c76906ed7e35 (unstored) value: 1.0>,\n",
       " 'pseudos_host': {'Mg': <PsfData: uuid: 44f24b65-85bb-4f76-8c15-20ceaf3c0258 (pk: 166)>,\n",
       "  'O': <PsfData: uuid: 9b3d6b90-a0a6-4f9b-9dcc-fca3422a6e0e (pk: 36)>},\n",
       " 'pseudos_defect': {'Mg': <PsfData: uuid: 44f24b65-85bb-4f76-8c15-20ceaf3c0258 (pk: 166)>,\n",
       "  'O': <PsfData: uuid: 9b3d6b90-a0a6-4f9b-9dcc-fca3422a6e0e (pk: 36)>,\n",
       "  'O_ghost': <PsfData: uuid: 9b3d6b90-a0a6-4f9b-9dcc-fca3422a6e0e (pk: 36)>},\n",
       " 'siesta': {'dft': {'supercell_host': {'code': <Code: Remote code 'siesta-psml-lua' on pwk, pk: 26, uuid: 348b1f10-53dc-40ee-8f70-ebde50e803f3>,\n",
       "    'kpoints': <KpointsData: uuid: 28ac68e5-b15b-4254-9a7b-ae5b45bcf9c5 (unstored)>,\n",
       "    'parameters': <Dict: uuid: 7ee2b55c-b95e-4494-a674-953a7f8d3754 (unstored)>,\n",
       "    'options': <Dict: uuid: d8030ec3-d48b-4aa6-9af5-3161015c83eb (unstored)>,\n",
       "    'basis': <Dict: uuid: c1f70fca-6c19-4aad-b695-4434b236dc22 (unstored)>},\n",
       "   'supercell_defect_q0': {'code': <Code: Remote code 'siesta-psml-lua' on pwk, pk: 26, uuid: 348b1f10-53dc-40ee-8f70-ebde50e803f3>,\n",
       "    'kpoints': <KpointsData: uuid: b031e4ba-4109-4445-8411-bc8a6451e57d (unstored)>,\n",
       "    'parameters': <Dict: uuid: d3833184-f623-40a7-98ea-fc3da227e8e3 (unstored)>,\n",
       "    'options': <Dict: uuid: 3ae42696-1077-409f-9296-39fcfd3ede70 (unstored)>,\n",
       "    'basis': <Dict: uuid: fff2a5d7-9b5a-4c5b-acd7-48b7f94c85c6 (unstored)>},\n",
       "   'supercell_defect_q': {'code': <Code: Remote code 'siesta-psml-lua' on pwk, pk: 26, uuid: 348b1f10-53dc-40ee-8f70-ebde50e803f3>,\n",
       "    'kpoints': <KpointsData: uuid: b031e4ba-4109-4445-8411-bc8a6451e57d (unstored)>,\n",
       "    'parameters': <Dict: uuid: 9a626c79-10e6-4d86-a2ad-4100ff6949fa (unstored)>,\n",
       "    'options': <Dict: uuid: 932f587a-54a6-430c-87aa-825f9c43e6e1 (unstored)>,\n",
       "    'basis': <Dict: uuid: 51e655b4-ad0f-4e66-a2bd-d560d6894c28 (unstored)>}}}}"
      ]
     },
     "execution_count": 15,
     "metadata": {},
     "output_type": "execute_result"
    }
   ],
   "source": [
    "inputs"
   ]
  },
  {
   "cell_type": "code",
   "execution_count": 16,
   "metadata": {
    "scrolled": false
   },
   "outputs": [],
   "source": [
    "workchain_future = engine.submit(FormationEnergyWorkchainSIESTA, **inputs)"
   ]
  },
  {
   "cell_type": "code",
   "execution_count": 17,
   "metadata": {},
   "outputs": [
    {
     "data": {
      "text/plain": [
       "19933"
      ]
     },
     "execution_count": 17,
     "metadata": {},
     "output_type": "execute_result"
    }
   ],
   "source": [
    "workchain_future.pk"
   ]
  },
  {
   "cell_type": "code",
   "execution_count": null,
   "metadata": {
    "scrolled": true
   },
   "outputs": [],
   "source": [
    "#!verdi process list -a"
   ]
  },
  {
   "cell_type": "code",
   "execution_count": null,
   "metadata": {},
   "outputs": [],
   "source": [
    "from aiida.orm import load_node\n",
    "results=load_node('19157')"
   ]
  },
  {
   "cell_type": "code",
   "execution_count": null,
   "metadata": {},
   "outputs": [],
   "source": [
    "results.o"
   ]
  },
  {
   "cell_type": "code",
   "execution_count": null,
   "metadata": {},
   "outputs": [],
   "source": [
    "#results.output.output_parameters.get_dict()"
   ]
  },
  {
   "cell_type": "code",
   "execution_count": null,
   "metadata": {},
   "outputs": [],
   "source": [
    "#results"
   ]
  },
  {
   "cell_type": "code",
   "execution_count": null,
   "metadata": {},
   "outputs": [],
   "source": [
    "from qe_tools import CONSTANTS"
   ]
  },
  {
   "cell_type": "code",
   "execution_count": null,
   "metadata": {},
   "outputs": [],
   "source": [
    "CONSTANTS."
   ]
  },
  {
   "cell_type": "code",
   "execution_count": null,
   "metadata": {
    "scrolled": true
   },
   "outputs": [],
   "source": [
    "#!verdi process show 3160"
   ]
  },
  {
   "cell_type": "code",
   "execution_count": null,
   "metadata": {},
   "outputs": [],
   "source": [
    "#!verdi process report 3160"
   ]
  },
  {
   "cell_type": "code",
   "execution_count": null,
   "metadata": {},
   "outputs": [],
   "source": [
    "#workchain_future.outputs.formation_energy_uncorrected.value #.outputs.formation_energy_uncorrected.value\n",
    "#from aiida.orm import load_node\n",
    "#results=load_node('20618')\n",
    "#import sisl\n",
    "#data_array = sisl.get_sile(results.get_remote_workdir()+\"/aiida.VT\")\n",
    "#vt = data_array.read_grid()"
   ]
  },
  {
   "cell_type": "code",
   "execution_count": null,
   "metadata": {},
   "outputs": [],
   "source": [
    "#import numpy as np\n",
    "#vt_test = np.array(vt.shape)"
   ]
  },
  {
   "cell_type": "code",
   "execution_count": null,
   "metadata": {},
   "outputs": [],
   "source": [
    "#vt_test"
   ]
  },
  {
   "cell_type": "code",
   "execution_count": null,
   "metadata": {},
   "outputs": [],
   "source": [
    "#vt_grid = vt.shape"
   ]
  },
  {
   "cell_type": "code",
   "execution_count": null,
   "metadata": {},
   "outputs": [],
   "source": [
    "#vt_grid"
   ]
  },
  {
   "cell_type": "code",
   "execution_count": null,
   "metadata": {},
   "outputs": [],
   "source": [
    "#results.get_remote_workdir()"
   ]
  },
  {
   "cell_type": "code",
   "execution_count": null,
   "metadata": {},
   "outputs": [],
   "source": [
    "#results.outputs['output_parameters'].get_dict()['mesh']\n",
    "#results['forces_and_stress']"
   ]
  },
  {
   "cell_type": "code",
   "execution_count": null,
   "metadata": {},
   "outputs": [],
   "source": [
    "#results.outputs.output_parameters.get_dict()"
   ]
  },
  {
   "cell_type": "code",
   "execution_count": null,
   "metadata": {},
   "outputs": [],
   "source": [
    "#code"
   ]
  },
  {
   "cell_type": "code",
   "execution_count": null,
   "metadata": {},
   "outputs": [],
   "source": [
    "#from aiida_siesta.calculations.siesta import SiestaCalculation\n",
    "#builder = SiestaCalculation.get_builder()"
   ]
  },
  {
   "cell_type": "code",
   "execution_count": null,
   "metadata": {},
   "outputs": [],
   "source": [
    "#builder.metadata"
   ]
  },
  {
   "cell_type": "code",
   "execution_count": null,
   "metadata": {},
   "outputs": [],
   "source": [
    "#import sisl\n",
    "#fdf=sisl.get_sile(\"/home/aakhtar/aiida_scartch/45/17/087b-33b2-42a2-8f27-185b3bc39cad/aiida.fdf\") \n",
    "#out=sisl.get_sile(\"/home/aakhtar/aiida_scartch/00/9b/e245-59f6-4638-8725-a4fced1dd07e/aiida.out\") \n",
    "#a=out.readline()"
   ]
  },
  {
   "cell_type": "code",
   "execution_count": null,
   "metadata": {},
   "outputs": [],
   "source": [
    "#test=fdf.read_geometry()\n",
    "#data_array = sisl.get_sile(\"/home/aakhtar/aiida_scartch/00/9b/e245-59f6-4638-8725-a4fced1dd07e/aiida.EIG\") \n",
    "#data_array = sisl.get_sile(\"/home/aakhtar/aiida_scartch/83/7d/dd23-b492-4eb2-a266-99260ad907ee/aiida.EIG\") \n"
   ]
  },
  {
   "cell_type": "code",
   "execution_count": null,
   "metadata": {},
   "outputs": [],
   "source": [
    "\n",
    "#data_array.file.read_text()"
   ]
  },
  {
   "cell_type": "code",
   "execution_count": null,
   "metadata": {},
   "outputs": [],
   "source": [
    "#data_array.read_data()[0][0]"
   ]
  },
  {
   "cell_type": "code",
   "execution_count": null,
   "metadata": {},
   "outputs": [],
   "source": []
  },
  {
   "cell_type": "code",
   "execution_count": null,
   "metadata": {
    "scrolled": true
   },
   "outputs": [],
   "source": []
  },
  {
   "cell_type": "code",
   "execution_count": null,
   "metadata": {},
   "outputs": [],
   "source": [
    "#N_electron=int(data_array.file.read_text().split()[3])\n",
    "#vb_index = int(N_electron/2)-1\n",
    "#vb_index"
   ]
  },
  {
   "cell_type": "code",
   "execution_count": null,
   "metadata": {},
   "outputs": [],
   "source": [
    "#fermi=data_array.read_fermi_level()\n",
    "#eig=data_array.read_data()[0][0]\n",
    "#print (fermi)"
   ]
  },
  {
   "cell_type": "code",
   "execution_count": null,
   "metadata": {},
   "outputs": [],
   "source": [
    "#import numpy as np"
   ]
  },
  {
   "cell_type": "code",
   "execution_count": null,
   "metadata": {},
   "outputs": [],
   "source": [
    "#for i in eig:\n",
    "#    print (i)"
   ]
  },
  {
   "cell_type": "code",
   "execution_count": null,
   "metadata": {},
   "outputs": [],
   "source": [
    "#vbm = np.amax(eig[vb_index])"
   ]
  },
  {
   "cell_type": "markdown",
   "metadata": {},
   "source": [
    "# Model Charge"
   ]
  },
  {
   "cell_type": "code",
   "execution_count": null,
   "metadata": {},
   "outputs": [],
   "source": []
  },
  {
   "cell_type": "code",
   "execution_count": null,
   "metadata": {},
   "outputs": [],
   "source": [
    "#data_array.read_data()"
   ]
  },
  {
   "cell_type": "code",
   "execution_count": null,
   "metadata": {},
   "outputs": [],
   "source": [
    "#data_array = sisl.get_sile(\"/home/aakhtar/aiida_scartch/f1/42/f7ea-5d86-40a8-9963-2ec31bfb426a/aiida.VT\") "
   ]
  },
  {
   "cell_type": "code",
   "execution_count": null,
   "metadata": {},
   "outputs": [],
   "source": [
    "#vt=data_array.read_grid()"
   ]
  },
  {
   "cell_type": "code",
   "execution_count": null,
   "metadata": {},
   "outputs": [],
   "source": [
    "#vt.shape"
   ]
  },
  {
   "cell_type": "code",
   "execution_count": null,
   "metadata": {},
   "outputs": [],
   "source": [
    "#get_reciprocal_grid(test.rcell,50.0)"
   ]
  },
  {
   "cell_type": "code",
   "execution_count": null,
   "metadata": {},
   "outputs": [],
   "source": [
    "#get_model_potential_with_siesta_mesh()\n",
    "#from aiida.orm import load_node\n",
    "#results=load_node('9478')\n"
   ]
  },
  {
   "cell_type": "code",
   "execution_count": null,
   "metadata": {},
   "outputs": [],
   "source": [
    "#a=results.inputs.structure"
   ]
  },
  {
   "cell_type": "code",
   "execution_count": null,
   "metadata": {},
   "outputs": [],
   "source": [
    "#import sisl\n",
    "#fdf=sisl.get_sile(\"/home/aakhtar/aiida_scartch/45/17/087b-33b2-42a2-8f27-185b3bc39cad/aiida.fdf\") \n",
    "#test=fdf.read_geometry()\n",
    "#test.rcell"
   ]
  },
  {
   "cell_type": "code",
   "execution_count": null,
   "metadata": {},
   "outputs": [],
   "source": []
  }
 ],
 "metadata": {
  "kernelspec": {
   "display_name": "Python 3",
   "language": "python",
   "name": "python3"
  },
  "language_info": {
   "codemirror_mode": {
    "name": "ipython",
    "version": 3
   },
   "file_extension": ".py",
   "mimetype": "text/x-python",
   "name": "python",
   "nbconvert_exporter": "python",
   "pygments_lexer": "ipython3",
   "version": "3.8.5"
  }
 },
 "nbformat": 4,
 "nbformat_minor": 4
}
