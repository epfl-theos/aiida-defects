{
 "cells": [
  {
   "cell_type": "code",
   "execution_count": 1,
   "id": "f4add7a2",
   "metadata": {},
   "outputs": [
    {
     "name": "stdout",
     "output_type": "stream",
     "text": [
      "\u001b[22mRestarting the daemon... \u001b[0m\u001b[32m\u001b[1mOK\u001b[0m\n"
     ]
    }
   ],
   "source": [
    "!verdi daemon restart\n",
    "!reentry scan"
   ]
  },
  {
   "cell_type": "code",
   "execution_count": 2,
   "id": "300fb69a",
   "metadata": {},
   "outputs": [
    {
     "data": {
      "text/plain": [
       "<aiida.manage.configuration.profile.Profile at 0x7f0a64793370>"
      ]
     },
     "execution_count": 2,
     "metadata": {},
     "output_type": "execute_result"
    }
   ],
   "source": [
    "import aiida\n",
    "import os.path as op\n",
    "from aiida import orm\n",
    "from aiida.orm import load_code,Dict,StructureData,KpointsData,Int,Str,List,SinglefileData,Float\n",
    "from aiida.engine import submit\n",
    "from aiida_pseudo.data.pseudo.psf import PsfData\n",
    "\n",
    "aiida.load_profile()"
   ]
  },
  {
   "cell_type": "markdown",
   "id": "2c90d75a",
   "metadata": {},
   "source": [
    "# Structure"
   ]
  },
  {
   "cell_type": "code",
   "execution_count": 3,
   "id": "b5efdbd0",
   "metadata": {},
   "outputs": [],
   "source": [
    "import sisl\n",
    "Si64_fdf = sisl.get_sile('/media/aakhtar/AiiDA/siesta-master/Obj_lua/Tests/si64/si64.fdf')\n",
    "Si64_geom = Si64_fdf.read_geometry()\n",
    "Si64_geom_ase = Si64_geom.toASE()\n",
    "Si64_geom_ase.write('host.XSF')\n",
    "host = StructureData(ase=Si64_geom_ase)\n",
    "iv=0 \n",
    "defect = host.clone()\n",
    "defect.clear_sites()\n",
    "sites =host.sites\n",
    "new_sites = sites\n",
    "vacancy_site = new_sites.pop(iv)\n",
    "[defect.append_site(s) for s in new_sites]\n",
    "#len(host.sites)\n",
    "#len(defect.sites)\n",
    "ase_defect = defect.get_ase()\n",
    "ase_defect.write('defect.XSF')"
   ]
  },
  {
   "cell_type": "code",
   "execution_count": 4,
   "id": "adf80a30",
   "metadata": {},
   "outputs": [],
   "source": [
    "from aiida_defects.formation_energy_siesta.formation_energy_siesta_manual_wk_node import FormationEnergyWorkchainSIESTAManual"
   ]
  },
  {
   "cell_type": "code",
   "execution_count": 5,
   "id": "a55f477f",
   "metadata": {},
   "outputs": [
    {
     "name": "stdout",
     "output_type": "stream",
     "text": [
      "\n",
      "Using the pseudo for ['Si'] from DB: 53\n"
     ]
    }
   ],
   "source": [
    "# The pseudopotentials\n",
    "host_pseudos_dict = {}\n",
    "#raw_pseudos = [(\"Si.psf\", ['Si']), (\"H.psf\", ['H_int'])]\n",
    "raw_pseudos = [(\"Si.psf\", ['Si'])]\n",
    "for fname, kinds in raw_pseudos:\n",
    "    #absname = op.realpath(op.join(op.dirname(__file__), \"fixtures/sample_psf\", fname))\n",
    "    absname = op.join(\"/media/aakhtar/AiiDA/aiida-siesta-barrier/aiida_siesta_barrier/examples/fixtures/sample_psf\", fname)\n",
    "    pseudo = PsfData.get_or_create(absname)\n",
    "    if not pseudo.is_stored:\n",
    "        print(\"\\nCreated the pseudo for {}\".format(kinds))\n",
    "    else:\n",
    "        print(\"\\nUsing the pseudo for {} from DB: {}\".format(kinds, pseudo.pk))\n",
    "    for j in kinds:\n",
    "        host_pseudos_dict[j]=pseudo"
   ]
  },
  {
   "cell_type": "code",
   "execution_count": 6,
   "id": "073522f1",
   "metadata": {},
   "outputs": [
    {
     "name": "stdout",
     "output_type": "stream",
     "text": [
      "\n",
      "Using the pseudo for ['Si', 'Si_ghost'] from DB: 53\n"
     ]
    }
   ],
   "source": [
    "# The pseudopotentials\n",
    "defect_pseudos_dict = {}\n",
    "#raw_pseudos = [(\"Si.psf\", ['Si']), (\"H.psf\", ['H_int'])]\n",
    "raw_pseudos = [(\"Si.psf\", ['Si','Si_ghost'])]\n",
    "for fname, kinds in raw_pseudos:\n",
    "    #absname = op.realpath(op.join(op.dirname(__file__), \"fixtures/sample_psf\", fname))\n",
    "    absname = op.join(\"/media/aakhtar/AiiDA/aiida-siesta-barrier/aiida_siesta_barrier/examples/fixtures/sample_psf\", fname)\n",
    "    pseudo = PsfData.get_or_create(absname)\n",
    "    if not pseudo.is_stored:\n",
    "        print(\"\\nCreated the pseudo for {}\".format(kinds))\n",
    "    else:\n",
    "        print(\"\\nUsing the pseudo for {} from DB: {}\".format(kinds, pseudo.pk))\n",
    "    for j in kinds:\n",
    "        defect_pseudos_dict[j]=pseudo"
   ]
  },
  {
   "cell_type": "code",
   "execution_count": 7,
   "id": "82e01271",
   "metadata": {},
   "outputs": [],
   "source": [
    "# Parameters: very coarse for speed of test\n",
    "# Note the all the Si atoms are fixed...\n",
    "parameters = dict={\n",
    "   \"mesh-cutoff\": \"50 Ry\",\n",
    "   \"dm-tolerance\": \"0.001\",\n",
    "   \"DM-NumberPulay \":  \"3\",\n",
    "   \"DM-History-Depth\":  \"0\",\n",
    "   \"SCF-Mixer-weight\":  \"0.02\",\n",
    "   \"SCF-Mix\":   \"density\",\n",
    "   \"SCF-Mixer-kick\":  \"35\",\n",
    "   \"MD-VariableCell\":  \"F\",\n",
    "   \"MD-MaxCGDispl\":  \"0.3 Bohr\",\n",
    "   \"MD-MaxForceTol\":  \" 0.04000 eV/Ang\"\n",
    "    }\n",
    "defect_constraints = dict={\n",
    "    \"%block geometryconstraints\":\n",
    "    \"\"\"\n",
    "    species-i 2 \n",
    "    %endblock geometryconstraints\"\"\"\n",
    "    }\n",
    "relaxation = dict={\n",
    "    'md-steps': 100\n",
    "    }\n",
    "parameters.update(relaxation)\n",
    "#\n",
    "# Use this for constraints\n",
    "#\n",
    "#parameters.update(constraints)\n",
    "#\n",
    "host_parameters = Dict(dict=parameters)\n",
    "defect_q0_parameters = Dict(dict=parameters)\n",
    "defect_q_parameters = Dict(dict=parameters)"
   ]
  },
  {
   "cell_type": "code",
   "execution_count": 8,
   "id": "660cafed",
   "metadata": {},
   "outputs": [
    {
     "data": {
      "text/plain": [
       "{'mesh-cutoff': '50 Ry',\n",
       " 'dm-tolerance': '0.001',\n",
       " 'DM-NumberPulay ': '3',\n",
       " 'DM-History-Depth': '0',\n",
       " 'SCF-Mixer-weight': '0.02',\n",
       " 'SCF-Mix': 'density',\n",
       " 'SCF-Mixer-kick': '35',\n",
       " 'MD-VariableCell': 'F',\n",
       " 'MD-MaxCGDispl': '0.3 Bohr',\n",
       " 'MD-MaxForceTol': ' 0.04000 eV/Ang',\n",
       " 'md-steps': 100}"
      ]
     },
     "execution_count": 8,
     "metadata": {},
     "output_type": "execute_result"
    }
   ],
   "source": [
    "host_parameters.get_dict()"
   ]
  },
  {
   "cell_type": "code",
   "execution_count": 9,
   "id": "1546cdac",
   "metadata": {},
   "outputs": [
    {
     "data": {
      "text/plain": [
       "{'mesh-cutoff': '50 Ry',\n",
       " 'dm-tolerance': '0.001',\n",
       " 'DM-NumberPulay ': '3',\n",
       " 'DM-History-Depth': '0',\n",
       " 'SCF-Mixer-weight': '0.02',\n",
       " 'SCF-Mix': 'density',\n",
       " 'SCF-Mixer-kick': '35',\n",
       " 'MD-VariableCell': 'F',\n",
       " 'MD-MaxCGDispl': '0.3 Bohr',\n",
       " 'MD-MaxForceTol': ' 0.04000 eV/Ang',\n",
       " 'md-steps': 100,\n",
       " '%block geometryconstraints': '\\n    species-i 2 \\n    %endblock geometryconstraints'}"
      ]
     },
     "execution_count": 9,
     "metadata": {},
     "output_type": "execute_result"
    }
   ],
   "source": [
    "defect_q0_parameters.update_dict(defect_constraints)\n",
    "defect_q0_parameters.get_dict()"
   ]
  },
  {
   "cell_type": "code",
   "execution_count": 10,
   "id": "0a12ba72",
   "metadata": {},
   "outputs": [
    {
     "data": {
      "text/plain": [
       "{'mesh-cutoff': '50 Ry',\n",
       " 'dm-tolerance': '0.001',\n",
       " 'DM-NumberPulay ': '3',\n",
       " 'DM-History-Depth': '0',\n",
       " 'SCF-Mixer-weight': '0.02',\n",
       " 'SCF-Mix': 'density',\n",
       " 'SCF-Mixer-kick': '35',\n",
       " 'MD-VariableCell': 'F',\n",
       " 'MD-MaxCGDispl': '0.3 Bohr',\n",
       " 'MD-MaxForceTol': ' 0.04000 eV/Ang',\n",
       " 'md-steps': 100,\n",
       " '%block geometryconstraints': '\\n    species-i 2 \\n    %endblock geometryconstraints'}"
      ]
     },
     "execution_count": 10,
     "metadata": {},
     "output_type": "execute_result"
    }
   ],
   "source": [
    "defect_q_parameters.update_dict(defect_constraints)\n",
    "defect_q_parameters.get_dict()"
   ]
  },
  {
   "cell_type": "code",
   "execution_count": 11,
   "id": "f3bfa2a0",
   "metadata": {},
   "outputs": [],
   "source": [
    "net_charge = dict={'NetCharge':+2.0}"
   ]
  },
  {
   "cell_type": "code",
   "execution_count": 12,
   "id": "925f676d",
   "metadata": {},
   "outputs": [
    {
     "data": {
      "text/plain": [
       "{'NetCharge': 2.0}"
      ]
     },
     "execution_count": 12,
     "metadata": {},
     "output_type": "execute_result"
    }
   ],
   "source": [
    "net_charge"
   ]
  },
  {
   "cell_type": "code",
   "execution_count": 13,
   "id": "85270e84",
   "metadata": {},
   "outputs": [],
   "source": [
    "inputs_test = Dict(dict=defect_q_parameters.get_dict())"
   ]
  },
  {
   "cell_type": "code",
   "execution_count": 14,
   "id": "57efd6a3",
   "metadata": {},
   "outputs": [
    {
     "data": {
      "text/plain": [
       "<Dict: uuid: 9a4d4151-b11a-47b5-9b55-12c004ca6a5e (unstored)>"
      ]
     },
     "execution_count": 14,
     "metadata": {},
     "output_type": "execute_result"
    }
   ],
   "source": [
    "inputs_test"
   ]
  },
  {
   "cell_type": "code",
   "execution_count": 15,
   "id": "79676778",
   "metadata": {},
   "outputs": [],
   "source": [
    "inputs_test.update_dict(net_charge)"
   ]
  },
  {
   "cell_type": "code",
   "execution_count": 16,
   "id": "8ce10096",
   "metadata": {},
   "outputs": [],
   "source": [
    "basis = Dict(\n",
    "    dict={\n",
    "        'pao-energy-shift':\n",
    "        '300 meV',\n",
    "        '%block pao-basis-sizes':\n",
    "        \"\"\"\n",
    "        Si SZ\n",
    "        %endblock pao-basis-sizes\"\"\",})\n",
    "\n",
    "basis_defect = Dict(\n",
    "    dict={\n",
    "        'pao-energy-shift':\n",
    "        '300 meV',\n",
    "        '%block pao-basis-sizes':\n",
    "        \"\"\"\n",
    "        Si SZ\n",
    "        Si_ghost SZ\n",
    "        %endblock pao-basis-sizes\"\"\",})"
   ]
  },
  {
   "cell_type": "code",
   "execution_count": 17,
   "id": "4e8156dd",
   "metadata": {},
   "outputs": [],
   "source": [
    "#Resources\n",
    "options = Dict(dict={\n",
    "    \"max_wallclock_seconds\": 73600,\n",
    "    'withmpi': True,\n",
    "    \"resources\": {\n",
    "        \"num_machines\": 1,\n",
    "        \"num_mpiprocs_per_machine\": 1,\n",
    "    }\n",
    "})\n"
   ]
  },
  {
   "cell_type": "code",
   "execution_count": 18,
   "id": "6194db61",
   "metadata": {},
   "outputs": [
    {
     "data": {
      "text/plain": [
       "{'max_wallclock_seconds': 73600,\n",
       " 'withmpi': True,\n",
       " 'resources': {'num_machines': 1, 'num_mpiprocs_per_machine': 1}}"
      ]
     },
     "execution_count": 18,
     "metadata": {},
     "output_type": "execute_result"
    }
   ],
   "source": [
    "options.get_dict()"
   ]
  },
  {
   "cell_type": "code",
   "execution_count": 19,
   "id": "df12e12b",
   "metadata": {},
   "outputs": [],
   "source": [
    "floating = {'floating_sites': [{\"symbols\": 'Si',\n",
    "                                \"name\": 'Si_ghost',\n",
    "                               \"position\": vacancy_site.position}]}"
   ]
  },
  {
   "cell_type": "code",
   "execution_count": 20,
   "id": "5dc23b76",
   "metadata": {},
   "outputs": [],
   "source": [
    "basis_defect.update_dict(floating)"
   ]
  },
  {
   "cell_type": "code",
   "execution_count": 21,
   "id": "4c6f1f55",
   "metadata": {},
   "outputs": [
    {
     "data": {
      "text/plain": [
       "{'pao-energy-shift': '300 meV',\n",
       " '%block pao-basis-sizes': '\\n        Si SZ\\n        Si_ghost SZ\\n        %endblock pao-basis-sizes',\n",
       " 'floating_sites': [{'symbols': 'Si',\n",
       "   'name': 'Si_ghost',\n",
       "   'position': (0.0, 0.0, 0.0)}]}"
      ]
     },
     "execution_count": 21,
     "metadata": {},
     "output_type": "execute_result"
    }
   ],
   "source": [
    "basis_defect.get_dict()"
   ]
  },
  {
   "cell_type": "code",
   "execution_count": 22,
   "id": "dd148571",
   "metadata": {},
   "outputs": [],
   "source": [
    "codename = 'siesta-master@arsalan-pwk'\n",
    "code = load_code(codename)"
   ]
  },
  {
   "cell_type": "code",
   "execution_count": 23,
   "id": "efece93c",
   "metadata": {},
   "outputs": [],
   "source": [
    "#The kpoints\n",
    "kpoints = KpointsData()\n",
    "kpoints.set_kpoints_mesh([1,1,1])"
   ]
  },
  {
   "cell_type": "code",
   "execution_count": 29,
   "id": "12c39922",
   "metadata": {},
   "outputs": [],
   "source": [
    "inputs = {'host_structure':host,\n",
    "          'defect_structure':defect,\n",
    "    'host': {'code':code,\n",
    "             'parameters':host_parameters,\n",
    "             'basis':basis,\n",
    "             'kpoints':kpoints,\n",
    "             'pseudos':host_pseudos_dict,\n",
    "             'options':options},\n",
    "    'defect_q0': {'code':code,\n",
    "                  'parameters':defect_q0_parameters,\n",
    "                  'basis':basis_defect,\n",
    "                  'kpoints':kpoints,\n",
    "                  'pseudos':defect_pseudos_dict,\n",
    "                  'options':options},\n",
    "    'defect_q': {'code':code,\n",
    "                 'parameters':defect_q_parameters,\n",
    "                 'basis':basis_defect,\n",
    "                 'kpoints':kpoints,\n",
    "                 'pseudos':defect_pseudos_dict,\n",
    "                 'options':options},\n",
    "    'defect_charge':Float(-1),\n",
    "    'defect_site':List(list=[0.0,0.0,0.0]),\n",
    "    'chemical_potential':Float(-100.629519),\n",
    "    'epsilon':Float(9.0),\n",
    "    'wk_node':Int(387),\n",
    "    'add_or_remove':Str('remove'),\n",
    "}\n",
    "\n"
   ]
  },
  {
   "cell_type": "code",
   "execution_count": 30,
   "id": "9ac02a32",
   "metadata": {
    "scrolled": true
   },
   "outputs": [
    {
     "data": {
      "text/plain": [
       "{'host_structure': <StructureData: uuid: 38635215-8f3a-4950-84e5-3ed012c2161b (pk: 586)>,\n",
       " 'defect_structure': <StructureData: uuid: e1abc0f1-17da-4c7d-b4ed-bd3fe686d6c7 (pk: 587)>,\n",
       " 'host': {'code': <Code: Remote code 'siesta-master' on arsalan-pwk, pk: 1, uuid: 1fac24eb-3d04-4037-b543-5754209df3e0>,\n",
       "  'parameters': <Dict: uuid: 1f0ff761-6f10-4928-937d-d6f093ebde74 (pk: 588)>,\n",
       "  'basis': <Dict: uuid: 208d7f42-e1ed-4d5b-8e08-1bc79b07189a (pk: 589)>,\n",
       "  'kpoints': <KpointsData: uuid: de968881-fce1-4a5e-897d-805d946f4009 (pk: 590)>,\n",
       "  'pseudos': {'Si': <PsfData: uuid: 8927ec4e-7fb2-487d-8aab-3a4fefcb726a (pk: 53)>},\n",
       "  'options': <Dict: uuid: bebfadc6-c8f5-4cdf-9a54-b91b91795a94 (pk: 591)>},\n",
       " 'defect_q0': {'code': <Code: Remote code 'siesta-master' on arsalan-pwk, pk: 1, uuid: 1fac24eb-3d04-4037-b543-5754209df3e0>,\n",
       "  'parameters': <Dict: uuid: 4c477cb0-91a4-4160-936e-44cde9cb1ef8 (pk: 594)>,\n",
       "  'basis': <Dict: uuid: 8c6b1732-eeb7-4185-b42c-3735feda90b3 (pk: 595)>,\n",
       "  'kpoints': <KpointsData: uuid: de968881-fce1-4a5e-897d-805d946f4009 (pk: 590)>,\n",
       "  'pseudos': {'Si': <PsfData: uuid: 8927ec4e-7fb2-487d-8aab-3a4fefcb726a (pk: 53)>,\n",
       "   'Si_ghost': <PsfData: uuid: 8927ec4e-7fb2-487d-8aab-3a4fefcb726a (pk: 53)>},\n",
       "  'options': <Dict: uuid: bebfadc6-c8f5-4cdf-9a54-b91b91795a94 (pk: 591)>},\n",
       " 'defect_q': {'code': <Code: Remote code 'siesta-master' on arsalan-pwk, pk: 1, uuid: 1fac24eb-3d04-4037-b543-5754209df3e0>,\n",
       "  'parameters': <Dict: uuid: c9e7866d-277a-413a-9cc9-b2db8f77dadf (pk: 598)>,\n",
       "  'basis': <Dict: uuid: 8c6b1732-eeb7-4185-b42c-3735feda90b3 (pk: 595)>,\n",
       "  'kpoints': <KpointsData: uuid: de968881-fce1-4a5e-897d-805d946f4009 (pk: 590)>,\n",
       "  'pseudos': {'Si': <PsfData: uuid: 8927ec4e-7fb2-487d-8aab-3a4fefcb726a (pk: 53)>,\n",
       "   'Si_ghost': <PsfData: uuid: 8927ec4e-7fb2-487d-8aab-3a4fefcb726a (pk: 53)>},\n",
       "  'options': <Dict: uuid: bebfadc6-c8f5-4cdf-9a54-b91b91795a94 (pk: 591)>},\n",
       " 'defect_charge': <Float: uuid: 55276053-b9eb-4795-9128-1fb530f0c487 (unstored) value: -1.0>,\n",
       " 'defect_site': <List: uuid: d3e395ed-1a95-4f29-b241-9018b5e5d3dc (unstored) value: [0.0, 0.0, 0.0]>,\n",
       " 'chemical_potential': <Float: uuid: 5530aeb1-0a6a-40fc-90ed-8a1f9c5a2f07 (unstored) value: -100.629519>,\n",
       " 'epsilon': <Float: uuid: 9133996d-612c-4b9a-9b89-ea507a497f34 (unstored) value: 9.0>,\n",
       " 'wk_node': <Int: uuid: 9ae16dd8-bdbd-41d0-a1a2-56ddafd5b927 (unstored) value: 387>,\n",
       " 'add_or_remove': <Str: uuid: 40efb1cb-111f-4ac3-b99a-46416059cff8 (unstored) value: remove>}"
      ]
     },
     "execution_count": 30,
     "metadata": {},
     "output_type": "execute_result"
    }
   ],
   "source": [
    "inputs"
   ]
  },
  {
   "cell_type": "code",
   "execution_count": 31,
   "id": "63de7b38",
   "metadata": {},
   "outputs": [
    {
     "name": "stdout",
     "output_type": "stream",
     "text": [
      "Submitted VacancyExchangeBarrier workchain; ID=636\n",
      "For information about this workchain type: verdi process show 636\n",
      "For a list of running processes type: verdi process list\n"
     ]
    }
   ],
   "source": [
    "process = submit(FormationEnergyWorkchainSIESTAManual, **inputs)\n",
    "print(\"Submitted VacancyExchangeBarrier workchain; ID={}\".format(process.pk))\n",
    "print(\n",
    "    \"For information about this workchain type: verdi process show {}\".format(\n",
    "        process.pk))\n",
    "print(\"For a list of running processes type: verdi process list\")\n"
   ]
  },
  {
   "cell_type": "code",
   "execution_count": 27,
   "id": "dedf914d",
   "metadata": {},
   "outputs": [],
   "source": [
    "node =orm.load_node(387)"
   ]
  },
  {
   "cell_type": "code",
   "execution_count": null,
   "id": "7c57ff41",
   "metadata": {},
   "outputs": [],
   "source": []
  },
  {
   "cell_type": "code",
   "execution_count": null,
   "id": "4ad3c0ce",
   "metadata": {},
   "outputs": [],
   "source": []
  }
 ],
 "metadata": {
  "kernelspec": {
   "display_name": "Python 3 (ipykernel)",
   "language": "python",
   "name": "python3"
  },
  "language_info": {
   "codemirror_mode": {
    "name": "ipython",
    "version": 3
   },
   "file_extension": ".py",
   "mimetype": "text/x-python",
   "name": "python",
   "nbconvert_exporter": "python",
   "pygments_lexer": "ipython3",
   "version": "3.9.7"
  }
 },
 "nbformat": 4,
 "nbformat_minor": 5
}
