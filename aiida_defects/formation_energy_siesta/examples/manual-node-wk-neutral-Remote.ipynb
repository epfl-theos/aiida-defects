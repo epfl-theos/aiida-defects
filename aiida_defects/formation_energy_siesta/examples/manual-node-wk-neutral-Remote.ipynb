{
 "cells": [
  {
   "cell_type": "code",
   "execution_count": 1,
   "id": "f4add7a2",
   "metadata": {},
   "outputs": [
    {
     "name": "stdout",
     "output_type": "stream",
     "text": [
      "\u001b[22mRestarting the daemon... \u001b[0m\u001b[32m\u001b[1mOK\u001b[0m\n"
     ]
    }
   ],
   "source": [
    "!verdi daemon restart\n",
    "!reentry scan"
   ]
  },
  {
   "cell_type": "code",
   "execution_count": 3,
   "id": "300fb69a",
   "metadata": {},
   "outputs": [
    {
     "data": {
      "text/plain": [
       "<aiida.manage.configuration.profile.Profile at 0x7f3610507ee0>"
      ]
     },
     "execution_count": 3,
     "metadata": {},
     "output_type": "execute_result"
    }
   ],
   "source": [
    "import aiida\n",
    "import os.path as op\n",
    "from aiida import orm\n",
    "from aiida.orm import load_code,Dict,StructureData,KpointsData,Int,Str,List,SinglefileData,Float,RemoteData\n",
    "from aiida.engine import submit\n",
    "from aiida_pseudo.data.pseudo.psf import PsfData\n",
    "\n",
    "aiida.load_profile()"
   ]
  },
  {
   "cell_type": "markdown",
   "id": "2c90d75a",
   "metadata": {},
   "source": [
    "# Structure"
   ]
  },
  {
   "cell_type": "code",
   "execution_count": 8,
   "id": "b5efdbd0",
   "metadata": {},
   "outputs": [],
   "source": [
    "import sisl\n",
    "Si64_fdf = sisl.get_sile('/home/aakhtar/Projects/siesta/Obj_my_env/Tests/si64/si64.fdf')\n",
    "Si64_geom = Si64_fdf.read_geometry()\n",
    "Si64_geom_ase = Si64_geom.toASE()\n",
    "Si64_geom_ase.write('host.XSF')\n",
    "host = StructureData(ase=Si64_geom_ase)\n",
    "iv=0 \n",
    "defect = host.clone()\n",
    "defect.clear_sites()\n",
    "sites =host.sites\n",
    "new_sites = sites\n",
    "vacancy_site = new_sites.pop(iv)\n",
    "[defect.append_site(s) for s in new_sites]\n",
    "#len(host.sites)\n",
    "#len(defect.sites)\n",
    "ase_defect = defect.get_ase()\n",
    "ase_defect.write('defect.XSF')"
   ]
  },
  {
   "cell_type": "code",
   "execution_count": null,
   "id": "adf80a30",
   "metadata": {},
   "outputs": [],
   "source": [
    "#from aiida_defects.formation_energy_siesta.formation_energy_siesta_manual_wk_node import FormationEnergyWorkchainSIESTAManual\n",
    "from aiida_defects.formation_energy_siesta.workflows.formation_energy_siesta_neutral_manual_wk_node import FormationEnergyWorkchainSIESTAManual"
   ]
  },
  {
   "cell_type": "code",
   "execution_count": null,
   "id": "a55f477f",
   "metadata": {},
   "outputs": [],
   "source": [
    "# The pseudopotentials\n",
    "host_pseudos_dict = {}\n",
    "#raw_pseudos = [(\"Si.psf\", ['Si']), (\"H.psf\", ['H_int'])]\n",
    "raw_pseudos = [(\"Si.psf\", ['Si'])]\n",
    "for fname, kinds in raw_pseudos:\n",
    "    #absname = op.realpath(op.join(op.dirname(__file__), \"fixtures/sample_psf\", fname))\n",
    "    absname = op.join(\"/home/aakhtar/Calculations/AiiDA/AiiDA-Defects\", fname)\n",
    "    pseudo = PsfData.get_or_create(absname)\n",
    "    if not pseudo.is_stored:\n",
    "        print(\"\\nCreated the pseudo for {}\".format(kinds))\n",
    "    else:\n",
    "        print(\"\\nUsing the pseudo for {} from DB: {}\".format(kinds, pseudo.pk))\n",
    "    for j in kinds:\n",
    "        host_pseudos_dict[j]=pseudo"
   ]
  },
  {
   "cell_type": "code",
   "execution_count": null,
   "id": "073522f1",
   "metadata": {},
   "outputs": [],
   "source": [
    "# The pseudopotentials\n",
    "defect_pseudos_dict = {}\n",
    "#raw_pseudos = [(\"Si.psf\", ['Si']), (\"H.psf\", ['H_int'])]\n",
    "raw_pseudos = [(\"Si.psf\", ['Si','Si_ghost'])]\n",
    "for fname, kinds in raw_pseudos:\n",
    "    #absname = op.realpath(op.join(op.dirname(__file__), \"fixtures/sample_psf\", fname))\n",
    "    absname = op.join(\"/home/aakhtar/Calculations/AiiDA/AiiDA-Defects\", fname)\n",
    "    pseudo = PsfData.get_or_create(absname)\n",
    "    if not pseudo.is_stored:\n",
    "        print(\"\\nCreated the pseudo for {}\".format(kinds))\n",
    "    else:\n",
    "        print(\"\\nUsing the pseudo for {} from DB: {}\".format(kinds, pseudo.pk))\n",
    "    for j in kinds:\n",
    "        defect_pseudos_dict[j]=pseudo"
   ]
  },
  {
   "cell_type": "code",
   "execution_count": null,
   "id": "82e01271",
   "metadata": {},
   "outputs": [],
   "source": [
    "# Parameters: very coarse for speed of test\n",
    "# Note the all the Si atoms are fixed...\n",
    "parameters = dict={\n",
    "   \"mesh-cutoff\": \"50 Ry\",\n",
    "   \"dm-tolerance\": \"0.001\",\n",
    "   \"DM-NumberPulay \":  \"3\",\n",
    "   \"DM-History-Depth\":  \"0\",\n",
    "   \"SCF-Mixer-weight\":  \"0.02\",\n",
    "   \"SCF-Mix\":   \"density\",\n",
    "   \"SCF-Mixer-kick\":  \"35\",\n",
    "   \"MD-VariableCell\":  \"F\",\n",
    "   \"MD-MaxCGDispl\":  \"0.3 Bohr\",\n",
    "   \"MD-MaxForceTol\":  \" 0.04000 eV/Ang\"\n",
    "    }\n",
    "defect_constraints = dict={\n",
    "    \"%block geometryconstraints\":\n",
    "    \"\"\"\n",
    "    species-i 2 \n",
    "    %endblock geometryconstraints\"\"\"\n",
    "    }\n",
    "relaxation = dict={\n",
    "    'md-steps': 100\n",
    "    }\n",
    "parameters.update(relaxation)\n",
    "#\n",
    "# Use this for constraints\n",
    "#\n",
    "#parameters.update(constraints)\n",
    "#\n",
    "host_parameters = Dict(dict=parameters)\n",
    "defect_q0_parameters = Dict(dict=parameters)\n",
    "defect_q_parameters = Dict(dict=parameters)"
   ]
  },
  {
   "cell_type": "code",
   "execution_count": null,
   "id": "660cafed",
   "metadata": {},
   "outputs": [],
   "source": [
    "host_parameters.get_dict()"
   ]
  },
  {
   "cell_type": "code",
   "execution_count": null,
   "id": "1546cdac",
   "metadata": {},
   "outputs": [],
   "source": [
    "defect_q0_parameters.update_dict(defect_constraints)\n",
    "defect_q0_parameters.get_dict()"
   ]
  },
  {
   "cell_type": "code",
   "execution_count": null,
   "id": "0a12ba72",
   "metadata": {},
   "outputs": [],
   "source": [
    "defect_q_parameters.update_dict(defect_constraints)\n",
    "defect_q_parameters.get_dict()"
   ]
  },
  {
   "cell_type": "code",
   "execution_count": null,
   "id": "f3bfa2a0",
   "metadata": {},
   "outputs": [],
   "source": [
    "net_charge = dict={'NetCharge':+2.0}\n",
    "VT = dict={'SaveTotalPotential': True}"
   ]
  },
  {
   "cell_type": "code",
   "execution_count": null,
   "id": "925f676d",
   "metadata": {},
   "outputs": [],
   "source": [
    "net_charge"
   ]
  },
  {
   "cell_type": "code",
   "execution_count": null,
   "id": "85270e84",
   "metadata": {},
   "outputs": [],
   "source": [
    "inputs_test = Dict(dict=defect_q_parameters.get_dict())"
   ]
  },
  {
   "cell_type": "code",
   "execution_count": null,
   "id": "57efd6a3",
   "metadata": {},
   "outputs": [],
   "source": [
    "inputs_test.update_dict(net_charge)\n",
    "inputs_test.update_dict(VT)"
   ]
  },
  {
   "cell_type": "code",
   "execution_count": null,
   "id": "79676778",
   "metadata": {},
   "outputs": [],
   "source": [
    "inputs_test.get_dict()"
   ]
  },
  {
   "cell_type": "code",
   "execution_count": null,
   "id": "8ce10096",
   "metadata": {},
   "outputs": [],
   "source": [
    "basis = Dict(\n",
    "    dict={\n",
    "        'pao-energy-shift':\n",
    "        '300 meV',\n",
    "        '%block pao-basis-sizes':\n",
    "        \"\"\"\n",
    "        Si SZ\n",
    "        %endblock pao-basis-sizes\"\"\",})\n",
    "\n",
    "basis_defect = Dict(\n",
    "    dict={\n",
    "        'pao-energy-shift':\n",
    "        '300 meV',\n",
    "        '%block pao-basis-sizes':\n",
    "        \"\"\"\n",
    "        Si SZ\n",
    "        Si_ghost SZ\n",
    "        %endblock pao-basis-sizes\"\"\",})"
   ]
  },
  {
   "cell_type": "code",
   "execution_count": null,
   "id": "4e8156dd",
   "metadata": {},
   "outputs": [],
   "source": [
    "#Resources\n",
    "options = Dict(dict={\n",
    "    \"max_wallclock_seconds\": 73600,\n",
    "    'withmpi': True,\n",
    "    \"resources\": {\n",
    "        \"num_machines\": 1,\n",
    "        \"num_mpiprocs_per_machine\": 1,\n",
    "    }\n",
    "})\n"
   ]
  },
  {
   "cell_type": "code",
   "execution_count": null,
   "id": "6194db61",
   "metadata": {},
   "outputs": [],
   "source": [
    "options.get_dict()"
   ]
  },
  {
   "cell_type": "code",
   "execution_count": null,
   "id": "df12e12b",
   "metadata": {},
   "outputs": [],
   "source": [
    "floating = {'floating_sites': [{\"symbols\": 'Si',\n",
    "                                \"name\": 'Si_ghost',\n",
    "                               \"position\": vacancy_site.position}]}"
   ]
  },
  {
   "cell_type": "code",
   "execution_count": null,
   "id": "5dc23b76",
   "metadata": {},
   "outputs": [],
   "source": [
    "basis_defect.update_dict(floating)"
   ]
  },
  {
   "cell_type": "code",
   "execution_count": null,
   "id": "4c6f1f55",
   "metadata": {},
   "outputs": [],
   "source": [
    "basis_defect.get_dict()"
   ]
  },
  {
   "cell_type": "code",
   "execution_count": null,
   "id": "dd148571",
   "metadata": {},
   "outputs": [],
   "source": [
    "#codename = 'siesta-master@arsalan-pwk'\n",
    "codename = 'siesta-lua@mylaptop'\n",
    "code = load_code(codename)"
   ]
  },
  {
   "cell_type": "code",
   "execution_count": null,
   "id": "efece93c",
   "metadata": {},
   "outputs": [],
   "source": [
    "#The kpoints\n",
    "kpoints = KpointsData()\n",
    "kpoints.set_kpoints_mesh([1,1,1])"
   ]
  },
  {
   "cell_type": "code",
   "execution_count": null,
   "id": "12c39922",
   "metadata": {},
   "outputs": [],
   "source": [
    "inputs = {'host_structure':host,\n",
    "          'defect_structure':defect,\n",
    "    'host': {'code':code,\n",
    "             'parameters':host_parameters,\n",
    "             'basis':basis,\n",
    "             'kpoints':kpoints,\n",
    "             'pseudos':host_pseudos_dict,\n",
    "             'options':options},\n",
    "    'defect_q0': {'code':code,\n",
    "                  'parameters':defect_q0_parameters,\n",
    "                  'basis':basis_defect,\n",
    "                  'kpoints':kpoints,\n",
    "                  'pseudos':defect_pseudos_dict,\n",
    "                  'options':options},\n",
    "    'defect_q': {'code':code,\n",
    "                 'parameters':defect_q_parameters,\n",
    "                 'basis':basis_defect,\n",
    "                 'kpoints':kpoints,\n",
    "                 'pseudos':defect_pseudos_dict,\n",
    "                 'options':options},\n",
    "    'defect_charge':Float(-1),\n",
    "    'defect_site':List(list=[0.0,0.0,0.0]),\n",
    "    'chemical_potential':Float(-100.629519),\n",
    "    'epsilon':Float(9.0),\n",
    "    'wk_node': Int(9282),#Int(9093),\n",
    "    'add_or_remove':Str('remove'),\n",
    "    #'correction_scheme':Str('rho')     \n",
    "}\n",
    "\n"
   ]
  },
  {
   "cell_type": "code",
   "execution_count": null,
   "id": "9ac02a32",
   "metadata": {
    "scrolled": true
   },
   "outputs": [],
   "source": [
    "inputs"
   ]
  },
  {
   "cell_type": "code",
   "execution_count": null,
   "id": "63de7b38",
   "metadata": {},
   "outputs": [],
   "source": [
    "process = submit(FormationEnergyWorkchainSIESTAManual, **inputs)\n",
    "print(\"Submitted VacancyExchangeBarrier workchain; ID={}\".format(process.pk))\n",
    "print(\n",
    "    \"For information about this workchain type: verdi process show {}\".format(\n",
    "        process.pk))\n",
    "print(\"For a list of running processes type: verdi process list\")\n"
   ]
  },
  {
   "cell_type": "code",
   "execution_count": null,
   "id": "dedf914d",
   "metadata": {},
   "outputs": [],
   "source": [
    "#node =orm.load_node(9398)"
   ]
  },
  {
   "cell_type": "code",
   "execution_count": null,
   "id": "9142ee8f",
   "metadata": {},
   "outputs": [],
   "source": [
    "#node.outputs.defect_q0_structure"
   ]
  },
  {
   "cell_type": "code",
   "execution_count": null,
   "id": "da341391",
   "metadata": {},
   "outputs": [],
   "source": []
  }
 ],
 "metadata": {
  "kernelspec": {
   "display_name": "Python 3 (ipykernel)",
   "language": "python",
   "name": "python3"
  },
  "language_info": {
   "codemirror_mode": {
    "name": "ipython",
    "version": 3
   },
   "file_extension": ".py",
   "mimetype": "text/x-python",
   "name": "python",
   "nbconvert_exporter": "python",
   "pygments_lexer": "ipython3",
   "version": "3.9.7"
  }
 },
 "nbformat": 4,
 "nbformat_minor": 5
}
