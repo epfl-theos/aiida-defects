{
 "cells": [
  {
   "cell_type": "code",
   "execution_count": 1,
   "id": "f4add7a2",
   "metadata": {},
   "outputs": [
    {
     "name": "stdout",
     "output_type": "stream",
     "text": [
      "\u001b[22mRestarting the daemon... \u001b[0m\u001b[32m\u001b[1mOK\u001b[0m\n"
     ]
    }
   ],
   "source": [
    "!verdi daemon restart\n",
    "!reentry scan"
   ]
  },
  {
   "cell_type": "code",
   "execution_count": 2,
   "id": "300fb69a",
   "metadata": {},
   "outputs": [
    {
     "data": {
      "text/plain": [
       "<aiida.manage.configuration.profile.Profile at 0x7f190074e130>"
      ]
     },
     "execution_count": 2,
     "metadata": {},
     "output_type": "execute_result"
    }
   ],
   "source": [
    "import aiida\n",
    "import os.path as op\n",
    "from aiida import orm\n",
    "from aiida.orm import load_code,Dict,StructureData,KpointsData,Int,Str,List,SinglefileData,Float\n",
    "from aiida.engine import submit\n",
    "from aiida_pseudo.data.pseudo.psf import PsfData\n",
    "\n",
    "aiida.load_profile()"
   ]
  },
  {
   "cell_type": "markdown",
   "id": "2c90d75a",
   "metadata": {},
   "source": [
    "# Structure"
   ]
  },
  {
   "cell_type": "code",
   "execution_count": 3,
   "id": "b5efdbd0",
   "metadata": {},
   "outputs": [],
   "source": [
    "import sisl\n",
    "Si64_fdf = sisl.get_sile('/home/aakhtar/Projects/siesta/Obj_my_env/Tests/si64/si64.fdf')\n",
    "Si64_geom = Si64_fdf.read_geometry()\n",
    "Si64_geom_ase = Si64_geom.toASE()\n",
    "Si64_geom_ase.write('host.XSF')\n",
    "host = StructureData(ase=Si64_geom_ase)\n",
    "iv=0 \n",
    "defect = host.clone()\n",
    "defect.clear_sites()\n",
    "sites =host.sites\n",
    "new_sites = sites\n",
    "vacancy_site = new_sites.pop(iv)\n",
    "[defect.append_site(s) for s in new_sites]\n",
    "#len(host.sites)\n",
    "#len(defect.sites)\n",
    "ase_defect = defect.get_ase()\n",
    "ase_defect.write('defect.XSF')"
   ]
  },
  {
   "cell_type": "code",
   "execution_count": 4,
   "id": "adf80a30",
   "metadata": {},
   "outputs": [
    {
     "name": "stdout",
     "output_type": "stream",
     "text": [
      "Formatioan Energy Worchain for Siesta Loaded\n",
      "For Charged Systems with WK Node\n"
     ]
    }
   ],
   "source": [
    "#from aiida_defects.formation_energy_siesta.formation_energy_siesta_manual_wk_node import FormationEnergyWorkchainSIESTAManual\n",
    "from aiida_defects.formation_energy_siesta.workflows.formation_energy_siesta_neutral_manual_wk_node import FormationEnergyWorkchainSIESTAManual"
   ]
  },
  {
   "cell_type": "code",
   "execution_count": 5,
   "id": "a55f477f",
   "metadata": {},
   "outputs": [
    {
     "name": "stdout",
     "output_type": "stream",
     "text": [
      "\n",
      "Using the pseudo for ['Si'] from DB: 6009\n"
     ]
    }
   ],
   "source": [
    "# The pseudopotentials\n",
    "host_pseudos_dict = {}\n",
    "#raw_pseudos = [(\"Si.psf\", ['Si']), (\"H.psf\", ['H_int'])]\n",
    "raw_pseudos = [(\"Si.psf\", ['Si'])]\n",
    "for fname, kinds in raw_pseudos:\n",
    "    #absname = op.realpath(op.join(op.dirname(__file__), \"fixtures/sample_psf\", fname))\n",
    "    absname = op.join(\"/home/aakhtar/Calculations/AiiDA/AiiDA-Defects\", fname)\n",
    "    pseudo = PsfData.get_or_create(absname)\n",
    "    if not pseudo.is_stored:\n",
    "        print(\"\\nCreated the pseudo for {}\".format(kinds))\n",
    "    else:\n",
    "        print(\"\\nUsing the pseudo for {} from DB: {}\".format(kinds, pseudo.pk))\n",
    "    for j in kinds:\n",
    "        host_pseudos_dict[j]=pseudo"
   ]
  },
  {
   "cell_type": "code",
   "execution_count": 6,
   "id": "073522f1",
   "metadata": {},
   "outputs": [
    {
     "name": "stdout",
     "output_type": "stream",
     "text": [
      "\n",
      "Using the pseudo for ['Si', 'Si_ghost'] from DB: 6009\n"
     ]
    }
   ],
   "source": [
    "# The pseudopotentials\n",
    "defect_pseudos_dict = {}\n",
    "#raw_pseudos = [(\"Si.psf\", ['Si']), (\"H.psf\", ['H_int'])]\n",
    "raw_pseudos = [(\"Si.psf\", ['Si','Si_ghost'])]\n",
    "for fname, kinds in raw_pseudos:\n",
    "    #absname = op.realpath(op.join(op.dirname(__file__), \"fixtures/sample_psf\", fname))\n",
    "    absname = op.join(\"/home/aakhtar/Calculations/AiiDA/AiiDA-Defects\", fname)\n",
    "    pseudo = PsfData.get_or_create(absname)\n",
    "    if not pseudo.is_stored:\n",
    "        print(\"\\nCreated the pseudo for {}\".format(kinds))\n",
    "    else:\n",
    "        print(\"\\nUsing the pseudo for {} from DB: {}\".format(kinds, pseudo.pk))\n",
    "    for j in kinds:\n",
    "        defect_pseudos_dict[j]=pseudo"
   ]
  },
  {
   "cell_type": "code",
   "execution_count": 7,
   "id": "82e01271",
   "metadata": {},
   "outputs": [],
   "source": [
    "# Parameters: very coarse for speed of test\n",
    "# Note the all the Si atoms are fixed...\n",
    "parameters = dict={\n",
    "   \"mesh-cutoff\": \"50 Ry\",\n",
    "   \"dm-tolerance\": \"0.001\",\n",
    "   \"DM-NumberPulay \":  \"3\",\n",
    "   \"DM-History-Depth\":  \"0\",\n",
    "   \"SCF-Mixer-weight\":  \"0.02\",\n",
    "   \"SCF-Mix\":   \"density\",\n",
    "   \"SCF-Mixer-kick\":  \"35\",\n",
    "   \"MD-VariableCell\":  \"F\",\n",
    "   \"MD-MaxCGDispl\":  \"0.3 Bohr\",\n",
    "   \"MD-MaxForceTol\":  \" 0.04000 eV/Ang\"\n",
    "    }\n",
    "defect_constraints = dict={\n",
    "    \"%block geometryconstraints\":\n",
    "    \"\"\"\n",
    "    species-i 2 \n",
    "    %endblock geometryconstraints\"\"\"\n",
    "    }\n",
    "relaxation = dict={\n",
    "    'md-steps': 100\n",
    "    }\n",
    "parameters.update(relaxation)\n",
    "#\n",
    "# Use this for constraints\n",
    "#\n",
    "#parameters.update(constraints)\n",
    "#\n",
    "host_parameters = Dict(dict=parameters)\n",
    "defect_q0_parameters = Dict(dict=parameters)\n",
    "defect_q_parameters = Dict(dict=parameters)"
   ]
  },
  {
   "cell_type": "code",
   "execution_count": 8,
   "id": "660cafed",
   "metadata": {},
   "outputs": [
    {
     "data": {
      "text/plain": [
       "{'mesh-cutoff': '50 Ry',\n",
       " 'dm-tolerance': '0.001',\n",
       " 'DM-NumberPulay ': '3',\n",
       " 'DM-History-Depth': '0',\n",
       " 'SCF-Mixer-weight': '0.02',\n",
       " 'SCF-Mix': 'density',\n",
       " 'SCF-Mixer-kick': '35',\n",
       " 'MD-VariableCell': 'F',\n",
       " 'MD-MaxCGDispl': '0.3 Bohr',\n",
       " 'MD-MaxForceTol': ' 0.04000 eV/Ang',\n",
       " 'md-steps': 100}"
      ]
     },
     "execution_count": 8,
     "metadata": {},
     "output_type": "execute_result"
    }
   ],
   "source": [
    "host_parameters.get_dict()"
   ]
  },
  {
   "cell_type": "code",
   "execution_count": 9,
   "id": "1546cdac",
   "metadata": {},
   "outputs": [
    {
     "data": {
      "text/plain": [
       "{'mesh-cutoff': '50 Ry',\n",
       " 'dm-tolerance': '0.001',\n",
       " 'DM-NumberPulay ': '3',\n",
       " 'DM-History-Depth': '0',\n",
       " 'SCF-Mixer-weight': '0.02',\n",
       " 'SCF-Mix': 'density',\n",
       " 'SCF-Mixer-kick': '35',\n",
       " 'MD-VariableCell': 'F',\n",
       " 'MD-MaxCGDispl': '0.3 Bohr',\n",
       " 'MD-MaxForceTol': ' 0.04000 eV/Ang',\n",
       " 'md-steps': 100,\n",
       " '%block geometryconstraints': '\\n    species-i 2 \\n    %endblock geometryconstraints'}"
      ]
     },
     "execution_count": 9,
     "metadata": {},
     "output_type": "execute_result"
    }
   ],
   "source": [
    "defect_q0_parameters.update_dict(defect_constraints)\n",
    "defect_q0_parameters.get_dict()"
   ]
  },
  {
   "cell_type": "code",
   "execution_count": 10,
   "id": "0a12ba72",
   "metadata": {},
   "outputs": [
    {
     "data": {
      "text/plain": [
       "{'mesh-cutoff': '50 Ry',\n",
       " 'dm-tolerance': '0.001',\n",
       " 'DM-NumberPulay ': '3',\n",
       " 'DM-History-Depth': '0',\n",
       " 'SCF-Mixer-weight': '0.02',\n",
       " 'SCF-Mix': 'density',\n",
       " 'SCF-Mixer-kick': '35',\n",
       " 'MD-VariableCell': 'F',\n",
       " 'MD-MaxCGDispl': '0.3 Bohr',\n",
       " 'MD-MaxForceTol': ' 0.04000 eV/Ang',\n",
       " 'md-steps': 100,\n",
       " '%block geometryconstraints': '\\n    species-i 2 \\n    %endblock geometryconstraints'}"
      ]
     },
     "execution_count": 10,
     "metadata": {},
     "output_type": "execute_result"
    }
   ],
   "source": [
    "defect_q_parameters.update_dict(defect_constraints)\n",
    "defect_q_parameters.get_dict()"
   ]
  },
  {
   "cell_type": "code",
   "execution_count": 11,
   "id": "f3bfa2a0",
   "metadata": {},
   "outputs": [],
   "source": [
    "net_charge = dict={'NetCharge':+2.0}\n",
    "VT = dict={'SaveTotalPotential': True}"
   ]
  },
  {
   "cell_type": "code",
   "execution_count": 12,
   "id": "925f676d",
   "metadata": {},
   "outputs": [
    {
     "data": {
      "text/plain": [
       "{'NetCharge': 2.0}"
      ]
     },
     "execution_count": 12,
     "metadata": {},
     "output_type": "execute_result"
    }
   ],
   "source": [
    "net_charge"
   ]
  },
  {
   "cell_type": "code",
   "execution_count": 13,
   "id": "85270e84",
   "metadata": {},
   "outputs": [],
   "source": [
    "inputs_test = Dict(dict=defect_q_parameters.get_dict())"
   ]
  },
  {
   "cell_type": "code",
   "execution_count": 14,
   "id": "57efd6a3",
   "metadata": {},
   "outputs": [],
   "source": [
    "inputs_test.update_dict(net_charge)\n",
    "inputs_test.update_dict(VT)"
   ]
  },
  {
   "cell_type": "code",
   "execution_count": 15,
   "id": "79676778",
   "metadata": {},
   "outputs": [
    {
     "data": {
      "text/plain": [
       "{'mesh-cutoff': '50 Ry',\n",
       " 'dm-tolerance': '0.001',\n",
       " 'DM-NumberPulay ': '3',\n",
       " 'DM-History-Depth': '0',\n",
       " 'SCF-Mixer-weight': '0.02',\n",
       " 'SCF-Mix': 'density',\n",
       " 'SCF-Mixer-kick': '35',\n",
       " 'MD-VariableCell': 'F',\n",
       " 'MD-MaxCGDispl': '0.3 Bohr',\n",
       " 'MD-MaxForceTol': ' 0.04000 eV/Ang',\n",
       " 'md-steps': 100,\n",
       " '%block geometryconstraints': '\\n    species-i 2 \\n    %endblock geometryconstraints',\n",
       " 'NetCharge': 2.0,\n",
       " 'SaveTotalPotential': True}"
      ]
     },
     "execution_count": 15,
     "metadata": {},
     "output_type": "execute_result"
    }
   ],
   "source": [
    "inputs_test.get_dict()"
   ]
  },
  {
   "cell_type": "code",
   "execution_count": 16,
   "id": "8ce10096",
   "metadata": {},
   "outputs": [],
   "source": [
    "basis = Dict(\n",
    "    dict={\n",
    "        'pao-energy-shift':\n",
    "        '300 meV',\n",
    "        '%block pao-basis-sizes':\n",
    "        \"\"\"\n",
    "        Si SZ\n",
    "        %endblock pao-basis-sizes\"\"\",})\n",
    "\n",
    "basis_defect = Dict(\n",
    "    dict={\n",
    "        'pao-energy-shift':\n",
    "        '300 meV',\n",
    "        '%block pao-basis-sizes':\n",
    "        \"\"\"\n",
    "        Si SZ\n",
    "        Si_ghost SZ\n",
    "        %endblock pao-basis-sizes\"\"\",})"
   ]
  },
  {
   "cell_type": "code",
   "execution_count": 17,
   "id": "4e8156dd",
   "metadata": {},
   "outputs": [],
   "source": [
    "#Resources\n",
    "options = Dict(dict={\n",
    "    \"max_wallclock_seconds\": 73600,\n",
    "    'withmpi': True,\n",
    "    \"resources\": {\n",
    "        \"num_machines\": 1,\n",
    "        \"num_mpiprocs_per_machine\": 1,\n",
    "    }\n",
    "})\n"
   ]
  },
  {
   "cell_type": "code",
   "execution_count": 18,
   "id": "6194db61",
   "metadata": {},
   "outputs": [
    {
     "data": {
      "text/plain": [
       "{'max_wallclock_seconds': 73600,\n",
       " 'withmpi': True,\n",
       " 'resources': {'num_machines': 1, 'num_mpiprocs_per_machine': 1}}"
      ]
     },
     "execution_count": 18,
     "metadata": {},
     "output_type": "execute_result"
    }
   ],
   "source": [
    "options.get_dict()"
   ]
  },
  {
   "cell_type": "code",
   "execution_count": 19,
   "id": "df12e12b",
   "metadata": {},
   "outputs": [],
   "source": [
    "floating = {'floating_sites': [{\"symbols\": 'Si',\n",
    "                                \"name\": 'Si_ghost',\n",
    "                               \"position\": vacancy_site.position}]}"
   ]
  },
  {
   "cell_type": "code",
   "execution_count": 20,
   "id": "5dc23b76",
   "metadata": {},
   "outputs": [],
   "source": [
    "basis_defect.update_dict(floating)"
   ]
  },
  {
   "cell_type": "code",
   "execution_count": 21,
   "id": "4c6f1f55",
   "metadata": {},
   "outputs": [
    {
     "data": {
      "text/plain": [
       "{'pao-energy-shift': '300 meV',\n",
       " '%block pao-basis-sizes': '\\n        Si SZ\\n        Si_ghost SZ\\n        %endblock pao-basis-sizes',\n",
       " 'floating_sites': [{'symbols': 'Si',\n",
       "   'name': 'Si_ghost',\n",
       "   'position': (0.0, 0.0, 0.0)}]}"
      ]
     },
     "execution_count": 21,
     "metadata": {},
     "output_type": "execute_result"
    }
   ],
   "source": [
    "basis_defect.get_dict()"
   ]
  },
  {
   "cell_type": "code",
   "execution_count": 22,
   "id": "dd148571",
   "metadata": {},
   "outputs": [],
   "source": [
    "#codename = 'siesta-master@arsalan-pwk'\n",
    "codename = 'siesta-lua@mylaptop'\n",
    "code = load_code(codename)"
   ]
  },
  {
   "cell_type": "code",
   "execution_count": 23,
   "id": "efece93c",
   "metadata": {},
   "outputs": [],
   "source": [
    "#The kpoints\n",
    "kpoints = KpointsData()\n",
    "kpoints.set_kpoints_mesh([1,1,1])"
   ]
  },
  {
   "cell_type": "code",
   "execution_count": 24,
   "id": "12c39922",
   "metadata": {},
   "outputs": [],
   "source": [
    "inputs = {'host_structure':host,\n",
    "          'defect_structure':defect,\n",
    "    'host': {'code':code,\n",
    "             'parameters':host_parameters,\n",
    "             'basis':basis,\n",
    "             'kpoints':kpoints,\n",
    "             'pseudos':host_pseudos_dict,\n",
    "             'options':options},\n",
    "    'defect_q0': {'code':code,\n",
    "                  'parameters':defect_q0_parameters,\n",
    "                  'basis':basis_defect,\n",
    "                  'kpoints':kpoints,\n",
    "                  'pseudos':defect_pseudos_dict,\n",
    "                  'options':options},\n",
    "    'defect_q': {'code':code,\n",
    "                 'parameters':defect_q_parameters,\n",
    "                 'basis':basis_defect,\n",
    "                 'kpoints':kpoints,\n",
    "                 'pseudos':defect_pseudos_dict,\n",
    "                 'options':options},\n",
    "    'defect_charge':Float(-1),\n",
    "    'defect_site':List(list=[0.0,0.0,0.0]),\n",
    "    'chemical_potential':Float(-100.629519),\n",
    "    'epsilon':Float(9.0),\n",
    "    'wk_node': Int(9282),#Int(9093),\n",
    "    'add_or_remove':Str('remove'),\n",
    "    #'correction_scheme':Str('rho')     \n",
    "}\n",
    "\n"
   ]
  },
  {
   "cell_type": "code",
   "execution_count": 25,
   "id": "9ac02a32",
   "metadata": {
    "scrolled": true
   },
   "outputs": [
    {
     "data": {
      "text/plain": [
       "{'host_structure': <StructureData: uuid: 20699b02-3ada-42ad-94a5-ec1690d7c06b (unstored)>,\n",
       " 'defect_structure': <StructureData: uuid: c1f127f0-1767-45b8-a003-5eab471ebc4a (unstored)>,\n",
       " 'host': {'code': <Code: Remote code 'siesta-lua' on mylaptop, pk: 1, uuid: f044d7db-fff3-48dd-b489-6f81eb736d8d>,\n",
       "  'parameters': <Dict: uuid: 0296a6b1-39fd-4c7e-bf08-5e9b92aaf1d6 (unstored)>,\n",
       "  'basis': <Dict: uuid: ee808f34-d6e0-4268-8881-2237758d1713 (unstored)>,\n",
       "  'kpoints': <KpointsData: uuid: 29913db9-983e-40ec-a1df-b4e2fa75cc88 (unstored)>,\n",
       "  'pseudos': {'Si': <PsfData: uuid: 1eb6fc02-9076-4476-8cd2-6a3e73bacaa3 (pk: 6009)>},\n",
       "  'options': <Dict: uuid: 4b36585c-1970-44ae-ac72-38d019ce7380 (unstored)>},\n",
       " 'defect_q0': {'code': <Code: Remote code 'siesta-lua' on mylaptop, pk: 1, uuid: f044d7db-fff3-48dd-b489-6f81eb736d8d>,\n",
       "  'parameters': <Dict: uuid: 2251b53a-8dbd-4b44-b370-64ee244f3d98 (unstored)>,\n",
       "  'basis': <Dict: uuid: e3a52d72-71d7-48cd-873d-b7b8af37592e (unstored)>,\n",
       "  'kpoints': <KpointsData: uuid: 29913db9-983e-40ec-a1df-b4e2fa75cc88 (unstored)>,\n",
       "  'pseudos': {'Si': <PsfData: uuid: 1eb6fc02-9076-4476-8cd2-6a3e73bacaa3 (pk: 6009)>,\n",
       "   'Si_ghost': <PsfData: uuid: 1eb6fc02-9076-4476-8cd2-6a3e73bacaa3 (pk: 6009)>},\n",
       "  'options': <Dict: uuid: 4b36585c-1970-44ae-ac72-38d019ce7380 (unstored)>},\n",
       " 'defect_q': {'code': <Code: Remote code 'siesta-lua' on mylaptop, pk: 1, uuid: f044d7db-fff3-48dd-b489-6f81eb736d8d>,\n",
       "  'parameters': <Dict: uuid: ecac6675-dde9-4a10-8332-5e86d99edc4d (unstored)>,\n",
       "  'basis': <Dict: uuid: e3a52d72-71d7-48cd-873d-b7b8af37592e (unstored)>,\n",
       "  'kpoints': <KpointsData: uuid: 29913db9-983e-40ec-a1df-b4e2fa75cc88 (unstored)>,\n",
       "  'pseudos': {'Si': <PsfData: uuid: 1eb6fc02-9076-4476-8cd2-6a3e73bacaa3 (pk: 6009)>,\n",
       "   'Si_ghost': <PsfData: uuid: 1eb6fc02-9076-4476-8cd2-6a3e73bacaa3 (pk: 6009)>},\n",
       "  'options': <Dict: uuid: 4b36585c-1970-44ae-ac72-38d019ce7380 (unstored)>},\n",
       " 'defect_charge': <Float: uuid: e78da193-b538-4e30-a5bf-5df924a6c8e2 (unstored) value: -1.0>,\n",
       " 'defect_site': <List: uuid: 20aa3643-05ae-4dca-b9c5-3dce77a733d8 (unstored) value: [0.0, 0.0, 0.0]>,\n",
       " 'chemical_potential': <Float: uuid: d50d0c53-705d-496b-a39c-3713c8ee220d (unstored) value: -100.629519>,\n",
       " 'epsilon': <Float: uuid: a22f597d-650e-4626-a5ab-87da4f45e7ef (unstored) value: 9.0>,\n",
       " 'wk_node': <Int: uuid: 78961719-37f3-4a07-8fa5-51f58bea42fe (unstored) value: 9282>,\n",
       " 'add_or_remove': <Str: uuid: 8f7a1695-10dd-405b-93f7-811d12357984 (unstored) value: remove>}"
      ]
     },
     "execution_count": 25,
     "metadata": {},
     "output_type": "execute_result"
    }
   ],
   "source": [
    "inputs"
   ]
  },
  {
   "cell_type": "code",
   "execution_count": 26,
   "id": "63de7b38",
   "metadata": {},
   "outputs": [
    {
     "name": "stdout",
     "output_type": "stream",
     "text": [
      "Submitted VacancyExchangeBarrier workchain; ID=9518\n",
      "For information about this workchain type: verdi process show 9518\n",
      "For a list of running processes type: verdi process list\n"
     ]
    }
   ],
   "source": [
    "process = submit(FormationEnergyWorkchainSIESTAManual, **inputs)\n",
    "print(\"Submitted VacancyExchangeBarrier workchain; ID={}\".format(process.pk))\n",
    "print(\n",
    "    \"For information about this workchain type: verdi process show {}\".format(\n",
    "        process.pk))\n",
    "print(\"For a list of running processes type: verdi process list\")\n"
   ]
  },
  {
   "cell_type": "code",
   "execution_count": 27,
   "id": "dedf914d",
   "metadata": {},
   "outputs": [],
   "source": [
    "#node =orm.load_node(9398)"
   ]
  },
  {
   "cell_type": "code",
   "execution_count": 28,
   "id": "9142ee8f",
   "metadata": {},
   "outputs": [],
   "source": [
    "#node.outputs.defect_q0_structure"
   ]
  },
  {
   "cell_type": "code",
   "execution_count": null,
   "id": "da341391",
   "metadata": {},
   "outputs": [],
   "source": []
  }
 ],
 "metadata": {
  "kernelspec": {
   "display_name": "Python 3 (ipykernel)",
   "language": "python",
   "name": "python3"
  },
  "language_info": {
   "codemirror_mode": {
    "name": "ipython",
    "version": 3
   },
   "file_extension": ".py",
   "mimetype": "text/x-python",
   "name": "python",
   "nbconvert_exporter": "python",
   "pygments_lexer": "ipython3",
   "version": "3.9.7"
  }
 },
 "nbformat": 4,
 "nbformat_minor": 5
}
