{
 "cells": [
  {
   "cell_type": "code",
   "execution_count": 1,
   "metadata": {
    "collapsed": true
   },
   "outputs": [],
   "source": [
    "from __future__ import absolute_import\n",
    "import aiida"
   ]
  },
  {
   "cell_type": "code",
   "execution_count": 2,
   "metadata": {
    "collapsed": true
   },
   "outputs": [],
   "source": [
    "from aiida import load_profile\n",
    "load_profile()\n",
    "\n",
    "# Import commonly used functionality\n",
    "import numpy as np\n",
    "from aiida import orm, engine, common\n",
    "from aiida.plugins import WorkflowFactory\n",
    "from aiida.orm import Code\n",
    "\n"
   ]
  },
  {
   "cell_type": "code",
   "execution_count": 3,
   "metadata": {
    "collapsed": true
   },
   "outputs": [],
   "source": [
    "#!pwd"
   ]
  },
  {
   "cell_type": "code",
   "execution_count": 4,
   "metadata": {
    "collapsed": true
   },
   "outputs": [],
   "source": [
    "!reentry scan"
   ]
  },
  {
   "cell_type": "code",
   "execution_count": 5,
   "metadata": {},
   "outputs": [
    {
     "name": "stdout",
     "output_type": "stream",
     "text": [
      "\u001b[22mRestarting the daemon... \u001b[0m\u001b[32m\u001b[1mOK\u001b[0m\n"
     ]
    }
   ],
   "source": [
    "!verdi daemon restart\n",
    "#!verdi daemon restart\n",
    "#!$JUPYTER_PATH\n",
    "#!export JUPYTER_PATH=\"/home/aakhtar/Projects/aiida-defects-siesta/siesta-defect-formation/aiida-workflow/formation_energy/;$JUPYTER_PATH\""
   ]
  },
  {
   "cell_type": "code",
   "execution_count": 6,
   "metadata": {
    "collapsed": true
   },
   "outputs": [],
   "source": [
    "from aiida_siesta.workflows.defect_formation.formation_energy_siesta import FormationEnergyWorkchainSIESTA\n",
    "#import .formation_energy_siesta\n",
    "#!pwd"
   ]
  },
  {
   "cell_type": "code",
   "execution_count": 7,
   "metadata": {
    "collapsed": true
   },
   "outputs": [],
   "source": [
    "from aiida.orm import StructureData\n",
    "#Structure Pure\n",
    "cell = [[15.0, 0.0, 0.0,],\n",
    "        [ 0.0,15.0, 0.0,],\n",
    "        [ 0.0, 0.0,15.0,],\n",
    "        ]\n",
    "pure = StructureData(cell=cell)\n",
    "pure.append_atom(position=( 0.000 , 0.000 , 0.000 ),symbols=['O']) #1\n",
    "#pure.append_atom(position=( 0.757 , 0.586 , 0.000 ),symbols=['H']) #2\n",
    "#pure.append_atom(position=(-0.757 , 0.586 , 0.000),symbols=['H']) #3 \n",
    "#pure.append_atom(position=( 0.000 , 3.500 , 0.000),symbols=['O']) #4\n",
    "#pure.append_atom(position=( 0.757 , 2.914 , 0.000 ),symbols=['H']) #5\n",
    "#pure.append_atom(position=(-0.757 , 2.914 , 0.000),symbols=['H']) #6\n",
    "\n",
    "\n",
    "defect=StructureData(cell=cell)\n",
    "defect.append_atom(position=( 0.000 , 0.000 , 0.000 ),symbols=['O']) #1\n",
    "#defect.append_atom(position=( 0.757 , 0.586 , 0.000 ),symbols=['H']) #2\n",
    "#defect.append_atom(position=(-0.757 , 0.586 , 0.000),symbols=['H']) #3 \n",
    "#defect.append_atom(position=( 0.000 , 3.500 , 0.000),symbols=['O']) #4\n",
    "#defect.append_atom(position=( 0.757 , 2.914 , 0.000 ),symbols=['H']) #5\n",
    "#defect.append_atom(position=(-0.757 , 2.914 , 0.000),symbols=['H'],name=\"GhostH\") #6"
   ]
  },
  {
   "cell_type": "code",
   "execution_count": 8,
   "metadata": {
    "collapsed": true
   },
   "outputs": [],
   "source": [
    "code = Code.get_from_string('siesta-psml-lua@N552VW')\n",
    "charge=-2"
   ]
  },
  {
   "cell_type": "code",
   "execution_count": 9,
   "metadata": {
    "collapsed": true
   },
   "outputs": [],
   "source": [
    "from aiida.orm import Dict\n",
    "parameters_host = Dict(dict={\n",
    "   \"mesh-cutoff\": \"250 Ry\",\n",
    "   \"dm-tolerance\": \"0.0001\",\n",
    "   \"MD-TypeOfRun\":   \"cg\",\n",
    "    \"MD-NumCGsteps\": \"5000\",\n",
    "   #\"LUA-script\":   \"neb.lua\",\n",
    "   \"DM-NumberPulay \":  \"3\",\n",
    "   \"DM-History-Depth\":  \"0\",\n",
    "   \"SCF-Mixer-weight\":  \"0.02\",\n",
    "   \"SCF-Mix\":   \"density\",\n",
    "   \"SCF-Mixer-kick\":  \"35\",\n",
    "   \"MD-VariableCell\":  \"F\",\n",
    "   \"MD-MaxCGDispl\":  \"0.3 Bohr\",\n",
    "   \"MD-MaxForceTol\":  \" 0.04000 eV/Ang\", \n",
    "    })\n",
    "parameters_defect_q0 = Dict(dict={\n",
    "   \"mesh-cutoff\": \"250 Ry\",\n",
    "   \"dm-tolerance\": \"0.0001\",\n",
    "   \"MD-TypeOfRun\":   \"cg\",\n",
    "    \"MD-NumCGsteps\": \"5000\",\n",
    "   #\"LUA-script\":   \"neb.lua\",\n",
    "   \"DM-NumberPulay \":  \"3\",\n",
    "   \"DM-History-Depth\":  \"0\",\n",
    "   \"SCF-Mixer-weight\":  \"0.02\",\n",
    "   \"SCF-Mix\":   \"density\",\n",
    "   \"SCF-Mixer-kick\":  \"35\",\n",
    "   \"MD-VariableCell\":  \"F\",\n",
    "   \"MD-MaxCGDispl\":  \"0.3 Bohr\",\n",
    "   \"MD-MaxForceTol\":  \" 0.04000 eV/Ang\", \n",
    "   \"NetCharge\": \"0\",\n",
    "    })\n",
    "parameters_defect_q = Dict(dict={\n",
    "   \"mesh-cutoff\": \"250 Ry\",\n",
    "   \"dm-tolerance\": \"0.0001\",\n",
    "   \"MD-TypeOfRun\":   \"cg\",\n",
    "    \"MD-NumCGsteps\": \"5000\",\n",
    "   #\"LUA-script\":   \"neb.lua\",\n",
    "   \"DM-NumberPulay \":  \"3\",\n",
    "   \"DM-History-Depth\":  \"0\",\n",
    "   \"SCF-Mixer-weight\":  \"0.02\",\n",
    "   \"SCF-Mix\":   \"density\",\n",
    "   \"SCF-Mixer-kick\":  \"35\",\n",
    "   \"MD-VariableCell\":  \"F\",\n",
    "   \"MD-MaxCGDispl\":  \"0.3 Bohr\",\n",
    "   \"MD-MaxForceTol\":  \" 0.04000 eV/Ang\",\n",
    "   \"NetCharge\": str(charge),\n",
    "    })\n",
    "#options_host=Dict(dict={'options':{\"max_wallclock_seconds\": 360},\n",
    "#                        \"resources\":{\"num_machines\": 1,\n",
    "#                                      \"num_mpiprocs_per_machine\": 1}\n",
    "#                        })\n",
    "options_host=Dict(dict={\n",
    "        \"max_wallclock_seconds\": 360000,\n",
    "        #'withmpi': True,\n",
    "        #'account': \"tcphy113c\",\n",
    "        #'queue_name': \"DevQ\",\n",
    "        \"resources\": {\n",
    "            \"num_machines\": 1,\n",
    "            \"num_mpiprocs_per_machine\": 1,\n",
    "        }\n",
    "    })\n",
    "options_defect_q0=Dict(dict={\n",
    "        \"max_wallclock_seconds\": 360000,\n",
    "        #'withmpi': True,\n",
    "        #'account': \"tcphy113c\",\n",
    "        #'queue_name': \"DevQ\",\n",
    "        \"resources\": {\n",
    "            \"num_machines\": 1,\n",
    "            \"num_mpiprocs_per_machine\": 1,\n",
    "        }\n",
    "    })\n",
    "options_defect_q=Dict(dict={\n",
    "        \"max_wallclock_seconds\": 360000,\n",
    "        #'withmpi': True,\n",
    "        #'account': \"tcphy113c\",\n",
    "        #'queue_name': \"DevQ\",\n",
    "        \"resources\": {\n",
    "            \"num_machines\": 1,\n",
    "            \"num_mpiprocs_per_machine\": 1,\n",
    "        }\n",
    "    })\n",
    "\n"
   ]
  },
  {
   "cell_type": "code",
   "execution_count": 10,
   "metadata": {
    "collapsed": true
   },
   "outputs": [],
   "source": [
    "basis_dict_host =Dict(dict= {\n",
    "'pao-basistype':'split',\n",
    "'pao-splitnorm': 0.150,\n",
    "'pao-energyshift': '0.020 Ry',\n",
    "'%block pao-basis-sizes':\n",
    "\"\"\"\n",
    "O DZP\n",
    "#H    DZP\n",
    "%endblock pao-basis-sizes\"\"\",\n",
    "})\n",
    "basis_dict_defect_q0 = Dict(dict= {\n",
    "'pao-basistype':'split',\n",
    "'pao-splitnorm': 0.150,\n",
    "'pao-energyshift': '0.020 Ry',\n",
    "'%block pao-basis-sizes':\n",
    "\"\"\"\n",
    "O DZP\n",
    "#GhostH DZP\n",
    "#H    DZP\n",
    "%endblock pao-basis-sizes\"\"\",\n",
    "})\n",
    "basis_dict_defect_q =Dict(dict= {\n",
    "'pao-basistype':'split',\n",
    "'pao-splitnorm': 0.150,\n",
    "'pao-energyshift': '0.020 Ry',\n",
    "'%block pao-basis-sizes':\n",
    "\"\"\"\n",
    "O DZP\n",
    "#GhostH DZP\n",
    "#H    DZP\n",
    "%endblock pao-basis-sizes\"\"\",\n",
    "})"
   ]
  },
  {
   "cell_type": "code",
   "execution_count": 11,
   "metadata": {},
   "outputs": [
    {
     "data": {
      "text/plain": [
       "{'mesh-cutoff': '250 Ry',\n",
       " 'dm-tolerance': '0.0001',\n",
       " 'MD-TypeOfRun': 'cg',\n",
       " 'MD-NumCGsteps': '5000',\n",
       " 'DM-NumberPulay ': '3',\n",
       " 'DM-History-Depth': '0',\n",
       " 'SCF-Mixer-weight': '0.02',\n",
       " 'SCF-Mix': 'density',\n",
       " 'SCF-Mixer-kick': '35',\n",
       " 'MD-VariableCell': 'F',\n",
       " 'MD-MaxCGDispl': '0.3 Bohr',\n",
       " 'MD-MaxForceTol': ' 0.04000 eV/Ang',\n",
       " 'NetCharge': '0'}"
      ]
     },
     "execution_count": 11,
     "metadata": {},
     "output_type": "execute_result"
    }
   ],
   "source": [
    "parameters_defect_q0.get_dict()"
   ]
  },
  {
   "cell_type": "code",
   "execution_count": 12,
   "metadata": {
    "collapsed": true
   },
   "outputs": [],
   "source": [
    "kpoints_host = orm.KpointsData()\n",
    "kpoints_host.set_kpoints_mesh([1,1,1]) # Definately not converged, but we want the example to run quickly\n",
    "kpoints_defect_q0 = orm.KpointsData()\n",
    "kpoints_defect_q0.set_kpoints_mesh([1,1,1]) # Definately not converged, but we want the example to run quickly\n",
    "kpoints_defect_q = orm.KpointsData()\n",
    "kpoints_defect_q.set_kpoints_mesh([1,1,1]) # Definately not converged, but we want the example to run quickly"
   ]
  },
  {
   "cell_type": "code",
   "execution_count": 13,
   "metadata": {},
   "outputs": [
    {
     "data": {
      "text/plain": [
       "{'O': <PsfData: uuid: 4e885319-c33a-42fb-ae15-6f923cb84c5a (pk: 3)>}"
      ]
     },
     "execution_count": 13,
     "metadata": {},
     "output_type": "execute_result"
    }
   ],
   "source": [
    "import os\n",
    "from aiida_siesta.data.psf import PsfData\n",
    "pseudo_file_to_species_map = [ (\"O.psf\", ['O'])]\n",
    "#pseudo_file_to_species_map = [ (\"H.psf\", ['H']),(\"O.psf\", ['O'])]\n",
    "#pseudo_file_to_species_map = [ (\"H.psf\",[\"H\"]),(\"GhostH.psf\",[\"GhostH\"]),(\"O.psf\", ['O'])]\n",
    "pseudos_dict_host = {}\n",
    "for fname, kinds, in pseudo_file_to_species_map:\n",
    "      absname = os.path.realpath(os.path.join(\"./pseudos\",fname))\n",
    "      pseudo, created = PsfData.get_or_create(absname, use_first=True)\n",
    "      for j in kinds:\n",
    "              pseudos_dict_host[j]=pseudo                \n",
    "pseudos_dict_host\n"
   ]
  },
  {
   "cell_type": "code",
   "execution_count": 14,
   "metadata": {},
   "outputs": [
    {
     "data": {
      "text/plain": [
       "{'O': <PsfData: uuid: 4e885319-c33a-42fb-ae15-6f923cb84c5a (pk: 3)>}"
      ]
     },
     "execution_count": 14,
     "metadata": {},
     "output_type": "execute_result"
    }
   ],
   "source": [
    "pseudo_file_to_species_map = [(\"O.psf\", ['O'])]\n",
    "#pseudo_file_to_species_map = [ (\"H.psf\", ['GhostH','H']),(\"O.psf\", ['O'])]\n",
    "pseudos_dict_defect = {}\n",
    "for fname, kinds, in pseudo_file_to_species_map:\n",
    "      absname = os.path.realpath(os.path.join(\"./pseudos\",fname))\n",
    "      pseudo, created = PsfData.get_or_create(absname, use_first=True)\n",
    "      for j in kinds:\n",
    "              pseudos_dict_defect[j]=pseudo\n",
    "pseudos_dict_defect"
   ]
  },
  {
   "cell_type": "code",
   "execution_count": 15,
   "metadata": {
    "collapsed": true
   },
   "outputs": [],
   "source": [
    "inputs = {\n",
    "    # Structures\n",
    "    'host_structure': pure,\n",
    "    'defect_structure': defect,\n",
    "    # Defect information \n",
    "    #'defect_charge' : orm.Float(-2.),\n",
    "    'defect_charge' : orm.Float(charge),\n",
    "    'defect_site' : orm.List(list=[-0.757 , 2.914 , 0.000]),    # Position of the defect in crystal coordinates\n",
    "    'fermi_level' : orm.Float(0.0),               # Position of the Fermi level, with respect to the valence band maximum      \n",
    "    'chemical_potential' : orm.Float(250.709), # eV, the chemical potentical of a C atom\n",
    "    'gaussian_sigma':orm.Float(0.5),\n",
    "    'correction_scheme' : orm.Str('none'),\n",
    "    \"epsilon\":orm.Float(1.0),\n",
    "    \"pseudos_host\":pseudos_dict_host,\n",
    "    \"pseudos_defect\":pseudos_dict_defect,\n",
    "    #\"pseudos_q0\":pseudos_dict,\n",
    "    #\"pseudos_q\":pseudos_dict,\n",
    "    # Computational (chosen code is QE)\n",
    "    'siesta' : { 'dft': {'supercell_host':{'code': code, 'kpoints': kpoints_host, 'parameters' : parameters_host,\n",
    "                                           'options':options_host,\"basis\": basis_dict_host},\n",
    "                         'supercell_defect_q0':{'code': code, 'kpoints': kpoints_defect_q,'parameters' : parameters_defect_q0,\n",
    "                                                'options':options_defect_q0,\"basis\": basis_dict_defect_q0},\n",
    "                         'supercell_defect_q':{'code': code, 'kpoints': kpoints_defect_q,'parameters' : parameters_defect_q,\n",
    "                                               'options':options_defect_q,\"basis\": basis_dict_defect_q}\n",
    "}}}"
   ]
  },
  {
   "cell_type": "code",
   "execution_count": 16,
   "metadata": {},
   "outputs": [
    {
     "data": {
      "text/plain": [
       "{'host_structure': <StructureData: uuid: eba91ed0-8ba1-46ab-b2ae-e532de9d9a42 (unstored)>,\n",
       " 'defect_structure': <StructureData: uuid: 4eb487d7-98a2-422b-80db-cfddded372d8 (unstored)>,\n",
       " 'defect_charge': <Float: uuid: 48817261-dcc6-4f8c-986d-459f0c4f89c2 (unstored) value: -2.0>,\n",
       " 'defect_site': <List: uuid: 2659cd86-17b1-4581-9cee-2c6a38efacf4 (unstored) value: [-0.757, 2.914, 0.0]>,\n",
       " 'fermi_level': <Float: uuid: c334b05b-4894-4eee-b802-e0932dee0736 (unstored) value: 0.0>,\n",
       " 'chemical_potential': <Float: uuid: 146168a4-3915-4f47-a510-e8c8c33db028 (unstored) value: 250.709>,\n",
       " 'gaussian_sigma': <Float: uuid: ac1d3347-41cf-4f4a-a0df-7cbeac0f6737 (unstored) value: 0.5>,\n",
       " 'correction_scheme': <Str: uuid: f4d27173-04c5-4150-a38d-b94f75cc9936 (unstored) value: none>,\n",
       " 'epsilon': <Float: uuid: 185afd76-cdd2-49ec-9418-5ea5832ae419 (unstored) value: 1.0>,\n",
       " 'pseudos_host': {'O': <PsfData: uuid: 4e885319-c33a-42fb-ae15-6f923cb84c5a (pk: 3)>},\n",
       " 'pseudos_defect': {'O': <PsfData: uuid: 4e885319-c33a-42fb-ae15-6f923cb84c5a (pk: 3)>},\n",
       " 'siesta': {'dft': {'supercell_host': {'code': <Code: Remote code 'siesta-psml-lua' on N552VW, pk: 403, uuid: 872001d8-73fb-4b50-be30-4b947bd271b1>,\n",
       "    'kpoints': <KpointsData: uuid: 6ba49b19-84fb-4bba-8922-c0337a0e531c (unstored)>,\n",
       "    'parameters': <Dict: uuid: 229c3a3c-8de7-4d13-9e0f-798c1db16dc5 (unstored)>,\n",
       "    'options': <Dict: uuid: d783c3a2-25e8-46b4-9967-3bfed63d043b (unstored)>,\n",
       "    'basis': <Dict: uuid: 09560382-2285-490a-987d-bf16a3da1f84 (unstored)>},\n",
       "   'supercell_defect_q0': {'code': <Code: Remote code 'siesta-psml-lua' on N552VW, pk: 403, uuid: 872001d8-73fb-4b50-be30-4b947bd271b1>,\n",
       "    'kpoints': <KpointsData: uuid: 8dc2e066-239f-44b3-aa63-173c243b1518 (unstored)>,\n",
       "    'parameters': <Dict: uuid: a3b180bc-b480-4993-94a7-9288f7978169 (unstored)>,\n",
       "    'options': <Dict: uuid: cc177f4c-a30b-41a8-b1dd-7586afdee193 (unstored)>,\n",
       "    'basis': <Dict: uuid: 1eae4b78-95fd-4eea-bf38-d0068b8d3b2e (unstored)>},\n",
       "   'supercell_defect_q': {'code': <Code: Remote code 'siesta-psml-lua' on N552VW, pk: 403, uuid: 872001d8-73fb-4b50-be30-4b947bd271b1>,\n",
       "    'kpoints': <KpointsData: uuid: 8dc2e066-239f-44b3-aa63-173c243b1518 (unstored)>,\n",
       "    'parameters': <Dict: uuid: 67593f33-314b-40ce-a32e-68ee19d37404 (unstored)>,\n",
       "    'options': <Dict: uuid: 10fc7217-a0a6-4087-9758-92fbf16786d0 (unstored)>,\n",
       "    'basis': <Dict: uuid: 05c85d4d-e3c9-40fd-b94c-bca31d1356fa (unstored)>}}}}"
      ]
     },
     "execution_count": 16,
     "metadata": {},
     "output_type": "execute_result"
    }
   ],
   "source": [
    "inputs"
   ]
  },
  {
   "cell_type": "code",
   "execution_count": 17,
   "metadata": {
    "scrolled": false
   },
   "outputs": [
    {
     "name": "stderr",
     "output_type": "stream",
     "text": [
      "/home/aakhtar/venv/aiida/lib/python3.6/site-packages/aiida/engine/processes/ports.py:111: UserWarning: default of input port `fermi_level` is a `Node` instance, which can lead to unexpected side effects. It is advised to use a lambda instead, e.g.: `default=lambda: orm.Int(5)`.\n",
      "  warnings.warn(UserWarning(message))  # pylint: disable=no-member\n"
     ]
    }
   ],
   "source": [
    "workchain_future = engine.submit(FormationEnergyWorkchainSIESTA, **inputs)"
   ]
  },
  {
   "cell_type": "code",
   "execution_count": 18,
   "metadata": {},
   "outputs": [
    {
     "data": {
      "text/plain": [
       "<WorkChainNode: uuid: 24c9a196-77f2-4f18-a105-378bf00e105b (pk: 3160) (aiida.workflows:siesta.formation_energy_siesta)>"
      ]
     },
     "execution_count": 18,
     "metadata": {},
     "output_type": "execute_result"
    }
   ],
   "source": [
    "workchain_future"
   ]
  },
  {
   "cell_type": "code",
   "execution_count": 19,
   "metadata": {
    "scrolled": true
   },
   "outputs": [
    {
     "name": "stdout",
     "output_type": "stream",
     "text": [
      "\u001b[22m  PK  Created    Process label                   Process State     Process status\n",
      "----  ---------  ------------------------------  ----------------  ---------------------------------------------\n",
      "2411  23h ago    FormationEnergyWorkchainSIESTA  ☠ Killed          Killed through `verdi process kill`\n",
      "2412  23h ago    SiestaCalculation               ☠ Killed          Killed by parent<2411>\n",
      "2413  23h ago    SiestaCalculation               ☠ Killed          Killed by parent<2411>\n",
      "2414  23h ago    SiestaCalculation               ☠ Killed          Killed by parent<2411>\n",
      "2438  23h ago    FormationEnergyWorkchainSIESTA  ☠ Killed          Killed through `verdi process kill`\n",
      "2439  23h ago    SiestaCalculation               ☠ Killed          Killed by parent<2438>\n",
      "2440  23h ago    SiestaCalculation               ☠ Killed          Killed by parent<2438>\n",
      "2442  23h ago    SiestaCalculation               ☠ Killed          Killed by parent<2438>\n",
      "2465  23h ago    FormationEnergyWorkchainSIESTA  ☠ Killed          Killed through `verdi process kill`\n",
      "2466  23h ago    SiestaCalculation               ☠ Killed          Killed by parent<2465>\n",
      "2467  23h ago    SiestaCalculation               ☠ Killed          Killed by parent<2465>\n",
      "2469  23h ago    SiestaCalculation               ☠ Killed          Killed by parent<2465>\n",
      "2492  23h ago    FormationEnergyWorkchainSIESTA  ☠ Killed          Killed through `verdi process kill`\n",
      "2493  23h ago    SiestaCalculation               ☠ Killed          Killed by parent<2492>\n",
      "2494  23h ago    SiestaCalculation               ☠ Killed          Killed by parent<2492>\n",
      "2496  23h ago    SiestaCalculation               ☠ Killed          Killed by parent<2492>\n",
      "2519  22h ago    FormationEnergyWorkchainSIESTA  ☠ Killed          Killed through `verdi process kill`\n",
      "2520  22h ago    SiestaCalculation               ☠ Killed          Killed by parent<2519>\n",
      "2521  22h ago    SiestaCalculation               ☠ Killed          Killed by parent<2519>\n",
      "2522  22h ago    SiestaCalculation               ☠ Killed          Killed by parent<2519>\n",
      "2546  22h ago    FormationEnergyWorkchainSIESTA  ☠ Killed          Killed through `verdi process kill`\n",
      "2547  22h ago    SiestaCalculation               ☠ Killed          Killed by parent<2546>\n",
      "2548  22h ago    SiestaCalculation               ☠ Killed          Killed by parent<2546>\n",
      "2550  22h ago    SiestaCalculation               ☠ Killed          Killed by parent<2546>\n",
      "2573  22h ago    FormationEnergyWorkchainSIESTA  ☠ Killed          Killed through `verdi process kill`\n",
      "2574  22h ago    SiestaCalculation               ☠ Killed          Killed by parent<2573>\n",
      "2575  22h ago    SiestaCalculation               ☠ Killed          Killed by parent<2573>\n",
      "2576  22h ago    SiestaCalculation               ☠ Killed          Killed by parent<2573>\n",
      "2600  22h ago    FormationEnergyWorkchainSIESTA  ☠ Killed          Killed through `verdi process kill`\n",
      "2601  22h ago    SiestaCalculation               ☠ Killed          Killed by parent<2600>\n",
      "2602  22h ago    SiestaCalculation               ☠ Killed          Killed by parent<2600>\n",
      "2604  22h ago    SiestaCalculation               ☠ Killed          Killed by parent<2600>\n",
      "2627  3h ago     FormationEnergyWorkchainSIESTA  ⨯ Excepted\n",
      "2648  3h ago     FormationEnergyWorkchainSIESTA  ⨯ Excepted\n",
      "2669  3h ago     FormationEnergyWorkchainSIESTA  ⏹ Finished [403]\n",
      "2670  3h ago     SiestaCalculation               ⨯ Excepted        Waiting for transport task: upload\n",
      "2671  3h ago     SiestaCalculation               ⨯ Excepted        Waiting for transport task: upload\n",
      "2672  3h ago     SiestaCalculation               ⨯ Excepted        Waiting for transport task: upload\n",
      "2693  3h ago     FormationEnergyWorkchainSIESTA  ⨯ Excepted\n",
      "2694  3h ago     SiestaCalculation               ⏹ Finished [0]\n",
      "2695  3h ago     SiestaCalculation               ⏹ Finished [0]\n",
      "2696  3h ago     SiestaCalculation               ⏹ Finished [0]\n",
      "2732  3h ago     FormationEnergyWorkchainSIESTA  ⨯ Excepted\n",
      "2733  3h ago     SiestaCalculation               ⏹ Finished [0]\n",
      "2734  3h ago     SiestaCalculation               ⏹ Finished [0]\n",
      "2735  3h ago     SiestaCalculation               ⏹ Finished [0]\n",
      "2774  3h ago     FormationEnergyWorkchainSIESTA  ⨯ Excepted\n",
      "2775  3h ago     SiestaCalculation               ⏹ Finished [0]\n",
      "2776  3h ago     SiestaCalculation               ⏹ Finished [0]\n",
      "2777  3h ago     SiestaCalculation               ⏹ Finished [0]\n",
      "2816  2h ago     FormationEnergyWorkchainSIESTA  ⏹ Finished [0]\n",
      "2817  2h ago     SiestaCalculation               ⏹ Finished [0]\n",
      "2818  2h ago     SiestaCalculation               ⏹ Finished [0]\n",
      "2819  2h ago     SiestaCalculation               ⏹ Finished [0]\n",
      "2839  2h ago     get_raw_formation_energy        ⏹ Finished [0]\n",
      "2861  2h ago     FormationEnergyWorkchainSIESTA  ⏹ Finished [0]\n",
      "2862  2h ago     SiestaCalculation               ⏹ Finished [0]\n",
      "2863  2h ago     SiestaCalculation               ⏹ Finished [0]\n",
      "2864  2h ago     SiestaCalculation               ⏹ Finished [0]\n",
      "2884  2h ago     get_raw_formation_energy        ⏹ Finished [0]\n",
      "2906  2h ago     FormationEnergyWorkchainSIESTA  ⏹ Finished [0]\n",
      "2907  2h ago     SiestaCalculation               ⏹ Finished [0]\n",
      "2908  2h ago     SiestaCalculation               ⏹ Finished [0]\n",
      "2909  2h ago     SiestaCalculation               ⏹ Finished [0]\n",
      "2929  2h ago     get_raw_formation_energy        ⏹ Finished [0]\n",
      "2951  2h ago     FormationEnergyWorkchainSIESTA  ⏹ Finished [0]\n",
      "2952  2h ago     SiestaCalculation               ⏹ Finished [0]\n",
      "2953  2h ago     SiestaCalculation               ⏹ Finished [0]\n",
      "2954  2h ago     SiestaCalculation               ⏹ Finished [0]\n",
      "2974  2h ago     get_raw_formation_energy        ⏹ Finished [0]\n",
      "2996  2h ago     FormationEnergyWorkchainSIESTA  ⏹ Finished [0]\n",
      "2997  2h ago     SiestaCalculation               ⏹ Finished [0]\n",
      "2998  2h ago     SiestaCalculation               ⏹ Finished [0]\n",
      "2999  2h ago     SiestaCalculation               ⏹ Finished [0]\n",
      "3019  2h ago     get_raw_formation_energy        ⏹ Finished [0]\n",
      "3021  2h ago     get_raw_formation_energy        ⏹ Finished [0]\n",
      "3043  2h ago     FormationEnergyWorkchainSIESTA  ⏹ Finished [0]\n",
      "3044  2h ago     SiestaCalculation               ⏹ Finished [0]\n",
      "3045  2h ago     SiestaCalculation               ⏹ Finished [0]\n",
      "3046  2h ago     SiestaCalculation               ⏹ Finished [0]\n",
      "3066  2h ago     get_raw_formation_energy        ⏹ Finished [0]\n",
      "3068  2h ago     get_raw_formation_energy        ⏹ Finished [0]\n",
      "3074  1h ago     SiestaCalculation               ⨯ Excepted\n",
      "3077  1h ago     SiestaCalculation               ⨯ Excepted\n",
      "3084  1h ago     SiestaCalculation               ⨯ Excepted\n",
      "3089  1h ago     SiestaCalculation               ⨯ Excepted\n",
      "3094  1h ago     SiestaCalculation               ⨯ Excepted\n",
      "3101  1h ago     SiestaCalculation               ⨯ Excepted\n",
      "3108  1h ago     SiestaCalculation               ⏹ Finished [350]\n",
      "3116  1h ago     SiestaCalculation               ⏹ Finished [0]\n",
      "3125  1h ago     SiestaCalculation               ⏹ Finished [0]\n",
      "3135  1h ago     SiestaCalculation               ⏹ Finished [0]\n",
      "3160  5s ago     FormationEnergyWorkchainSIESTA  ⏵ Waiting         Waiting for child processes: 3161, 3162, 3163\n",
      "3161  3s ago     SiestaCalculation               ⏵ Waiting         Monitoring scheduler: job state RUNNING\n",
      "3162  3s ago     SiestaCalculation               ⏵ Waiting         Monitoring scheduler: job state RUNNING\n",
      "3163  3s ago     SiestaCalculation               ⏵ Waiting         Monitoring scheduler: job state RUNNING\u001b[0m\n",
      "\u001b[22m\n",
      "Total results: 96\n",
      "\u001b[0m\n",
      "\u001b[34m\u001b[1mInfo: \u001b[0m\u001b[22mlast time an entry changed state: 1s ago (at 11:47:58 on 2020-07-17)\u001b[0m\n"
     ]
    }
   ],
   "source": [
    "!verdi process list -a -p 1"
   ]
  },
  {
   "cell_type": "code",
   "execution_count": null,
   "metadata": {},
   "outputs": [],
   "source": [
    "#!verdi process kill 2669"
   ]
  },
  {
   "cell_type": "code",
   "execution_count": 20,
   "metadata": {
    "scrolled": true
   },
   "outputs": [
    {
     "name": "stdout",
     "output_type": "stream",
     "text": [
      "\u001b[22mProperty     Value\n",
      "-----------  ------------------------------------\n",
      "type         FormationEnergyWorkchainSIESTA\n",
      "state        Waiting\n",
      "pk           3160\n",
      "uuid         24c9a196-77f2-4f18-a105-378bf00e105b\n",
      "label\n",
      "description\n",
      "ctime        2020-07-17 11:47:54.819648+00:00\n",
      "mtime        2020-07-17 11:47:56.908830+00:00\n",
      "computer     [1] N552VW\n",
      "\n",
      "Inputs                       PK    Type\n",
      "---------------------------  ----  -------------\n",
      "pseudos_defect\n",
      "    O                        3     PsfData\n",
      "pseudos_host\n",
      "    O                        3     PsfData\n",
      "siesta\n",
      "    dft\n",
      "        supercell_defect_q\n",
      "            basis            3159  Dict\n",
      "            options          3158  Dict\n",
      "            parameters       3157  Dict\n",
      "            kpoints          3153  KpointsData\n",
      "            code             403   Code\n",
      "        supercell_defect_q0\n",
      "            basis            3156  Dict\n",
      "            options          3155  Dict\n",
      "            parameters       3154  Dict\n",
      "            kpoints          3153  KpointsData\n",
      "            code             403   Code\n",
      "        supercell_host\n",
      "            basis            3152  Dict\n",
      "            options          3151  Dict\n",
      "            parameters       3150  Dict\n",
      "            kpoints          3149  KpointsData\n",
      "            code             403   Code\n",
      "chemical_potential           3145  Float\n",
      "correction_scheme            3147  Str\n",
      "defect_charge                3142  Float\n",
      "defect_site                  3143  List\n",
      "defect_structure             3141  StructureData\n",
      "epsilon                      3148  Float\n",
      "fermi_level                  3144  Float\n",
      "gaussian_sigma               3146  Float\n",
      "host_structure               3140  StructureData\n",
      "\n",
      "Called      PK  Type\n",
      "--------  ----  -----------\n",
      "CALL      3163  CalcJobNode\n",
      "CALL      3162  CalcJobNode\n",
      "CALL      3161  CalcJobNode\n",
      "\n",
      "Log messages\n",
      "---------------------------------------------\n",
      "There are 5 log messages for this calculation\n",
      "Run 'verdi process report 3160' to see them\u001b[0m\n"
     ]
    }
   ],
   "source": [
    "!verdi process show 3160"
   ]
  },
  {
   "cell_type": "code",
   "execution_count": 22,
   "metadata": {},
   "outputs": [
    {
     "name": "stdout",
     "output_type": "stream",
     "text": [
      "\u001b[22m2020-07-17 11:47:56 [613 | REPORT]: [3160|FormationEnergyWorkchainSIESTA|setup]: Checking Formation Scheme\n",
      "2020-07-17 11:47:56 [614 | REPORT]: [3160|FormationEnergyWorkchainSIESTA|run_dft_calcs]: Setting Up the No correction Formation Energy Workchain \n",
      "2020-07-17 11:47:56 [615 | REPORT]: [3160|FormationEnergyWorkchainSIESTA|run_dft_calcs]: Workflow Launching SIESTA for host structure (PK=3140)  (PK=3161)\n",
      "2020-07-17 11:47:56 [616 | REPORT]: [3160|FormationEnergyWorkchainSIESTA|run_dft_calcs]: Launching SIESTA for defect structure (PK=3141) with charge 0.0 (PK=3162)\n",
      "2020-07-17 11:47:56 [617 | REPORT]: [3160|FormationEnergyWorkchainSIESTA|run_dft_calcs]: Launching SIESTA for defect structure (PK=3141) with charge -2.0 (PK=3163)\n",
      "2020-07-17 11:48:39 [618 | REPORT]: [3160|FormationEnergyWorkchainSIESTA|correction_required]: Ther will be no Corrections applied\n",
      "2020-07-17 11:48:40 [619 | REPORT]: [3160|FormationEnergyWorkchainSIESTA|check_dft_calcs]: Checking Up Whether DFT Caclucations are Finished \n",
      "2020-07-17 11:48:40 [620 | REPORT]: [3160|FormationEnergyWorkchainSIESTA|compute_neutral_formation_energy]: The computed neutral formation energy without correction is -250.709 eV\n",
      "2020-07-17 11:48:41 [621 | REPORT]: [3160|FormationEnergyWorkchainSIESTA|compute_charged_formation_energy_no_corre]: The computed charge -2.0 e  formation energy without correction is -236.278591 eV\n",
      "2020-07-17 11:48:41 [622 | REPORT]: [3160|FormationEnergyWorkchainSIESTA|compute_charged_formation_energy_no_corre]: The Grid Units is 13.605814541346533\u001b[0m\n"
     ]
    }
   ],
   "source": [
    "!verdi process report 3160"
   ]
  },
  {
   "cell_type": "code",
   "execution_count": null,
   "metadata": {},
   "outputs": [],
   "source": [
    "#workchain_future.outputs.formation_energy_uncorrected.value #.outputs.formation_energy_uncorrected.value\n",
    "from aiida.orm import load_node\n",
    "results=load_node('2952')"
   ]
  },
  {
   "cell_type": "code",
   "execution_count": null,
   "metadata": {},
   "outputs": [],
   "source": [
    "results.outputs['output_parameters'].get_dict()#['Etot']\n",
    "#results['forces_and_stress']"
   ]
  },
  {
   "cell_type": "code",
   "execution_count": null,
   "metadata": {
    "collapsed": true
   },
   "outputs": [],
   "source": [
    "results.outputs.output_parameters.get_dict()"
   ]
  },
  {
   "cell_type": "code",
   "execution_count": null,
   "metadata": {
    "collapsed": true
   },
   "outputs": [],
   "source": [
    "code"
   ]
  },
  {
   "cell_type": "code",
   "execution_count": null,
   "metadata": {
    "collapsed": true
   },
   "outputs": [],
   "source": [
    "from aiida_siesta.calculations.siesta import SiestaCalculation\n",
    "builder = SiestaCalculation.get_builder()"
   ]
  },
  {
   "cell_type": "code",
   "execution_count": null,
   "metadata": {
    "collapsed": true
   },
   "outputs": [],
   "source": [
    "builder.metadata"
   ]
  },
  {
   "cell_type": "code",
   "execution_count": null,
   "metadata": {
    "collapsed": true
   },
   "outputs": [],
   "source": []
  }
 ],
 "metadata": {
  "kernelspec": {
   "display_name": "Python 3",
   "language": "python",
   "name": "python3"
  },
  "language_info": {
   "codemirror_mode": {
    "name": "ipython",
    "version": 3
   },
   "file_extension": ".py",
   "mimetype": "text/x-python",
   "name": "python",
   "nbconvert_exporter": "python",
   "pygments_lexer": "ipython3",
   "version": "3.6.9"
  }
 },
 "nbformat": 4,
 "nbformat_minor": 4
}
