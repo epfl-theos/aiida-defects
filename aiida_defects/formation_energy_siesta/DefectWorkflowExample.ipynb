{
 "cells": [
  {
   "cell_type": "code",
   "execution_count": 1,
   "metadata": {
    "collapsed": true
   },
   "outputs": [],
   "source": [
    "from __future__ import absolute_import\n",
    "import aiida\n",
    "from aiida import load_profile\n",
    "load_profile()\n",
    "\n",
    "# Import commonly used functionality\n",
    "import numpy as np\n",
    "from aiida import orm, engine, common\n",
    "from aiida.plugins import WorkflowFactory\n",
    "from aiida.orm import Code\n"
   ]
  },
  {
   "cell_type": "code",
   "execution_count": 2,
   "metadata": {},
   "outputs": [
    {
     "name": "stdout",
     "output_type": "stream",
     "text": [
      "\u001b[22mRestarting the daemon... \u001b[0m\u001b[32m\u001b[1mOK\u001b[0m\n"
     ]
    }
   ],
   "source": [
    "!reentry scan\n",
    "!verdi daemon restart\n",
    "#!verdi daemon start"
   ]
  },
  {
   "cell_type": "code",
   "execution_count": 3,
   "metadata": {},
   "outputs": [],
   "source": [
    "from aiida_defects.formation_energy_siesta.formation_energy_siesta import FormationEnergyWorkchainSIESTA\n",
    "#import .formation_energy_siesta\n",
    "#!pwd"
   ]
  },
  {
   "cell_type": "code",
   "execution_count": 4,
   "metadata": {
    "collapsed": true
   },
   "outputs": [],
   "source": [
    "from aiida.orm import StructureData\n",
    "#Structure Pure\n",
    "cell = [[15.0, 0.0, 0.0,],\n",
    "        [ 0.0,15.0, 0.0,],\n",
    "        [ 0.0, 0.0,15.0,],\n",
    "        ]\n",
    "pure = StructureData(cell=cell)\n",
    "pure.append_atom(position=( 0.000 , 0.000 , 0.000 ),symbols=['O']) #1\n",
    "#pure.append_atom(position=( 0.757 , 0.586 , 0.000 ),symbols=['H']) #2\n",
    "#pure.append_atom(position=(-0.757 , 0.586 , 0.000),symbols=['H']) #3 \n",
    "#pure.append_atom(position=( 0.000 , 3.500 , 0.000),symbols=['O']) #4\n",
    "#pure.append_atom(position=( 0.757 , 2.914 , 0.000 ),symbols=['H']) #5\n",
    "#pure.append_atom(position=(-0.757 , 2.914 , 0.000),symbols=['H']) #6\n",
    "\n",
    "\n",
    "defect=StructureData(cell=cell)\n",
    "defect.append_atom(position=( 0.000 , 0.000 , 0.000 ),symbols=['O']) #1\n",
    "#defect.append_atom(position=( 0.757 , 0.586 , 0.000 ),symbols=['H']) #2\n",
    "#defect.append_atom(position=(-0.757 , 0.586 , 0.000),symbols=['H']) #3 \n",
    "#defect.append_atom(position=( 0.000 , 3.500 , 0.000),symbols=['O']) #4\n",
    "#defect.append_atom(position=( 0.757 , 2.914 , 0.000 ),symbols=['H']) #5\n",
    "#defect.append_atom(position=(-0.757 , 2.914 , 0.000),symbols=['H'],name=\"GhostH\") #6"
   ]
  },
  {
   "cell_type": "code",
   "execution_count": 5,
   "metadata": {},
   "outputs": [],
   "source": [
    "#code = Code.get_from_string('siesta-psml-lua@N552VW')\n",
    "code = Code.get_from_string('siesta-master-gfortran-openmpi-lua@icn2-workstation')\n",
    "\n",
    "charge=-2"
   ]
  },
  {
   "cell_type": "code",
   "execution_count": 6,
   "metadata": {
    "collapsed": true
   },
   "outputs": [],
   "source": [
    "from aiida.orm import Dict\n",
    "parameters_host = Dict(dict={\n",
    "   \"mesh-cutoff\": \"250 Ry\",\n",
    "   \"dm-tolerance\": \"0.0001\",\n",
    "   \"MD-TypeOfRun\":   \"cg\",\n",
    "    \"MD-NumCGsteps\": \"5000\",\n",
    "   #\"LUA-script\":   \"neb.lua\",\n",
    "   \"DM-NumberPulay \":  \"3\",\n",
    "   \"DM-History-Depth\":  \"0\",\n",
    "   \"SCF-Mixer-weight\":  \"0.02\",\n",
    "   \"SCF-Mix\":   \"density\",\n",
    "   \"SCF-Mixer-kick\":  \"35\",\n",
    "   \"MD-VariableCell\":  \"F\",\n",
    "   \"MD-MaxCGDispl\":  \"0.3 Bohr\",\n",
    "   \"MD-MaxForceTol\":  \" 0.04000 eV/Ang\", \n",
    "    })\n",
    "parameters_defect_q0 = Dict(dict={\n",
    "   \"mesh-cutoff\": \"250 Ry\",\n",
    "   \"dm-tolerance\": \"0.0001\",\n",
    "   \"MD-TypeOfRun\":   \"cg\",\n",
    "    \"MD-NumCGsteps\": \"5000\",\n",
    "   #\"LUA-script\":   \"neb.lua\",\n",
    "   \"DM-NumberPulay \":  \"3\",\n",
    "   \"DM-History-Depth\":  \"0\",\n",
    "   \"SCF-Mixer-weight\":  \"0.02\",\n",
    "   \"SCF-Mix\":   \"density\",\n",
    "   \"SCF-Mixer-kick\":  \"35\",\n",
    "   \"MD-VariableCell\":  \"F\",\n",
    "   \"MD-MaxCGDispl\":  \"0.3 Bohr\",\n",
    "   \"MD-MaxForceTol\":  \" 0.04000 eV/Ang\", \n",
    "   \"NetCharge\": \"0\",\n",
    "    })\n",
    "parameters_defect_q = Dict(dict={\n",
    "   \"mesh-cutoff\": \"250 Ry\",\n",
    "   \"dm-tolerance\": \"0.0001\",\n",
    "   \"MD-TypeOfRun\":   \"cg\",\n",
    "    \"MD-NumCGsteps\": \"5000\",\n",
    "   #\"LUA-script\":   \"neb.lua\",\n",
    "   \"DM-NumberPulay \":  \"3\",\n",
    "   \"DM-History-Depth\":  \"0\",\n",
    "   \"SCF-Mixer-weight\":  \"0.02\",\n",
    "   \"SCF-Mix\":   \"density\",\n",
    "   \"SCF-Mixer-kick\":  \"35\",\n",
    "   \"MD-VariableCell\":  \"F\",\n",
    "   \"MD-MaxCGDispl\":  \"0.3 Bohr\",\n",
    "   \"MD-MaxForceTol\":  \" 0.04000 eV/Ang\",\n",
    "   \"NetCharge\": str(charge),\n",
    "    })\n",
    "#options_host=Dict(dict={'options':{\"max_wallclock_seconds\": 360},\n",
    "#                        \"resources\":{\"num_machines\": 1,\n",
    "#                                      \"num_mpiprocs_per_machine\": 1}\n",
    "#                        })\n",
    "options_host=Dict(dict={\n",
    "        \"max_wallclock_seconds\": 360000,\n",
    "        #'withmpi': True,\n",
    "        #'account': \"tcphy113c\",\n",
    "        #'queue_name': \"DevQ\",\n",
    "        \"resources\": {\n",
    "            \"num_machines\": 1,\n",
    "            \"num_mpiprocs_per_machine\": 1,\n",
    "        }\n",
    "    })\n",
    "options_defect_q0=Dict(dict={\n",
    "        \"max_wallclock_seconds\": 360000,\n",
    "        #'withmpi': True,\n",
    "        #'account': \"tcphy113c\",\n",
    "        #'queue_name': \"DevQ\",\n",
    "        \"resources\": {\n",
    "            \"num_machines\": 1,\n",
    "            \"num_mpiprocs_per_machine\": 1,\n",
    "        }\n",
    "    })\n",
    "options_defect_q=Dict(dict={\n",
    "        \"max_wallclock_seconds\": 360000,\n",
    "        #'withmpi': True,\n",
    "        #'account': \"tcphy113c\",\n",
    "        #'queue_name': \"DevQ\",\n",
    "        \"resources\": {\n",
    "            \"num_machines\": 1,\n",
    "            \"num_mpiprocs_per_machine\": 1,\n",
    "        }\n",
    "    })\n",
    "\n"
   ]
  },
  {
   "cell_type": "code",
   "execution_count": 7,
   "metadata": {
    "collapsed": true
   },
   "outputs": [],
   "source": [
    "basis_dict_host =Dict(dict= {\n",
    "'pao-basistype':'split',\n",
    "'pao-splitnorm': 0.150,\n",
    "'pao-energyshift': '0.020 Ry',\n",
    "'%block pao-basis-sizes':\n",
    "\"\"\"\n",
    "O DZP\n",
    "#H    DZP\n",
    "%endblock pao-basis-sizes\"\"\",\n",
    "})\n",
    "basis_dict_defect_q0 = Dict(dict= {\n",
    "'pao-basistype':'split',\n",
    "'pao-splitnorm': 0.150,\n",
    "'pao-energyshift': '0.020 Ry',\n",
    "'%block pao-basis-sizes':\n",
    "\"\"\"\n",
    "O DZP\n",
    "#GhostH DZP\n",
    "#H    DZP\n",
    "%endblock pao-basis-sizes\"\"\",\n",
    "})\n",
    "basis_dict_defect_q =Dict(dict= {\n",
    "'pao-basistype':'split',\n",
    "'pao-splitnorm': 0.150,\n",
    "'pao-energyshift': '0.020 Ry',\n",
    "'%block pao-basis-sizes':\n",
    "\"\"\"\n",
    "O DZP\n",
    "#GhostH DZP\n",
    "#H    DZP\n",
    "%endblock pao-basis-sizes\"\"\",\n",
    "})"
   ]
  },
  {
   "cell_type": "code",
   "execution_count": 8,
   "metadata": {},
   "outputs": [
    {
     "data": {
      "text/plain": [
       "{'DM-History-Depth': '0',\n",
       " 'DM-NumberPulay ': '3',\n",
       " 'MD-MaxCGDispl': '0.3 Bohr',\n",
       " 'MD-MaxForceTol': ' 0.04000 eV/Ang',\n",
       " 'MD-NumCGsteps': '5000',\n",
       " 'MD-TypeOfRun': 'cg',\n",
       " 'MD-VariableCell': 'F',\n",
       " 'NetCharge': '0',\n",
       " 'SCF-Mix': 'density',\n",
       " 'SCF-Mixer-kick': '35',\n",
       " 'SCF-Mixer-weight': '0.02',\n",
       " 'dm-tolerance': '0.0001',\n",
       " 'mesh-cutoff': '250 Ry'}"
      ]
     },
     "execution_count": 8,
     "metadata": {},
     "output_type": "execute_result"
    }
   ],
   "source": [
    "parameters_defect_q0.get_dict()"
   ]
  },
  {
   "cell_type": "code",
   "execution_count": 9,
   "metadata": {
    "collapsed": true
   },
   "outputs": [],
   "source": [
    "kpoints_host = orm.KpointsData()\n",
    "kpoints_host.set_kpoints_mesh([1,1,1]) # Definately not converged, but we want the example to run quickly\n",
    "kpoints_defect_q0 = orm.KpointsData()\n",
    "kpoints_defect_q0.set_kpoints_mesh([1,1,1]) # Definately not converged, but we want the example to run quickly\n",
    "kpoints_defect_q = orm.KpointsData()\n",
    "kpoints_defect_q.set_kpoints_mesh([1,1,1]) # Definately not converged, but we want the example to run quickly"
   ]
  },
  {
   "cell_type": "code",
   "execution_count": 10,
   "metadata": {},
   "outputs": [
    {
     "data": {
      "text/plain": [
       "{'O': <PsfData: uuid: fa7fad04-23b3-4b53-8f07-ef4dc431be5a (pk: 2)>}"
      ]
     },
     "execution_count": 10,
     "metadata": {},
     "output_type": "execute_result"
    }
   ],
   "source": [
    "import os\n",
    "from aiida_siesta.data.psf import PsfData\n",
    "pseudo_file_to_species_map = [ (\"O.psf\", ['O'])]\n",
    "#pseudo_file_to_species_map = [ (\"H.psf\", ['H']),(\"O.psf\", ['O'])]\n",
    "#pseudo_file_to_species_map = [ (\"H.psf\",[\"H\"]),(\"GhostH.psf\",[\"GhostH\"]),(\"O.psf\", ['O'])]\n",
    "pseudos_dict_host = {}\n",
    "for fname, kinds, in pseudo_file_to_species_map:\n",
    "      absname = os.path.realpath(os.path.join(\"./pseudos\",fname))\n",
    "      pseudo, created = PsfData.get_or_create(absname, use_first=True)\n",
    "      for j in kinds:\n",
    "              pseudos_dict_host[j]=pseudo                \n",
    "pseudos_dict_host\n"
   ]
  },
  {
   "cell_type": "code",
   "execution_count": 11,
   "metadata": {},
   "outputs": [
    {
     "data": {
      "text/plain": [
       "{'O': <PsfData: uuid: fa7fad04-23b3-4b53-8f07-ef4dc431be5a (pk: 2)>}"
      ]
     },
     "execution_count": 11,
     "metadata": {},
     "output_type": "execute_result"
    }
   ],
   "source": [
    "pseudo_file_to_species_map = [(\"O.psf\", ['O'])]\n",
    "#pseudo_file_to_species_map = [ (\"H.psf\", ['GhostH','H']),(\"O.psf\", ['O'])]\n",
    "pseudos_dict_defect = {}\n",
    "for fname, kinds, in pseudo_file_to_species_map:\n",
    "      absname = os.path.realpath(os.path.join(\"./pseudos\",fname))\n",
    "      pseudo, created = PsfData.get_or_create(absname, use_first=True)\n",
    "      for j in kinds:\n",
    "              pseudos_dict_defect[j]=pseudo\n",
    "pseudos_dict_defect"
   ]
  },
  {
   "cell_type": "code",
   "execution_count": 12,
   "metadata": {
    "collapsed": true
   },
   "outputs": [],
   "source": [
    "inputs = {\n",
    "    # Structures\n",
    "    'host_structure': pure,\n",
    "    'defect_structure': defect,\n",
    "    # Defect information \n",
    "    #'defect_charge' : orm.Float(-2.),\n",
    "    'defect_charge' : orm.Float(charge),\n",
    "    'defect_site' : orm.List(list=[-0.757 , 2.914 , 0.000]),    # Position of the defect in crystal coordinates\n",
    "    'fermi_level' : orm.Float(0.0),               # Position of the Fermi level, with respect to the valence band maximum      \n",
    "    #'chemical_potential' : orm.Float(250.709), # eV, the chemical potentical of a C atom\n",
    "    #'gaussian_sigma':orm.Float(0.5),\n",
    "    'correction_scheme' : orm.Str('none'),\n",
    "    #\"epsilon\":orm.Float(1.0),\n",
    "    \"pseudos_host\":pseudos_dict_host,\n",
    "    \"pseudos_defect\":pseudos_dict_defect,\n",
    "    #\"pseudos_q0\":pseudos_dict,\n",
    "    #\"pseudos_q\":pseudos_dict,\n",
    "    # Computational (chosen code is QE)\n",
    "    'siesta' : { 'dft': {'supercell_host':{'code': code, 'kpoints': kpoints_host, 'parameters' : parameters_host,\n",
    "                                           'options':options_host,\"basis\": basis_dict_host},\n",
    "                         'supercell_defect_q0':{'code': code, 'kpoints': kpoints_defect_q,'parameters' : parameters_defect_q0,\n",
    "                                                'options':options_defect_q0,\"basis\": basis_dict_defect_q0},\n",
    "                         'supercell_defect_q':{'code': code, 'kpoints': kpoints_defect_q,'parameters' : parameters_defect_q,\n",
    "                                               'options':options_defect_q,\"basis\": basis_dict_defect_q}\n",
    "}}}"
   ]
  },
  {
   "cell_type": "code",
   "execution_count": 13,
   "metadata": {},
   "outputs": [
    {
     "data": {
      "text/plain": [
       "{'correction_scheme': <Str: uuid: 8e79b124-920c-40cb-b263-748a04e42c61 (unstored) value: none>,\n",
       " 'defect_charge': <Float: uuid: 4fd6c5f4-62d5-4de9-b0a7-203a45439500 (unstored) value: -2.0>,\n",
       " 'defect_site': <List: uuid: 8a830286-8b45-4866-a780-17fee9c3fc96 (unstored) value: [-0.757, 2.914, 0.0]>,\n",
       " 'defect_structure': <StructureData: uuid: 303d382d-4cf9-472b-b6e5-3ae03064a149 (unstored)>,\n",
       " 'fermi_level': <Float: uuid: ee7e2027-23bb-4766-9673-8792b3ea70a6 (unstored) value: 0.0>,\n",
       " 'host_structure': <StructureData: uuid: 50583783-7bfb-48a3-b7e3-ddb6e4f25e22 (unstored)>,\n",
       " 'pseudos_defect': {'O': <PsfData: uuid: fa7fad04-23b3-4b53-8f07-ef4dc431be5a (pk: 2)>},\n",
       " 'pseudos_host': {'O': <PsfData: uuid: fa7fad04-23b3-4b53-8f07-ef4dc431be5a (pk: 2)>},\n",
       " 'siesta': {'dft': {'supercell_defect_q': {'basis': <Dict: uuid: 680b86b2-cc27-41be-bfb6-1c4232b6cb94 (unstored)>,\n",
       "    'code': <Code: Remote code 'siesta-master-gfortran-openmpi-lua' on icn2-workstation, pk: 1, uuid: 7f381566-466a-4216-baa3-21027ddbe159>,\n",
       "    'kpoints': <KpointsData: uuid: 7fa3bfbb-107b-47c9-8fee-816cb3a9b59b (unstored)>,\n",
       "    'options': <Dict: uuid: 76f841d7-ca20-4b30-9653-4327a59fd1bc (unstored)>,\n",
       "    'parameters': <Dict: uuid: 68a12df0-c6fa-4f53-b9f4-a91bfd4d6598 (unstored)>},\n",
       "   'supercell_defect_q0': {'basis': <Dict: uuid: 059e34be-ed4c-4bfb-9494-d61be9c6e18b (unstored)>,\n",
       "    'code': <Code: Remote code 'siesta-master-gfortran-openmpi-lua' on icn2-workstation, pk: 1, uuid: 7f381566-466a-4216-baa3-21027ddbe159>,\n",
       "    'kpoints': <KpointsData: uuid: 7fa3bfbb-107b-47c9-8fee-816cb3a9b59b (unstored)>,\n",
       "    'options': <Dict: uuid: 4d6b2276-93a9-48e9-91e7-e038c753cfde (unstored)>,\n",
       "    'parameters': <Dict: uuid: 2b2cc47f-ca43-4bd6-995e-20b6a3799dde (unstored)>},\n",
       "   'supercell_host': {'basis': <Dict: uuid: df48272d-42c2-4423-8f50-e9944a8df901 (unstored)>,\n",
       "    'code': <Code: Remote code 'siesta-master-gfortran-openmpi-lua' on icn2-workstation, pk: 1, uuid: 7f381566-466a-4216-baa3-21027ddbe159>,\n",
       "    'kpoints': <KpointsData: uuid: 5017b94b-3ceb-4bc7-8739-8853e4b0e6bd (unstored)>,\n",
       "    'options': <Dict: uuid: 60a5e57b-ead6-46cd-bfcb-fe0bc3950295 (unstored)>,\n",
       "    'parameters': <Dict: uuid: a924089d-274c-4d1a-8aa5-2e5d98c8a93e (unstored)>}}}}"
      ]
     },
     "execution_count": 13,
     "metadata": {},
     "output_type": "execute_result"
    }
   ],
   "source": [
    "inputs"
   ]
  },
  {
   "cell_type": "code",
   "execution_count": 14,
   "metadata": {
    "scrolled": false
   },
   "outputs": [],
   "source": [
    "workchain_future = engine.submit(FormationEnergyWorkchainSIESTA, **inputs)"
   ]
  },
  {
   "cell_type": "code",
   "execution_count": 15,
   "metadata": {},
   "outputs": [
    {
     "data": {
      "text/plain": [
       "<WorkChainNode: uuid: 08807c10-14a2-4d49-817d-258e137d0966 (pk: 42) (aiida.workflows:defects.formation_energy_siesta.siesta)>"
      ]
     },
     "execution_count": 15,
     "metadata": {},
     "output_type": "execute_result"
    }
   ],
   "source": [
    "workchain_future"
   ]
  },
  {
   "cell_type": "code",
   "execution_count": 16,
   "metadata": {
    "scrolled": true
   },
   "outputs": [],
   "source": [
    "#!verdi process list -a -p 1"
   ]
  },
  {
   "cell_type": "code",
   "execution_count": 17,
   "metadata": {
    "collapsed": true
   },
   "outputs": [],
   "source": [
    "#!verdi process kill 2669"
   ]
  },
  {
   "cell_type": "code",
   "execution_count": 18,
   "metadata": {
    "scrolled": true
   },
   "outputs": [],
   "source": [
    "#!verdi process show 3160"
   ]
  },
  {
   "cell_type": "code",
   "execution_count": 19,
   "metadata": {},
   "outputs": [],
   "source": [
    "#!verdi process report 3160"
   ]
  },
  {
   "cell_type": "code",
   "execution_count": 20,
   "metadata": {
    "collapsed": true
   },
   "outputs": [],
   "source": [
    "#workchain_future.outputs.formation_energy_uncorrected.value #.outputs.formation_energy_uncorrected.value\n",
    "#from aiida.orm import load_node\n",
    "#results=load_node('2952')"
   ]
  },
  {
   "cell_type": "code",
   "execution_count": 21,
   "metadata": {
    "collapsed": true
   },
   "outputs": [],
   "source": [
    "#results.outputs['output_parameters'].get_dict()#['Etot']\n",
    "#results['forces_and_stress']"
   ]
  },
  {
   "cell_type": "code",
   "execution_count": 22,
   "metadata": {
    "collapsed": true
   },
   "outputs": [],
   "source": [
    "#results.outputs.output_parameters.get_dict()"
   ]
  },
  {
   "cell_type": "code",
   "execution_count": 23,
   "metadata": {
    "collapsed": true
   },
   "outputs": [],
   "source": [
    "#code"
   ]
  },
  {
   "cell_type": "code",
   "execution_count": 24,
   "metadata": {
    "collapsed": true
   },
   "outputs": [],
   "source": [
    "#from aiida_siesta.calculations.siesta import SiestaCalculation\n",
    "#builder = SiestaCalculation.get_builder()"
   ]
  },
  {
   "cell_type": "code",
   "execution_count": 25,
   "metadata": {
    "collapsed": true
   },
   "outputs": [],
   "source": [
    "#builder.metadata"
   ]
  },
  {
   "cell_type": "code",
   "execution_count": null,
   "metadata": {
    "collapsed": true
   },
   "outputs": [],
   "source": []
  }
 ],
 "metadata": {
  "kernelspec": {
   "display_name": "Python 3",
   "language": "python",
   "name": "python3"
  },
  "language_info": {
   "codemirror_mode": {
    "name": "ipython",
    "version": 3
   },
   "file_extension": ".py",
   "mimetype": "text/x-python",
   "name": "python",
   "nbconvert_exporter": "python",
   "pygments_lexer": "ipython3",
   "version": "3.5.2"
  }
 },
 "nbformat": 4,
 "nbformat_minor": 4
}
