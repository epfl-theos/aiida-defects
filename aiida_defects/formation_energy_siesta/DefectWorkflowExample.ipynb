{
 "cells": [
  {
   "cell_type": "code",
   "execution_count": 1,
   "metadata": {
    "collapsed": true
   },
   "outputs": [],
   "source": [
    "from __future__ import absolute_import\n",
    "import aiida\n",
    "from aiida import load_profile\n",
    "load_profile()\n",
    "\n",
    "# Import commonly used functionality\n",
    "import numpy as np\n",
    "from aiida import orm, engine, common\n",
    "from aiida.plugins import WorkflowFactory\n",
    "from aiida.orm import Code\n"
   ]
  },
  {
   "cell_type": "code",
   "execution_count": 2,
   "metadata": {},
   "outputs": [
    {
     "name": "stdout",
     "output_type": "stream",
     "text": [
      "\u001b[22mRestarting the daemon... \u001b[0m\u001b[32m\u001b[1mOK\u001b[0m\n"
     ]
    }
   ],
   "source": [
    "!reentry scan\n",
    "#!verdi daemon start\n",
    "!verdi daemon restart"
   ]
  },
  {
   "cell_type": "code",
   "execution_count": 3,
   "metadata": {
    "collapsed": true
   },
   "outputs": [],
   "source": [
    "from aiida_defects.formation_energy_siesta.formation_energy_siesta import FormationEnergyWorkchainSIESTA\n",
    "#import .formation_energy_siesta\n",
    "#!pwd"
   ]
  },
  {
   "cell_type": "code",
   "execution_count": 4,
   "metadata": {
    "collapsed": true
   },
   "outputs": [],
   "source": [
    "from aiida.orm import StructureData\n",
    "\n",
    "cell = [[ 9.9678210000 ,  0.0000000000 ,    0.0000000000,],\n",
    "        [-4.9839090000 ,  8.6323860000 ,    0.0000000000,],\n",
    "        [ 0.0000000000 ,  0.0000000000 ,  35.0000000000,],\n",
    "        ]\n",
    "pure = StructureData(cell=cell)\n",
    "# Pristine Structure\n",
    "pure.append_atom(position=( 1.6613036650053632    , 0.959153999040846 ,17.5 ),symbols='Mg',name=\"Mg\") #1\n",
    "pure.append_atom(position=( 3.333333331578814e-07 ,  1.918307998081692,17.5 ),symbols='O',name=\"O\")   #2\n",
    "pure.append_atom(position=( 4.983911666666668     , 6.714078001918309 ,17.5 ),symbols='Mg',name=\"Mg\") #3\n",
    "pure.append_atom(position=( 3.322608334994638     , 7.673232000959154 ,17.5 ),symbols='O',name=\"O\")   #4\n",
    "pure.append_atom(position=( 1.6613046600214534    ,  6.714078001918309,17.5 ),symbols='Mg',name=\"Mg\") #5\n",
    "pure.append_atom(position=( 1.3283494233462534e-06, 7.673232000959154 ,17.5 ),symbols='O',name=\"O\")   #6\n",
    "pure.append_atom(position=(-1.6613023366559396    ,  6.714078001918309,17.5 ),symbols='Mg',name=\"Mg\") #7\n",
    "pure.append_atom(position=(-3.32260566832797      , 7.673232000959154 ,17.5 ),symbols='O',name=\"O\")   #8\n",
    "pure.append_atom(position=( 6.645214669989273     , 3.836615996163384 ,17.5 ),symbols='Mg',name=\"Mg\") #9\n",
    "pure.append_atom(position=( 4.983911338317244     , 4.79576999520423  ,17.5 ),symbols='O',name=\"O\")   #10\n",
    "pure.append_atom(position=( 3.3226076633440593    , 3.836615996163384 ,17.5 ),symbols='Mg',name=\"Mg\") #11\n",
    "pure.append_atom(position=( 1.6613043316720297    , 4.79576999520423  ,17.5 ),symbols='O',name=\"O\")   #12\n",
    "pure.append_atom(position=( 6.666666663157628e-07 , 3.836615996163384 ,17.5 ),symbols='Mg',name=\"Mg\") #13\n",
    "pure.append_atom(position=(-1.6613026650053635    , 4.79576999520423  ,17.5 ),symbols='O',name=\"O\")   #14\n",
    "pure.append_atom(position=( 8.30651766832797      , 0.959153999040846 ,17.5 ),symbols='Mg',name=\"Mg\") #15\n",
    "pure.append_atom(position=( 6.6452143366559415    , 1.918307998081692 ,17.5 ),symbols='O',name=\"O\")   #16\n",
    "pure.append_atom(position=( 4.983910661682756     , 0.959153999040846 ,17.5 ),symbols='Mg',name=\"Mg\") #17\n",
    "pure.append_atom(position=( 3.3226073300107264    , 1.918307998081692 ,17.5 ),symbols='O',name=\"O\")  #18\n",
    "# Defect Structure\n",
    "defect=StructureData(cell=cell)\n",
    "defect.append_atom(position=( 1.6613036650053632    , 0.959153999040846 ,17.5 ),symbols='Mg',name=\"Mg\") #1\n",
    "defect.append_atom(position=( 3.333333331578814e-07 ,  1.918307998081692,17.5 ),symbols='O',name=\"O\")   #2\n",
    "defect.append_atom(position=( 4.983911666666668     , 6.714078001918309 ,17.5 ),symbols='Mg',name=\"Mg\") #3\n",
    "defect.append_atom(position=( 3.322608334994638     , 7.673232000959154 ,17.5 ),symbols='O',name=\"O\")   #4\n",
    "defect.append_atom(position=( 1.6613046600214534    ,  6.714078001918309,17.5 ),symbols='Mg',name=\"Mg\") #5\n",
    "defect.append_atom(position=( 1.3283494233462534e-06, 7.673232000959154 ,17.5 ),symbols='O',name=\"O\")   #6\n",
    "defect.append_atom(position=(-1.6613023366559396    ,  6.714078001918309,17.5 ),symbols='Mg',name=\"Mg\") #7\n",
    "defect.append_atom(position=(-3.32260566832797      , 7.673232000959154 ,17.5 ),symbols='O',name=\"O\")   #8\n",
    "defect.append_atom(position=( 6.645214669989273     , 3.836615996163384 ,17.5 ),symbols='Mg',name=\"Mg\") #9\n",
    "defect.append_atom(position=( 4.983911338317244     , 4.79576999520423  ,17.5 ),symbols='O',name=\"O\")   #10\n",
    "defect.append_atom(position=( 3.3226076633440593    , 3.836615996163384 ,17.5 ),symbols='Mg',name=\"Mg\") #11\n",
    "defect.append_atom(position=( 1.6613043316720297    , 4.79576999520423  ,17.5 ),symbols='O',name=\"O\")   #12\n",
    "defect.append_atom(position=( 6.666666663157628e-07 , 3.836615996163384 ,17.5 ),symbols='Mg',name=\"Mg\") #13\n",
    "defect.append_atom(position=(-1.6613026650053635    , 4.79576999520423  ,17.5 ),symbols='O',name=\"O\")   #14\n",
    "defect.append_atom(position=( 8.30651766832797      , 0.959153999040846 ,17.5 ),symbols='Mg',name=\"Mg\") #15\n",
    "defect.append_atom(position=( 6.6452143366559415    , 1.918307998081692 ,17.5 ),symbols='O',name=\"O\")   #16\n",
    "defect.append_atom(position=( 4.983910661682756     , 0.959153999040846 ,17.5 ),symbols='Mg',name=\"Mg\") #17\n",
    "defect.append_atom(position=( 3.3226073300107264    , 1.918307998081692 ,17.5 ),symbols='O',name=\"O_ghost\")  #18"
   ]
  },
  {
   "cell_type": "code",
   "execution_count": 5,
   "metadata": {
    "collapsed": true
   },
   "outputs": [],
   "source": [
    "#from aiida.orm import StructureData\n",
    "#Structure Pure\n",
    "\n",
    "# Water Defect\n",
    "#cell = [[15.0, 0.0, 0.0,],\n",
    "#        [ 0.0,15.0, 0.0,],\n",
    "#        [ 0.0, 0.0,15.0,],\n",
    "#        ]\n",
    "\n",
    "#pure = StructureData(cell=cell)\n",
    "#pure.append_atom(position=( 0.000 , 0.000 , 0.000 ),symbols='O',name=\"O\") #1\n",
    "#pure.append_atom(position=( 0.757 , 0.586 , 0.000 ),symbols=['H']) #2\n",
    "#pure.append_atom(position=(-0.757 , 0.586 , 0.000),symbols=['H']) #3 \n",
    "#pure.append_atom(position=( 0.000 , 3.500 , 0.000),symbols=['O']) #4\n",
    "#pure.append_atom(position=( 0.757 , 2.914 , 0.000 ),symbols=['H']) #5\n",
    "#pure.append_atom(position=(-0.757 , 2.914 , 0.000),symbols=['H']) #6\n",
    "#defect=StructureData(cell=cell)\n",
    "#defect.append_atom(position=( 0.000 , 0.000 , 0.000 ),symbols=['O']) #1\n",
    "#defect.append_atom(position=( 0.757 , 0.586 , 0.000 ),symbols=['H']) #2\n",
    "#defect.append_atom(position=(-0.757 , 0.586 , 0.000),symbols=['H']) #3 \n",
    "#defect.append_atom(position=( 0.000 , 3.500 , 0.000),symbols=['O']) #4\n",
    "#defect.append_atom(position=( 0.757 , 2.914 , 0.000 ),symbols=['H']) #5\n",
    "#defect.append_atom(position=(-0.757 , 2.914 , 0.000),symbols=['H'],name=\"GhostH\") #6"
   ]
  },
  {
   "cell_type": "code",
   "execution_count": 6,
   "metadata": {
    "collapsed": true
   },
   "outputs": [],
   "source": [
    "code = Code.get_from_string('siesta-psml-lua@N552VW')\n",
    "#code = Code.get_from_string('siesta-master-gfortran-openmpi-lua@icn2-workstation')\n",
    "\n",
    "charge=-2"
   ]
  },
  {
   "cell_type": "code",
   "execution_count": 7,
   "metadata": {
    "collapsed": true
   },
   "outputs": [],
   "source": [
    "from aiida.orm import Dict\n",
    "parameters_host = Dict(dict={\n",
    "   \"mesh-cutoff\": \"250 Ry\",\n",
    "   \"dm-tolerance\": \"0.0001\",\n",
    "   \"MD-TypeOfRun\":   \"cg\",\n",
    "    \"MD-NumCGsteps\": \"5000\",\n",
    "   #\"LUA-script\":   \"neb.lua\",\n",
    "   \"DM-NumberPulay \":  \"3\",\n",
    "   \"DM-History-Depth\":  \"0\",\n",
    "   \"SCF-Mixer-weight\":  \"0.02\",\n",
    "   \"SCF-Mix\":   \"density\",\n",
    "   \"SCF-Mixer-kick\":  \"35\",\n",
    "   \"MD-VariableCell\":  \"F\",\n",
    "   \"MD-MaxCGDispl\":  \"0.3 Bohr\",\n",
    "   \"MD-MaxForceTol\":  \" 0.04000 eV/Ang\",\n",
    "   \"SaveTotalPotential\": \"True\",\n",
    "    })\n",
    "parameters_defect_q0 = Dict(dict={\n",
    "   \"mesh-cutoff\": \"250 Ry\",\n",
    "   \"dm-tolerance\": \"0.0001\",\n",
    "   \"MD-TypeOfRun\":   \"cg\",\n",
    "    \"MD-NumCGsteps\": \"5000\",\n",
    "   #\"LUA-script\":   \"neb.lua\",\n",
    "   \"DM-NumberPulay \":  \"3\",\n",
    "   \"DM-History-Depth\":  \"0\",\n",
    "   \"SCF-Mixer-weight\":  \"0.02\",\n",
    "   \"SCF-Mix\":   \"density\",\n",
    "   \"SCF-Mixer-kick\":  \"35\",\n",
    "   \"MD-VariableCell\":  \"F\",\n",
    "   \"MD-MaxCGDispl\":  \"0.3 Bohr\",\n",
    "   \"MD-MaxForceTol\":  \" 0.04000 eV/Ang\", \n",
    "   \"NetCharge\": \"0\",\n",
    "    \"SaveTotalPotential\": \"True\",\n",
    "    })\n",
    "parameters_defect_q = Dict(dict={\n",
    "   \"mesh-cutoff\": \"250 Ry\",\n",
    "   \"dm-tolerance\": \"0.0001\",\n",
    "   \"MD-TypeOfRun\":   \"cg\",\n",
    "    \"MD-NumCGsteps\": \"5000\",\n",
    "   #\"LUA-script\":   \"neb.lua\",\n",
    "   \"DM-NumberPulay \":  \"3\",\n",
    "   \"DM-History-Depth\":  \"0\",\n",
    "   \"SCF-Mixer-weight\":  \"0.02\",\n",
    "   \"SCF-Mix\":   \"density\",\n",
    "   \"SCF-Mixer-kick\":  \"35\",\n",
    "   \"MD-VariableCell\":  \"F\",\n",
    "   \"MD-MaxCGDispl\":  \"0.3 Bohr\",\n",
    "   \"MD-MaxForceTol\":  \" 0.04000 eV/Ang\",\n",
    "   \"NetCharge\": str(charge),\n",
    "    \"SaveTotalPotential\": \"True\",\n",
    "    })\n",
    "#options_host=Dict(dict={'options':{\"max_wallclock_seconds\": 360},\n",
    "#                        \"resources\":{\"num_machines\": 1,\n",
    "#                                      \"num_mpiprocs_per_machine\": 1}\n",
    "#                        })\n",
    "options_host=Dict(dict={\n",
    "        \"max_wallclock_seconds\": 360000,\n",
    "        #'withmpi': True,\n",
    "        #'account': \"tcphy113c\",\n",
    "        #'queue_name': \"DevQ\",\n",
    "        \"resources\": {\n",
    "            \"num_machines\": 1,\n",
    "            \"num_mpiprocs_per_machine\": 1,\n",
    "        }\n",
    "    })\n",
    "options_defect_q0=Dict(dict={\n",
    "        \"max_wallclock_seconds\": 360000,\n",
    "        #'withmpi': True,\n",
    "        #'account': \"tcphy113c\",\n",
    "        #'queue_name': \"DevQ\",\n",
    "        \"resources\": {\n",
    "            \"num_machines\": 1,\n",
    "            \"num_mpiprocs_per_machine\": 1,\n",
    "        }\n",
    "    })\n",
    "options_defect_q=Dict(dict={\n",
    "        \"max_wallclock_seconds\": 360000,\n",
    "        #'withmpi': True,\n",
    "        #'account': \"tcphy113c\",\n",
    "        #'queue_name': \"DevQ\",\n",
    "        \"resources\": {\n",
    "            \"num_machines\": 1,\n",
    "            \"num_mpiprocs_per_machine\": 1,\n",
    "        }\n",
    "    })\n",
    "\n"
   ]
  },
  {
   "cell_type": "code",
   "execution_count": 8,
   "metadata": {
    "collapsed": true
   },
   "outputs": [],
   "source": [
    "basis_dict_host =Dict(dict= {\n",
    "'pao-basistype':'split',\n",
    "'pao-splitnorm': 0.150,\n",
    "'pao-energyshift': '0.020 Ry',\n",
    "  \"%block PAO-Basis\":\n",
    "    \"\"\"\n",
    " Mg   4      0.04671\n",
    " n=2   0   1   E    22.36384     0.28509\n",
    " 3.47661\n",
    " 1.00000\n",
    " n=3   0   2   E    10.10988     0.99154\n",
    " 3.46833     1.25785\n",
    " 1.00000     1.00000\n",
    " n=2   1   2   E     2.89494     1.12196\n",
    " 3.93864     1.05729\n",
    " 1.00000     1.00000\n",
    " n=3   1   1   E    77.17311     1.04265\n",
    " 4.39039\n",
    " 1.00000\n",
    " O    3     -0.49820\n",
    " n=2   0   2   E     3.77977     0.09673\n",
    " 4.74747     2.11057\n",
    " 1.00000     1.00000\n",
    " n=3   0   1   E     5.24950     0.27857\n",
    " 4.37690\n",
    " 1.00000\n",
    " n=2   1   2   E     2.98223     1.27650\n",
    " 7.24547     3.33329\n",
    " 1.00000     1.00000\n",
    "%endblock PAO-Basis\"\"\"    \n",
    "})\n",
    "basis_dict_defect_q0 = Dict(dict= {\n",
    "'pao-basistype':'split',\n",
    "'pao-splitnorm': 0.150,\n",
    "'pao-energyshift': '0.020 Ry',\n",
    "  \"%block PAO-Basis\":\n",
    "    \"\"\"\n",
    " Mg   4      0.04671\n",
    " n=2   0   1   E    22.36384     0.28509\n",
    " 3.47661\n",
    " 1.00000\n",
    " n=3   0   2   E    10.10988     0.99154\n",
    " 3.46833     1.25785\n",
    " 1.00000     1.00000\n",
    " n=2   1   2   E     2.89494     1.12196\n",
    " 3.93864     1.05729\n",
    " 1.00000     1.00000\n",
    " n=3   1   1   E    77.17311     1.04265\n",
    " 4.39039\n",
    " 1.00000\n",
    " O    3     -0.49820\n",
    " n=2   0   2   E     3.77977     0.09673\n",
    " 4.74747     2.11057\n",
    " 1.00000     1.00000\n",
    " n=3   0   1   E     5.24950     0.27857\n",
    " 4.37690\n",
    " 1.00000\n",
    " n=2   1   2   E     2.98223     1.27650\n",
    " 7.24547     3.33329\n",
    " 1.00000     1.00000\n",
    " O_ghost  3     -1.49097\n",
    " n=2   0   2   E    16.28001     3.94212\n",
    " 5.71993     3.12860\n",
    " 1.00000     1.00000\n",
    " n=2   1   2   E     5.45115     2.41457\n",
    " 5.43517     3.35834\n",
    " 1.00000     1.00000\n",
    " n=3   2   1   E     1.93336     0.88932\n",
    " 4.35775\n",
    " 1.00000\n",
    "%endblock PAO-Basis\"\"\"    \n",
    "})\n",
    "basis_dict_defect_q =Dict(dict= {\n",
    "'pao-basistype':'split',\n",
    "'pao-splitnorm': 0.150,\n",
    "'pao-energyshift': '0.020 Ry',\n",
    "  \"%block PAO-Basis\":\n",
    "    \"\"\"\n",
    " Mg   4      0.04671\n",
    " n=2   0   1   E    22.36384     0.28509\n",
    " 3.47661\n",
    " 1.00000\n",
    " n=3   0   2   E    10.10988     0.99154\n",
    " 3.46833     1.25785\n",
    " 1.00000     1.00000\n",
    " n=2   1   2   E     2.89494     1.12196\n",
    " 3.93864     1.05729\n",
    " 1.00000     1.00000\n",
    " n=3   1   1   E    77.17311     1.04265\n",
    " 4.39039\n",
    " 1.00000\n",
    " O    3     -0.49820\n",
    " n=2   0   2   E     3.77977     0.09673\n",
    " 4.74747     2.11057\n",
    " 1.00000     1.00000\n",
    " n=3   0   1   E     5.24950     0.27857\n",
    " 4.37690\n",
    " 1.00000\n",
    " n=2   1   2   E     2.98223     1.27650\n",
    " 7.24547     3.33329\n",
    " 1.00000     1.00000\n",
    " O_ghost  3     -1.49097\n",
    " n=2   0   2   E    16.28001     3.94212\n",
    " 5.71993     3.12860\n",
    " 1.00000     1.00000\n",
    " n=2   1   2   E     5.45115     2.41457\n",
    " 5.43517     3.35834\n",
    " 1.00000     1.00000\n",
    " n=3   2   1   E     1.93336     0.88932\n",
    " 4.35775\n",
    " 1.00000\n",
    "%endblock PAO-Basis\"\"\"    \n",
    "})"
   ]
  },
  {
   "cell_type": "code",
   "execution_count": 9,
   "metadata": {
    "collapsed": true
   },
   "outputs": [],
   "source": [
    "#parameters_defect_q0.get_dict()"
   ]
  },
  {
   "cell_type": "code",
   "execution_count": 10,
   "metadata": {
    "collapsed": true
   },
   "outputs": [],
   "source": [
    "kpoints_host = orm.KpointsData()\n",
    "kpoints_host.set_kpoints_mesh([2,2,2]) # Definately not converged, but we want the example to run quickly\n",
    "kpoints_defect_q0 = orm.KpointsData()\n",
    "kpoints_defect_q0.set_kpoints_mesh([2,2,2]) # Definately not converged, but we want the example to run quickly\n",
    "kpoints_defect_q = orm.KpointsData()\n",
    "kpoints_defect_q.set_kpoints_mesh([2,2,2]) # Definately not converged, but we want the example to run quickly"
   ]
  },
  {
   "cell_type": "code",
   "execution_count": 11,
   "metadata": {
    "collapsed": true
   },
   "outputs": [],
   "source": [
    "#bandskpoints_host = KpointsData()\n",
    "#bandskpoints_defect_q0 = KpointsData()\n",
    "#bandskpoints_defect_q = KpointsData()"
   ]
  },
  {
   "cell_type": "code",
   "execution_count": 12,
   "metadata": {},
   "outputs": [
    {
     "data": {
      "text/plain": [
       "{'Mg': <PsfData: uuid: 52123958-e3fa-424d-9c2d-485b86b91405 (pk: 2)>,\n",
       " 'O': <PsfData: uuid: 4e885319-c33a-42fb-ae15-6f923cb84c5a (pk: 3)>}"
      ]
     },
     "execution_count": 12,
     "metadata": {},
     "output_type": "execute_result"
    }
   ],
   "source": [
    "import os\n",
    "from aiida_siesta.data.psf import PsfData\n",
    "pseudo_file_to_species_map = [(\"Mg.psf\",[\"Mg\"]), (\"O.psf\", ['O'])]\n",
    "#pseudo_file_to_species_map = [ (\"H.psf\", ['H']),(\"O.psf\", ['O'])]\n",
    "#pseudo_file_to_species_map = [ (\"H.psf\",[\"H\"]),(\"GhostH.psf\",[\"GhostH\"]),(\"O.psf\", ['O'])]\n",
    "pseudos_dict_host = {}\n",
    "for fname, kinds, in pseudo_file_to_species_map:\n",
    "    absname = os.path.realpath(os.path.join(\"./pseudos\",fname))\n",
    "    pseudo, created = PsfData.get_or_create(absname, use_first=True)\n",
    "    for j in kinds:\n",
    "        pseudos_dict_host[j]=pseudo                \n",
    "pseudos_dict_host\n"
   ]
  },
  {
   "cell_type": "code",
   "execution_count": 13,
   "metadata": {},
   "outputs": [
    {
     "data": {
      "text/plain": [
       "{'Mg': <PsfData: uuid: 52123958-e3fa-424d-9c2d-485b86b91405 (pk: 2)>,\n",
       " 'O': <PsfData: uuid: 4e885319-c33a-42fb-ae15-6f923cb84c5a (pk: 3)>,\n",
       " 'O_ghost': <PsfData: uuid: 4e885319-c33a-42fb-ae15-6f923cb84c5a (pk: 3)>}"
      ]
     },
     "execution_count": 13,
     "metadata": {},
     "output_type": "execute_result"
    }
   ],
   "source": [
    "#pseudo_file_to_species_map = [(\"O.psf\", ['O'])]\n",
    "#pseudo_file_to_species_map = [ (\"H.psf\", ['GhostH','H']),(\"O.psf\", ['O'])]\n",
    "pseudo_file_to_species_map = [(\"Mg.psf\",[\"Mg\"]), (\"O.psf\", ['O','O_ghost'])]\n",
    "pseudos_dict_defect = {}\n",
    "for fname, kinds, in pseudo_file_to_species_map:\n",
    "    absname = os.path.realpath(os.path.join(\"./pseudos\",fname))\n",
    "    pseudo, created = PsfData.get_or_create(absname, use_first=True)\n",
    "    for j in kinds:\n",
    "        pseudos_dict_defect[j]=pseudo\n",
    "pseudos_dict_defect"
   ]
  },
  {
   "cell_type": "code",
   "execution_count": 14,
   "metadata": {
    "collapsed": true
   },
   "outputs": [],
   "source": [
    "inputs = {\n",
    "    # Structures\n",
    "    'host_structure': pure,\n",
    "    'defect_structure': defect,\n",
    "    'add_or_remove':orm.Str('none'),\n",
    "    'run_siesta_host':orm.Bool(False),\n",
    "    'run_siesta_defect_q0':orm.Bool(False),\n",
    "    'run_siesta_defect_q':orm.Bool(False),\n",
    "    'host_node':orm.Int(20618),\n",
    "    'defect_q0_node':orm.Int(20619),\n",
    "    'defect_q_node':orm.Int(20620),\n",
    "    # Defect information \n",
    "    'defect_charge' : orm.Float(charge),\n",
    "    'defect_site' : orm.List(list=[3.3226073300107264    , 1.918307998081692 ,17.5]),    # Position of the defect in crystal coordinates\n",
    "    'fermi_level' : orm.Float(0.0),               # Position of the Fermi level, with respect to the valence band maximum      \n",
    "    'chemical_potential' : orm.Float(-426.469297 ), # eV, the chemical potentical of a O atom\n",
    "    #'sigma':orm.Float(2.614),\n",
    "    'use_siesta_mesh_cutoff':orm.Bool(True),\n",
    "    'correction_scheme' : orm.Str('gaussian-model'), # gaussian-model ,gaussian , point, none\n",
    "    \"epsilon\":orm.Float(1.0),\n",
    "    \"pseudos_host\":pseudos_dict_host,\n",
    "    \"pseudos_defect\":pseudos_dict_defect,\n",
    "    #\"pseudos_q0\":pseudos_dict,\n",
    "    #\"pseudos_q\":pseudos_dict,\n",
    "    # Computational (chosen code is QE)\n",
    "    'siesta' : { 'dft': {'supercell_host':{'code': code, 'kpoints': kpoints_host, 'parameters' : parameters_host,\n",
    "                                           'options':options_host,\"basis\": basis_dict_host},\n",
    "                         'supercell_defect_q0':{'code': code, 'kpoints': kpoints_defect_q,'parameters' : parameters_defect_q0,\n",
    "                                                'options':options_defect_q0,\"basis\": basis_dict_defect_q0},\n",
    "                         'supercell_defect_q':{'code': code, 'kpoints': kpoints_defect_q,'parameters' : parameters_defect_q,\n",
    "                                               'options':options_defect_q,\"basis\": basis_dict_defect_q}\n",
    "}}}"
   ]
  },
  {
   "cell_type": "code",
   "execution_count": 15,
   "metadata": {},
   "outputs": [
    {
     "data": {
      "text/plain": [
       "{'host_structure': <StructureData: uuid: 6cc3b45d-bd09-43fa-a3f5-de275f54f2f7 (unstored)>,\n",
       " 'defect_structure': <StructureData: uuid: ad3dd82c-097e-481d-800d-6b90dfcb530d (unstored)>,\n",
       " 'add_or_remove': <Str: uuid: 87449cce-b6a9-4588-9ad9-a40a3c5ff13b (unstored) value: none>,\n",
       " 'run_siesta_host': <Bool: uuid: e1359a1a-2336-49ae-b254-71ce25be5a4e (unstored) value: False>,\n",
       " 'run_siesta_defect_q0': <Bool: uuid: 232034cb-4c17-478d-9691-af39af097004 (unstored) value: False>,\n",
       " 'run_siesta_defect_q': <Bool: uuid: 1a328b38-b85b-4ab8-9759-a8f279d8e53e (unstored) value: False>,\n",
       " 'host_node': <Int: uuid: f644db1a-e4aa-4964-8563-130d1eb539bc (unstored) value: 20618>,\n",
       " 'defect_q0_node': <Int: uuid: 527fb2b2-0876-46fd-8d60-82aa5112adf9 (unstored) value: 20619>,\n",
       " 'defect_q_node': <Int: uuid: af229568-8a20-4e95-9dd5-da782d0cacc8 (unstored) value: 20620>,\n",
       " 'defect_charge': <Float: uuid: 53414d6e-c0e5-4d56-be01-4c7d5b13696f (unstored) value: -2.0>,\n",
       " 'defect_site': <List: uuid: d41a02ba-24f2-4f40-af15-8c84c112dcb5 (unstored) value: [3.3226073300107264, 1.918307998081692, 17.5]>,\n",
       " 'fermi_level': <Float: uuid: 843bb6ca-b0e3-4b76-ba54-e644ab6c181c (unstored) value: 0.0>,\n",
       " 'chemical_potential': <Float: uuid: fa9d5ae3-7cb1-46fe-8e84-591c1eb04449 (unstored) value: -426.469297>,\n",
       " 'use_siesta_mesh_cutoff': <Bool: uuid: 90cef71c-d7cb-47c5-aa4f-2c53db297998 (unstored) value: True>,\n",
       " 'correction_scheme': <Str: uuid: dab9d39b-20c9-4d82-a5cc-80c086f3b4f2 (unstored) value: gaussian-model>,\n",
       " 'epsilon': <Float: uuid: 25991466-2611-4fe8-ab9c-15cbf571bdfc (unstored) value: 1.0>,\n",
       " 'pseudos_host': {'Mg': <PsfData: uuid: 52123958-e3fa-424d-9c2d-485b86b91405 (pk: 2)>,\n",
       "  'O': <PsfData: uuid: 4e885319-c33a-42fb-ae15-6f923cb84c5a (pk: 3)>},\n",
       " 'pseudos_defect': {'Mg': <PsfData: uuid: 52123958-e3fa-424d-9c2d-485b86b91405 (pk: 2)>,\n",
       "  'O': <PsfData: uuid: 4e885319-c33a-42fb-ae15-6f923cb84c5a (pk: 3)>,\n",
       "  'O_ghost': <PsfData: uuid: 4e885319-c33a-42fb-ae15-6f923cb84c5a (pk: 3)>},\n",
       " 'siesta': {'dft': {'supercell_host': {'code': <Code: Remote code 'siesta-psml-lua' on N552VW, pk: 403, uuid: 872001d8-73fb-4b50-be30-4b947bd271b1>,\n",
       "    'kpoints': <KpointsData: uuid: 502efba2-5a18-4f5a-ab9d-d82cc2cc5c81 (unstored)>,\n",
       "    'parameters': <Dict: uuid: 34c4821d-78c7-4a23-91a6-a2d4bb91618c (unstored)>,\n",
       "    'options': <Dict: uuid: aa8f5821-7ebe-45eb-855c-572888b01a64 (unstored)>,\n",
       "    'basis': <Dict: uuid: 0660742e-1a49-4140-b6dc-05ea533043ab (unstored)>},\n",
       "   'supercell_defect_q0': {'code': <Code: Remote code 'siesta-psml-lua' on N552VW, pk: 403, uuid: 872001d8-73fb-4b50-be30-4b947bd271b1>,\n",
       "    'kpoints': <KpointsData: uuid: fcea3bc0-51bb-4de5-b8b2-3f4dba13fba3 (unstored)>,\n",
       "    'parameters': <Dict: uuid: 1ba95fb1-7dd1-4adf-9d14-b5b78c78fba7 (unstored)>,\n",
       "    'options': <Dict: uuid: 937d87fc-d1b5-4cd4-87ad-4f2466586d58 (unstored)>,\n",
       "    'basis': <Dict: uuid: 7b871524-bfab-4404-a0a9-c896f4ae52a1 (unstored)>},\n",
       "   'supercell_defect_q': {'code': <Code: Remote code 'siesta-psml-lua' on N552VW, pk: 403, uuid: 872001d8-73fb-4b50-be30-4b947bd271b1>,\n",
       "    'kpoints': <KpointsData: uuid: fcea3bc0-51bb-4de5-b8b2-3f4dba13fba3 (unstored)>,\n",
       "    'parameters': <Dict: uuid: 5da853f5-eef7-4e7a-b98f-b449897bedbd (unstored)>,\n",
       "    'options': <Dict: uuid: 1824ac6f-7505-44ff-be9e-25815846060e (unstored)>,\n",
       "    'basis': <Dict: uuid: 1d49a522-1875-4b3e-b420-2fdd64d11d5c (unstored)>}}}}"
      ]
     },
     "execution_count": 15,
     "metadata": {},
     "output_type": "execute_result"
    }
   ],
   "source": [
    "inputs"
   ]
  },
  {
   "cell_type": "code",
   "execution_count": 16,
   "metadata": {
    "collapsed": true,
    "scrolled": false
   },
   "outputs": [],
   "source": [
    "workchain_future = engine.submit(FormationEnergyWorkchainSIESTA, **inputs)"
   ]
  },
  {
   "cell_type": "code",
   "execution_count": 17,
   "metadata": {},
   "outputs": [
    {
     "data": {
      "text/plain": [
       "23685"
      ]
     },
     "execution_count": 17,
     "metadata": {},
     "output_type": "execute_result"
    }
   ],
   "source": [
    "workchain_future.pk"
   ]
  },
  {
   "cell_type": "code",
   "execution_count": 18,
   "metadata": {
    "collapsed": true,
    "scrolled": true
   },
   "outputs": [],
   "source": [
    "#!verdi process list -a"
   ]
  },
  {
   "cell_type": "code",
   "execution_count": 52,
   "metadata": {
    "collapsed": true
   },
   "outputs": [],
   "source": [
    "from aiida.orm import load_node\n",
    "results=load_node('23685')"
   ]
  },
  {
   "cell_type": "code",
   "execution_count": 54,
   "metadata": {},
   "outputs": [],
   "source": [
    "\n",
    "#results.outputs.output_parameters.get_dict()"
   ]
  },
  {
   "cell_type": "code",
   "execution_count": 21,
   "metadata": {
    "collapsed": true
   },
   "outputs": [],
   "source": [
    "#results"
   ]
  },
  {
   "cell_type": "code",
   "execution_count": null,
   "metadata": {
    "collapsed": true
   },
   "outputs": [],
   "source": []
  },
  {
   "cell_type": "code",
   "execution_count": 22,
   "metadata": {
    "collapsed": true,
    "scrolled": true
   },
   "outputs": [],
   "source": [
    "#!verdi process show 3160"
   ]
  },
  {
   "cell_type": "code",
   "execution_count": 23,
   "metadata": {
    "collapsed": true
   },
   "outputs": [],
   "source": [
    "#!verdi process report 3160"
   ]
  },
  {
   "cell_type": "code",
   "execution_count": 24,
   "metadata": {
    "collapsed": true
   },
   "outputs": [],
   "source": [
    "#workchain_future.outputs.formation_energy_uncorrected.value #.outputs.formation_energy_uncorrected.value\n",
    "#from aiida.orm import load_node\n",
    "#results=load_node('20618')\n",
    "#import sisl\n",
    "#data_array = sisl.get_sile(results.get_remote_workdir()+\"/aiida.VT\")\n",
    "#vt = data_array.read_grid()"
   ]
  },
  {
   "cell_type": "code",
   "execution_count": 25,
   "metadata": {
    "collapsed": true
   },
   "outputs": [],
   "source": [
    "#import numpy as np\n",
    "#vt_test = np.array(vt.shape)"
   ]
  },
  {
   "cell_type": "code",
   "execution_count": 26,
   "metadata": {},
   "outputs": [],
   "source": [
    "#vt_test"
   ]
  },
  {
   "cell_type": "code",
   "execution_count": 27,
   "metadata": {
    "collapsed": true
   },
   "outputs": [],
   "source": [
    "#vt_grid = vt.shape"
   ]
  },
  {
   "cell_type": "code",
   "execution_count": 28,
   "metadata": {
    "collapsed": true
   },
   "outputs": [],
   "source": [
    "#vt_grid"
   ]
  },
  {
   "cell_type": "code",
   "execution_count": 29,
   "metadata": {
    "collapsed": true
   },
   "outputs": [],
   "source": [
    "#results.get_remote_workdir()"
   ]
  },
  {
   "cell_type": "code",
   "execution_count": 30,
   "metadata": {
    "collapsed": true
   },
   "outputs": [],
   "source": [
    "#results.outputs['output_parameters'].get_dict()['mesh']\n",
    "#results['forces_and_stress']"
   ]
  },
  {
   "cell_type": "code",
   "execution_count": 31,
   "metadata": {
    "collapsed": true
   },
   "outputs": [],
   "source": [
    "#results.outputs.output_parameters.get_dict()"
   ]
  },
  {
   "cell_type": "code",
   "execution_count": 32,
   "metadata": {
    "collapsed": true
   },
   "outputs": [],
   "source": [
    "#code"
   ]
  },
  {
   "cell_type": "code",
   "execution_count": 33,
   "metadata": {
    "collapsed": true
   },
   "outputs": [],
   "source": [
    "#from aiida_siesta.calculations.siesta import SiestaCalculation\n",
    "#builder = SiestaCalculation.get_builder()"
   ]
  },
  {
   "cell_type": "code",
   "execution_count": 34,
   "metadata": {
    "collapsed": true
   },
   "outputs": [],
   "source": [
    "#builder.metadata"
   ]
  },
  {
   "cell_type": "code",
   "execution_count": 35,
   "metadata": {
    "collapsed": true
   },
   "outputs": [],
   "source": [
    "#import sisl\n",
    "#fdf=sisl.get_sile(\"/home/aakhtar/aiida_scartch/45/17/087b-33b2-42a2-8f27-185b3bc39cad/aiida.fdf\") \n",
    "#out=sisl.get_sile(\"/home/aakhtar/aiida_scartch/00/9b/e245-59f6-4638-8725-a4fced1dd07e/aiida.out\") \n",
    "#a=out.readline()"
   ]
  },
  {
   "cell_type": "code",
   "execution_count": 36,
   "metadata": {
    "collapsed": true
   },
   "outputs": [],
   "source": [
    "#test=fdf.read_geometry()\n",
    "#data_array = sisl.get_sile(\"/home/aakhtar/aiida_scartch/00/9b/e245-59f6-4638-8725-a4fced1dd07e/aiida.EIG\") \n",
    "#data_array = sisl.get_sile(\"/home/aakhtar/aiida_scartch/83/7d/dd23-b492-4eb2-a266-99260ad907ee/aiida.EIG\") \n"
   ]
  },
  {
   "cell_type": "code",
   "execution_count": 37,
   "metadata": {
    "collapsed": true
   },
   "outputs": [],
   "source": [
    "\n",
    "#data_array.file.read_text()"
   ]
  },
  {
   "cell_type": "code",
   "execution_count": 38,
   "metadata": {
    "collapsed": true
   },
   "outputs": [],
   "source": [
    "#data_array.read_data()[0][0]"
   ]
  },
  {
   "cell_type": "code",
   "execution_count": null,
   "metadata": {
    "collapsed": true
   },
   "outputs": [],
   "source": []
  },
  {
   "cell_type": "code",
   "execution_count": null,
   "metadata": {
    "collapsed": true,
    "scrolled": true
   },
   "outputs": [],
   "source": []
  },
  {
   "cell_type": "code",
   "execution_count": 39,
   "metadata": {
    "collapsed": true
   },
   "outputs": [],
   "source": [
    "#N_electron=int(data_array.file.read_text().split()[3])\n",
    "#vb_index = int(N_electron/2)-1\n",
    "#vb_index"
   ]
  },
  {
   "cell_type": "code",
   "execution_count": 40,
   "metadata": {
    "collapsed": true
   },
   "outputs": [],
   "source": [
    "#fermi=data_array.read_fermi_level()\n",
    "#eig=data_array.read_data()[0][0]\n",
    "#print (fermi)"
   ]
  },
  {
   "cell_type": "code",
   "execution_count": 41,
   "metadata": {
    "collapsed": true
   },
   "outputs": [],
   "source": [
    "#import numpy as np"
   ]
  },
  {
   "cell_type": "code",
   "execution_count": 42,
   "metadata": {
    "collapsed": true
   },
   "outputs": [],
   "source": [
    "#for i in eig:\n",
    "#    print (i)"
   ]
  },
  {
   "cell_type": "code",
   "execution_count": 43,
   "metadata": {
    "collapsed": true
   },
   "outputs": [],
   "source": [
    "#vbm = np.amax(eig[vb_index])"
   ]
  },
  {
   "cell_type": "markdown",
   "metadata": {},
   "source": [
    "# Model Charge"
   ]
  },
  {
   "cell_type": "code",
   "execution_count": null,
   "metadata": {
    "collapsed": true
   },
   "outputs": [],
   "source": []
  },
  {
   "cell_type": "code",
   "execution_count": 44,
   "metadata": {
    "collapsed": true
   },
   "outputs": [],
   "source": [
    "#data_array.read_data()"
   ]
  },
  {
   "cell_type": "code",
   "execution_count": 45,
   "metadata": {
    "collapsed": true
   },
   "outputs": [],
   "source": [
    "#data_array = sisl.get_sile(\"/home/aakhtar/aiida_scartch/f1/42/f7ea-5d86-40a8-9963-2ec31bfb426a/aiida.VT\") "
   ]
  },
  {
   "cell_type": "code",
   "execution_count": 46,
   "metadata": {
    "collapsed": true
   },
   "outputs": [],
   "source": [
    "#vt=data_array.read_grid()"
   ]
  },
  {
   "cell_type": "code",
   "execution_count": 47,
   "metadata": {
    "collapsed": true
   },
   "outputs": [],
   "source": [
    "#vt.shape"
   ]
  },
  {
   "cell_type": "code",
   "execution_count": 48,
   "metadata": {
    "collapsed": true
   },
   "outputs": [],
   "source": [
    "#get_reciprocal_grid(test.rcell,50.0)"
   ]
  },
  {
   "cell_type": "code",
   "execution_count": 49,
   "metadata": {
    "collapsed": true
   },
   "outputs": [],
   "source": [
    "#get_model_potential_with_siesta_mesh()\n",
    "#from aiida.orm import load_node\n",
    "#results=load_node('9478')\n"
   ]
  },
  {
   "cell_type": "code",
   "execution_count": 50,
   "metadata": {
    "collapsed": true
   },
   "outputs": [],
   "source": [
    "#a=results.inputs.structure"
   ]
  },
  {
   "cell_type": "code",
   "execution_count": 51,
   "metadata": {
    "collapsed": true
   },
   "outputs": [],
   "source": [
    "#import sisl\n",
    "#fdf=sisl.get_sile(\"/home/aakhtar/aiida_scartch/45/17/087b-33b2-42a2-8f27-185b3bc39cad/aiida.fdf\") \n",
    "#test=fdf.read_geometry()\n",
    "#test.rcell"
   ]
  },
  {
   "cell_type": "code",
   "execution_count": null,
   "metadata": {
    "collapsed": true
   },
   "outputs": [],
   "source": []
  }
 ],
 "metadata": {
  "kernelspec": {
   "display_name": "Python 3",
   "language": "python",
   "name": "python3"
  },
  "language_info": {
   "codemirror_mode": {
    "name": "ipython",
    "version": 3
   },
   "file_extension": ".py",
   "mimetype": "text/x-python",
   "name": "python",
   "nbconvert_exporter": "python",
   "pygments_lexer": "ipython3",
   "version": "3.6.9"
  }
 },
 "nbformat": 4,
 "nbformat_minor": 4
}
