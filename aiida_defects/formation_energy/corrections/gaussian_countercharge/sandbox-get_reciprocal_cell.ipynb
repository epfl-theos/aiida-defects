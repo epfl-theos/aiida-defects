{
 "cells": [
  {
   "cell_type": "code",
   "execution_count": 14,
   "metadata": {},
   "outputs": [],
   "source": [
    "def get_reciprocal_grid(cell_matrix, cutoff):\n",
    "    \"\"\" \n",
    "    Prepare a reciprocal space grid to achieve a given planewave energy cutoff\n",
    "    cutoff (Ry)\n",
    "    \"\"\"\n",
    "    # Radius of reciprocal space sphere containing planewaves with a given kinetic energy\n",
    "    G_max = 2.0*np.sqrt(cutoff) # Ry\n",
    "\n",
    "    # Get the number of G-vectors needed along each cell vector\n",
    "    grid_max = (G_max/np.linalg.norm(cell_matrix, axis=1)).astype(int)+1\n",
    "\n",
    "    print(G_max, grid_max)\n",
    "    return grid_max "
   ]
  },
  {
   "cell_type": "code",
   "execution_count": 15,
   "metadata": {},
   "outputs": [],
   "source": [
    "import numpy as np"
   ]
  },
  {
   "cell_type": "code",
   "execution_count": 19,
   "metadata": {},
   "outputs": [],
   "source": [
    "reciprocal_cell1 = np.array([[2*np.pi/10,0.,0.],[0.,2*np.pi/10,0.],[0.,0.,2*np.pi/10]])"
   ]
  },
  {
   "cell_type": "code",
   "execution_count": 23,
   "metadata": {},
   "outputs": [
    {
     "name": "stdout",
     "output_type": "stream",
     "text": [
      "(17.88854381999832, array([29, 29, 29]))\n"
     ]
    },
    {
     "data": {
      "text/plain": [
       "array([29, 29, 29])"
      ]
     },
     "execution_count": 23,
     "metadata": {},
     "output_type": "execute_result"
    }
   ],
   "source": [
    "get_reciprocal_grid(reciprocal_cell, 80.0)"
   ]
  },
  {
   "cell_type": "code",
   "execution_count": null,
   "metadata": {},
   "outputs": [],
   "source": []
  }
 ],
 "metadata": {
  "kernelspec": {
   "display_name": "Python 2",
   "language": "python",
   "name": "python2"
  },
  "language_info": {
   "codemirror_mode": {
    "name": "ipython",
    "version": 2
   },
   "file_extension": ".py",
   "mimetype": "text/x-python",
   "name": "python",
   "nbconvert_exporter": "python",
   "pygments_lexer": "ipython2",
   "version": "2.7.10"
  }
 },
 "nbformat": 4,
 "nbformat_minor": 2
}
